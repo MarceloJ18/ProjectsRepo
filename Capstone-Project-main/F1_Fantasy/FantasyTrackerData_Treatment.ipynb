{
 "cells": [
  {
   "cell_type": "code",
   "execution_count": 1,
   "id": "initial_id",
   "metadata": {
    "collapsed": true,
    "ExecuteTime": {
     "end_time": "2024-01-03T13:27:11.061267400Z",
     "start_time": "2024-01-03T13:27:10.698830500Z"
    }
   },
   "outputs": [],
   "source": [
    "import pandas as pd\n"
   ]
  },
  {
   "cell_type": "code",
   "execution_count": null,
   "outputs": [],
   "source": [
    "df = pd.read_csv('FantasyTracker23\\\\F1_2023_Fantasy_Drivers_Standings.csv')\n",
    "df_cons = pd.read_csv('FantasyTracker23\\\\F1_2023_Fantasy_Constructors_Standings.csv')"
   ],
   "metadata": {
    "collapsed": false
   },
   "id": "e39275c18226c358"
  },
  {
   "cell_type": "code",
   "execution_count": 2,
   "outputs": [
    {
     "data": {
      "text/plain": "         DriverX  Race1drv  Race2drv  Race3drv  Race4drv  Race5drv  Race6drv  \\\n0     L.Hamilton        19        16        29        19        24         0   \n1      G.Russell        16        18        -7        25        28         0   \n2      C.Leclerc       -11        27       -15        29        16         0   \n3        C.Sainz        19        12         8        21        20         0   \n4   M.Verstappen        35        61        36        37        64         0   \n5        S.Perez        28        36        52        61        28         0   \n6       L.Norris        -1         7        19         0         1         0   \n7      O.Piastri       -16         2        16         8         5         0   \n8       F.Alonso        39        23        23        27        25         0   \n9       L.Stroll        17       -14        21        18        12         0   \n10       P.Gasly        20         6         1        17        10         0   \n11        E.Ocon       -17         7         2         7         8         0   \n12     Y.Tsunoda         8         9         7       -13        16         0   \n13   D.Ricciardo         8         7         3       -15         0         0   \n14       A.Albon        13       -17       -15         2        -1         0   \n15    L.Sargeant        11         2         5       -20         1         0   \n16      V.Bottas        13        -2        12        -1         2         0   \n17        G.Zhou        15         6        15       -10         1         0   \n18   K.Magnussen         8         9         2        16         6         0   \n19  N.Hulkenberg        -1         1        11         2         4         0   \n\n    Race7drv  Race8drv  Race9drv  ...  Race19drvstreak  Race20drvstreak  \\\n0         28        39        23  ...              Yes              Yes   \n1         16        31       -12  ...              Yes              Yes   \n2         16        14        19  ...               No              Yes   \n3          6        19        22  ...              Yes               No   \n4         35        46        35  ...              Yes              Yes   \n5         10        27        28  ...              Yes              Yes   \n6          6        -2         2  ...              Yes              Yes   \n7          4         3         3  ...              Yes              Yes   \n8         27        14        27  ...              Yes              Yes   \n9        -17        16        14  ...              Yes              Yes   \n10        10        14         8  ...              Yes              Yes   \n11        32         9        11  ...              Yes              Yes   \n12        -4        11         8  ...              Yes              Yes   \n13         0         6        -1  ...              Yes              Yes   \n14         0         5        22  ...              Yes              Yes   \n15         0         1       -19  ...              Yes              Yes   \n16        10         2         6  ...              Yes              Yes   \n17        11        16         4  ...              Yes              Yes   \n18         1         9         0  ...              Yes              Yes   \n19         7         3        -1  ...              Yes              Yes   \n\n    Race21drvstreak  Race22drvstreak  Race23drvstreak  Race24drvstreak  \\\n0               Yes              Yes              Yes               No   \n1               Yes              Yes              Yes               No   \n2                No              Yes              Yes               No   \n3               Yes              Yes              Yes               No   \n4                No              Yes              Yes               No   \n5               Yes              Yes              Yes               No   \n6               Yes              Yes              Yes               No   \n7               Yes              Yes              Yes               No   \n8               Yes              Yes              Yes               No   \n9               Yes              Yes              Yes               No   \n10              Yes              Yes              Yes               No   \n11              Yes              Yes              Yes               No   \n12              Yes              Yes              Yes               No   \n13              Yes              Yes              Yes               No   \n14               No              Yes              Yes               No   \n15              Yes              Yes              Yes               No   \n16              Yes              Yes              Yes               No   \n17              Yes              Yes              Yes               No   \n18              Yes              Yes              Yes               No   \n19              Yes              Yes              Yes               No   \n\n    Race25drvstreak  Unnamed: 83  Unnamed: 84  Code  \n0                No          NaN         BAH1   BAH  \n1                No          NaN         SAU1   SAU  \n2                No          NaN         AUS1   AUS  \n3                No          NaN         AZE1   AZE  \n4                No          NaN         USA1   USA  \n5                No          NaN         ITA1   ITA  \n6                No          NaN         MON1   MON  \n7                No          NaN         SPA1   SPA  \n8                No          NaN         CAN1   CAN  \n9                No          NaN         AUT1   AUT  \n10               No          NaN         GBR1   GBR  \n11               No          NaN         HUN1   HUN  \n12               No          NaN         BEL1   BEL  \n13               No          NaN         NET1   NET  \n14               No          NaN         ITA2   ITA  \n15               No          NaN         SIN1   SIN  \n16               No          NaN         JAP1   JAP  \n17               No          NaN         QAT1   QAT  \n18               No          NaN         USA2   USA  \n19               No          NaN         MEX1   MEX  \n\n[20 rows x 86 columns]",
      "text/html": "<div>\n<style scoped>\n    .dataframe tbody tr th:only-of-type {\n        vertical-align: middle;\n    }\n\n    .dataframe tbody tr th {\n        vertical-align: top;\n    }\n\n    .dataframe thead th {\n        text-align: right;\n    }\n</style>\n<table border=\"1\" class=\"dataframe\">\n  <thead>\n    <tr style=\"text-align: right;\">\n      <th></th>\n      <th>DriverX</th>\n      <th>Race1drv</th>\n      <th>Race2drv</th>\n      <th>Race3drv</th>\n      <th>Race4drv</th>\n      <th>Race5drv</th>\n      <th>Race6drv</th>\n      <th>Race7drv</th>\n      <th>Race8drv</th>\n      <th>Race9drv</th>\n      <th>...</th>\n      <th>Race19drvstreak</th>\n      <th>Race20drvstreak</th>\n      <th>Race21drvstreak</th>\n      <th>Race22drvstreak</th>\n      <th>Race23drvstreak</th>\n      <th>Race24drvstreak</th>\n      <th>Race25drvstreak</th>\n      <th>Unnamed: 83</th>\n      <th>Unnamed: 84</th>\n      <th>Code</th>\n    </tr>\n  </thead>\n  <tbody>\n    <tr>\n      <th>0</th>\n      <td>L.Hamilton</td>\n      <td>19</td>\n      <td>16</td>\n      <td>29</td>\n      <td>19</td>\n      <td>24</td>\n      <td>0</td>\n      <td>28</td>\n      <td>39</td>\n      <td>23</td>\n      <td>...</td>\n      <td>Yes</td>\n      <td>Yes</td>\n      <td>Yes</td>\n      <td>Yes</td>\n      <td>Yes</td>\n      <td>No</td>\n      <td>No</td>\n      <td>NaN</td>\n      <td>BAH1</td>\n      <td>BAH</td>\n    </tr>\n    <tr>\n      <th>1</th>\n      <td>G.Russell</td>\n      <td>16</td>\n      <td>18</td>\n      <td>-7</td>\n      <td>25</td>\n      <td>28</td>\n      <td>0</td>\n      <td>16</td>\n      <td>31</td>\n      <td>-12</td>\n      <td>...</td>\n      <td>Yes</td>\n      <td>Yes</td>\n      <td>Yes</td>\n      <td>Yes</td>\n      <td>Yes</td>\n      <td>No</td>\n      <td>No</td>\n      <td>NaN</td>\n      <td>SAU1</td>\n      <td>SAU</td>\n    </tr>\n    <tr>\n      <th>2</th>\n      <td>C.Leclerc</td>\n      <td>-11</td>\n      <td>27</td>\n      <td>-15</td>\n      <td>29</td>\n      <td>16</td>\n      <td>0</td>\n      <td>16</td>\n      <td>14</td>\n      <td>19</td>\n      <td>...</td>\n      <td>No</td>\n      <td>Yes</td>\n      <td>No</td>\n      <td>Yes</td>\n      <td>Yes</td>\n      <td>No</td>\n      <td>No</td>\n      <td>NaN</td>\n      <td>AUS1</td>\n      <td>AUS</td>\n    </tr>\n    <tr>\n      <th>3</th>\n      <td>C.Sainz</td>\n      <td>19</td>\n      <td>12</td>\n      <td>8</td>\n      <td>21</td>\n      <td>20</td>\n      <td>0</td>\n      <td>6</td>\n      <td>19</td>\n      <td>22</td>\n      <td>...</td>\n      <td>Yes</td>\n      <td>No</td>\n      <td>Yes</td>\n      <td>Yes</td>\n      <td>Yes</td>\n      <td>No</td>\n      <td>No</td>\n      <td>NaN</td>\n      <td>AZE1</td>\n      <td>AZE</td>\n    </tr>\n    <tr>\n      <th>4</th>\n      <td>M.Verstappen</td>\n      <td>35</td>\n      <td>61</td>\n      <td>36</td>\n      <td>37</td>\n      <td>64</td>\n      <td>0</td>\n      <td>35</td>\n      <td>46</td>\n      <td>35</td>\n      <td>...</td>\n      <td>Yes</td>\n      <td>Yes</td>\n      <td>No</td>\n      <td>Yes</td>\n      <td>Yes</td>\n      <td>No</td>\n      <td>No</td>\n      <td>NaN</td>\n      <td>USA1</td>\n      <td>USA</td>\n    </tr>\n    <tr>\n      <th>5</th>\n      <td>S.Perez</td>\n      <td>28</td>\n      <td>36</td>\n      <td>52</td>\n      <td>61</td>\n      <td>28</td>\n      <td>0</td>\n      <td>10</td>\n      <td>27</td>\n      <td>28</td>\n      <td>...</td>\n      <td>Yes</td>\n      <td>Yes</td>\n      <td>Yes</td>\n      <td>Yes</td>\n      <td>Yes</td>\n      <td>No</td>\n      <td>No</td>\n      <td>NaN</td>\n      <td>ITA1</td>\n      <td>ITA</td>\n    </tr>\n    <tr>\n      <th>6</th>\n      <td>L.Norris</td>\n      <td>-1</td>\n      <td>7</td>\n      <td>19</td>\n      <td>0</td>\n      <td>1</td>\n      <td>0</td>\n      <td>6</td>\n      <td>-2</td>\n      <td>2</td>\n      <td>...</td>\n      <td>Yes</td>\n      <td>Yes</td>\n      <td>Yes</td>\n      <td>Yes</td>\n      <td>Yes</td>\n      <td>No</td>\n      <td>No</td>\n      <td>NaN</td>\n      <td>MON1</td>\n      <td>MON</td>\n    </tr>\n    <tr>\n      <th>7</th>\n      <td>O.Piastri</td>\n      <td>-16</td>\n      <td>2</td>\n      <td>16</td>\n      <td>8</td>\n      <td>5</td>\n      <td>0</td>\n      <td>4</td>\n      <td>3</td>\n      <td>3</td>\n      <td>...</td>\n      <td>Yes</td>\n      <td>Yes</td>\n      <td>Yes</td>\n      <td>Yes</td>\n      <td>Yes</td>\n      <td>No</td>\n      <td>No</td>\n      <td>NaN</td>\n      <td>SPA1</td>\n      <td>SPA</td>\n    </tr>\n    <tr>\n      <th>8</th>\n      <td>F.Alonso</td>\n      <td>39</td>\n      <td>23</td>\n      <td>23</td>\n      <td>27</td>\n      <td>25</td>\n      <td>0</td>\n      <td>27</td>\n      <td>14</td>\n      <td>27</td>\n      <td>...</td>\n      <td>Yes</td>\n      <td>Yes</td>\n      <td>Yes</td>\n      <td>Yes</td>\n      <td>Yes</td>\n      <td>No</td>\n      <td>No</td>\n      <td>NaN</td>\n      <td>CAN1</td>\n      <td>CAN</td>\n    </tr>\n    <tr>\n      <th>9</th>\n      <td>L.Stroll</td>\n      <td>17</td>\n      <td>-14</td>\n      <td>21</td>\n      <td>18</td>\n      <td>12</td>\n      <td>0</td>\n      <td>-17</td>\n      <td>16</td>\n      <td>14</td>\n      <td>...</td>\n      <td>Yes</td>\n      <td>Yes</td>\n      <td>Yes</td>\n      <td>Yes</td>\n      <td>Yes</td>\n      <td>No</td>\n      <td>No</td>\n      <td>NaN</td>\n      <td>AUT1</td>\n      <td>AUT</td>\n    </tr>\n    <tr>\n      <th>10</th>\n      <td>P.Gasly</td>\n      <td>20</td>\n      <td>6</td>\n      <td>1</td>\n      <td>17</td>\n      <td>10</td>\n      <td>0</td>\n      <td>10</td>\n      <td>14</td>\n      <td>8</td>\n      <td>...</td>\n      <td>Yes</td>\n      <td>Yes</td>\n      <td>Yes</td>\n      <td>Yes</td>\n      <td>Yes</td>\n      <td>No</td>\n      <td>No</td>\n      <td>NaN</td>\n      <td>GBR1</td>\n      <td>GBR</td>\n    </tr>\n    <tr>\n      <th>11</th>\n      <td>E.Ocon</td>\n      <td>-17</td>\n      <td>7</td>\n      <td>2</td>\n      <td>7</td>\n      <td>8</td>\n      <td>0</td>\n      <td>32</td>\n      <td>9</td>\n      <td>11</td>\n      <td>...</td>\n      <td>Yes</td>\n      <td>Yes</td>\n      <td>Yes</td>\n      <td>Yes</td>\n      <td>Yes</td>\n      <td>No</td>\n      <td>No</td>\n      <td>NaN</td>\n      <td>HUN1</td>\n      <td>HUN</td>\n    </tr>\n    <tr>\n      <th>12</th>\n      <td>Y.Tsunoda</td>\n      <td>8</td>\n      <td>9</td>\n      <td>7</td>\n      <td>-13</td>\n      <td>16</td>\n      <td>0</td>\n      <td>-4</td>\n      <td>11</td>\n      <td>8</td>\n      <td>...</td>\n      <td>Yes</td>\n      <td>Yes</td>\n      <td>Yes</td>\n      <td>Yes</td>\n      <td>Yes</td>\n      <td>No</td>\n      <td>No</td>\n      <td>NaN</td>\n      <td>BEL1</td>\n      <td>BEL</td>\n    </tr>\n    <tr>\n      <th>13</th>\n      <td>D.Ricciardo</td>\n      <td>8</td>\n      <td>7</td>\n      <td>3</td>\n      <td>-15</td>\n      <td>0</td>\n      <td>0</td>\n      <td>0</td>\n      <td>6</td>\n      <td>-1</td>\n      <td>...</td>\n      <td>Yes</td>\n      <td>Yes</td>\n      <td>Yes</td>\n      <td>Yes</td>\n      <td>Yes</td>\n      <td>No</td>\n      <td>No</td>\n      <td>NaN</td>\n      <td>NET1</td>\n      <td>NET</td>\n    </tr>\n    <tr>\n      <th>14</th>\n      <td>A.Albon</td>\n      <td>13</td>\n      <td>-17</td>\n      <td>-15</td>\n      <td>2</td>\n      <td>-1</td>\n      <td>0</td>\n      <td>0</td>\n      <td>5</td>\n      <td>22</td>\n      <td>...</td>\n      <td>Yes</td>\n      <td>Yes</td>\n      <td>No</td>\n      <td>Yes</td>\n      <td>Yes</td>\n      <td>No</td>\n      <td>No</td>\n      <td>NaN</td>\n      <td>ITA2</td>\n      <td>ITA</td>\n    </tr>\n    <tr>\n      <th>15</th>\n      <td>L.Sargeant</td>\n      <td>11</td>\n      <td>2</td>\n      <td>5</td>\n      <td>-20</td>\n      <td>1</td>\n      <td>0</td>\n      <td>0</td>\n      <td>1</td>\n      <td>-19</td>\n      <td>...</td>\n      <td>Yes</td>\n      <td>Yes</td>\n      <td>Yes</td>\n      <td>Yes</td>\n      <td>Yes</td>\n      <td>No</td>\n      <td>No</td>\n      <td>NaN</td>\n      <td>SIN1</td>\n      <td>SIN</td>\n    </tr>\n    <tr>\n      <th>16</th>\n      <td>V.Bottas</td>\n      <td>13</td>\n      <td>-2</td>\n      <td>12</td>\n      <td>-1</td>\n      <td>2</td>\n      <td>0</td>\n      <td>10</td>\n      <td>2</td>\n      <td>6</td>\n      <td>...</td>\n      <td>Yes</td>\n      <td>Yes</td>\n      <td>Yes</td>\n      <td>Yes</td>\n      <td>Yes</td>\n      <td>No</td>\n      <td>No</td>\n      <td>NaN</td>\n      <td>JAP1</td>\n      <td>JAP</td>\n    </tr>\n    <tr>\n      <th>17</th>\n      <td>G.Zhou</td>\n      <td>15</td>\n      <td>6</td>\n      <td>15</td>\n      <td>-10</td>\n      <td>1</td>\n      <td>0</td>\n      <td>11</td>\n      <td>16</td>\n      <td>4</td>\n      <td>...</td>\n      <td>Yes</td>\n      <td>Yes</td>\n      <td>Yes</td>\n      <td>Yes</td>\n      <td>Yes</td>\n      <td>No</td>\n      <td>No</td>\n      <td>NaN</td>\n      <td>QAT1</td>\n      <td>QAT</td>\n    </tr>\n    <tr>\n      <th>18</th>\n      <td>K.Magnussen</td>\n      <td>8</td>\n      <td>9</td>\n      <td>2</td>\n      <td>16</td>\n      <td>6</td>\n      <td>0</td>\n      <td>1</td>\n      <td>9</td>\n      <td>0</td>\n      <td>...</td>\n      <td>Yes</td>\n      <td>Yes</td>\n      <td>Yes</td>\n      <td>Yes</td>\n      <td>Yes</td>\n      <td>No</td>\n      <td>No</td>\n      <td>NaN</td>\n      <td>USA2</td>\n      <td>USA</td>\n    </tr>\n    <tr>\n      <th>19</th>\n      <td>N.Hulkenberg</td>\n      <td>-1</td>\n      <td>1</td>\n      <td>11</td>\n      <td>2</td>\n      <td>4</td>\n      <td>0</td>\n      <td>7</td>\n      <td>3</td>\n      <td>-1</td>\n      <td>...</td>\n      <td>Yes</td>\n      <td>Yes</td>\n      <td>Yes</td>\n      <td>Yes</td>\n      <td>Yes</td>\n      <td>No</td>\n      <td>No</td>\n      <td>NaN</td>\n      <td>MEX1</td>\n      <td>MEX</td>\n    </tr>\n  </tbody>\n</table>\n<p>20 rows × 86 columns</p>\n</div>"
     },
     "execution_count": 2,
     "metadata": {},
     "output_type": "execute_result"
    }
   ],
   "source": [
    "df\n",
    "# Columns to be removed: 'Unnamed: 27', 'Unnamed: 28', 'DNFs', 'Race24drv', 'Race25drv', 'Race24drvdnf', 'Race25drvdnf', 'Unnamed: 55', 'Unnamed: 56', 'Streaks' until 'Unnamed: 84'"
   ],
   "metadata": {
    "collapsed": false,
    "ExecuteTime": {
     "end_time": "2024-01-02T16:41:18.788467600Z",
     "start_time": "2024-01-02T16:41:18.767361800Z"
    }
   },
   "id": "8adab96f222ccb03"
  },
  {
   "cell_type": "code",
   "execution_count": 3,
   "outputs": [
    {
     "name": "stdout",
     "output_type": "stream",
     "text": [
      "0 DriverX\n",
      "1 Race1drv\n",
      "2 Race2drv\n",
      "3 Race3drv\n",
      "4 Race4drv\n",
      "5 Race5drv\n",
      "6 Race6drv\n",
      "7 Race7drv\n",
      "8 Race8drv\n",
      "9 Race9drv\n",
      "10 Race10drv\n",
      "11 Race11drv\n",
      "12 Race12drv\n",
      "13 Race13drv\n",
      "14 Race14drv\n",
      "15 Race15drv\n",
      "16 Race16drv\n",
      "17 Race17drv\n",
      "18 Race18drv\n",
      "19 Race19drv\n",
      "20 Race20drv\n",
      "21 Race21drv\n",
      "22 Race22drv\n",
      "23 Race23drv\n",
      "24 Race24drv\n",
      "25 Race25drv\n",
      "26 Total\n",
      "27 Unnamed: 27\n",
      "28 Unnamed: 28\n",
      "29 DNFs\n",
      "30 Race1drvdnf\n",
      "31 Race2drvdnf\n",
      "32 Race3drvdnf\n",
      "33 Race4drvdnf\n",
      "34 Race5drvdnf\n",
      "35 Race6drvdnf\n",
      "36 Race7drvdnf\n",
      "37 Race8drvdnf\n",
      "38 Race9drvdnf\n",
      "39 Race10drvdnf\n",
      "40 Race11drvdnf\n",
      "41 Race12drvdnf\n",
      "42 Race13drvdnf\n",
      "43 Race14drvdnf\n",
      "44 Race15drvdnf\n",
      "45 Race16drvdnf\n",
      "46 Race17drvdnf\n",
      "47 Race18drvdnf\n",
      "48 Race19drvdnf\n",
      "49 Race20drvdnf\n",
      "50 Race21drvdnf\n",
      "51 Race22drvdnf\n",
      "52 Race23drvdnf\n",
      "53 Race24drvdnf\n",
      "54 Race25drvdnf\n",
      "55 Unnamed: 55\n",
      "56 Unnamed: 56\n",
      "57 Streaks\n",
      "58 Race1drvstreak\n",
      "59 Race2drvstreak\n",
      "60 Race3drvstreak\n",
      "61 Race4drvstreak\n",
      "62 Race5drvstreak\n",
      "63 Race6drvstreak\n",
      "64 Race7drvstreak\n",
      "65 Race8drvstreak\n",
      "66 Race9drvstreak\n",
      "67 Race10drvstreak\n",
      "68 Race11drvstreak\n",
      "69 Race12drvstreak\n",
      "70 Race13drvstreak\n",
      "71 Race14drvstreak\n",
      "72 Race15drvstreak\n",
      "73 Race16drvstreak\n",
      "74 Race17drvstreak\n",
      "75 Race18drvstreak\n",
      "76 Race19drvstreak\n",
      "77 Race20drvstreak\n",
      "78 Race21drvstreak\n",
      "79 Race22drvstreak\n",
      "80 Race23drvstreak\n",
      "81 Race24drvstreak\n",
      "82 Race25drvstreak\n",
      "83 Unnamed: 83\n",
      "84 Unnamed: 84\n",
      "85 Code\n"
     ]
    }
   ],
   "source": [
    "# Print column names and their indices\n",
    "for i, col in enumerate(df.columns):\n",
    "    print(i, col)"
   ],
   "metadata": {
    "collapsed": false,
    "ExecuteTime": {
     "end_time": "2024-01-02T16:41:18.789980700Z",
     "start_time": "2024-01-02T16:41:18.786453900Z"
    }
   },
   "id": "4e4366b1e1facf5"
  },
  {
   "cell_type": "code",
   "execution_count": 4,
   "outputs": [],
   "source": [
    "# Drop columns with 'Unnamed' in the name\n",
    "df = df.loc[:, ~df.columns.str.contains('^Unnamed')]\n",
    "df_cons = df_cons.loc[:, ~df_cons.columns.str.contains('^Unnamed')]\n"
   ],
   "metadata": {
    "collapsed": false,
    "ExecuteTime": {
     "end_time": "2024-01-02T16:41:18.794991900Z",
     "start_time": "2024-01-02T16:41:18.790982900Z"
    }
   },
   "id": "3c02d935928af20f"
  },
  {
   "cell_type": "code",
   "execution_count": 5,
   "outputs": [
    {
     "name": "stdout",
     "output_type": "stream",
     "text": [
      "0 DriverX\n",
      "1 Race1drv\n",
      "2 Race2drv\n",
      "3 Race3drv\n",
      "4 Race4drv\n",
      "5 Race5drv\n",
      "6 Race6drv\n",
      "7 Race7drv\n",
      "8 Race8drv\n",
      "9 Race9drv\n",
      "10 Race10drv\n",
      "11 Race11drv\n",
      "12 Race12drv\n",
      "13 Race13drv\n",
      "14 Race14drv\n",
      "15 Race15drv\n",
      "16 Race16drv\n",
      "17 Race17drv\n",
      "18 Race18drv\n",
      "19 Race19drv\n",
      "20 Race20drv\n",
      "21 Race21drv\n",
      "22 Race22drv\n",
      "23 Race23drv\n",
      "24 Race24drv\n",
      "25 Race25drv\n",
      "26 Total\n",
      "27 DNFs\n",
      "28 Race1drvdnf\n",
      "29 Race2drvdnf\n",
      "30 Race3drvdnf\n",
      "31 Race4drvdnf\n",
      "32 Race5drvdnf\n",
      "33 Race6drvdnf\n",
      "34 Race7drvdnf\n",
      "35 Race8drvdnf\n",
      "36 Race9drvdnf\n",
      "37 Race10drvdnf\n",
      "38 Race11drvdnf\n",
      "39 Race12drvdnf\n",
      "40 Race13drvdnf\n",
      "41 Race14drvdnf\n",
      "42 Race15drvdnf\n",
      "43 Race16drvdnf\n",
      "44 Race17drvdnf\n",
      "45 Race18drvdnf\n",
      "46 Race19drvdnf\n",
      "47 Race20drvdnf\n",
      "48 Race21drvdnf\n",
      "49 Race22drvdnf\n",
      "50 Race23drvdnf\n",
      "51 Race24drvdnf\n",
      "52 Race25drvdnf\n",
      "53 Streaks\n",
      "54 Race1drvstreak\n",
      "55 Race2drvstreak\n",
      "56 Race3drvstreak\n",
      "57 Race4drvstreak\n",
      "58 Race5drvstreak\n",
      "59 Race6drvstreak\n",
      "60 Race7drvstreak\n",
      "61 Race8drvstreak\n",
      "62 Race9drvstreak\n",
      "63 Race10drvstreak\n",
      "64 Race11drvstreak\n",
      "65 Race12drvstreak\n",
      "66 Race13drvstreak\n",
      "67 Race14drvstreak\n",
      "68 Race15drvstreak\n",
      "69 Race16drvstreak\n",
      "70 Race17drvstreak\n",
      "71 Race18drvstreak\n",
      "72 Race19drvstreak\n",
      "73 Race20drvstreak\n",
      "74 Race21drvstreak\n",
      "75 Race22drvstreak\n",
      "76 Race23drvstreak\n",
      "77 Race24drvstreak\n",
      "78 Race25drvstreak\n",
      "79 Code\n"
     ]
    }
   ],
   "source": [
    "# Print column names and their indices\n",
    "for i, col in enumerate(df.columns):\n",
    "    print(i, col)"
   ],
   "metadata": {
    "collapsed": false,
    "ExecuteTime": {
     "end_time": "2024-01-02T16:41:18.845554Z",
     "start_time": "2024-01-02T16:41:18.795989800Z"
    }
   },
   "id": "5c28f6f9f777b812"
  },
  {
   "cell_type": "code",
   "execution_count": 6,
   "outputs": [],
   "source": [
    "# Remove columns with 'Streak' in the name\n",
    "df = df.loc[:, ~df.columns.str.contains('^Streak')]\n",
    "df_cons = df_cons.loc[:, ~df_cons.columns.str.contains('^Streak')]"
   ],
   "metadata": {
    "collapsed": false,
    "ExecuteTime": {
     "end_time": "2024-01-02T16:41:18.874215100Z",
     "start_time": "2024-01-02T16:41:18.811002800Z"
    }
   },
   "id": "f819b995f83803ae"
  },
  {
   "cell_type": "code",
   "execution_count": 7,
   "outputs": [
    {
     "name": "stdout",
     "output_type": "stream",
     "text": [
      "0 DriverX\n",
      "1 Race1drv\n",
      "2 Race2drv\n",
      "3 Race3drv\n",
      "4 Race4drv\n",
      "5 Race5drv\n",
      "6 Race6drv\n",
      "7 Race7drv\n",
      "8 Race8drv\n",
      "9 Race9drv\n",
      "10 Race10drv\n",
      "11 Race11drv\n",
      "12 Race12drv\n",
      "13 Race13drv\n",
      "14 Race14drv\n",
      "15 Race15drv\n",
      "16 Race16drv\n",
      "17 Race17drv\n",
      "18 Race18drv\n",
      "19 Race19drv\n",
      "20 Race20drv\n",
      "21 Race21drv\n",
      "22 Race22drv\n",
      "23 Race23drv\n",
      "24 Race24drv\n",
      "25 Race25drv\n",
      "26 Total\n",
      "27 DNFs\n",
      "28 Race1drvdnf\n",
      "29 Race2drvdnf\n",
      "30 Race3drvdnf\n",
      "31 Race4drvdnf\n",
      "32 Race5drvdnf\n",
      "33 Race6drvdnf\n",
      "34 Race7drvdnf\n",
      "35 Race8drvdnf\n",
      "36 Race9drvdnf\n",
      "37 Race10drvdnf\n",
      "38 Race11drvdnf\n",
      "39 Race12drvdnf\n",
      "40 Race13drvdnf\n",
      "41 Race14drvdnf\n",
      "42 Race15drvdnf\n",
      "43 Race16drvdnf\n",
      "44 Race17drvdnf\n",
      "45 Race18drvdnf\n",
      "46 Race19drvdnf\n",
      "47 Race20drvdnf\n",
      "48 Race21drvdnf\n",
      "49 Race22drvdnf\n",
      "50 Race23drvdnf\n",
      "51 Race24drvdnf\n",
      "52 Race25drvdnf\n",
      "53 Race1drvstreak\n",
      "54 Race2drvstreak\n",
      "55 Race3drvstreak\n",
      "56 Race4drvstreak\n",
      "57 Race5drvstreak\n",
      "58 Race6drvstreak\n",
      "59 Race7drvstreak\n",
      "60 Race8drvstreak\n",
      "61 Race9drvstreak\n",
      "62 Race10drvstreak\n",
      "63 Race11drvstreak\n",
      "64 Race12drvstreak\n",
      "65 Race13drvstreak\n",
      "66 Race14drvstreak\n",
      "67 Race15drvstreak\n",
      "68 Race16drvstreak\n",
      "69 Race17drvstreak\n",
      "70 Race18drvstreak\n",
      "71 Race19drvstreak\n",
      "72 Race20drvstreak\n",
      "73 Race21drvstreak\n",
      "74 Race22drvstreak\n",
      "75 Race23drvstreak\n",
      "76 Race24drvstreak\n",
      "77 Race25drvstreak\n",
      "78 Code\n"
     ]
    }
   ],
   "source": [
    "# Print column names and their indices\n",
    "for i, col in enumerate(df.columns):\n",
    "    print(i, col)"
   ],
   "metadata": {
    "collapsed": false,
    "ExecuteTime": {
     "end_time": "2024-01-02T16:41:18.888730400Z",
     "start_time": "2024-01-02T16:41:18.823449300Z"
    }
   },
   "id": "7c9961484fe03215"
  },
  {
   "cell_type": "code",
   "execution_count": 8,
   "outputs": [
    {
     "data": {
      "text/plain": "array([nan])"
     },
     "execution_count": 8,
     "metadata": {},
     "output_type": "execute_result"
    }
   ],
   "source": [
    "# See unique values in 'DNFs' column\n",
    "df['DNFs'].unique()"
   ],
   "metadata": {
    "collapsed": false,
    "ExecuteTime": {
     "end_time": "2024-01-02T16:41:18.889731400Z",
     "start_time": "2024-01-02T16:41:18.832047600Z"
    }
   },
   "id": "6dadfd5fd917f537"
  },
  {
   "cell_type": "code",
   "execution_count": 9,
   "outputs": [],
   "source": [
    "# Remove cols 24, 25, 27, from 51 to 77\n",
    "df = df.drop(df.columns[[24, 25, 27] + list(range(51, 78))], axis=1)"
   ],
   "metadata": {
    "collapsed": false,
    "ExecuteTime": {
     "end_time": "2024-01-02T16:41:18.924726200Z",
     "start_time": "2024-01-02T16:41:18.842554500Z"
    }
   },
   "id": "2f373188a039046b"
  },
  {
   "cell_type": "code",
   "execution_count": 10,
   "outputs": [
    {
     "data": {
      "text/plain": "         DriverX  Race1drv  Race2drv  Race3drv  Race4drv  Race5drv  Race6drv  \\\n0     L.Hamilton        19        16        29        19        24         0   \n1      G.Russell        16        18        -7        25        28         0   \n2      C.Leclerc       -11        27       -15        29        16         0   \n3        C.Sainz        19        12         8        21        20         0   \n4   M.Verstappen        35        61        36        37        64         0   \n5        S.Perez        28        36        52        61        28         0   \n6       L.Norris        -1         7        19         0         1         0   \n7      O.Piastri       -16         2        16         8         5         0   \n8       F.Alonso        39        23        23        27        25         0   \n9       L.Stroll        17       -14        21        18        12         0   \n10       P.Gasly        20         6         1        17        10         0   \n11        E.Ocon       -17         7         2         7         8         0   \n12     Y.Tsunoda         8         9         7       -13        16         0   \n13   D.Ricciardo         8         7         3       -15         0         0   \n14       A.Albon        13       -17       -15         2        -1         0   \n15    L.Sargeant        11         2         5       -20         1         0   \n16      V.Bottas        13        -2        12        -1         2         0   \n17        G.Zhou        15         6        15       -10         1         0   \n18   K.Magnussen         8         9         2        16         6         0   \n19  N.Hulkenberg        -1         1        11         2         4         0   \n\n    Race7drv  Race8drv  Race9drv  ...  Race15drvdnf  Race16drvdnf  \\\n0         28        39        23  ...            No            No   \n1         16        31       -12  ...            No            No   \n2         16        14        19  ...            No            No   \n3          6        19        22  ...            No            No   \n4         35        46        35  ...            No            No   \n5         10        27        28  ...            No            No   \n6          6        -2         2  ...            No            No   \n7          4         3         3  ...            No            No   \n8         27        14        27  ...            No            No   \n9        -17        16        14  ...            No            No   \n10        10        14         8  ...            No            No   \n11        32         9        11  ...           Yes           Yes   \n12        -4        11         8  ...           Yes           Yes   \n13         0         6        -1  ...            No            No   \n14         0         5        22  ...            No            No   \n15         0         1       -19  ...            No            No   \n16        10         2         6  ...            No           Yes   \n17        11        16         4  ...            No            No   \n18         1         9         0  ...            No            No   \n19         7         3        -1  ...            No            No   \n\n    Race17drvdnf  Race18drvdnf  Race19drvdnf  Race20drvdnf  Race21drvdnf  \\\n0             No           Yes           Yes            No            No   \n1             No            No            No            No           Yes   \n2             No            No           Yes            No           Yes   \n3             No           Yes            No            No            No   \n4             No            No            No            No            No   \n5            Yes            No            No           Yes            No   \n6             No            No            No            No            No   \n7             No            No           Yes            No            No   \n8             No            No           Yes           Yes            No   \n9            Yes            No            No            No            No   \n10            No            No            No            No            No   \n11            No            No           Yes            No            No   \n12            No            No            No            No            No   \n13            No            No            No            No            No   \n14           Yes            No            No            No           Yes   \n15           Yes           Yes            No            No            No   \n16           Yes            No            No            No           Yes   \n17            No            No            No            No           Yes   \n18            No            No            No           Yes           Yes   \n19            No            No            No            No            No   \n\n    Race22drvdnf  Race23drvdnf  Code  \n0             No            No   BAH  \n1             No            No   SAU  \n2             No            No   AUS  \n3             No            No   AZE  \n4             No            No   USA  \n5             No            No   ITA  \n6            Yes            No   MON  \n7             No            No   SPA  \n8             No            No   CAN  \n9             No            No   AUT  \n10            No            No   GBR  \n11            No            No   HUN  \n12            No            No   BEL  \n13            No            No   NET  \n14            No            No   ITA  \n15            No            No   SIN  \n16            No            No   JAP  \n17            No            No   QAT  \n18            No            No   USA  \n19            No            No   MEX  \n\n[20 rows x 49 columns]",
      "text/html": "<div>\n<style scoped>\n    .dataframe tbody tr th:only-of-type {\n        vertical-align: middle;\n    }\n\n    .dataframe tbody tr th {\n        vertical-align: top;\n    }\n\n    .dataframe thead th {\n        text-align: right;\n    }\n</style>\n<table border=\"1\" class=\"dataframe\">\n  <thead>\n    <tr style=\"text-align: right;\">\n      <th></th>\n      <th>DriverX</th>\n      <th>Race1drv</th>\n      <th>Race2drv</th>\n      <th>Race3drv</th>\n      <th>Race4drv</th>\n      <th>Race5drv</th>\n      <th>Race6drv</th>\n      <th>Race7drv</th>\n      <th>Race8drv</th>\n      <th>Race9drv</th>\n      <th>...</th>\n      <th>Race15drvdnf</th>\n      <th>Race16drvdnf</th>\n      <th>Race17drvdnf</th>\n      <th>Race18drvdnf</th>\n      <th>Race19drvdnf</th>\n      <th>Race20drvdnf</th>\n      <th>Race21drvdnf</th>\n      <th>Race22drvdnf</th>\n      <th>Race23drvdnf</th>\n      <th>Code</th>\n    </tr>\n  </thead>\n  <tbody>\n    <tr>\n      <th>0</th>\n      <td>L.Hamilton</td>\n      <td>19</td>\n      <td>16</td>\n      <td>29</td>\n      <td>19</td>\n      <td>24</td>\n      <td>0</td>\n      <td>28</td>\n      <td>39</td>\n      <td>23</td>\n      <td>...</td>\n      <td>No</td>\n      <td>No</td>\n      <td>No</td>\n      <td>Yes</td>\n      <td>Yes</td>\n      <td>No</td>\n      <td>No</td>\n      <td>No</td>\n      <td>No</td>\n      <td>BAH</td>\n    </tr>\n    <tr>\n      <th>1</th>\n      <td>G.Russell</td>\n      <td>16</td>\n      <td>18</td>\n      <td>-7</td>\n      <td>25</td>\n      <td>28</td>\n      <td>0</td>\n      <td>16</td>\n      <td>31</td>\n      <td>-12</td>\n      <td>...</td>\n      <td>No</td>\n      <td>No</td>\n      <td>No</td>\n      <td>No</td>\n      <td>No</td>\n      <td>No</td>\n      <td>Yes</td>\n      <td>No</td>\n      <td>No</td>\n      <td>SAU</td>\n    </tr>\n    <tr>\n      <th>2</th>\n      <td>C.Leclerc</td>\n      <td>-11</td>\n      <td>27</td>\n      <td>-15</td>\n      <td>29</td>\n      <td>16</td>\n      <td>0</td>\n      <td>16</td>\n      <td>14</td>\n      <td>19</td>\n      <td>...</td>\n      <td>No</td>\n      <td>No</td>\n      <td>No</td>\n      <td>No</td>\n      <td>Yes</td>\n      <td>No</td>\n      <td>Yes</td>\n      <td>No</td>\n      <td>No</td>\n      <td>AUS</td>\n    </tr>\n    <tr>\n      <th>3</th>\n      <td>C.Sainz</td>\n      <td>19</td>\n      <td>12</td>\n      <td>8</td>\n      <td>21</td>\n      <td>20</td>\n      <td>0</td>\n      <td>6</td>\n      <td>19</td>\n      <td>22</td>\n      <td>...</td>\n      <td>No</td>\n      <td>No</td>\n      <td>No</td>\n      <td>Yes</td>\n      <td>No</td>\n      <td>No</td>\n      <td>No</td>\n      <td>No</td>\n      <td>No</td>\n      <td>AZE</td>\n    </tr>\n    <tr>\n      <th>4</th>\n      <td>M.Verstappen</td>\n      <td>35</td>\n      <td>61</td>\n      <td>36</td>\n      <td>37</td>\n      <td>64</td>\n      <td>0</td>\n      <td>35</td>\n      <td>46</td>\n      <td>35</td>\n      <td>...</td>\n      <td>No</td>\n      <td>No</td>\n      <td>No</td>\n      <td>No</td>\n      <td>No</td>\n      <td>No</td>\n      <td>No</td>\n      <td>No</td>\n      <td>No</td>\n      <td>USA</td>\n    </tr>\n    <tr>\n      <th>5</th>\n      <td>S.Perez</td>\n      <td>28</td>\n      <td>36</td>\n      <td>52</td>\n      <td>61</td>\n      <td>28</td>\n      <td>0</td>\n      <td>10</td>\n      <td>27</td>\n      <td>28</td>\n      <td>...</td>\n      <td>No</td>\n      <td>No</td>\n      <td>Yes</td>\n      <td>No</td>\n      <td>No</td>\n      <td>Yes</td>\n      <td>No</td>\n      <td>No</td>\n      <td>No</td>\n      <td>ITA</td>\n    </tr>\n    <tr>\n      <th>6</th>\n      <td>L.Norris</td>\n      <td>-1</td>\n      <td>7</td>\n      <td>19</td>\n      <td>0</td>\n      <td>1</td>\n      <td>0</td>\n      <td>6</td>\n      <td>-2</td>\n      <td>2</td>\n      <td>...</td>\n      <td>No</td>\n      <td>No</td>\n      <td>No</td>\n      <td>No</td>\n      <td>No</td>\n      <td>No</td>\n      <td>No</td>\n      <td>Yes</td>\n      <td>No</td>\n      <td>MON</td>\n    </tr>\n    <tr>\n      <th>7</th>\n      <td>O.Piastri</td>\n      <td>-16</td>\n      <td>2</td>\n      <td>16</td>\n      <td>8</td>\n      <td>5</td>\n      <td>0</td>\n      <td>4</td>\n      <td>3</td>\n      <td>3</td>\n      <td>...</td>\n      <td>No</td>\n      <td>No</td>\n      <td>No</td>\n      <td>No</td>\n      <td>Yes</td>\n      <td>No</td>\n      <td>No</td>\n      <td>No</td>\n      <td>No</td>\n      <td>SPA</td>\n    </tr>\n    <tr>\n      <th>8</th>\n      <td>F.Alonso</td>\n      <td>39</td>\n      <td>23</td>\n      <td>23</td>\n      <td>27</td>\n      <td>25</td>\n      <td>0</td>\n      <td>27</td>\n      <td>14</td>\n      <td>27</td>\n      <td>...</td>\n      <td>No</td>\n      <td>No</td>\n      <td>No</td>\n      <td>No</td>\n      <td>Yes</td>\n      <td>Yes</td>\n      <td>No</td>\n      <td>No</td>\n      <td>No</td>\n      <td>CAN</td>\n    </tr>\n    <tr>\n      <th>9</th>\n      <td>L.Stroll</td>\n      <td>17</td>\n      <td>-14</td>\n      <td>21</td>\n      <td>18</td>\n      <td>12</td>\n      <td>0</td>\n      <td>-17</td>\n      <td>16</td>\n      <td>14</td>\n      <td>...</td>\n      <td>No</td>\n      <td>No</td>\n      <td>Yes</td>\n      <td>No</td>\n      <td>No</td>\n      <td>No</td>\n      <td>No</td>\n      <td>No</td>\n      <td>No</td>\n      <td>AUT</td>\n    </tr>\n    <tr>\n      <th>10</th>\n      <td>P.Gasly</td>\n      <td>20</td>\n      <td>6</td>\n      <td>1</td>\n      <td>17</td>\n      <td>10</td>\n      <td>0</td>\n      <td>10</td>\n      <td>14</td>\n      <td>8</td>\n      <td>...</td>\n      <td>No</td>\n      <td>No</td>\n      <td>No</td>\n      <td>No</td>\n      <td>No</td>\n      <td>No</td>\n      <td>No</td>\n      <td>No</td>\n      <td>No</td>\n      <td>GBR</td>\n    </tr>\n    <tr>\n      <th>11</th>\n      <td>E.Ocon</td>\n      <td>-17</td>\n      <td>7</td>\n      <td>2</td>\n      <td>7</td>\n      <td>8</td>\n      <td>0</td>\n      <td>32</td>\n      <td>9</td>\n      <td>11</td>\n      <td>...</td>\n      <td>Yes</td>\n      <td>Yes</td>\n      <td>No</td>\n      <td>No</td>\n      <td>Yes</td>\n      <td>No</td>\n      <td>No</td>\n      <td>No</td>\n      <td>No</td>\n      <td>HUN</td>\n    </tr>\n    <tr>\n      <th>12</th>\n      <td>Y.Tsunoda</td>\n      <td>8</td>\n      <td>9</td>\n      <td>7</td>\n      <td>-13</td>\n      <td>16</td>\n      <td>0</td>\n      <td>-4</td>\n      <td>11</td>\n      <td>8</td>\n      <td>...</td>\n      <td>Yes</td>\n      <td>Yes</td>\n      <td>No</td>\n      <td>No</td>\n      <td>No</td>\n      <td>No</td>\n      <td>No</td>\n      <td>No</td>\n      <td>No</td>\n      <td>BEL</td>\n    </tr>\n    <tr>\n      <th>13</th>\n      <td>D.Ricciardo</td>\n      <td>8</td>\n      <td>7</td>\n      <td>3</td>\n      <td>-15</td>\n      <td>0</td>\n      <td>0</td>\n      <td>0</td>\n      <td>6</td>\n      <td>-1</td>\n      <td>...</td>\n      <td>No</td>\n      <td>No</td>\n      <td>No</td>\n      <td>No</td>\n      <td>No</td>\n      <td>No</td>\n      <td>No</td>\n      <td>No</td>\n      <td>No</td>\n      <td>NET</td>\n    </tr>\n    <tr>\n      <th>14</th>\n      <td>A.Albon</td>\n      <td>13</td>\n      <td>-17</td>\n      <td>-15</td>\n      <td>2</td>\n      <td>-1</td>\n      <td>0</td>\n      <td>0</td>\n      <td>5</td>\n      <td>22</td>\n      <td>...</td>\n      <td>No</td>\n      <td>No</td>\n      <td>Yes</td>\n      <td>No</td>\n      <td>No</td>\n      <td>No</td>\n      <td>Yes</td>\n      <td>No</td>\n      <td>No</td>\n      <td>ITA</td>\n    </tr>\n    <tr>\n      <th>15</th>\n      <td>L.Sargeant</td>\n      <td>11</td>\n      <td>2</td>\n      <td>5</td>\n      <td>-20</td>\n      <td>1</td>\n      <td>0</td>\n      <td>0</td>\n      <td>1</td>\n      <td>-19</td>\n      <td>...</td>\n      <td>No</td>\n      <td>No</td>\n      <td>Yes</td>\n      <td>Yes</td>\n      <td>No</td>\n      <td>No</td>\n      <td>No</td>\n      <td>No</td>\n      <td>No</td>\n      <td>SIN</td>\n    </tr>\n    <tr>\n      <th>16</th>\n      <td>V.Bottas</td>\n      <td>13</td>\n      <td>-2</td>\n      <td>12</td>\n      <td>-1</td>\n      <td>2</td>\n      <td>0</td>\n      <td>10</td>\n      <td>2</td>\n      <td>6</td>\n      <td>...</td>\n      <td>No</td>\n      <td>Yes</td>\n      <td>Yes</td>\n      <td>No</td>\n      <td>No</td>\n      <td>No</td>\n      <td>Yes</td>\n      <td>No</td>\n      <td>No</td>\n      <td>JAP</td>\n    </tr>\n    <tr>\n      <th>17</th>\n      <td>G.Zhou</td>\n      <td>15</td>\n      <td>6</td>\n      <td>15</td>\n      <td>-10</td>\n      <td>1</td>\n      <td>0</td>\n      <td>11</td>\n      <td>16</td>\n      <td>4</td>\n      <td>...</td>\n      <td>No</td>\n      <td>No</td>\n      <td>No</td>\n      <td>No</td>\n      <td>No</td>\n      <td>No</td>\n      <td>Yes</td>\n      <td>No</td>\n      <td>No</td>\n      <td>QAT</td>\n    </tr>\n    <tr>\n      <th>18</th>\n      <td>K.Magnussen</td>\n      <td>8</td>\n      <td>9</td>\n      <td>2</td>\n      <td>16</td>\n      <td>6</td>\n      <td>0</td>\n      <td>1</td>\n      <td>9</td>\n      <td>0</td>\n      <td>...</td>\n      <td>No</td>\n      <td>No</td>\n      <td>No</td>\n      <td>No</td>\n      <td>No</td>\n      <td>Yes</td>\n      <td>Yes</td>\n      <td>No</td>\n      <td>No</td>\n      <td>USA</td>\n    </tr>\n    <tr>\n      <th>19</th>\n      <td>N.Hulkenberg</td>\n      <td>-1</td>\n      <td>1</td>\n      <td>11</td>\n      <td>2</td>\n      <td>4</td>\n      <td>0</td>\n      <td>7</td>\n      <td>3</td>\n      <td>-1</td>\n      <td>...</td>\n      <td>No</td>\n      <td>No</td>\n      <td>No</td>\n      <td>No</td>\n      <td>No</td>\n      <td>No</td>\n      <td>No</td>\n      <td>No</td>\n      <td>No</td>\n      <td>MEX</td>\n    </tr>\n  </tbody>\n</table>\n<p>20 rows × 49 columns</p>\n</div>"
     },
     "execution_count": 10,
     "metadata": {},
     "output_type": "execute_result"
    }
   ],
   "source": [
    "df"
   ],
   "metadata": {
    "collapsed": false,
    "ExecuteTime": {
     "end_time": "2024-01-02T16:41:18.940726500Z",
     "start_time": "2024-01-02T16:41:18.852568900Z"
    }
   },
   "id": "fe8dedf700f51663"
  },
  {
   "cell_type": "code",
   "execution_count": 11,
   "outputs": [],
   "source": [
    "# Separate Codes from the table\n",
    "df_codes = df['Code']\n",
    "df = df.drop('Code', axis=1)\n"
   ],
   "metadata": {
    "collapsed": false,
    "ExecuteTime": {
     "end_time": "2024-01-02T16:41:18.942725400Z",
     "start_time": "2024-01-02T16:41:18.873215100Z"
    }
   },
   "id": "17b6fd9f332e0ca"
  },
  {
   "cell_type": "code",
   "execution_count": 12,
   "outputs": [
    {
     "name": "stderr",
     "output_type": "stream",
     "text": [
      "C:\\Users\\marce\\AppData\\Local\\Temp\\ipykernel_23964\\3844869910.py:3: SettingWithCopyWarning: \n",
      "A value is trying to be set on a copy of a slice from a DataFrame\n",
      "\n",
      "See the caveats in the documentation: https://pandas.pydata.org/pandas-docs/stable/user_guide/indexing.html#returning-a-view-versus-a-copy\n",
      "  df_codes[20] = 'BRA'\n"
     ]
    }
   ],
   "source": [
    "rem_codes = ['BRA', 'USA', 'ABU']\n",
    "# Add codes to the Series\n",
    "df_codes[20] = 'BRA'\n",
    "df_codes[21] = 'USA'\n",
    "df_codes[22] = 'ABU'\n",
    "\n"
   ],
   "metadata": {
    "collapsed": false,
    "ExecuteTime": {
     "end_time": "2024-01-02T16:42:36.344524300Z",
     "start_time": "2024-01-02T16:42:36.337011400Z"
    }
   },
   "id": "43d4b1b6e7d95e4b"
  },
  {
   "cell_type": "code",
   "execution_count": 15,
   "outputs": [],
   "source": [
    "# Add Race Number column to the df_codes\n",
    "df_codes_frame = df_codes.to_frame()\n",
    "\n",
    "# Add 'RaceNum' column to the df_codes_frame\n",
    "df_codes_frame['RaceNum'] = df_codes_frame.index + 1"
   ],
   "metadata": {
    "collapsed": false,
    "ExecuteTime": {
     "end_time": "2024-01-02T16:44:22.064886700Z",
     "start_time": "2024-01-02T16:44:22.050371800Z"
    }
   },
   "id": "9d1f1a07907181a8"
  },
  {
   "cell_type": "code",
   "execution_count": 16,
   "outputs": [
    {
     "data": {
      "text/plain": "   Code  RaceNum\n0   BAH        1\n1   SAU        2\n2   AUS        3\n3   AZE        4\n4   USA        5\n5   ITA        6\n6   MON        7\n7   SPA        8\n8   CAN        9\n9   AUT       10\n10  GBR       11\n11  HUN       12\n12  BEL       13\n13  NET       14\n14  ITA       15\n15  SIN       16\n16  JAP       17\n17  QAT       18\n18  USA       19\n19  MEX       20\n20  BRA       21\n21  USA       22\n22  ABU       23",
      "text/html": "<div>\n<style scoped>\n    .dataframe tbody tr th:only-of-type {\n        vertical-align: middle;\n    }\n\n    .dataframe tbody tr th {\n        vertical-align: top;\n    }\n\n    .dataframe thead th {\n        text-align: right;\n    }\n</style>\n<table border=\"1\" class=\"dataframe\">\n  <thead>\n    <tr style=\"text-align: right;\">\n      <th></th>\n      <th>Code</th>\n      <th>RaceNum</th>\n    </tr>\n  </thead>\n  <tbody>\n    <tr>\n      <th>0</th>\n      <td>BAH</td>\n      <td>1</td>\n    </tr>\n    <tr>\n      <th>1</th>\n      <td>SAU</td>\n      <td>2</td>\n    </tr>\n    <tr>\n      <th>2</th>\n      <td>AUS</td>\n      <td>3</td>\n    </tr>\n    <tr>\n      <th>3</th>\n      <td>AZE</td>\n      <td>4</td>\n    </tr>\n    <tr>\n      <th>4</th>\n      <td>USA</td>\n      <td>5</td>\n    </tr>\n    <tr>\n      <th>5</th>\n      <td>ITA</td>\n      <td>6</td>\n    </tr>\n    <tr>\n      <th>6</th>\n      <td>MON</td>\n      <td>7</td>\n    </tr>\n    <tr>\n      <th>7</th>\n      <td>SPA</td>\n      <td>8</td>\n    </tr>\n    <tr>\n      <th>8</th>\n      <td>CAN</td>\n      <td>9</td>\n    </tr>\n    <tr>\n      <th>9</th>\n      <td>AUT</td>\n      <td>10</td>\n    </tr>\n    <tr>\n      <th>10</th>\n      <td>GBR</td>\n      <td>11</td>\n    </tr>\n    <tr>\n      <th>11</th>\n      <td>HUN</td>\n      <td>12</td>\n    </tr>\n    <tr>\n      <th>12</th>\n      <td>BEL</td>\n      <td>13</td>\n    </tr>\n    <tr>\n      <th>13</th>\n      <td>NET</td>\n      <td>14</td>\n    </tr>\n    <tr>\n      <th>14</th>\n      <td>ITA</td>\n      <td>15</td>\n    </tr>\n    <tr>\n      <th>15</th>\n      <td>SIN</td>\n      <td>16</td>\n    </tr>\n    <tr>\n      <th>16</th>\n      <td>JAP</td>\n      <td>17</td>\n    </tr>\n    <tr>\n      <th>17</th>\n      <td>QAT</td>\n      <td>18</td>\n    </tr>\n    <tr>\n      <th>18</th>\n      <td>USA</td>\n      <td>19</td>\n    </tr>\n    <tr>\n      <th>19</th>\n      <td>MEX</td>\n      <td>20</td>\n    </tr>\n    <tr>\n      <th>20</th>\n      <td>BRA</td>\n      <td>21</td>\n    </tr>\n    <tr>\n      <th>21</th>\n      <td>USA</td>\n      <td>22</td>\n    </tr>\n    <tr>\n      <th>22</th>\n      <td>ABU</td>\n      <td>23</td>\n    </tr>\n  </tbody>\n</table>\n</div>"
     },
     "execution_count": 16,
     "metadata": {},
     "output_type": "execute_result"
    }
   ],
   "source": [
    "df_codes_frame"
   ],
   "metadata": {
    "collapsed": false,
    "ExecuteTime": {
     "end_time": "2024-01-02T16:44:28.533344400Z",
     "start_time": "2024-01-02T16:44:28.528331900Z"
    }
   },
   "id": "a118cebb3c916845"
  },
  {
   "cell_type": "code",
   "execution_count": 18,
   "outputs": [
    {
     "name": "stdout",
     "output_type": "stream",
     "text": [
      "    Constructor  Race1con  Race2con  Race3con  Race4con  Race5con  Race6con  \\\n",
      "0      Mercedes        45        44        32        49        57         0   \n",
      "1       Ferrari        31        59         3        63        56         0   \n",
      "2      Red Bull        78        95        98       108        97         0   \n",
      "3       Mclaren       -16        14        36        23         8         0   \n",
      "4  Aston Martin        56        19        54        55        42         0   \n",
      "5        Alpine         8        28        11        25        28         0   \n",
      "6    AlphaTauri        17        15        13       -23        17         0   \n",
      "7      Williams        25       -16        -5       -15         1         0   \n",
      "8    Alfa Romeo        31         7        26       -10         8         0   \n",
      "9          Haas        12        13        18        17        15         0   \n",
      "\n",
      "   Race7con  Race8con  Race9con  ...  Race19con  Race20con  Race21con  \\\n",
      "0        54        65        21  ...         31         69         24   \n",
      "1        37        38        46  ...         35         63         28   \n",
      "2        63        96        86  ...         95         45        105   \n",
      "3        15        11        15  ...         36         57         65   \n",
      "4        15        40        46  ...          0         -7         77   \n",
      "5        42        33        24  ...         27         21         44   \n",
      "6         1        20         6  ...         34         42         31   \n",
      "7         1         5        -2  ...         29         20          2   \n",
      "8        22        19        11  ...         15         14        -31   \n",
      "9         7        17         4  ...         30         -7        -19   \n",
      "\n",
      "   Race22con  Race23con  Race24con  Race25con  ConFTotal  BRA1  BRA  \n",
      "0         45         51          0          0     1060.0  USA3  USA  \n",
      "1         78         48          0          0     1007.0  ABU1  ABU  \n",
      "2         84         87          0          0     1847.0   NaN  NaN  \n",
      "3         34         59          0          0      899.0   NaN  NaN  \n",
      "4         56         32          0          0      757.0   NaN  NaN  \n",
      "5         46         11          0          0      467.0   NaN  NaN  \n",
      "6         26         27          0          0      308.0   NaN  NaN  \n",
      "7          7         12          0          0      151.0   NaN  NaN  \n",
      "8         12         13          0          0      222.0   NaN  NaN  \n",
      "9         12          2          0          0      215.0   NaN  NaN  \n",
      "\n",
      "[10 rows x 29 columns]\n"
     ]
    }
   ],
   "source": [
    "# Add 'Location' column to the df_codes_frame\n",
    "# Mapping of race codes to race details\n",
    "race_info = {'BAH': {'Race': 'Bahrain Grand Prix', 'Country': 'Bahrain', 'Circuit': 'Bahrain International Circuit'},\n",
    "             'SAU': {'Race': 'Saudi Arabian Grand Prix', 'Country': 'Saudi Arabia', 'Circuit': 'Jeddah Street Circuit'},\n",
    "             'AUS': {'Race': 'Australian Grand Prix', 'Country': 'Australia', 'Circuit': 'Albert Park Circuit'},\n",
    "             'AZE': {'Race': 'Azerbaijan Grand Prix', 'Country': 'Azerbaijan', 'Circuit': 'Baku City Circuit'},\n",
    "             'USA': {'Race': 'United States Grand Prix', 'Country': 'USA'},\n",
    "             'ITA': {'Race': 'Italian Grand Prix', 'Country': 'Italy', 'Circuit': 'Autodromo Enzo e Dino Ferrari'},\n",
    "             'MON': {'Race': 'Monaco Grand Prix', 'Country': 'Monaco', 'Circuit': 'Circuit de Monaco'},\n",
    "             'SPA': {'Race': 'Spanish Grand Prix', 'Country': 'Spain', 'Circuit': 'Circuit de Barcelona-Catalunya'},\n",
    "             'CAN': {'Race': 'Canadian Grand Prix', 'Country': 'Canada', 'Circuit': 'Circuit Gilles Villeneuve'},\n",
    "             'AUT': {'Race': 'Austrian Grand Prix', 'Country': 'Austria', 'Circuit': 'Red Bull Ring'},\n",
    "             'GBR': {'Race': 'British Grand Prix', 'Country': 'United Kingdom', 'Circuit': 'Silverstone Circuit'},\n",
    "             'HUN': {'Race': 'Hungarian Grand Prix', 'Country': 'Hungary', 'Circuit': 'Hungaroring'},\n",
    "             'BEL': {'Race': 'Belgian Grand Prix', 'Country': 'Belgium', 'Circuit': 'Circuit de Spa-Francorchamps'},\n",
    "             'NET': {'Race': 'Dutch Grand Prix', 'Country': 'Netherlands', 'Circuit': 'Circuit Zandvoort'},\n",
    "             'SIN': {'Race': 'Singapore Grand Prix', 'Country': 'Singapore', 'Circuit': 'Marina Bay Street Circuit'},\n",
    "             'JAP': {'Race': 'Japanese Grand Prix', 'Country': 'Japan', 'Circuit': 'Suzuka International Racing Course'},\n",
    "             'QAT': {'Race': 'Qatar Grand Prix', 'Country': 'Qatar', 'Circuit': 'Losail International Circuit'},\n",
    "             'MEX': {'Race': 'Mexican Grand Prix', 'Country': 'Mexico', 'Circuit': 'Autódromo Hermanos Rodríguez'},\n",
    "             'BRA': {'Race': 'Brazilian Grand Prix', 'Country': 'Brazil', 'Circuit': 'Autódromo José Carlos Pace'},\n",
    "             'ABU': {'Race': 'Abu Dhabi Grand Prix', 'Country': 'United Arab Emirates', 'Circuit': 'Yas Marina Circuit'}}\n",
    "\n",
    "# Add new columns to DataFrame\n",
    "df_codes_frame['RaceName'] = df_codes_frame['Code'].map(lambda x: race_info[x]['Race'] if x in race_info else '')\n",
    "df_codes_frame['Country'] = df_codes_frame['Code'].map(lambda x: race_info[x]['Country'] if x in race_info else '')\n",
    "df_codes_frame['Circuit'] = df_codes_frame['Code'].map(lambda x: race_info[x]['Circuit'] if x in race_info and 'Circuit' in race_info[x] else '')\n"
   ],
   "metadata": {
    "collapsed": false,
    "ExecuteTime": {
     "end_time": "2024-01-02T16:53:32.729518Z",
     "start_time": "2024-01-02T16:53:32.699357900Z"
    }
   },
   "id": "a2f71a5f9bf082e5"
  },
  {
   "cell_type": "code",
   "execution_count": 19,
   "outputs": [
    {
     "data": {
      "text/plain": "   Code  RaceNum                  RaceName               Country  \\\n0   BAH        1        Bahrain Grand Prix               Bahrain   \n1   SAU        2  Saudi Arabian Grand Prix          Saudi Arabia   \n2   AUS        3     Australian Grand Prix             Australia   \n3   AZE        4     Azerbaijan Grand Prix            Azerbaijan   \n4   USA        5  United States Grand Prix                   USA   \n5   ITA        6        Italian Grand Prix                 Italy   \n6   MON        7         Monaco Grand Prix                Monaco   \n7   SPA        8        Spanish Grand Prix                 Spain   \n8   CAN        9       Canadian Grand Prix                Canada   \n9   AUT       10       Austrian Grand Prix               Austria   \n10  GBR       11        British Grand Prix        United Kingdom   \n11  HUN       12      Hungarian Grand Prix               Hungary   \n12  BEL       13        Belgian Grand Prix               Belgium   \n13  NET       14          Dutch Grand Prix           Netherlands   \n14  ITA       15        Italian Grand Prix                 Italy   \n15  SIN       16      Singapore Grand Prix             Singapore   \n16  JAP       17       Japanese Grand Prix                 Japan   \n17  QAT       18          Qatar Grand Prix                 Qatar   \n18  USA       19  United States Grand Prix                   USA   \n19  MEX       20        Mexican Grand Prix                Mexico   \n20  BRA       21      Brazilian Grand Prix                Brazil   \n21  USA       22  United States Grand Prix                   USA   \n22  ABU       23      Abu Dhabi Grand Prix  United Arab Emirates   \n\n                               Circuit  \n0        Bahrain International Circuit  \n1                Jeddah Street Circuit  \n2                  Albert Park Circuit  \n3                    Baku City Circuit  \n4                                       \n5        Autodromo Enzo e Dino Ferrari  \n6                    Circuit de Monaco  \n7       Circuit de Barcelona-Catalunya  \n8            Circuit Gilles Villeneuve  \n9                        Red Bull Ring  \n10                 Silverstone Circuit  \n11                         Hungaroring  \n12        Circuit de Spa-Francorchamps  \n13                   Circuit Zandvoort  \n14       Autodromo Enzo e Dino Ferrari  \n15           Marina Bay Street Circuit  \n16  Suzuka International Racing Course  \n17        Losail International Circuit  \n18                                      \n19        Autódromo Hermanos Rodríguez  \n20          Autódromo José Carlos Pace  \n21                                      \n22                  Yas Marina Circuit  ",
      "text/html": "<div>\n<style scoped>\n    .dataframe tbody tr th:only-of-type {\n        vertical-align: middle;\n    }\n\n    .dataframe tbody tr th {\n        vertical-align: top;\n    }\n\n    .dataframe thead th {\n        text-align: right;\n    }\n</style>\n<table border=\"1\" class=\"dataframe\">\n  <thead>\n    <tr style=\"text-align: right;\">\n      <th></th>\n      <th>Code</th>\n      <th>RaceNum</th>\n      <th>RaceName</th>\n      <th>Country</th>\n      <th>Circuit</th>\n    </tr>\n  </thead>\n  <tbody>\n    <tr>\n      <th>0</th>\n      <td>BAH</td>\n      <td>1</td>\n      <td>Bahrain Grand Prix</td>\n      <td>Bahrain</td>\n      <td>Bahrain International Circuit</td>\n    </tr>\n    <tr>\n      <th>1</th>\n      <td>SAU</td>\n      <td>2</td>\n      <td>Saudi Arabian Grand Prix</td>\n      <td>Saudi Arabia</td>\n      <td>Jeddah Street Circuit</td>\n    </tr>\n    <tr>\n      <th>2</th>\n      <td>AUS</td>\n      <td>3</td>\n      <td>Australian Grand Prix</td>\n      <td>Australia</td>\n      <td>Albert Park Circuit</td>\n    </tr>\n    <tr>\n      <th>3</th>\n      <td>AZE</td>\n      <td>4</td>\n      <td>Azerbaijan Grand Prix</td>\n      <td>Azerbaijan</td>\n      <td>Baku City Circuit</td>\n    </tr>\n    <tr>\n      <th>4</th>\n      <td>USA</td>\n      <td>5</td>\n      <td>United States Grand Prix</td>\n      <td>USA</td>\n      <td></td>\n    </tr>\n    <tr>\n      <th>5</th>\n      <td>ITA</td>\n      <td>6</td>\n      <td>Italian Grand Prix</td>\n      <td>Italy</td>\n      <td>Autodromo Enzo e Dino Ferrari</td>\n    </tr>\n    <tr>\n      <th>6</th>\n      <td>MON</td>\n      <td>7</td>\n      <td>Monaco Grand Prix</td>\n      <td>Monaco</td>\n      <td>Circuit de Monaco</td>\n    </tr>\n    <tr>\n      <th>7</th>\n      <td>SPA</td>\n      <td>8</td>\n      <td>Spanish Grand Prix</td>\n      <td>Spain</td>\n      <td>Circuit de Barcelona-Catalunya</td>\n    </tr>\n    <tr>\n      <th>8</th>\n      <td>CAN</td>\n      <td>9</td>\n      <td>Canadian Grand Prix</td>\n      <td>Canada</td>\n      <td>Circuit Gilles Villeneuve</td>\n    </tr>\n    <tr>\n      <th>9</th>\n      <td>AUT</td>\n      <td>10</td>\n      <td>Austrian Grand Prix</td>\n      <td>Austria</td>\n      <td>Red Bull Ring</td>\n    </tr>\n    <tr>\n      <th>10</th>\n      <td>GBR</td>\n      <td>11</td>\n      <td>British Grand Prix</td>\n      <td>United Kingdom</td>\n      <td>Silverstone Circuit</td>\n    </tr>\n    <tr>\n      <th>11</th>\n      <td>HUN</td>\n      <td>12</td>\n      <td>Hungarian Grand Prix</td>\n      <td>Hungary</td>\n      <td>Hungaroring</td>\n    </tr>\n    <tr>\n      <th>12</th>\n      <td>BEL</td>\n      <td>13</td>\n      <td>Belgian Grand Prix</td>\n      <td>Belgium</td>\n      <td>Circuit de Spa-Francorchamps</td>\n    </tr>\n    <tr>\n      <th>13</th>\n      <td>NET</td>\n      <td>14</td>\n      <td>Dutch Grand Prix</td>\n      <td>Netherlands</td>\n      <td>Circuit Zandvoort</td>\n    </tr>\n    <tr>\n      <th>14</th>\n      <td>ITA</td>\n      <td>15</td>\n      <td>Italian Grand Prix</td>\n      <td>Italy</td>\n      <td>Autodromo Enzo e Dino Ferrari</td>\n    </tr>\n    <tr>\n      <th>15</th>\n      <td>SIN</td>\n      <td>16</td>\n      <td>Singapore Grand Prix</td>\n      <td>Singapore</td>\n      <td>Marina Bay Street Circuit</td>\n    </tr>\n    <tr>\n      <th>16</th>\n      <td>JAP</td>\n      <td>17</td>\n      <td>Japanese Grand Prix</td>\n      <td>Japan</td>\n      <td>Suzuka International Racing Course</td>\n    </tr>\n    <tr>\n      <th>17</th>\n      <td>QAT</td>\n      <td>18</td>\n      <td>Qatar Grand Prix</td>\n      <td>Qatar</td>\n      <td>Losail International Circuit</td>\n    </tr>\n    <tr>\n      <th>18</th>\n      <td>USA</td>\n      <td>19</td>\n      <td>United States Grand Prix</td>\n      <td>USA</td>\n      <td></td>\n    </tr>\n    <tr>\n      <th>19</th>\n      <td>MEX</td>\n      <td>20</td>\n      <td>Mexican Grand Prix</td>\n      <td>Mexico</td>\n      <td>Autódromo Hermanos Rodríguez</td>\n    </tr>\n    <tr>\n      <th>20</th>\n      <td>BRA</td>\n      <td>21</td>\n      <td>Brazilian Grand Prix</td>\n      <td>Brazil</td>\n      <td>Autódromo José Carlos Pace</td>\n    </tr>\n    <tr>\n      <th>21</th>\n      <td>USA</td>\n      <td>22</td>\n      <td>United States Grand Prix</td>\n      <td>USA</td>\n      <td></td>\n    </tr>\n    <tr>\n      <th>22</th>\n      <td>ABU</td>\n      <td>23</td>\n      <td>Abu Dhabi Grand Prix</td>\n      <td>United Arab Emirates</td>\n      <td>Yas Marina Circuit</td>\n    </tr>\n  </tbody>\n</table>\n</div>"
     },
     "execution_count": 19,
     "metadata": {},
     "output_type": "execute_result"
    }
   ],
   "source": [
    "df_codes_frame"
   ],
   "metadata": {
    "collapsed": false,
    "ExecuteTime": {
     "end_time": "2024-01-02T16:53:56.362127100Z",
     "start_time": "2024-01-02T16:53:56.350340600Z"
    }
   },
   "id": "60256796f3b7da61"
  },
  {
   "cell_type": "code",
   "execution_count": 20,
   "outputs": [
    {
     "name": "stderr",
     "output_type": "stream",
     "text": [
      "C:\\Users\\marce\\AppData\\Local\\Temp\\ipykernel_23964\\1713496144.py:10: SettingWithCopyWarning: \n",
      "A value is trying to be set on a copy of a slice from a DataFrame\n",
      "\n",
      "See the caveats in the documentation: https://pandas.pydata.org/pandas-docs/stable/user_guide/indexing.html#returning-a-view-versus-a-copy\n",
      "  df_codes_frame['RaceName'][4] = 'Miami Grand Prix'\n",
      "C:\\Users\\marce\\AppData\\Local\\Temp\\ipykernel_23964\\1713496144.py:11: SettingWithCopyWarning: \n",
      "A value is trying to be set on a copy of a slice from a DataFrame\n",
      "\n",
      "See the caveats in the documentation: https://pandas.pydata.org/pandas-docs/stable/user_guide/indexing.html#returning-a-view-versus-a-copy\n",
      "  df_codes_frame['Circuit'][4] = 'Miami International Autodrome'\n",
      "C:\\Users\\marce\\AppData\\Local\\Temp\\ipykernel_23964\\1713496144.py:12: SettingWithCopyWarning: \n",
      "A value is trying to be set on a copy of a slice from a DataFrame\n",
      "\n",
      "See the caveats in the documentation: https://pandas.pydata.org/pandas-docs/stable/user_guide/indexing.html#returning-a-view-versus-a-copy\n",
      "  df_codes_frame['RaceName'][18] = 'United States Grand Prix'\n",
      "C:\\Users\\marce\\AppData\\Local\\Temp\\ipykernel_23964\\1713496144.py:13: SettingWithCopyWarning: \n",
      "A value is trying to be set on a copy of a slice from a DataFrame\n",
      "\n",
      "See the caveats in the documentation: https://pandas.pydata.org/pandas-docs/stable/user_guide/indexing.html#returning-a-view-versus-a-copy\n",
      "  df_codes_frame['Circuit'][18] = 'Circuit of the Americas'\n",
      "C:\\Users\\marce\\AppData\\Local\\Temp\\ipykernel_23964\\1713496144.py:14: SettingWithCopyWarning: \n",
      "A value is trying to be set on a copy of a slice from a DataFrame\n",
      "\n",
      "See the caveats in the documentation: https://pandas.pydata.org/pandas-docs/stable/user_guide/indexing.html#returning-a-view-versus-a-copy\n",
      "  df_codes_frame['RaceName'][21] = 'Las Vegas Grand Prix'\n",
      "C:\\Users\\marce\\AppData\\Local\\Temp\\ipykernel_23964\\1713496144.py:15: SettingWithCopyWarning: \n",
      "A value is trying to be set on a copy of a slice from a DataFrame\n",
      "\n",
      "See the caveats in the documentation: https://pandas.pydata.org/pandas-docs/stable/user_guide/indexing.html#returning-a-view-versus-a-copy\n",
      "  df_codes_frame['Circuit'][21] = 'Las Vegas Strip Circuit'\n",
      "C:\\Users\\marce\\AppData\\Local\\Temp\\ipykernel_23964\\1713496144.py:18: SettingWithCopyWarning: \n",
      "A value is trying to be set on a copy of a slice from a DataFrame\n",
      "\n",
      "See the caveats in the documentation: https://pandas.pydata.org/pandas-docs/stable/user_guide/indexing.html#returning-a-view-versus-a-copy\n",
      "  df_codes_frame['RaceName'][5] = 'Emilia Romagna Grand Prix'\n",
      "C:\\Users\\marce\\AppData\\Local\\Temp\\ipykernel_23964\\1713496144.py:19: SettingWithCopyWarning: \n",
      "A value is trying to be set on a copy of a slice from a DataFrame\n",
      "\n",
      "See the caveats in the documentation: https://pandas.pydata.org/pandas-docs/stable/user_guide/indexing.html#returning-a-view-versus-a-copy\n",
      "  df_codes_frame['RaceName'][14] = 'Italian Grand Prix'\n",
      "C:\\Users\\marce\\AppData\\Local\\Temp\\ipykernel_23964\\1713496144.py:20: SettingWithCopyWarning: \n",
      "A value is trying to be set on a copy of a slice from a DataFrame\n",
      "\n",
      "See the caveats in the documentation: https://pandas.pydata.org/pandas-docs/stable/user_guide/indexing.html#returning-a-view-versus-a-copy\n",
      "  df_codes_frame['Circuit'][14] = 'Autodromo Nazionale di Monza'\n"
     ]
    }
   ],
   "source": [
    "# Now all that is left is to correct the USA GPs and Italy GPs\n",
    "# The first USA GP is held in Miami, Florida at the Miami International Autodrome for the Miami Grand Prix\n",
    "# The second USA GP is held in Austin, Texas at the Circuit of the Americas for the United States Grand Prix\n",
    "# The third USA GP is held in Las Vegas, Nevada at the Las Vegas Strip Circuit for the Las Vegas Grand Prix\n",
    "\n",
    "# The first ITA GP is held in Imola, Italy at the Autodromo Enzo e Dino Ferrari for the Emilia Romagna Grand Prix\n",
    "# The second ITA GP is held in Monza, Italy at the Autodromo Nazionale di Monza for the Italian Grand Prix\n",
    "\n",
    "# Correct USA GPs\n",
    "df_codes_frame['RaceName'][4] = 'Miami Grand Prix'\n",
    "df_codes_frame['Circuit'][4] = 'Miami International Autodrome'\n",
    "df_codes_frame['RaceName'][18] = 'United States Grand Prix'\n",
    "df_codes_frame['Circuit'][18] = 'Circuit of the Americas'\n",
    "df_codes_frame['RaceName'][21] = 'Las Vegas Grand Prix'\n",
    "df_codes_frame['Circuit'][21] = 'Las Vegas Strip Circuit'\n",
    "\n",
    "# Now correct ITA GPs\n",
    "df_codes_frame['RaceName'][5] = 'Emilia Romagna Grand Prix'\n",
    "df_codes_frame['RaceName'][14] = 'Italian Grand Prix'\n",
    "df_codes_frame['Circuit'][14] = 'Autodromo Nazionale di Monza'\n",
    "\n"
   ],
   "metadata": {
    "collapsed": false,
    "ExecuteTime": {
     "end_time": "2024-01-02T17:00:05.083400300Z",
     "start_time": "2024-01-02T17:00:05.079365300Z"
    }
   },
   "id": "ead74622ccdbb8c7"
  },
  {
   "cell_type": "code",
   "execution_count": 21,
   "outputs": [
    {
     "data": {
      "text/plain": "   Code  RaceNum                   RaceName               Country  \\\n0   BAH        1         Bahrain Grand Prix               Bahrain   \n1   SAU        2   Saudi Arabian Grand Prix          Saudi Arabia   \n2   AUS        3      Australian Grand Prix             Australia   \n3   AZE        4      Azerbaijan Grand Prix            Azerbaijan   \n4   USA        5           Miami Grand Prix                   USA   \n5   ITA        6  Emilia Romagna Grand Prix                 Italy   \n6   MON        7          Monaco Grand Prix                Monaco   \n7   SPA        8         Spanish Grand Prix                 Spain   \n8   CAN        9        Canadian Grand Prix                Canada   \n9   AUT       10        Austrian Grand Prix               Austria   \n10  GBR       11         British Grand Prix        United Kingdom   \n11  HUN       12       Hungarian Grand Prix               Hungary   \n12  BEL       13         Belgian Grand Prix               Belgium   \n13  NET       14           Dutch Grand Prix           Netherlands   \n14  ITA       15         Italian Grand Prix                 Italy   \n15  SIN       16       Singapore Grand Prix             Singapore   \n16  JAP       17        Japanese Grand Prix                 Japan   \n17  QAT       18           Qatar Grand Prix                 Qatar   \n18  USA       19   United States Grand Prix                   USA   \n19  MEX       20         Mexican Grand Prix                Mexico   \n20  BRA       21       Brazilian Grand Prix                Brazil   \n21  USA       22       Las Vegas Grand Prix                   USA   \n22  ABU       23       Abu Dhabi Grand Prix  United Arab Emirates   \n\n                               Circuit  \n0        Bahrain International Circuit  \n1                Jeddah Street Circuit  \n2                  Albert Park Circuit  \n3                    Baku City Circuit  \n4        Miami International Autodrome  \n5        Autodromo Enzo e Dino Ferrari  \n6                    Circuit de Monaco  \n7       Circuit de Barcelona-Catalunya  \n8            Circuit Gilles Villeneuve  \n9                        Red Bull Ring  \n10                 Silverstone Circuit  \n11                         Hungaroring  \n12        Circuit de Spa-Francorchamps  \n13                   Circuit Zandvoort  \n14        Autodromo Nazionale di Monza  \n15           Marina Bay Street Circuit  \n16  Suzuka International Racing Course  \n17        Losail International Circuit  \n18             Circuit of the Americas  \n19        Autódromo Hermanos Rodríguez  \n20          Autódromo José Carlos Pace  \n21             Las Vegas Strip Circuit  \n22                  Yas Marina Circuit  ",
      "text/html": "<div>\n<style scoped>\n    .dataframe tbody tr th:only-of-type {\n        vertical-align: middle;\n    }\n\n    .dataframe tbody tr th {\n        vertical-align: top;\n    }\n\n    .dataframe thead th {\n        text-align: right;\n    }\n</style>\n<table border=\"1\" class=\"dataframe\">\n  <thead>\n    <tr style=\"text-align: right;\">\n      <th></th>\n      <th>Code</th>\n      <th>RaceNum</th>\n      <th>RaceName</th>\n      <th>Country</th>\n      <th>Circuit</th>\n    </tr>\n  </thead>\n  <tbody>\n    <tr>\n      <th>0</th>\n      <td>BAH</td>\n      <td>1</td>\n      <td>Bahrain Grand Prix</td>\n      <td>Bahrain</td>\n      <td>Bahrain International Circuit</td>\n    </tr>\n    <tr>\n      <th>1</th>\n      <td>SAU</td>\n      <td>2</td>\n      <td>Saudi Arabian Grand Prix</td>\n      <td>Saudi Arabia</td>\n      <td>Jeddah Street Circuit</td>\n    </tr>\n    <tr>\n      <th>2</th>\n      <td>AUS</td>\n      <td>3</td>\n      <td>Australian Grand Prix</td>\n      <td>Australia</td>\n      <td>Albert Park Circuit</td>\n    </tr>\n    <tr>\n      <th>3</th>\n      <td>AZE</td>\n      <td>4</td>\n      <td>Azerbaijan Grand Prix</td>\n      <td>Azerbaijan</td>\n      <td>Baku City Circuit</td>\n    </tr>\n    <tr>\n      <th>4</th>\n      <td>USA</td>\n      <td>5</td>\n      <td>Miami Grand Prix</td>\n      <td>USA</td>\n      <td>Miami International Autodrome</td>\n    </tr>\n    <tr>\n      <th>5</th>\n      <td>ITA</td>\n      <td>6</td>\n      <td>Emilia Romagna Grand Prix</td>\n      <td>Italy</td>\n      <td>Autodromo Enzo e Dino Ferrari</td>\n    </tr>\n    <tr>\n      <th>6</th>\n      <td>MON</td>\n      <td>7</td>\n      <td>Monaco Grand Prix</td>\n      <td>Monaco</td>\n      <td>Circuit de Monaco</td>\n    </tr>\n    <tr>\n      <th>7</th>\n      <td>SPA</td>\n      <td>8</td>\n      <td>Spanish Grand Prix</td>\n      <td>Spain</td>\n      <td>Circuit de Barcelona-Catalunya</td>\n    </tr>\n    <tr>\n      <th>8</th>\n      <td>CAN</td>\n      <td>9</td>\n      <td>Canadian Grand Prix</td>\n      <td>Canada</td>\n      <td>Circuit Gilles Villeneuve</td>\n    </tr>\n    <tr>\n      <th>9</th>\n      <td>AUT</td>\n      <td>10</td>\n      <td>Austrian Grand Prix</td>\n      <td>Austria</td>\n      <td>Red Bull Ring</td>\n    </tr>\n    <tr>\n      <th>10</th>\n      <td>GBR</td>\n      <td>11</td>\n      <td>British Grand Prix</td>\n      <td>United Kingdom</td>\n      <td>Silverstone Circuit</td>\n    </tr>\n    <tr>\n      <th>11</th>\n      <td>HUN</td>\n      <td>12</td>\n      <td>Hungarian Grand Prix</td>\n      <td>Hungary</td>\n      <td>Hungaroring</td>\n    </tr>\n    <tr>\n      <th>12</th>\n      <td>BEL</td>\n      <td>13</td>\n      <td>Belgian Grand Prix</td>\n      <td>Belgium</td>\n      <td>Circuit de Spa-Francorchamps</td>\n    </tr>\n    <tr>\n      <th>13</th>\n      <td>NET</td>\n      <td>14</td>\n      <td>Dutch Grand Prix</td>\n      <td>Netherlands</td>\n      <td>Circuit Zandvoort</td>\n    </tr>\n    <tr>\n      <th>14</th>\n      <td>ITA</td>\n      <td>15</td>\n      <td>Italian Grand Prix</td>\n      <td>Italy</td>\n      <td>Autodromo Nazionale di Monza</td>\n    </tr>\n    <tr>\n      <th>15</th>\n      <td>SIN</td>\n      <td>16</td>\n      <td>Singapore Grand Prix</td>\n      <td>Singapore</td>\n      <td>Marina Bay Street Circuit</td>\n    </tr>\n    <tr>\n      <th>16</th>\n      <td>JAP</td>\n      <td>17</td>\n      <td>Japanese Grand Prix</td>\n      <td>Japan</td>\n      <td>Suzuka International Racing Course</td>\n    </tr>\n    <tr>\n      <th>17</th>\n      <td>QAT</td>\n      <td>18</td>\n      <td>Qatar Grand Prix</td>\n      <td>Qatar</td>\n      <td>Losail International Circuit</td>\n    </tr>\n    <tr>\n      <th>18</th>\n      <td>USA</td>\n      <td>19</td>\n      <td>United States Grand Prix</td>\n      <td>USA</td>\n      <td>Circuit of the Americas</td>\n    </tr>\n    <tr>\n      <th>19</th>\n      <td>MEX</td>\n      <td>20</td>\n      <td>Mexican Grand Prix</td>\n      <td>Mexico</td>\n      <td>Autódromo Hermanos Rodríguez</td>\n    </tr>\n    <tr>\n      <th>20</th>\n      <td>BRA</td>\n      <td>21</td>\n      <td>Brazilian Grand Prix</td>\n      <td>Brazil</td>\n      <td>Autódromo José Carlos Pace</td>\n    </tr>\n    <tr>\n      <th>21</th>\n      <td>USA</td>\n      <td>22</td>\n      <td>Las Vegas Grand Prix</td>\n      <td>USA</td>\n      <td>Las Vegas Strip Circuit</td>\n    </tr>\n    <tr>\n      <th>22</th>\n      <td>ABU</td>\n      <td>23</td>\n      <td>Abu Dhabi Grand Prix</td>\n      <td>United Arab Emirates</td>\n      <td>Yas Marina Circuit</td>\n    </tr>\n  </tbody>\n</table>\n</div>"
     },
     "execution_count": 21,
     "metadata": {},
     "output_type": "execute_result"
    }
   ],
   "source": [
    "df_codes_frame"
   ],
   "metadata": {
    "collapsed": false,
    "ExecuteTime": {
     "end_time": "2024-01-02T17:00:13.879076200Z",
     "start_time": "2024-01-02T17:00:13.862100600Z"
    }
   },
   "id": "4c09aa7dd9a964fa"
  },
  {
   "cell_type": "code",
   "execution_count": 22,
   "outputs": [
    {
     "data": {
      "text/plain": "   Code  RaceNum                   RaceName               Country  \\\n0   BAH        1         Bahrain Grand Prix               Bahrain   \n1   SAU        2   Saudi Arabian Grand Prix          Saudi Arabia   \n2   AUS        3      Australian Grand Prix             Australia   \n3   AZE        4      Azerbaijan Grand Prix            Azerbaijan   \n4   USA        5           Miami Grand Prix                   USA   \n5   ITA        6  Emilia Romagna Grand Prix                 Italy   \n6   MON        7          Monaco Grand Prix                Monaco   \n7   SPA        8         Spanish Grand Prix                 Spain   \n8   CAN        9        Canadian Grand Prix                Canada   \n9   AUT       10        Austrian Grand Prix               Austria   \n10  GBR       11         British Grand Prix        United Kingdom   \n11  HUN       12       Hungarian Grand Prix               Hungary   \n12  BEL       13         Belgian Grand Prix               Belgium   \n13  NET       14           Dutch Grand Prix           Netherlands   \n14  ITA       15         Italian Grand Prix                 Italy   \n15  SIN       16       Singapore Grand Prix             Singapore   \n16  JAP       17        Japanese Grand Prix                 Japan   \n17  QAT       18           Qatar Grand Prix                 Qatar   \n18  USA       19   United States Grand Prix                   USA   \n19  MEX       20         Mexican Grand Prix                Mexico   \n20  BRA       21       Brazilian Grand Prix                Brazil   \n21  USA       22       Las Vegas Grand Prix                   USA   \n22  ABU       23       Abu Dhabi Grand Prix  United Arab Emirates   \n\n                               Circuit  IsSprint  \n0        Bahrain International Circuit     False  \n1                Jeddah Street Circuit     False  \n2                  Albert Park Circuit     False  \n3                    Baku City Circuit      True  \n4        Miami International Autodrome     False  \n5        Autodromo Enzo e Dino Ferrari     False  \n6                    Circuit de Monaco     False  \n7       Circuit de Barcelona-Catalunya     False  \n8            Circuit Gilles Villeneuve     False  \n9                        Red Bull Ring      True  \n10                 Silverstone Circuit     False  \n11                         Hungaroring     False  \n12        Circuit de Spa-Francorchamps      True  \n13                   Circuit Zandvoort     False  \n14        Autodromo Nazionale di Monza     False  \n15           Marina Bay Street Circuit     False  \n16  Suzuka International Racing Course     False  \n17        Losail International Circuit      True  \n18             Circuit of the Americas      True  \n19        Autódromo Hermanos Rodríguez     False  \n20          Autódromo José Carlos Pace      True  \n21             Las Vegas Strip Circuit     False  \n22                  Yas Marina Circuit     False  ",
      "text/html": "<div>\n<style scoped>\n    .dataframe tbody tr th:only-of-type {\n        vertical-align: middle;\n    }\n\n    .dataframe tbody tr th {\n        vertical-align: top;\n    }\n\n    .dataframe thead th {\n        text-align: right;\n    }\n</style>\n<table border=\"1\" class=\"dataframe\">\n  <thead>\n    <tr style=\"text-align: right;\">\n      <th></th>\n      <th>Code</th>\n      <th>RaceNum</th>\n      <th>RaceName</th>\n      <th>Country</th>\n      <th>Circuit</th>\n      <th>IsSprint</th>\n    </tr>\n  </thead>\n  <tbody>\n    <tr>\n      <th>0</th>\n      <td>BAH</td>\n      <td>1</td>\n      <td>Bahrain Grand Prix</td>\n      <td>Bahrain</td>\n      <td>Bahrain International Circuit</td>\n      <td>False</td>\n    </tr>\n    <tr>\n      <th>1</th>\n      <td>SAU</td>\n      <td>2</td>\n      <td>Saudi Arabian Grand Prix</td>\n      <td>Saudi Arabia</td>\n      <td>Jeddah Street Circuit</td>\n      <td>False</td>\n    </tr>\n    <tr>\n      <th>2</th>\n      <td>AUS</td>\n      <td>3</td>\n      <td>Australian Grand Prix</td>\n      <td>Australia</td>\n      <td>Albert Park Circuit</td>\n      <td>False</td>\n    </tr>\n    <tr>\n      <th>3</th>\n      <td>AZE</td>\n      <td>4</td>\n      <td>Azerbaijan Grand Prix</td>\n      <td>Azerbaijan</td>\n      <td>Baku City Circuit</td>\n      <td>True</td>\n    </tr>\n    <tr>\n      <th>4</th>\n      <td>USA</td>\n      <td>5</td>\n      <td>Miami Grand Prix</td>\n      <td>USA</td>\n      <td>Miami International Autodrome</td>\n      <td>False</td>\n    </tr>\n    <tr>\n      <th>5</th>\n      <td>ITA</td>\n      <td>6</td>\n      <td>Emilia Romagna Grand Prix</td>\n      <td>Italy</td>\n      <td>Autodromo Enzo e Dino Ferrari</td>\n      <td>False</td>\n    </tr>\n    <tr>\n      <th>6</th>\n      <td>MON</td>\n      <td>7</td>\n      <td>Monaco Grand Prix</td>\n      <td>Monaco</td>\n      <td>Circuit de Monaco</td>\n      <td>False</td>\n    </tr>\n    <tr>\n      <th>7</th>\n      <td>SPA</td>\n      <td>8</td>\n      <td>Spanish Grand Prix</td>\n      <td>Spain</td>\n      <td>Circuit de Barcelona-Catalunya</td>\n      <td>False</td>\n    </tr>\n    <tr>\n      <th>8</th>\n      <td>CAN</td>\n      <td>9</td>\n      <td>Canadian Grand Prix</td>\n      <td>Canada</td>\n      <td>Circuit Gilles Villeneuve</td>\n      <td>False</td>\n    </tr>\n    <tr>\n      <th>9</th>\n      <td>AUT</td>\n      <td>10</td>\n      <td>Austrian Grand Prix</td>\n      <td>Austria</td>\n      <td>Red Bull Ring</td>\n      <td>True</td>\n    </tr>\n    <tr>\n      <th>10</th>\n      <td>GBR</td>\n      <td>11</td>\n      <td>British Grand Prix</td>\n      <td>United Kingdom</td>\n      <td>Silverstone Circuit</td>\n      <td>False</td>\n    </tr>\n    <tr>\n      <th>11</th>\n      <td>HUN</td>\n      <td>12</td>\n      <td>Hungarian Grand Prix</td>\n      <td>Hungary</td>\n      <td>Hungaroring</td>\n      <td>False</td>\n    </tr>\n    <tr>\n      <th>12</th>\n      <td>BEL</td>\n      <td>13</td>\n      <td>Belgian Grand Prix</td>\n      <td>Belgium</td>\n      <td>Circuit de Spa-Francorchamps</td>\n      <td>True</td>\n    </tr>\n    <tr>\n      <th>13</th>\n      <td>NET</td>\n      <td>14</td>\n      <td>Dutch Grand Prix</td>\n      <td>Netherlands</td>\n      <td>Circuit Zandvoort</td>\n      <td>False</td>\n    </tr>\n    <tr>\n      <th>14</th>\n      <td>ITA</td>\n      <td>15</td>\n      <td>Italian Grand Prix</td>\n      <td>Italy</td>\n      <td>Autodromo Nazionale di Monza</td>\n      <td>False</td>\n    </tr>\n    <tr>\n      <th>15</th>\n      <td>SIN</td>\n      <td>16</td>\n      <td>Singapore Grand Prix</td>\n      <td>Singapore</td>\n      <td>Marina Bay Street Circuit</td>\n      <td>False</td>\n    </tr>\n    <tr>\n      <th>16</th>\n      <td>JAP</td>\n      <td>17</td>\n      <td>Japanese Grand Prix</td>\n      <td>Japan</td>\n      <td>Suzuka International Racing Course</td>\n      <td>False</td>\n    </tr>\n    <tr>\n      <th>17</th>\n      <td>QAT</td>\n      <td>18</td>\n      <td>Qatar Grand Prix</td>\n      <td>Qatar</td>\n      <td>Losail International Circuit</td>\n      <td>True</td>\n    </tr>\n    <tr>\n      <th>18</th>\n      <td>USA</td>\n      <td>19</td>\n      <td>United States Grand Prix</td>\n      <td>USA</td>\n      <td>Circuit of the Americas</td>\n      <td>True</td>\n    </tr>\n    <tr>\n      <th>19</th>\n      <td>MEX</td>\n      <td>20</td>\n      <td>Mexican Grand Prix</td>\n      <td>Mexico</td>\n      <td>Autódromo Hermanos Rodríguez</td>\n      <td>False</td>\n    </tr>\n    <tr>\n      <th>20</th>\n      <td>BRA</td>\n      <td>21</td>\n      <td>Brazilian Grand Prix</td>\n      <td>Brazil</td>\n      <td>Autódromo José Carlos Pace</td>\n      <td>True</td>\n    </tr>\n    <tr>\n      <th>21</th>\n      <td>USA</td>\n      <td>22</td>\n      <td>Las Vegas Grand Prix</td>\n      <td>USA</td>\n      <td>Las Vegas Strip Circuit</td>\n      <td>False</td>\n    </tr>\n    <tr>\n      <th>22</th>\n      <td>ABU</td>\n      <td>23</td>\n      <td>Abu Dhabi Grand Prix</td>\n      <td>United Arab Emirates</td>\n      <td>Yas Marina Circuit</td>\n      <td>False</td>\n    </tr>\n  </tbody>\n</table>\n</div>"
     },
     "execution_count": 22,
     "metadata": {},
     "output_type": "execute_result"
    }
   ],
   "source": [
    "# Add 'IsSprint' column to the df_codes_frame. False for all exept for the following: 4, 10, 13, 18, 19 and 21\n",
    "# Use .map() to add the column and the indexes as conditions\n",
    "df_codes_frame['IsSprint'] = df_codes_frame['RaceNum'].map(lambda x: True if x in [4, 10, 13, 18, 19, 21] else False)\n",
    "df_codes_frame"
   ],
   "metadata": {
    "collapsed": false,
    "ExecuteTime": {
     "end_time": "2024-01-02T17:07:25.051990700Z",
     "start_time": "2024-01-02T17:07:25.042180800Z"
    }
   },
   "id": "c11d9b17385d353a"
  },
  {
   "cell_type": "markdown",
   "source": [
    "# Constructors\n"
   ],
   "metadata": {
    "collapsed": false
   },
   "id": "a2d946a1248579e8"
  },
  {
   "cell_type": "code",
   "execution_count": 16,
   "outputs": [
    {
     "name": "stdout",
     "output_type": "stream",
     "text": [
      "0 Constructor\n",
      "1 Race1con\n",
      "2 Race2con\n",
      "3 Race3con\n",
      "4 Race4con\n",
      "5 Race5con\n",
      "6 Race6con\n",
      "7 Race7con\n",
      "8 Race8con\n",
      "9 Race9con\n",
      "10 Race10con\n",
      "11 Race11con\n",
      "12 Race12con\n",
      "13 Race13con\n",
      "14 Race14con\n",
      "15 Race15con\n",
      "16 Race16con\n",
      "17 Race17con\n",
      "18 Race18con\n",
      "19 Race19con\n",
      "20 Race20con\n",
      "21 Race21con\n",
      "22 Race22con\n",
      "23 Race23con\n",
      "24 Race24con\n",
      "25 Race25con\n",
      "26 ConFTotal\n",
      "27 BRA1\n",
      "28 BRA\n"
     ]
    }
   ],
   "source": [
    "# Print column names and their indices\n",
    "for i, col in enumerate(df_cons.columns):\n",
    "    print(i, col)"
   ],
   "metadata": {
    "collapsed": false,
    "ExecuteTime": {
     "end_time": "2024-01-02T16:32:36.530182200Z",
     "start_time": "2024-01-02T16:32:36.516144200Z"
    }
   },
   "id": "658819851e4d16a5"
  },
  {
   "cell_type": "code",
   "execution_count": 18,
   "outputs": [],
   "source": [
    "# Drop columns 24, 25, 27 and 28\n",
    "df_cons = df_cons.drop(df_cons.columns[[24, 25, 27, 28]], axis=1)"
   ],
   "metadata": {
    "collapsed": false,
    "ExecuteTime": {
     "end_time": "2024-01-02T16:34:55.895916100Z",
     "start_time": "2024-01-02T16:34:55.882908500Z"
    }
   },
   "id": "68db9a3c07ec73b5"
  },
  {
   "cell_type": "code",
   "execution_count": 19,
   "outputs": [
    {
     "data": {
      "text/plain": "    Constructor  Race1con  Race2con  Race3con  Race4con  Race5con  Race6con  \\\n0      Mercedes        45        44        32        49        57         0   \n1       Ferrari        31        59         3        63        56         0   \n2      Red Bull        78        95        98       108        97         0   \n3       Mclaren       -16        14        36        23         8         0   \n4  Aston Martin        56        19        54        55        42         0   \n5        Alpine         8        28        11        25        28         0   \n6    AlphaTauri        17        15        13       -23        17         0   \n7      Williams        25       -16        -5       -15         1         0   \n8    Alfa Romeo        31         7        26       -10         8         0   \n9          Haas        12        13        18        17        15         0   \n\n   Race7con  Race8con  Race9con  ...  Race15con  Race16con  Race17con  \\\n0        54        65        21  ...         44         47         44   \n1        37        38        46  ...         67         70         65   \n2        63        96        86  ...         81         54         46   \n3        15        11        15  ...         44         64         66   \n4        15        40        46  ...         17          4          7   \n5        42        33        24  ...        -16         13         20   \n6         1        20         6  ...        -12         -4         15   \n7         1         5        -2  ...         20         19        -35   \n8        22        19        11  ...         12         -8        -10   \n9         7        17         4  ...          0         18         15   \n\n   Race18con  Race19con  Race20con  Race21con  Race22con  Race23con  ConFTotal  \n0         53         31         69         24         45         51     1060.0  \n1         18         35         63         28         78         48     1007.0  \n2         64         95         45        105         84         87     1847.0  \n3        110         36         57         65         34         59      899.0  \n4         47          0         -7         77         56         32      757.0  \n5         23         27         21         44         46         11      467.0  \n6         -4         34         42         31         26         27      308.0  \n7        -10         29         20          2          7         12      151.0  \n8         39         15         14        -31         12         13      222.0  \n9          6         30         -7        -19         12          2      215.0  \n\n[10 rows x 25 columns]",
      "text/html": "<div>\n<style scoped>\n    .dataframe tbody tr th:only-of-type {\n        vertical-align: middle;\n    }\n\n    .dataframe tbody tr th {\n        vertical-align: top;\n    }\n\n    .dataframe thead th {\n        text-align: right;\n    }\n</style>\n<table border=\"1\" class=\"dataframe\">\n  <thead>\n    <tr style=\"text-align: right;\">\n      <th></th>\n      <th>Constructor</th>\n      <th>Race1con</th>\n      <th>Race2con</th>\n      <th>Race3con</th>\n      <th>Race4con</th>\n      <th>Race5con</th>\n      <th>Race6con</th>\n      <th>Race7con</th>\n      <th>Race8con</th>\n      <th>Race9con</th>\n      <th>...</th>\n      <th>Race15con</th>\n      <th>Race16con</th>\n      <th>Race17con</th>\n      <th>Race18con</th>\n      <th>Race19con</th>\n      <th>Race20con</th>\n      <th>Race21con</th>\n      <th>Race22con</th>\n      <th>Race23con</th>\n      <th>ConFTotal</th>\n    </tr>\n  </thead>\n  <tbody>\n    <tr>\n      <th>0</th>\n      <td>Mercedes</td>\n      <td>45</td>\n      <td>44</td>\n      <td>32</td>\n      <td>49</td>\n      <td>57</td>\n      <td>0</td>\n      <td>54</td>\n      <td>65</td>\n      <td>21</td>\n      <td>...</td>\n      <td>44</td>\n      <td>47</td>\n      <td>44</td>\n      <td>53</td>\n      <td>31</td>\n      <td>69</td>\n      <td>24</td>\n      <td>45</td>\n      <td>51</td>\n      <td>1060.0</td>\n    </tr>\n    <tr>\n      <th>1</th>\n      <td>Ferrari</td>\n      <td>31</td>\n      <td>59</td>\n      <td>3</td>\n      <td>63</td>\n      <td>56</td>\n      <td>0</td>\n      <td>37</td>\n      <td>38</td>\n      <td>46</td>\n      <td>...</td>\n      <td>67</td>\n      <td>70</td>\n      <td>65</td>\n      <td>18</td>\n      <td>35</td>\n      <td>63</td>\n      <td>28</td>\n      <td>78</td>\n      <td>48</td>\n      <td>1007.0</td>\n    </tr>\n    <tr>\n      <th>2</th>\n      <td>Red Bull</td>\n      <td>78</td>\n      <td>95</td>\n      <td>98</td>\n      <td>108</td>\n      <td>97</td>\n      <td>0</td>\n      <td>63</td>\n      <td>96</td>\n      <td>86</td>\n      <td>...</td>\n      <td>81</td>\n      <td>54</td>\n      <td>46</td>\n      <td>64</td>\n      <td>95</td>\n      <td>45</td>\n      <td>105</td>\n      <td>84</td>\n      <td>87</td>\n      <td>1847.0</td>\n    </tr>\n    <tr>\n      <th>3</th>\n      <td>Mclaren</td>\n      <td>-16</td>\n      <td>14</td>\n      <td>36</td>\n      <td>23</td>\n      <td>8</td>\n      <td>0</td>\n      <td>15</td>\n      <td>11</td>\n      <td>15</td>\n      <td>...</td>\n      <td>44</td>\n      <td>64</td>\n      <td>66</td>\n      <td>110</td>\n      <td>36</td>\n      <td>57</td>\n      <td>65</td>\n      <td>34</td>\n      <td>59</td>\n      <td>899.0</td>\n    </tr>\n    <tr>\n      <th>4</th>\n      <td>Aston Martin</td>\n      <td>56</td>\n      <td>19</td>\n      <td>54</td>\n      <td>55</td>\n      <td>42</td>\n      <td>0</td>\n      <td>15</td>\n      <td>40</td>\n      <td>46</td>\n      <td>...</td>\n      <td>17</td>\n      <td>4</td>\n      <td>7</td>\n      <td>47</td>\n      <td>0</td>\n      <td>-7</td>\n      <td>77</td>\n      <td>56</td>\n      <td>32</td>\n      <td>757.0</td>\n    </tr>\n    <tr>\n      <th>5</th>\n      <td>Alpine</td>\n      <td>8</td>\n      <td>28</td>\n      <td>11</td>\n      <td>25</td>\n      <td>28</td>\n      <td>0</td>\n      <td>42</td>\n      <td>33</td>\n      <td>24</td>\n      <td>...</td>\n      <td>-16</td>\n      <td>13</td>\n      <td>20</td>\n      <td>23</td>\n      <td>27</td>\n      <td>21</td>\n      <td>44</td>\n      <td>46</td>\n      <td>11</td>\n      <td>467.0</td>\n    </tr>\n    <tr>\n      <th>6</th>\n      <td>AlphaTauri</td>\n      <td>17</td>\n      <td>15</td>\n      <td>13</td>\n      <td>-23</td>\n      <td>17</td>\n      <td>0</td>\n      <td>1</td>\n      <td>20</td>\n      <td>6</td>\n      <td>...</td>\n      <td>-12</td>\n      <td>-4</td>\n      <td>15</td>\n      <td>-4</td>\n      <td>34</td>\n      <td>42</td>\n      <td>31</td>\n      <td>26</td>\n      <td>27</td>\n      <td>308.0</td>\n    </tr>\n    <tr>\n      <th>7</th>\n      <td>Williams</td>\n      <td>25</td>\n      <td>-16</td>\n      <td>-5</td>\n      <td>-15</td>\n      <td>1</td>\n      <td>0</td>\n      <td>1</td>\n      <td>5</td>\n      <td>-2</td>\n      <td>...</td>\n      <td>20</td>\n      <td>19</td>\n      <td>-35</td>\n      <td>-10</td>\n      <td>29</td>\n      <td>20</td>\n      <td>2</td>\n      <td>7</td>\n      <td>12</td>\n      <td>151.0</td>\n    </tr>\n    <tr>\n      <th>8</th>\n      <td>Alfa Romeo</td>\n      <td>31</td>\n      <td>7</td>\n      <td>26</td>\n      <td>-10</td>\n      <td>8</td>\n      <td>0</td>\n      <td>22</td>\n      <td>19</td>\n      <td>11</td>\n      <td>...</td>\n      <td>12</td>\n      <td>-8</td>\n      <td>-10</td>\n      <td>39</td>\n      <td>15</td>\n      <td>14</td>\n      <td>-31</td>\n      <td>12</td>\n      <td>13</td>\n      <td>222.0</td>\n    </tr>\n    <tr>\n      <th>9</th>\n      <td>Haas</td>\n      <td>12</td>\n      <td>13</td>\n      <td>18</td>\n      <td>17</td>\n      <td>15</td>\n      <td>0</td>\n      <td>7</td>\n      <td>17</td>\n      <td>4</td>\n      <td>...</td>\n      <td>0</td>\n      <td>18</td>\n      <td>15</td>\n      <td>6</td>\n      <td>30</td>\n      <td>-7</td>\n      <td>-19</td>\n      <td>12</td>\n      <td>2</td>\n      <td>215.0</td>\n    </tr>\n  </tbody>\n</table>\n<p>10 rows × 25 columns</p>\n</div>"
     },
     "execution_count": 19,
     "metadata": {},
     "output_type": "execute_result"
    }
   ],
   "source": [
    "df_cons"
   ],
   "metadata": {
    "collapsed": false,
    "ExecuteTime": {
     "end_time": "2024-01-02T16:35:00.607388300Z",
     "start_time": "2024-01-02T16:35:00.604874200Z"
    }
   },
   "id": "627a566f099e2919"
  },
  {
   "cell_type": "code",
   "execution_count": 23,
   "outputs": [],
   "source": [
    "# Export all DataFrames to csv files\n",
    "df.to_csv('FantasyTracker23\\\\TreatedData2023\\\\F1_2023_Fantasy_Drivers_Standings.csv', index=False)\n",
    "df_cons.to_csv('FantasyTracker23\\\\TreatedData2023\\\\F1_2023_Fantasy_Constructors_Standings.csv', index=False)\n",
    "df_codes_frame.to_csv('FantasyTracker23\\\\TreatedData2023\\\\F1_2023_Fantasy_Races.csv', index=False)"
   ],
   "metadata": {
    "collapsed": false,
    "ExecuteTime": {
     "end_time": "2024-01-02T17:09:33.683175600Z",
     "start_time": "2024-01-02T17:09:33.666331100Z"
    }
   },
   "id": "94b95137e44fc5a2"
  },
  {
   "cell_type": "markdown",
   "source": [
    "# Prices"
   ],
   "metadata": {
    "collapsed": false
   },
   "id": "9964d2ed68f2b484"
  },
  {
   "cell_type": "code",
   "execution_count": 4,
   "outputs": [],
   "source": [
    "# Import data from FantasyTracker23 folder\n",
    "path = 'FantasyTracker23\\\\TreatedData2023\\\\'\n",
    "df_drivers = pd.read_csv(path + 'F1_2023_Fantasy_Drivers_Standings.csv')\n",
    "df_constructors = pd.read_csv(path + 'F1_2023_Fantasy_Constructors_Standings.csv')\n",
    "df_races = pd.read_csv(path + 'F1_2023_Fantasy_Races.csv')\n"
   ],
   "metadata": {
    "collapsed": false,
    "ExecuteTime": {
     "end_time": "2024-01-03T13:14:34.535118800Z",
     "start_time": "2024-01-03T13:14:34.505920900Z"
    }
   },
   "id": "207cc2e7d9b6e184"
  },
  {
   "cell_type": "code",
   "execution_count": null,
   "outputs": [],
   "source": [
    "# Make dictionary of drivers and their prices (to be added)"
   ],
   "metadata": {
    "collapsed": false
   },
   "id": "6fe8c66e7b1d2bb7"
  },
  {
   "cell_type": "markdown",
   "source": [
    "# Prices"
   ],
   "metadata": {
    "collapsed": false
   },
   "id": "8094c6fa579df0ae"
  },
  {
   "cell_type": "code",
   "execution_count": 6,
   "outputs": [],
   "source": [
    "prices = pd.read_csv('FantasyTracker23\\\\F1_2023_Fantasy_Driver_Prices.csv')"
   ],
   "metadata": {
    "collapsed": false,
    "ExecuteTime": {
     "end_time": "2024-01-03T13:34:41.510299Z",
     "start_time": "2024-01-03T13:34:41.503027100Z"
    }
   },
   "id": "e0bc4934e72d18aa"
  },
  {
   "cell_type": "code",
   "execution_count": 3,
   "outputs": [
    {
     "data": {
      "text/plain": "            Name SeasonStartPrice YesterdaysPrice CurrentPrice  \\\n0       Hamilton             25.3            25.3         25.3   \n1        Russell             20.2            20.2         20.2   \n2        Leclerc             23.5            23.5         23.5   \n3          Sainz             20.4            20.4         20.4   \n4     Verstappen             30.0            30.0         30.0   \n5          Perez             20.8            20.8         20.8   \n6         Norris             19.8            19.8         19.8   \n7        Piastri             15.4            15.4         15.4   \n8         Alonso             15.8            15.8         15.8   \n9         Stroll             14.0            14.0         14.0   \n10         Gasly             14.5            14.5         14.5   \n11          Ocon             13.5            13.5         13.5   \n12       Tsunoda              9.4             9.4          9.4   \n13     Ricciardo              5.5             5.5          5.5   \n14         Albon             11.3            11.3         11.3   \n15      Sargeant              5.8             5.8          5.8   \n16        Bottas              9.6             9.6          9.6   \n17          Zhou              7.7             7.7          7.7   \n18     Magnussen              9.6             9.6          9.6   \n19    Hulkenberg              6.2             6.2          6.2   \n20      Mercedes             26.0            26.0         26.0   \n21       Ferrari             25.0            25.0         25.0   \n22      Red Bull             29.7            29.7         29.7   \n23       Mclaren             17.1            17.1         17.1   \n24  Aston Martin             13.4            13.4         13.4   \n25        Alpine             14.2            14.2         14.2   \n26    AlphaTauri              8.7             8.7          8.7   \n27      Williams              7.8             7.8          7.8   \n28    Alfa Romeo              6.6             6.6          6.6   \n29          Haas              7.2             7.2          7.2   \n30           NaN              NaN             NaN          NaN   \n31      Analysis                V               W            X   \n\n   CurrentSentiment AveragePointsPerMillion CurrentPointsPerMillion  \\\n0                18                    0.91                   20.00   \n1                20                    0.86                   19.01   \n2                28                    0.65                   14.26   \n3                24                    0.88                   19.31   \n4                63                    1.54                   33.80   \n5                35                    1.27                   27.84   \n6                32                    1.01                   22.12   \n7                24                    0.82                   18.12   \n8                66                    1.16                   25.51   \n9                21                    0.75                   16.50   \n10               27                    0.72                   15.86   \n11               10                    0.40                    8.89   \n12               16                    0.77                   17.02   \n13               12                    0.74                   16.36   \n14               18                    0.51                   11.15   \n15               10                   -0.13                   -2.93   \n16               17                    0.20                    4.48   \n17               16                    0.80                   17.53   \n18               13                    0.42                    9.27   \n19               23                    0.43                    9.52   \n20               13                    1.85                   40.77   \n21               23                    1.83                   40.28   \n22               53                    2.83                   62.19   \n23               24                    2.39                   52.57   \n24               58                    2.57                   56.49   \n25                9                    1.49                   32.89   \n26                5                    1.61                   35.40   \n27                5                    0.88                   19.36   \n28                6                    1.53                   33.64   \n29                5                    1.36                   29.86   \n30              NaN                     NaN                     NaN   \n31                Y                       Z                      AA   \n\n    PriceChangeFromStart  Unnamed: 8    ChangeName  ...  Unnamed: 18    To U  \\\n0                    0.0         NaN      Hamilton  ...       0.0030  0.0030   \n1                    0.0         NaN       Russell  ...       0.0029  0.0029   \n2                    0.0         NaN       Leclerc  ...       0.0028  0.0028   \n3                    0.0         NaN         Sainz  ...       0.0027  0.0027   \n4                    0.0         NaN    Verstappen  ...       0.0026  0.0026   \n5                    0.0         NaN         Perez  ...       0.0025  0.0025   \n6                    0.0         NaN        Norris  ...       0.0024  0.0024   \n7                    0.0         NaN       Piastri  ...       0.0023  0.0023   \n8                    0.0         NaN        Alonso  ...       0.0022  0.0022   \n9                    0.0         NaN        Stroll  ...       0.0021  0.0021   \n10                   0.0         NaN         Gasly  ...       0.0020  0.0020   \n11                   0.0         NaN          Ocon  ...       0.0019  0.0019   \n12                   0.0         NaN       Tsunoda  ...       0.0018  0.0018   \n13                   0.0         NaN     Ricciardo  ...       0.0017  0.0017   \n14                   0.0         NaN         Albon  ...       0.0016  0.0016   \n15                   0.0         NaN      Sargeant  ...       0.0015  0.0015   \n16                   0.0         NaN        Bottas  ...       0.0014  0.0014   \n17                   0.0         NaN          Zhou  ...       0.0013  0.0013   \n18                   0.0         NaN     Magnussen  ...       0.0012  0.0012   \n19                   0.0         NaN    Hulkenberg  ...       0.0011  0.0011   \n20                   0.0         NaN      Mercedes  ...       0.0010  0.0010   \n21                   0.0         NaN       Ferrari  ...       0.0009  0.0009   \n22                   0.0         NaN      Red Bull  ...       0.0008  0.0008   \n23                   0.0         NaN       Mclaren  ...       0.0007  0.0007   \n24                   0.0         NaN  Aston Martin  ...       0.0006  0.0006   \n25                   0.0         NaN        Alpine  ...       0.0005  0.0005   \n26                   0.0         NaN    AlphaTauri  ...       0.0004  0.0004   \n27                   0.0         NaN      Williams  ...       0.0003  0.0003   \n28                   0.0         NaN    Alfa Romeo  ...       0.0002  0.0002   \n29                   0.0         NaN          Haas  ...       0.0001  0.0001   \n30                   NaN         NaN           NaN  ...          NaN     NaN   \n31                   NaN         NaN           NaN  ...          NaN     NaN   \n\n      To K  Unnamed: 21  LastRacePrice Diff    To N  Unnamed: 25  \\\n0   0.0030          NaN           25.3  0.0  0.0030          NaN   \n1   0.0029          NaN           20.2  0.0  0.0029          NaN   \n2   0.0028          NaN           23.5  0.0  0.0028          NaN   \n3   0.0027          NaN           20.4  0.0  0.0027          NaN   \n4   0.0026          NaN           30.0  0.0  0.0026          NaN   \n5   0.0025          NaN           20.8  0.0  0.0025          NaN   \n6   0.0024          NaN           19.8  0.0  0.0024          NaN   \n7   0.0023          NaN           15.4  0.0  0.0023          NaN   \n8   0.0022          NaN           15.8  0.0  0.0022          NaN   \n9   0.0021          NaN           14.0  0.0  0.0021          NaN   \n10  0.0020          NaN           14.5  0.0  0.0020          NaN   \n11  0.0019          NaN           13.5  0.0  0.0019          NaN   \n12  0.0018          NaN            9.4  0.0  0.0018          NaN   \n13  0.0017          NaN            5.5  0.0  0.0017          NaN   \n14  0.0016          NaN           11.3  0.0  0.0016          NaN   \n15  0.0015          NaN            5.8  0.0  0.0015          NaN   \n16  0.0014          NaN            9.6  0.0  0.0014          NaN   \n17  0.0013          NaN            7.7  0.0  0.0013          NaN   \n18  0.0012          NaN            9.6  0.0  0.0012          NaN   \n19  0.0011          NaN            6.2  0.0  0.0011          NaN   \n20  0.0010          NaN             26  0.0  0.0010          NaN   \n21  0.0009          NaN             25  0.0  0.0009          NaN   \n22  0.0008          NaN           29.7  0.0  0.0008          NaN   \n23  0.0007          NaN           17.1  0.0  0.0007          NaN   \n24  0.0006          NaN           13.4  0.0  0.0006          NaN   \n25  0.0005          NaN           14.2  0.0  0.0005          NaN   \n26  0.0004          NaN            8.7  0.0  0.0004          NaN   \n27  0.0003          NaN            7.8  0.0  0.0003          NaN   \n28  0.0002          NaN            6.6  0.0  0.0002          NaN   \n29  0.0001          NaN            7.2  0.0  0.0001          NaN   \n30     NaN          NaN            NaN  NaN     NaN          NaN   \n31     NaN          NaN             AE  NaN     NaN          NaN   \n\n    Average Points  CurrentPoints  \n0            23.00          506.0  \n1            17.45          384.0  \n2            15.23          335.0  \n3            17.91          394.0  \n4            46.09         1014.0  \n5            26.32          579.0  \n6            19.91          438.0  \n7            12.68          279.0  \n8            18.32          403.0  \n9            10.50          231.0  \n10           10.45          230.0  \n11            5.45          120.0  \n12            7.27          160.0  \n13            4.09           90.0  \n14            5.73          126.0  \n15           -0.77          -17.0  \n16            1.95           43.0  \n17            6.14          135.0  \n18            4.05           89.0  \n19            2.68           59.0  \n20           48.20         1060.0  \n21           45.80         1007.0  \n22           84.00         1847.0  \n23           40.90          899.0  \n24           34.40          757.0  \n25           21.20          467.0  \n26           14.00          308.0  \n27            6.90          151.0  \n28           10.10          222.0  \n29            9.80          215.0  \n30             NaN            NaN  \n31             NaN            NaN  \n\n[32 rows x 28 columns]",
      "text/html": "<div>\n<style scoped>\n    .dataframe tbody tr th:only-of-type {\n        vertical-align: middle;\n    }\n\n    .dataframe tbody tr th {\n        vertical-align: top;\n    }\n\n    .dataframe thead th {\n        text-align: right;\n    }\n</style>\n<table border=\"1\" class=\"dataframe\">\n  <thead>\n    <tr style=\"text-align: right;\">\n      <th></th>\n      <th>Name</th>\n      <th>SeasonStartPrice</th>\n      <th>YesterdaysPrice</th>\n      <th>CurrentPrice</th>\n      <th>CurrentSentiment</th>\n      <th>AveragePointsPerMillion</th>\n      <th>CurrentPointsPerMillion</th>\n      <th>PriceChangeFromStart</th>\n      <th>Unnamed: 8</th>\n      <th>ChangeName</th>\n      <th>...</th>\n      <th>Unnamed: 18</th>\n      <th>To U</th>\n      <th>To K</th>\n      <th>Unnamed: 21</th>\n      <th>LastRacePrice</th>\n      <th>Diff</th>\n      <th>To N</th>\n      <th>Unnamed: 25</th>\n      <th>Average Points</th>\n      <th>CurrentPoints</th>\n    </tr>\n  </thead>\n  <tbody>\n    <tr>\n      <th>0</th>\n      <td>Hamilton</td>\n      <td>25.3</td>\n      <td>25.3</td>\n      <td>25.3</td>\n      <td>18</td>\n      <td>0.91</td>\n      <td>20.00</td>\n      <td>0.0</td>\n      <td>NaN</td>\n      <td>Hamilton</td>\n      <td>...</td>\n      <td>0.0030</td>\n      <td>0.0030</td>\n      <td>0.0030</td>\n      <td>NaN</td>\n      <td>25.3</td>\n      <td>0.0</td>\n      <td>0.0030</td>\n      <td>NaN</td>\n      <td>23.00</td>\n      <td>506.0</td>\n    </tr>\n    <tr>\n      <th>1</th>\n      <td>Russell</td>\n      <td>20.2</td>\n      <td>20.2</td>\n      <td>20.2</td>\n      <td>20</td>\n      <td>0.86</td>\n      <td>19.01</td>\n      <td>0.0</td>\n      <td>NaN</td>\n      <td>Russell</td>\n      <td>...</td>\n      <td>0.0029</td>\n      <td>0.0029</td>\n      <td>0.0029</td>\n      <td>NaN</td>\n      <td>20.2</td>\n      <td>0.0</td>\n      <td>0.0029</td>\n      <td>NaN</td>\n      <td>17.45</td>\n      <td>384.0</td>\n    </tr>\n    <tr>\n      <th>2</th>\n      <td>Leclerc</td>\n      <td>23.5</td>\n      <td>23.5</td>\n      <td>23.5</td>\n      <td>28</td>\n      <td>0.65</td>\n      <td>14.26</td>\n      <td>0.0</td>\n      <td>NaN</td>\n      <td>Leclerc</td>\n      <td>...</td>\n      <td>0.0028</td>\n      <td>0.0028</td>\n      <td>0.0028</td>\n      <td>NaN</td>\n      <td>23.5</td>\n      <td>0.0</td>\n      <td>0.0028</td>\n      <td>NaN</td>\n      <td>15.23</td>\n      <td>335.0</td>\n    </tr>\n    <tr>\n      <th>3</th>\n      <td>Sainz</td>\n      <td>20.4</td>\n      <td>20.4</td>\n      <td>20.4</td>\n      <td>24</td>\n      <td>0.88</td>\n      <td>19.31</td>\n      <td>0.0</td>\n      <td>NaN</td>\n      <td>Sainz</td>\n      <td>...</td>\n      <td>0.0027</td>\n      <td>0.0027</td>\n      <td>0.0027</td>\n      <td>NaN</td>\n      <td>20.4</td>\n      <td>0.0</td>\n      <td>0.0027</td>\n      <td>NaN</td>\n      <td>17.91</td>\n      <td>394.0</td>\n    </tr>\n    <tr>\n      <th>4</th>\n      <td>Verstappen</td>\n      <td>30.0</td>\n      <td>30.0</td>\n      <td>30.0</td>\n      <td>63</td>\n      <td>1.54</td>\n      <td>33.80</td>\n      <td>0.0</td>\n      <td>NaN</td>\n      <td>Verstappen</td>\n      <td>...</td>\n      <td>0.0026</td>\n      <td>0.0026</td>\n      <td>0.0026</td>\n      <td>NaN</td>\n      <td>30.0</td>\n      <td>0.0</td>\n      <td>0.0026</td>\n      <td>NaN</td>\n      <td>46.09</td>\n      <td>1014.0</td>\n    </tr>\n    <tr>\n      <th>5</th>\n      <td>Perez</td>\n      <td>20.8</td>\n      <td>20.8</td>\n      <td>20.8</td>\n      <td>35</td>\n      <td>1.27</td>\n      <td>27.84</td>\n      <td>0.0</td>\n      <td>NaN</td>\n      <td>Perez</td>\n      <td>...</td>\n      <td>0.0025</td>\n      <td>0.0025</td>\n      <td>0.0025</td>\n      <td>NaN</td>\n      <td>20.8</td>\n      <td>0.0</td>\n      <td>0.0025</td>\n      <td>NaN</td>\n      <td>26.32</td>\n      <td>579.0</td>\n    </tr>\n    <tr>\n      <th>6</th>\n      <td>Norris</td>\n      <td>19.8</td>\n      <td>19.8</td>\n      <td>19.8</td>\n      <td>32</td>\n      <td>1.01</td>\n      <td>22.12</td>\n      <td>0.0</td>\n      <td>NaN</td>\n      <td>Norris</td>\n      <td>...</td>\n      <td>0.0024</td>\n      <td>0.0024</td>\n      <td>0.0024</td>\n      <td>NaN</td>\n      <td>19.8</td>\n      <td>0.0</td>\n      <td>0.0024</td>\n      <td>NaN</td>\n      <td>19.91</td>\n      <td>438.0</td>\n    </tr>\n    <tr>\n      <th>7</th>\n      <td>Piastri</td>\n      <td>15.4</td>\n      <td>15.4</td>\n      <td>15.4</td>\n      <td>24</td>\n      <td>0.82</td>\n      <td>18.12</td>\n      <td>0.0</td>\n      <td>NaN</td>\n      <td>Piastri</td>\n      <td>...</td>\n      <td>0.0023</td>\n      <td>0.0023</td>\n      <td>0.0023</td>\n      <td>NaN</td>\n      <td>15.4</td>\n      <td>0.0</td>\n      <td>0.0023</td>\n      <td>NaN</td>\n      <td>12.68</td>\n      <td>279.0</td>\n    </tr>\n    <tr>\n      <th>8</th>\n      <td>Alonso</td>\n      <td>15.8</td>\n      <td>15.8</td>\n      <td>15.8</td>\n      <td>66</td>\n      <td>1.16</td>\n      <td>25.51</td>\n      <td>0.0</td>\n      <td>NaN</td>\n      <td>Alonso</td>\n      <td>...</td>\n      <td>0.0022</td>\n      <td>0.0022</td>\n      <td>0.0022</td>\n      <td>NaN</td>\n      <td>15.8</td>\n      <td>0.0</td>\n      <td>0.0022</td>\n      <td>NaN</td>\n      <td>18.32</td>\n      <td>403.0</td>\n    </tr>\n    <tr>\n      <th>9</th>\n      <td>Stroll</td>\n      <td>14.0</td>\n      <td>14.0</td>\n      <td>14.0</td>\n      <td>21</td>\n      <td>0.75</td>\n      <td>16.50</td>\n      <td>0.0</td>\n      <td>NaN</td>\n      <td>Stroll</td>\n      <td>...</td>\n      <td>0.0021</td>\n      <td>0.0021</td>\n      <td>0.0021</td>\n      <td>NaN</td>\n      <td>14.0</td>\n      <td>0.0</td>\n      <td>0.0021</td>\n      <td>NaN</td>\n      <td>10.50</td>\n      <td>231.0</td>\n    </tr>\n    <tr>\n      <th>10</th>\n      <td>Gasly</td>\n      <td>14.5</td>\n      <td>14.5</td>\n      <td>14.5</td>\n      <td>27</td>\n      <td>0.72</td>\n      <td>15.86</td>\n      <td>0.0</td>\n      <td>NaN</td>\n      <td>Gasly</td>\n      <td>...</td>\n      <td>0.0020</td>\n      <td>0.0020</td>\n      <td>0.0020</td>\n      <td>NaN</td>\n      <td>14.5</td>\n      <td>0.0</td>\n      <td>0.0020</td>\n      <td>NaN</td>\n      <td>10.45</td>\n      <td>230.0</td>\n    </tr>\n    <tr>\n      <th>11</th>\n      <td>Ocon</td>\n      <td>13.5</td>\n      <td>13.5</td>\n      <td>13.5</td>\n      <td>10</td>\n      <td>0.40</td>\n      <td>8.89</td>\n      <td>0.0</td>\n      <td>NaN</td>\n      <td>Ocon</td>\n      <td>...</td>\n      <td>0.0019</td>\n      <td>0.0019</td>\n      <td>0.0019</td>\n      <td>NaN</td>\n      <td>13.5</td>\n      <td>0.0</td>\n      <td>0.0019</td>\n      <td>NaN</td>\n      <td>5.45</td>\n      <td>120.0</td>\n    </tr>\n    <tr>\n      <th>12</th>\n      <td>Tsunoda</td>\n      <td>9.4</td>\n      <td>9.4</td>\n      <td>9.4</td>\n      <td>16</td>\n      <td>0.77</td>\n      <td>17.02</td>\n      <td>0.0</td>\n      <td>NaN</td>\n      <td>Tsunoda</td>\n      <td>...</td>\n      <td>0.0018</td>\n      <td>0.0018</td>\n      <td>0.0018</td>\n      <td>NaN</td>\n      <td>9.4</td>\n      <td>0.0</td>\n      <td>0.0018</td>\n      <td>NaN</td>\n      <td>7.27</td>\n      <td>160.0</td>\n    </tr>\n    <tr>\n      <th>13</th>\n      <td>Ricciardo</td>\n      <td>5.5</td>\n      <td>5.5</td>\n      <td>5.5</td>\n      <td>12</td>\n      <td>0.74</td>\n      <td>16.36</td>\n      <td>0.0</td>\n      <td>NaN</td>\n      <td>Ricciardo</td>\n      <td>...</td>\n      <td>0.0017</td>\n      <td>0.0017</td>\n      <td>0.0017</td>\n      <td>NaN</td>\n      <td>5.5</td>\n      <td>0.0</td>\n      <td>0.0017</td>\n      <td>NaN</td>\n      <td>4.09</td>\n      <td>90.0</td>\n    </tr>\n    <tr>\n      <th>14</th>\n      <td>Albon</td>\n      <td>11.3</td>\n      <td>11.3</td>\n      <td>11.3</td>\n      <td>18</td>\n      <td>0.51</td>\n      <td>11.15</td>\n      <td>0.0</td>\n      <td>NaN</td>\n      <td>Albon</td>\n      <td>...</td>\n      <td>0.0016</td>\n      <td>0.0016</td>\n      <td>0.0016</td>\n      <td>NaN</td>\n      <td>11.3</td>\n      <td>0.0</td>\n      <td>0.0016</td>\n      <td>NaN</td>\n      <td>5.73</td>\n      <td>126.0</td>\n    </tr>\n    <tr>\n      <th>15</th>\n      <td>Sargeant</td>\n      <td>5.8</td>\n      <td>5.8</td>\n      <td>5.8</td>\n      <td>10</td>\n      <td>-0.13</td>\n      <td>-2.93</td>\n      <td>0.0</td>\n      <td>NaN</td>\n      <td>Sargeant</td>\n      <td>...</td>\n      <td>0.0015</td>\n      <td>0.0015</td>\n      <td>0.0015</td>\n      <td>NaN</td>\n      <td>5.8</td>\n      <td>0.0</td>\n      <td>0.0015</td>\n      <td>NaN</td>\n      <td>-0.77</td>\n      <td>-17.0</td>\n    </tr>\n    <tr>\n      <th>16</th>\n      <td>Bottas</td>\n      <td>9.6</td>\n      <td>9.6</td>\n      <td>9.6</td>\n      <td>17</td>\n      <td>0.20</td>\n      <td>4.48</td>\n      <td>0.0</td>\n      <td>NaN</td>\n      <td>Bottas</td>\n      <td>...</td>\n      <td>0.0014</td>\n      <td>0.0014</td>\n      <td>0.0014</td>\n      <td>NaN</td>\n      <td>9.6</td>\n      <td>0.0</td>\n      <td>0.0014</td>\n      <td>NaN</td>\n      <td>1.95</td>\n      <td>43.0</td>\n    </tr>\n    <tr>\n      <th>17</th>\n      <td>Zhou</td>\n      <td>7.7</td>\n      <td>7.7</td>\n      <td>7.7</td>\n      <td>16</td>\n      <td>0.80</td>\n      <td>17.53</td>\n      <td>0.0</td>\n      <td>NaN</td>\n      <td>Zhou</td>\n      <td>...</td>\n      <td>0.0013</td>\n      <td>0.0013</td>\n      <td>0.0013</td>\n      <td>NaN</td>\n      <td>7.7</td>\n      <td>0.0</td>\n      <td>0.0013</td>\n      <td>NaN</td>\n      <td>6.14</td>\n      <td>135.0</td>\n    </tr>\n    <tr>\n      <th>18</th>\n      <td>Magnussen</td>\n      <td>9.6</td>\n      <td>9.6</td>\n      <td>9.6</td>\n      <td>13</td>\n      <td>0.42</td>\n      <td>9.27</td>\n      <td>0.0</td>\n      <td>NaN</td>\n      <td>Magnussen</td>\n      <td>...</td>\n      <td>0.0012</td>\n      <td>0.0012</td>\n      <td>0.0012</td>\n      <td>NaN</td>\n      <td>9.6</td>\n      <td>0.0</td>\n      <td>0.0012</td>\n      <td>NaN</td>\n      <td>4.05</td>\n      <td>89.0</td>\n    </tr>\n    <tr>\n      <th>19</th>\n      <td>Hulkenberg</td>\n      <td>6.2</td>\n      <td>6.2</td>\n      <td>6.2</td>\n      <td>23</td>\n      <td>0.43</td>\n      <td>9.52</td>\n      <td>0.0</td>\n      <td>NaN</td>\n      <td>Hulkenberg</td>\n      <td>...</td>\n      <td>0.0011</td>\n      <td>0.0011</td>\n      <td>0.0011</td>\n      <td>NaN</td>\n      <td>6.2</td>\n      <td>0.0</td>\n      <td>0.0011</td>\n      <td>NaN</td>\n      <td>2.68</td>\n      <td>59.0</td>\n    </tr>\n    <tr>\n      <th>20</th>\n      <td>Mercedes</td>\n      <td>26.0</td>\n      <td>26.0</td>\n      <td>26.0</td>\n      <td>13</td>\n      <td>1.85</td>\n      <td>40.77</td>\n      <td>0.0</td>\n      <td>NaN</td>\n      <td>Mercedes</td>\n      <td>...</td>\n      <td>0.0010</td>\n      <td>0.0010</td>\n      <td>0.0010</td>\n      <td>NaN</td>\n      <td>26</td>\n      <td>0.0</td>\n      <td>0.0010</td>\n      <td>NaN</td>\n      <td>48.20</td>\n      <td>1060.0</td>\n    </tr>\n    <tr>\n      <th>21</th>\n      <td>Ferrari</td>\n      <td>25.0</td>\n      <td>25.0</td>\n      <td>25.0</td>\n      <td>23</td>\n      <td>1.83</td>\n      <td>40.28</td>\n      <td>0.0</td>\n      <td>NaN</td>\n      <td>Ferrari</td>\n      <td>...</td>\n      <td>0.0009</td>\n      <td>0.0009</td>\n      <td>0.0009</td>\n      <td>NaN</td>\n      <td>25</td>\n      <td>0.0</td>\n      <td>0.0009</td>\n      <td>NaN</td>\n      <td>45.80</td>\n      <td>1007.0</td>\n    </tr>\n    <tr>\n      <th>22</th>\n      <td>Red Bull</td>\n      <td>29.7</td>\n      <td>29.7</td>\n      <td>29.7</td>\n      <td>53</td>\n      <td>2.83</td>\n      <td>62.19</td>\n      <td>0.0</td>\n      <td>NaN</td>\n      <td>Red Bull</td>\n      <td>...</td>\n      <td>0.0008</td>\n      <td>0.0008</td>\n      <td>0.0008</td>\n      <td>NaN</td>\n      <td>29.7</td>\n      <td>0.0</td>\n      <td>0.0008</td>\n      <td>NaN</td>\n      <td>84.00</td>\n      <td>1847.0</td>\n    </tr>\n    <tr>\n      <th>23</th>\n      <td>Mclaren</td>\n      <td>17.1</td>\n      <td>17.1</td>\n      <td>17.1</td>\n      <td>24</td>\n      <td>2.39</td>\n      <td>52.57</td>\n      <td>0.0</td>\n      <td>NaN</td>\n      <td>Mclaren</td>\n      <td>...</td>\n      <td>0.0007</td>\n      <td>0.0007</td>\n      <td>0.0007</td>\n      <td>NaN</td>\n      <td>17.1</td>\n      <td>0.0</td>\n      <td>0.0007</td>\n      <td>NaN</td>\n      <td>40.90</td>\n      <td>899.0</td>\n    </tr>\n    <tr>\n      <th>24</th>\n      <td>Aston Martin</td>\n      <td>13.4</td>\n      <td>13.4</td>\n      <td>13.4</td>\n      <td>58</td>\n      <td>2.57</td>\n      <td>56.49</td>\n      <td>0.0</td>\n      <td>NaN</td>\n      <td>Aston Martin</td>\n      <td>...</td>\n      <td>0.0006</td>\n      <td>0.0006</td>\n      <td>0.0006</td>\n      <td>NaN</td>\n      <td>13.4</td>\n      <td>0.0</td>\n      <td>0.0006</td>\n      <td>NaN</td>\n      <td>34.40</td>\n      <td>757.0</td>\n    </tr>\n    <tr>\n      <th>25</th>\n      <td>Alpine</td>\n      <td>14.2</td>\n      <td>14.2</td>\n      <td>14.2</td>\n      <td>9</td>\n      <td>1.49</td>\n      <td>32.89</td>\n      <td>0.0</td>\n      <td>NaN</td>\n      <td>Alpine</td>\n      <td>...</td>\n      <td>0.0005</td>\n      <td>0.0005</td>\n      <td>0.0005</td>\n      <td>NaN</td>\n      <td>14.2</td>\n      <td>0.0</td>\n      <td>0.0005</td>\n      <td>NaN</td>\n      <td>21.20</td>\n      <td>467.0</td>\n    </tr>\n    <tr>\n      <th>26</th>\n      <td>AlphaTauri</td>\n      <td>8.7</td>\n      <td>8.7</td>\n      <td>8.7</td>\n      <td>5</td>\n      <td>1.61</td>\n      <td>35.40</td>\n      <td>0.0</td>\n      <td>NaN</td>\n      <td>AlphaTauri</td>\n      <td>...</td>\n      <td>0.0004</td>\n      <td>0.0004</td>\n      <td>0.0004</td>\n      <td>NaN</td>\n      <td>8.7</td>\n      <td>0.0</td>\n      <td>0.0004</td>\n      <td>NaN</td>\n      <td>14.00</td>\n      <td>308.0</td>\n    </tr>\n    <tr>\n      <th>27</th>\n      <td>Williams</td>\n      <td>7.8</td>\n      <td>7.8</td>\n      <td>7.8</td>\n      <td>5</td>\n      <td>0.88</td>\n      <td>19.36</td>\n      <td>0.0</td>\n      <td>NaN</td>\n      <td>Williams</td>\n      <td>...</td>\n      <td>0.0003</td>\n      <td>0.0003</td>\n      <td>0.0003</td>\n      <td>NaN</td>\n      <td>7.8</td>\n      <td>0.0</td>\n      <td>0.0003</td>\n      <td>NaN</td>\n      <td>6.90</td>\n      <td>151.0</td>\n    </tr>\n    <tr>\n      <th>28</th>\n      <td>Alfa Romeo</td>\n      <td>6.6</td>\n      <td>6.6</td>\n      <td>6.6</td>\n      <td>6</td>\n      <td>1.53</td>\n      <td>33.64</td>\n      <td>0.0</td>\n      <td>NaN</td>\n      <td>Alfa Romeo</td>\n      <td>...</td>\n      <td>0.0002</td>\n      <td>0.0002</td>\n      <td>0.0002</td>\n      <td>NaN</td>\n      <td>6.6</td>\n      <td>0.0</td>\n      <td>0.0002</td>\n      <td>NaN</td>\n      <td>10.10</td>\n      <td>222.0</td>\n    </tr>\n    <tr>\n      <th>29</th>\n      <td>Haas</td>\n      <td>7.2</td>\n      <td>7.2</td>\n      <td>7.2</td>\n      <td>5</td>\n      <td>1.36</td>\n      <td>29.86</td>\n      <td>0.0</td>\n      <td>NaN</td>\n      <td>Haas</td>\n      <td>...</td>\n      <td>0.0001</td>\n      <td>0.0001</td>\n      <td>0.0001</td>\n      <td>NaN</td>\n      <td>7.2</td>\n      <td>0.0</td>\n      <td>0.0001</td>\n      <td>NaN</td>\n      <td>9.80</td>\n      <td>215.0</td>\n    </tr>\n    <tr>\n      <th>30</th>\n      <td>NaN</td>\n      <td>NaN</td>\n      <td>NaN</td>\n      <td>NaN</td>\n      <td>NaN</td>\n      <td>NaN</td>\n      <td>NaN</td>\n      <td>NaN</td>\n      <td>NaN</td>\n      <td>NaN</td>\n      <td>...</td>\n      <td>NaN</td>\n      <td>NaN</td>\n      <td>NaN</td>\n      <td>NaN</td>\n      <td>NaN</td>\n      <td>NaN</td>\n      <td>NaN</td>\n      <td>NaN</td>\n      <td>NaN</td>\n      <td>NaN</td>\n    </tr>\n    <tr>\n      <th>31</th>\n      <td>Analysis</td>\n      <td>V</td>\n      <td>W</td>\n      <td>X</td>\n      <td>Y</td>\n      <td>Z</td>\n      <td>AA</td>\n      <td>NaN</td>\n      <td>NaN</td>\n      <td>NaN</td>\n      <td>...</td>\n      <td>NaN</td>\n      <td>NaN</td>\n      <td>NaN</td>\n      <td>NaN</td>\n      <td>AE</td>\n      <td>NaN</td>\n      <td>NaN</td>\n      <td>NaN</td>\n      <td>NaN</td>\n      <td>NaN</td>\n    </tr>\n  </tbody>\n</table>\n<p>32 rows × 28 columns</p>\n</div>"
     },
     "execution_count": 3,
     "metadata": {},
     "output_type": "execute_result"
    }
   ],
   "source": [
    "prices"
   ],
   "metadata": {
    "collapsed": false,
    "ExecuteTime": {
     "end_time": "2024-01-03T13:27:40.421906800Z",
     "start_time": "2024-01-03T13:27:40.393505Z"
    }
   },
   "id": "a4767d87d6d1060b"
  },
  {
   "cell_type": "code",
   "execution_count": 7,
   "outputs": [],
   "source": [
    "# Drop last two rows\n",
    "prices = prices.drop(prices.index[[30, 31]])"
   ],
   "metadata": {
    "collapsed": false,
    "ExecuteTime": {
     "end_time": "2024-01-03T13:34:52.391350800Z",
     "start_time": "2024-01-03T13:34:52.354748400Z"
    }
   },
   "id": "e709726cfee79229"
  },
  {
   "cell_type": "code",
   "execution_count": 8,
   "outputs": [
    {
     "data": {
      "text/plain": "            Name SeasonStartPrice YesterdaysPrice CurrentPrice  \\\n0       Hamilton             25.3            25.3         25.3   \n1        Russell             20.2            20.2         20.2   \n2        Leclerc             23.5            23.5         23.5   \n3          Sainz             20.4            20.4         20.4   \n4     Verstappen             30.0            30.0         30.0   \n5          Perez             20.8            20.8         20.8   \n6         Norris             19.8            19.8         19.8   \n7        Piastri             15.4            15.4         15.4   \n8         Alonso             15.8            15.8         15.8   \n9         Stroll             14.0            14.0         14.0   \n10         Gasly             14.5            14.5         14.5   \n11          Ocon             13.5            13.5         13.5   \n12       Tsunoda              9.4             9.4          9.4   \n13     Ricciardo              5.5             5.5          5.5   \n14         Albon             11.3            11.3         11.3   \n15      Sargeant              5.8             5.8          5.8   \n16        Bottas              9.6             9.6          9.6   \n17          Zhou              7.7             7.7          7.7   \n18     Magnussen              9.6             9.6          9.6   \n19    Hulkenberg              6.2             6.2          6.2   \n20      Mercedes             26.0            26.0         26.0   \n21       Ferrari             25.0            25.0         25.0   \n22      Red Bull             29.7            29.7         29.7   \n23       Mclaren             17.1            17.1         17.1   \n24  Aston Martin             13.4            13.4         13.4   \n25        Alpine             14.2            14.2         14.2   \n26    AlphaTauri              8.7             8.7          8.7   \n27      Williams              7.8             7.8          7.8   \n28    Alfa Romeo              6.6             6.6          6.6   \n29          Haas              7.2             7.2          7.2   \n\n   CurrentSentiment AveragePointsPerMillion CurrentPointsPerMillion  \\\n0                18                    0.91                   20.00   \n1                20                    0.86                   19.01   \n2                28                    0.65                   14.26   \n3                24                    0.88                   19.31   \n4                63                    1.54                   33.80   \n5                35                    1.27                   27.84   \n6                32                    1.01                   22.12   \n7                24                    0.82                   18.12   \n8                66                    1.16                   25.51   \n9                21                    0.75                   16.50   \n10               27                    0.72                   15.86   \n11               10                    0.40                    8.89   \n12               16                    0.77                   17.02   \n13               12                    0.74                   16.36   \n14               18                    0.51                   11.15   \n15               10                   -0.13                   -2.93   \n16               17                    0.20                    4.48   \n17               16                    0.80                   17.53   \n18               13                    0.42                    9.27   \n19               23                    0.43                    9.52   \n20               13                    1.85                   40.77   \n21               23                    1.83                   40.28   \n22               53                    2.83                   62.19   \n23               24                    2.39                   52.57   \n24               58                    2.57                   56.49   \n25                9                    1.49                   32.89   \n26                5                    1.61                   35.40   \n27                5                    0.88                   19.36   \n28                6                    1.53                   33.64   \n29                5                    1.36                   29.86   \n\n    PriceChangeFromStart  Unnamed: 8    ChangeName  ...  Unnamed: 18    To U  \\\n0                    0.0         NaN      Hamilton  ...       0.0030  0.0030   \n1                    0.0         NaN       Russell  ...       0.0029  0.0029   \n2                    0.0         NaN       Leclerc  ...       0.0028  0.0028   \n3                    0.0         NaN         Sainz  ...       0.0027  0.0027   \n4                    0.0         NaN    Verstappen  ...       0.0026  0.0026   \n5                    0.0         NaN         Perez  ...       0.0025  0.0025   \n6                    0.0         NaN        Norris  ...       0.0024  0.0024   \n7                    0.0         NaN       Piastri  ...       0.0023  0.0023   \n8                    0.0         NaN        Alonso  ...       0.0022  0.0022   \n9                    0.0         NaN        Stroll  ...       0.0021  0.0021   \n10                   0.0         NaN         Gasly  ...       0.0020  0.0020   \n11                   0.0         NaN          Ocon  ...       0.0019  0.0019   \n12                   0.0         NaN       Tsunoda  ...       0.0018  0.0018   \n13                   0.0         NaN     Ricciardo  ...       0.0017  0.0017   \n14                   0.0         NaN         Albon  ...       0.0016  0.0016   \n15                   0.0         NaN      Sargeant  ...       0.0015  0.0015   \n16                   0.0         NaN        Bottas  ...       0.0014  0.0014   \n17                   0.0         NaN          Zhou  ...       0.0013  0.0013   \n18                   0.0         NaN     Magnussen  ...       0.0012  0.0012   \n19                   0.0         NaN    Hulkenberg  ...       0.0011  0.0011   \n20                   0.0         NaN      Mercedes  ...       0.0010  0.0010   \n21                   0.0         NaN       Ferrari  ...       0.0009  0.0009   \n22                   0.0         NaN      Red Bull  ...       0.0008  0.0008   \n23                   0.0         NaN       Mclaren  ...       0.0007  0.0007   \n24                   0.0         NaN  Aston Martin  ...       0.0006  0.0006   \n25                   0.0         NaN        Alpine  ...       0.0005  0.0005   \n26                   0.0         NaN    AlphaTauri  ...       0.0004  0.0004   \n27                   0.0         NaN      Williams  ...       0.0003  0.0003   \n28                   0.0         NaN    Alfa Romeo  ...       0.0002  0.0002   \n29                   0.0         NaN          Haas  ...       0.0001  0.0001   \n\n      To K  Unnamed: 21  LastRacePrice Diff    To N  Unnamed: 25  \\\n0   0.0030          NaN           25.3  0.0  0.0030          NaN   \n1   0.0029          NaN           20.2  0.0  0.0029          NaN   \n2   0.0028          NaN           23.5  0.0  0.0028          NaN   \n3   0.0027          NaN           20.4  0.0  0.0027          NaN   \n4   0.0026          NaN           30.0  0.0  0.0026          NaN   \n5   0.0025          NaN           20.8  0.0  0.0025          NaN   \n6   0.0024          NaN           19.8  0.0  0.0024          NaN   \n7   0.0023          NaN           15.4  0.0  0.0023          NaN   \n8   0.0022          NaN           15.8  0.0  0.0022          NaN   \n9   0.0021          NaN           14.0  0.0  0.0021          NaN   \n10  0.0020          NaN           14.5  0.0  0.0020          NaN   \n11  0.0019          NaN           13.5  0.0  0.0019          NaN   \n12  0.0018          NaN            9.4  0.0  0.0018          NaN   \n13  0.0017          NaN            5.5  0.0  0.0017          NaN   \n14  0.0016          NaN           11.3  0.0  0.0016          NaN   \n15  0.0015          NaN            5.8  0.0  0.0015          NaN   \n16  0.0014          NaN            9.6  0.0  0.0014          NaN   \n17  0.0013          NaN            7.7  0.0  0.0013          NaN   \n18  0.0012          NaN            9.6  0.0  0.0012          NaN   \n19  0.0011          NaN            6.2  0.0  0.0011          NaN   \n20  0.0010          NaN             26  0.0  0.0010          NaN   \n21  0.0009          NaN             25  0.0  0.0009          NaN   \n22  0.0008          NaN           29.7  0.0  0.0008          NaN   \n23  0.0007          NaN           17.1  0.0  0.0007          NaN   \n24  0.0006          NaN           13.4  0.0  0.0006          NaN   \n25  0.0005          NaN           14.2  0.0  0.0005          NaN   \n26  0.0004          NaN            8.7  0.0  0.0004          NaN   \n27  0.0003          NaN            7.8  0.0  0.0003          NaN   \n28  0.0002          NaN            6.6  0.0  0.0002          NaN   \n29  0.0001          NaN            7.2  0.0  0.0001          NaN   \n\n    Average Points  CurrentPoints  \n0            23.00          506.0  \n1            17.45          384.0  \n2            15.23          335.0  \n3            17.91          394.0  \n4            46.09         1014.0  \n5            26.32          579.0  \n6            19.91          438.0  \n7            12.68          279.0  \n8            18.32          403.0  \n9            10.50          231.0  \n10           10.45          230.0  \n11            5.45          120.0  \n12            7.27          160.0  \n13            4.09           90.0  \n14            5.73          126.0  \n15           -0.77          -17.0  \n16            1.95           43.0  \n17            6.14          135.0  \n18            4.05           89.0  \n19            2.68           59.0  \n20           48.20         1060.0  \n21           45.80         1007.0  \n22           84.00         1847.0  \n23           40.90          899.0  \n24           34.40          757.0  \n25           21.20          467.0  \n26           14.00          308.0  \n27            6.90          151.0  \n28           10.10          222.0  \n29            9.80          215.0  \n\n[30 rows x 28 columns]",
      "text/html": "<div>\n<style scoped>\n    .dataframe tbody tr th:only-of-type {\n        vertical-align: middle;\n    }\n\n    .dataframe tbody tr th {\n        vertical-align: top;\n    }\n\n    .dataframe thead th {\n        text-align: right;\n    }\n</style>\n<table border=\"1\" class=\"dataframe\">\n  <thead>\n    <tr style=\"text-align: right;\">\n      <th></th>\n      <th>Name</th>\n      <th>SeasonStartPrice</th>\n      <th>YesterdaysPrice</th>\n      <th>CurrentPrice</th>\n      <th>CurrentSentiment</th>\n      <th>AveragePointsPerMillion</th>\n      <th>CurrentPointsPerMillion</th>\n      <th>PriceChangeFromStart</th>\n      <th>Unnamed: 8</th>\n      <th>ChangeName</th>\n      <th>...</th>\n      <th>Unnamed: 18</th>\n      <th>To U</th>\n      <th>To K</th>\n      <th>Unnamed: 21</th>\n      <th>LastRacePrice</th>\n      <th>Diff</th>\n      <th>To N</th>\n      <th>Unnamed: 25</th>\n      <th>Average Points</th>\n      <th>CurrentPoints</th>\n    </tr>\n  </thead>\n  <tbody>\n    <tr>\n      <th>0</th>\n      <td>Hamilton</td>\n      <td>25.3</td>\n      <td>25.3</td>\n      <td>25.3</td>\n      <td>18</td>\n      <td>0.91</td>\n      <td>20.00</td>\n      <td>0.0</td>\n      <td>NaN</td>\n      <td>Hamilton</td>\n      <td>...</td>\n      <td>0.0030</td>\n      <td>0.0030</td>\n      <td>0.0030</td>\n      <td>NaN</td>\n      <td>25.3</td>\n      <td>0.0</td>\n      <td>0.0030</td>\n      <td>NaN</td>\n      <td>23.00</td>\n      <td>506.0</td>\n    </tr>\n    <tr>\n      <th>1</th>\n      <td>Russell</td>\n      <td>20.2</td>\n      <td>20.2</td>\n      <td>20.2</td>\n      <td>20</td>\n      <td>0.86</td>\n      <td>19.01</td>\n      <td>0.0</td>\n      <td>NaN</td>\n      <td>Russell</td>\n      <td>...</td>\n      <td>0.0029</td>\n      <td>0.0029</td>\n      <td>0.0029</td>\n      <td>NaN</td>\n      <td>20.2</td>\n      <td>0.0</td>\n      <td>0.0029</td>\n      <td>NaN</td>\n      <td>17.45</td>\n      <td>384.0</td>\n    </tr>\n    <tr>\n      <th>2</th>\n      <td>Leclerc</td>\n      <td>23.5</td>\n      <td>23.5</td>\n      <td>23.5</td>\n      <td>28</td>\n      <td>0.65</td>\n      <td>14.26</td>\n      <td>0.0</td>\n      <td>NaN</td>\n      <td>Leclerc</td>\n      <td>...</td>\n      <td>0.0028</td>\n      <td>0.0028</td>\n      <td>0.0028</td>\n      <td>NaN</td>\n      <td>23.5</td>\n      <td>0.0</td>\n      <td>0.0028</td>\n      <td>NaN</td>\n      <td>15.23</td>\n      <td>335.0</td>\n    </tr>\n    <tr>\n      <th>3</th>\n      <td>Sainz</td>\n      <td>20.4</td>\n      <td>20.4</td>\n      <td>20.4</td>\n      <td>24</td>\n      <td>0.88</td>\n      <td>19.31</td>\n      <td>0.0</td>\n      <td>NaN</td>\n      <td>Sainz</td>\n      <td>...</td>\n      <td>0.0027</td>\n      <td>0.0027</td>\n      <td>0.0027</td>\n      <td>NaN</td>\n      <td>20.4</td>\n      <td>0.0</td>\n      <td>0.0027</td>\n      <td>NaN</td>\n      <td>17.91</td>\n      <td>394.0</td>\n    </tr>\n    <tr>\n      <th>4</th>\n      <td>Verstappen</td>\n      <td>30.0</td>\n      <td>30.0</td>\n      <td>30.0</td>\n      <td>63</td>\n      <td>1.54</td>\n      <td>33.80</td>\n      <td>0.0</td>\n      <td>NaN</td>\n      <td>Verstappen</td>\n      <td>...</td>\n      <td>0.0026</td>\n      <td>0.0026</td>\n      <td>0.0026</td>\n      <td>NaN</td>\n      <td>30.0</td>\n      <td>0.0</td>\n      <td>0.0026</td>\n      <td>NaN</td>\n      <td>46.09</td>\n      <td>1014.0</td>\n    </tr>\n    <tr>\n      <th>5</th>\n      <td>Perez</td>\n      <td>20.8</td>\n      <td>20.8</td>\n      <td>20.8</td>\n      <td>35</td>\n      <td>1.27</td>\n      <td>27.84</td>\n      <td>0.0</td>\n      <td>NaN</td>\n      <td>Perez</td>\n      <td>...</td>\n      <td>0.0025</td>\n      <td>0.0025</td>\n      <td>0.0025</td>\n      <td>NaN</td>\n      <td>20.8</td>\n      <td>0.0</td>\n      <td>0.0025</td>\n      <td>NaN</td>\n      <td>26.32</td>\n      <td>579.0</td>\n    </tr>\n    <tr>\n      <th>6</th>\n      <td>Norris</td>\n      <td>19.8</td>\n      <td>19.8</td>\n      <td>19.8</td>\n      <td>32</td>\n      <td>1.01</td>\n      <td>22.12</td>\n      <td>0.0</td>\n      <td>NaN</td>\n      <td>Norris</td>\n      <td>...</td>\n      <td>0.0024</td>\n      <td>0.0024</td>\n      <td>0.0024</td>\n      <td>NaN</td>\n      <td>19.8</td>\n      <td>0.0</td>\n      <td>0.0024</td>\n      <td>NaN</td>\n      <td>19.91</td>\n      <td>438.0</td>\n    </tr>\n    <tr>\n      <th>7</th>\n      <td>Piastri</td>\n      <td>15.4</td>\n      <td>15.4</td>\n      <td>15.4</td>\n      <td>24</td>\n      <td>0.82</td>\n      <td>18.12</td>\n      <td>0.0</td>\n      <td>NaN</td>\n      <td>Piastri</td>\n      <td>...</td>\n      <td>0.0023</td>\n      <td>0.0023</td>\n      <td>0.0023</td>\n      <td>NaN</td>\n      <td>15.4</td>\n      <td>0.0</td>\n      <td>0.0023</td>\n      <td>NaN</td>\n      <td>12.68</td>\n      <td>279.0</td>\n    </tr>\n    <tr>\n      <th>8</th>\n      <td>Alonso</td>\n      <td>15.8</td>\n      <td>15.8</td>\n      <td>15.8</td>\n      <td>66</td>\n      <td>1.16</td>\n      <td>25.51</td>\n      <td>0.0</td>\n      <td>NaN</td>\n      <td>Alonso</td>\n      <td>...</td>\n      <td>0.0022</td>\n      <td>0.0022</td>\n      <td>0.0022</td>\n      <td>NaN</td>\n      <td>15.8</td>\n      <td>0.0</td>\n      <td>0.0022</td>\n      <td>NaN</td>\n      <td>18.32</td>\n      <td>403.0</td>\n    </tr>\n    <tr>\n      <th>9</th>\n      <td>Stroll</td>\n      <td>14.0</td>\n      <td>14.0</td>\n      <td>14.0</td>\n      <td>21</td>\n      <td>0.75</td>\n      <td>16.50</td>\n      <td>0.0</td>\n      <td>NaN</td>\n      <td>Stroll</td>\n      <td>...</td>\n      <td>0.0021</td>\n      <td>0.0021</td>\n      <td>0.0021</td>\n      <td>NaN</td>\n      <td>14.0</td>\n      <td>0.0</td>\n      <td>0.0021</td>\n      <td>NaN</td>\n      <td>10.50</td>\n      <td>231.0</td>\n    </tr>\n    <tr>\n      <th>10</th>\n      <td>Gasly</td>\n      <td>14.5</td>\n      <td>14.5</td>\n      <td>14.5</td>\n      <td>27</td>\n      <td>0.72</td>\n      <td>15.86</td>\n      <td>0.0</td>\n      <td>NaN</td>\n      <td>Gasly</td>\n      <td>...</td>\n      <td>0.0020</td>\n      <td>0.0020</td>\n      <td>0.0020</td>\n      <td>NaN</td>\n      <td>14.5</td>\n      <td>0.0</td>\n      <td>0.0020</td>\n      <td>NaN</td>\n      <td>10.45</td>\n      <td>230.0</td>\n    </tr>\n    <tr>\n      <th>11</th>\n      <td>Ocon</td>\n      <td>13.5</td>\n      <td>13.5</td>\n      <td>13.5</td>\n      <td>10</td>\n      <td>0.40</td>\n      <td>8.89</td>\n      <td>0.0</td>\n      <td>NaN</td>\n      <td>Ocon</td>\n      <td>...</td>\n      <td>0.0019</td>\n      <td>0.0019</td>\n      <td>0.0019</td>\n      <td>NaN</td>\n      <td>13.5</td>\n      <td>0.0</td>\n      <td>0.0019</td>\n      <td>NaN</td>\n      <td>5.45</td>\n      <td>120.0</td>\n    </tr>\n    <tr>\n      <th>12</th>\n      <td>Tsunoda</td>\n      <td>9.4</td>\n      <td>9.4</td>\n      <td>9.4</td>\n      <td>16</td>\n      <td>0.77</td>\n      <td>17.02</td>\n      <td>0.0</td>\n      <td>NaN</td>\n      <td>Tsunoda</td>\n      <td>...</td>\n      <td>0.0018</td>\n      <td>0.0018</td>\n      <td>0.0018</td>\n      <td>NaN</td>\n      <td>9.4</td>\n      <td>0.0</td>\n      <td>0.0018</td>\n      <td>NaN</td>\n      <td>7.27</td>\n      <td>160.0</td>\n    </tr>\n    <tr>\n      <th>13</th>\n      <td>Ricciardo</td>\n      <td>5.5</td>\n      <td>5.5</td>\n      <td>5.5</td>\n      <td>12</td>\n      <td>0.74</td>\n      <td>16.36</td>\n      <td>0.0</td>\n      <td>NaN</td>\n      <td>Ricciardo</td>\n      <td>...</td>\n      <td>0.0017</td>\n      <td>0.0017</td>\n      <td>0.0017</td>\n      <td>NaN</td>\n      <td>5.5</td>\n      <td>0.0</td>\n      <td>0.0017</td>\n      <td>NaN</td>\n      <td>4.09</td>\n      <td>90.0</td>\n    </tr>\n    <tr>\n      <th>14</th>\n      <td>Albon</td>\n      <td>11.3</td>\n      <td>11.3</td>\n      <td>11.3</td>\n      <td>18</td>\n      <td>0.51</td>\n      <td>11.15</td>\n      <td>0.0</td>\n      <td>NaN</td>\n      <td>Albon</td>\n      <td>...</td>\n      <td>0.0016</td>\n      <td>0.0016</td>\n      <td>0.0016</td>\n      <td>NaN</td>\n      <td>11.3</td>\n      <td>0.0</td>\n      <td>0.0016</td>\n      <td>NaN</td>\n      <td>5.73</td>\n      <td>126.0</td>\n    </tr>\n    <tr>\n      <th>15</th>\n      <td>Sargeant</td>\n      <td>5.8</td>\n      <td>5.8</td>\n      <td>5.8</td>\n      <td>10</td>\n      <td>-0.13</td>\n      <td>-2.93</td>\n      <td>0.0</td>\n      <td>NaN</td>\n      <td>Sargeant</td>\n      <td>...</td>\n      <td>0.0015</td>\n      <td>0.0015</td>\n      <td>0.0015</td>\n      <td>NaN</td>\n      <td>5.8</td>\n      <td>0.0</td>\n      <td>0.0015</td>\n      <td>NaN</td>\n      <td>-0.77</td>\n      <td>-17.0</td>\n    </tr>\n    <tr>\n      <th>16</th>\n      <td>Bottas</td>\n      <td>9.6</td>\n      <td>9.6</td>\n      <td>9.6</td>\n      <td>17</td>\n      <td>0.20</td>\n      <td>4.48</td>\n      <td>0.0</td>\n      <td>NaN</td>\n      <td>Bottas</td>\n      <td>...</td>\n      <td>0.0014</td>\n      <td>0.0014</td>\n      <td>0.0014</td>\n      <td>NaN</td>\n      <td>9.6</td>\n      <td>0.0</td>\n      <td>0.0014</td>\n      <td>NaN</td>\n      <td>1.95</td>\n      <td>43.0</td>\n    </tr>\n    <tr>\n      <th>17</th>\n      <td>Zhou</td>\n      <td>7.7</td>\n      <td>7.7</td>\n      <td>7.7</td>\n      <td>16</td>\n      <td>0.80</td>\n      <td>17.53</td>\n      <td>0.0</td>\n      <td>NaN</td>\n      <td>Zhou</td>\n      <td>...</td>\n      <td>0.0013</td>\n      <td>0.0013</td>\n      <td>0.0013</td>\n      <td>NaN</td>\n      <td>7.7</td>\n      <td>0.0</td>\n      <td>0.0013</td>\n      <td>NaN</td>\n      <td>6.14</td>\n      <td>135.0</td>\n    </tr>\n    <tr>\n      <th>18</th>\n      <td>Magnussen</td>\n      <td>9.6</td>\n      <td>9.6</td>\n      <td>9.6</td>\n      <td>13</td>\n      <td>0.42</td>\n      <td>9.27</td>\n      <td>0.0</td>\n      <td>NaN</td>\n      <td>Magnussen</td>\n      <td>...</td>\n      <td>0.0012</td>\n      <td>0.0012</td>\n      <td>0.0012</td>\n      <td>NaN</td>\n      <td>9.6</td>\n      <td>0.0</td>\n      <td>0.0012</td>\n      <td>NaN</td>\n      <td>4.05</td>\n      <td>89.0</td>\n    </tr>\n    <tr>\n      <th>19</th>\n      <td>Hulkenberg</td>\n      <td>6.2</td>\n      <td>6.2</td>\n      <td>6.2</td>\n      <td>23</td>\n      <td>0.43</td>\n      <td>9.52</td>\n      <td>0.0</td>\n      <td>NaN</td>\n      <td>Hulkenberg</td>\n      <td>...</td>\n      <td>0.0011</td>\n      <td>0.0011</td>\n      <td>0.0011</td>\n      <td>NaN</td>\n      <td>6.2</td>\n      <td>0.0</td>\n      <td>0.0011</td>\n      <td>NaN</td>\n      <td>2.68</td>\n      <td>59.0</td>\n    </tr>\n    <tr>\n      <th>20</th>\n      <td>Mercedes</td>\n      <td>26.0</td>\n      <td>26.0</td>\n      <td>26.0</td>\n      <td>13</td>\n      <td>1.85</td>\n      <td>40.77</td>\n      <td>0.0</td>\n      <td>NaN</td>\n      <td>Mercedes</td>\n      <td>...</td>\n      <td>0.0010</td>\n      <td>0.0010</td>\n      <td>0.0010</td>\n      <td>NaN</td>\n      <td>26</td>\n      <td>0.0</td>\n      <td>0.0010</td>\n      <td>NaN</td>\n      <td>48.20</td>\n      <td>1060.0</td>\n    </tr>\n    <tr>\n      <th>21</th>\n      <td>Ferrari</td>\n      <td>25.0</td>\n      <td>25.0</td>\n      <td>25.0</td>\n      <td>23</td>\n      <td>1.83</td>\n      <td>40.28</td>\n      <td>0.0</td>\n      <td>NaN</td>\n      <td>Ferrari</td>\n      <td>...</td>\n      <td>0.0009</td>\n      <td>0.0009</td>\n      <td>0.0009</td>\n      <td>NaN</td>\n      <td>25</td>\n      <td>0.0</td>\n      <td>0.0009</td>\n      <td>NaN</td>\n      <td>45.80</td>\n      <td>1007.0</td>\n    </tr>\n    <tr>\n      <th>22</th>\n      <td>Red Bull</td>\n      <td>29.7</td>\n      <td>29.7</td>\n      <td>29.7</td>\n      <td>53</td>\n      <td>2.83</td>\n      <td>62.19</td>\n      <td>0.0</td>\n      <td>NaN</td>\n      <td>Red Bull</td>\n      <td>...</td>\n      <td>0.0008</td>\n      <td>0.0008</td>\n      <td>0.0008</td>\n      <td>NaN</td>\n      <td>29.7</td>\n      <td>0.0</td>\n      <td>0.0008</td>\n      <td>NaN</td>\n      <td>84.00</td>\n      <td>1847.0</td>\n    </tr>\n    <tr>\n      <th>23</th>\n      <td>Mclaren</td>\n      <td>17.1</td>\n      <td>17.1</td>\n      <td>17.1</td>\n      <td>24</td>\n      <td>2.39</td>\n      <td>52.57</td>\n      <td>0.0</td>\n      <td>NaN</td>\n      <td>Mclaren</td>\n      <td>...</td>\n      <td>0.0007</td>\n      <td>0.0007</td>\n      <td>0.0007</td>\n      <td>NaN</td>\n      <td>17.1</td>\n      <td>0.0</td>\n      <td>0.0007</td>\n      <td>NaN</td>\n      <td>40.90</td>\n      <td>899.0</td>\n    </tr>\n    <tr>\n      <th>24</th>\n      <td>Aston Martin</td>\n      <td>13.4</td>\n      <td>13.4</td>\n      <td>13.4</td>\n      <td>58</td>\n      <td>2.57</td>\n      <td>56.49</td>\n      <td>0.0</td>\n      <td>NaN</td>\n      <td>Aston Martin</td>\n      <td>...</td>\n      <td>0.0006</td>\n      <td>0.0006</td>\n      <td>0.0006</td>\n      <td>NaN</td>\n      <td>13.4</td>\n      <td>0.0</td>\n      <td>0.0006</td>\n      <td>NaN</td>\n      <td>34.40</td>\n      <td>757.0</td>\n    </tr>\n    <tr>\n      <th>25</th>\n      <td>Alpine</td>\n      <td>14.2</td>\n      <td>14.2</td>\n      <td>14.2</td>\n      <td>9</td>\n      <td>1.49</td>\n      <td>32.89</td>\n      <td>0.0</td>\n      <td>NaN</td>\n      <td>Alpine</td>\n      <td>...</td>\n      <td>0.0005</td>\n      <td>0.0005</td>\n      <td>0.0005</td>\n      <td>NaN</td>\n      <td>14.2</td>\n      <td>0.0</td>\n      <td>0.0005</td>\n      <td>NaN</td>\n      <td>21.20</td>\n      <td>467.0</td>\n    </tr>\n    <tr>\n      <th>26</th>\n      <td>AlphaTauri</td>\n      <td>8.7</td>\n      <td>8.7</td>\n      <td>8.7</td>\n      <td>5</td>\n      <td>1.61</td>\n      <td>35.40</td>\n      <td>0.0</td>\n      <td>NaN</td>\n      <td>AlphaTauri</td>\n      <td>...</td>\n      <td>0.0004</td>\n      <td>0.0004</td>\n      <td>0.0004</td>\n      <td>NaN</td>\n      <td>8.7</td>\n      <td>0.0</td>\n      <td>0.0004</td>\n      <td>NaN</td>\n      <td>14.00</td>\n      <td>308.0</td>\n    </tr>\n    <tr>\n      <th>27</th>\n      <td>Williams</td>\n      <td>7.8</td>\n      <td>7.8</td>\n      <td>7.8</td>\n      <td>5</td>\n      <td>0.88</td>\n      <td>19.36</td>\n      <td>0.0</td>\n      <td>NaN</td>\n      <td>Williams</td>\n      <td>...</td>\n      <td>0.0003</td>\n      <td>0.0003</td>\n      <td>0.0003</td>\n      <td>NaN</td>\n      <td>7.8</td>\n      <td>0.0</td>\n      <td>0.0003</td>\n      <td>NaN</td>\n      <td>6.90</td>\n      <td>151.0</td>\n    </tr>\n    <tr>\n      <th>28</th>\n      <td>Alfa Romeo</td>\n      <td>6.6</td>\n      <td>6.6</td>\n      <td>6.6</td>\n      <td>6</td>\n      <td>1.53</td>\n      <td>33.64</td>\n      <td>0.0</td>\n      <td>NaN</td>\n      <td>Alfa Romeo</td>\n      <td>...</td>\n      <td>0.0002</td>\n      <td>0.0002</td>\n      <td>0.0002</td>\n      <td>NaN</td>\n      <td>6.6</td>\n      <td>0.0</td>\n      <td>0.0002</td>\n      <td>NaN</td>\n      <td>10.10</td>\n      <td>222.0</td>\n    </tr>\n    <tr>\n      <th>29</th>\n      <td>Haas</td>\n      <td>7.2</td>\n      <td>7.2</td>\n      <td>7.2</td>\n      <td>5</td>\n      <td>1.36</td>\n      <td>29.86</td>\n      <td>0.0</td>\n      <td>NaN</td>\n      <td>Haas</td>\n      <td>...</td>\n      <td>0.0001</td>\n      <td>0.0001</td>\n      <td>0.0001</td>\n      <td>NaN</td>\n      <td>7.2</td>\n      <td>0.0</td>\n      <td>0.0001</td>\n      <td>NaN</td>\n      <td>9.80</td>\n      <td>215.0</td>\n    </tr>\n  </tbody>\n</table>\n<p>30 rows × 28 columns</p>\n</div>"
     },
     "execution_count": 8,
     "metadata": {},
     "output_type": "execute_result"
    }
   ],
   "source": [
    "prices"
   ],
   "metadata": {
    "collapsed": false,
    "ExecuteTime": {
     "end_time": "2024-01-03T13:34:53.098482100Z",
     "start_time": "2024-01-03T13:34:53.094429400Z"
    }
   },
   "id": "e25efe73c72cd78e"
  },
  {
   "cell_type": "code",
   "execution_count": 9,
   "outputs": [
    {
     "name": "stdout",
     "output_type": "stream",
     "text": [
      "['Hamilton' 'Russell' 'Leclerc' 'Sainz' 'Verstappen' 'Perez' 'Norris'\n",
      " 'Piastri' 'Alonso' 'Stroll' 'Gasly' 'Ocon' 'Tsunoda' 'Ricciardo' 'Albon'\n",
      " 'Sargeant' 'Bottas' 'Zhou' 'Magnussen' 'Hulkenberg' 'Mercedes' 'Ferrari'\n",
      " 'Red Bull' 'Mclaren' 'Aston Martin' 'Alpine' 'AlphaTauri' 'Williams'\n",
      " 'Alfa Romeo' 'Haas']\n",
      "['25.3' '20.2' '23.5' '20.4' '30.0' '20.8' '19.8' '15.4' '15.8' '14.0'\n",
      " '14.5' '13.5' '9.4' '5.5' '11.3' '5.8' '9.6' '7.7' '6.2' '26.0' '25.0'\n",
      " '29.7' '17.1' '13.4' '14.2' '8.7' '7.8' '6.6' '7.2']\n",
      "['25.3' '20.2' '23.5' '20.4' '30.0' '20.8' '19.8' '15.4' '15.8' '14.0'\n",
      " '14.5' '13.5' '9.4' '5.5' '11.3' '5.8' '9.6' '7.7' '6.2' '26.0' '25.0'\n",
      " '29.7' '17.1' '13.4' '14.2' '8.7' '7.8' '6.6' '7.2']\n",
      "['25.3' '20.2' '23.5' '20.4' '30.0' '20.8' '19.8' '15.4' '15.8' '14.0'\n",
      " '14.5' '13.5' '9.4' '5.5' '11.3' '5.8' '9.6' '7.7' '6.2' '26.0' '25.0'\n",
      " '29.7' '17.1' '13.4' '14.2' '8.7' '7.8' '6.6' '7.2']\n",
      "['18' '20' '28' '24' '63' '35' '32' '66' '21' '27' '10' '16' '12' '17'\n",
      " '13' '23' '53' '58' '9' '5' '6']\n",
      "['0.91' '0.86' '0.65' '0.88' '1.54' '1.27' '1.01' '0.82' '1.16' '0.75'\n",
      " '0.72' '0.40' '0.77' '0.74' '0.51' '-0.13' '0.20' '0.80' '0.42' '0.43'\n",
      " '1.85' '1.83' '2.83' '2.39' '2.57' '1.49' '1.61' '1.53' '1.36']\n",
      "['20.00' '19.01' '14.26' '19.31' '33.80' '27.84' '22.12' '18.12' '25.51'\n",
      " '16.50' '15.86' '8.89' '17.02' '16.36' '11.15' '-2.93' '4.48' '17.53'\n",
      " '9.27' '9.52' '40.77' '40.28' '62.19' '52.57' '56.49' '32.89' '35.40'\n",
      " '19.36' '33.64' '29.86']\n",
      "[0.]\n",
      "[nan]\n",
      "['Hamilton' 'Russell' 'Leclerc' 'Sainz' 'Verstappen' 'Perez' 'Norris'\n",
      " 'Piastri' 'Alonso' 'Stroll' 'Gasly' 'Ocon' 'Tsunoda' 'Ricciardo' 'Albon'\n",
      " 'Sargeant' 'Bottas' 'Zhou' 'Magnussen' 'Hulkenberg' 'Mercedes' 'Ferrari'\n",
      " 'Red Bull' 'Mclaren' 'Aston Martin' 'Alpine' 'AlphaTauri' 'Williams'\n",
      " 'Alfa Romeo' 'Haas']\n",
      "[0.]\n",
      "[nan]\n",
      "['Hamilton' 'Russell' 'Leclerc' 'Sainz' 'Verstappen' 'Perez' 'Norris'\n",
      " 'Piastri' 'Alonso' 'Stroll' 'Gasly' 'Ocon' 'Tsunoda' 'Ricciardo' 'Albon'\n",
      " 'Sargeant' 'Bottas' 'Zhou' 'Magnussen' 'Hulkenberg' 'Mercedes' 'Ferrari'\n",
      " 'Red Bull' 'Mclaren' 'Aston Martin' 'Alpine' 'AlphaTauri' 'Williams'\n",
      " 'Alfa Romeo' 'Haas']\n",
      "[0.]\n",
      "[20.   19.01 14.26 19.31 33.8  27.84 22.12 18.12 25.51 16.5  15.86  8.89\n",
      " 17.02 16.36 11.15 -2.93  4.48 17.53  9.27  9.52 40.77 40.28 62.19 52.57\n",
      " 56.49 32.89 35.4  19.36 33.64 29.86]\n",
      "['1' '2' '3' '4' '5' '6' '7' '8' '9' '10' '11' '12' '13' '14' '15' '16'\n",
      " '17' '18' '19' '20' '21' '22' '23' '24' '25' '26' '27' '28' '29' '30']\n",
      "['0.0']\n",
      "[nan]\n",
      "[0.003  0.0029 0.0028 0.0027 0.0026 0.0025 0.0024 0.0023 0.0022 0.0021\n",
      " 0.002  0.0019 0.0018 0.0017 0.0016 0.0015 0.0014 0.0013 0.0012 0.0011\n",
      " 0.001  0.0009 0.0008 0.0007 0.0006 0.0005 0.0004 0.0003 0.0002 0.0001]\n",
      "[0.003  0.0029 0.0028 0.0027 0.0026 0.0025 0.0024 0.0023 0.0022 0.0021\n",
      " 0.002  0.0019 0.0018 0.0017 0.0016 0.0015 0.0014 0.0013 0.0012 0.0011\n",
      " 0.001  0.0009 0.0008 0.0007 0.0006 0.0005 0.0004 0.0003 0.0002 0.0001]\n",
      "[0.003  0.0029 0.0028 0.0027 0.0026 0.0025 0.0024 0.0023 0.0022 0.0021\n",
      " 0.002  0.0019 0.0018 0.0017 0.0016 0.0015 0.0014 0.0013 0.0012 0.0011\n",
      " 0.001  0.0009 0.0008 0.0007 0.0006 0.0005 0.0004 0.0003 0.0002 0.0001]\n",
      "[nan]\n",
      "['25.3' '20.2' '23.5' '20.4' '30.0' '20.8' '19.8' '15.4' '15.8' '14.0'\n",
      " '14.5' '13.5' '9.4' '5.5' '11.3' '5.8' '9.6' '7.7' '6.2' '26' '25' '29.7'\n",
      " '17.1' '13.4' '14.2' '8.7' '7.8' '6.6' '7.2']\n",
      "[0.]\n",
      "[0.003  0.0029 0.0028 0.0027 0.0026 0.0025 0.0024 0.0023 0.0022 0.0021\n",
      " 0.002  0.0019 0.0018 0.0017 0.0016 0.0015 0.0014 0.0013 0.0012 0.0011\n",
      " 0.001  0.0009 0.0008 0.0007 0.0006 0.0005 0.0004 0.0003 0.0002 0.0001]\n",
      "[nan]\n",
      "[23.   17.45 15.23 17.91 46.09 26.32 19.91 12.68 18.32 10.5  10.45  5.45\n",
      "  7.27  4.09  5.73 -0.77  1.95  6.14  4.05  2.68 48.2  45.8  84.   40.9\n",
      " 34.4  21.2  14.    6.9  10.1   9.8 ]\n",
      "[ 506.  384.  335.  394. 1014.  579.  438.  279.  403.  231.  230.  120.\n",
      "  160.   90.  126.  -17.   43.  135.   89.   59. 1060. 1007. 1847.  899.\n",
      "  757.  467.  308.  151.  222.  215.]\n"
     ]
    }
   ],
   "source": [
    "# See unique values in all columns\n",
    "for col in prices.columns:\n",
    "    print(prices[col].unique())"
   ],
   "metadata": {
    "collapsed": false,
    "ExecuteTime": {
     "end_time": "2024-01-03T13:35:16.776328600Z",
     "start_time": "2024-01-03T13:35:16.767984500Z"
    }
   },
   "id": "9f531c5e8fe9874d"
  },
  {
   "cell_type": "code",
   "execution_count": 11,
   "outputs": [
    {
     "name": "stdout",
     "output_type": "stream",
     "text": [
      "PriceChangeFromStart\n",
      "Unnamed: 8\n",
      "ChangeOrder\n",
      "Unnamed: 11\n",
      "ChangeOrder2\n",
      "PriceChange\n",
      "Unnamed: 17\n",
      "Unnamed: 21\n",
      "Diff\n",
      "Unnamed: 25\n"
     ]
    }
   ],
   "source": [
    "# Find columns with only one unique value and store them in a list\n",
    "one_unique = []\n",
    "for col in prices.columns:\n",
    "    if len(prices[col].unique()) == 1:\n",
    "        one_unique.append(col)\n",
    "        print(col)"
   ],
   "metadata": {
    "collapsed": false,
    "ExecuteTime": {
     "end_time": "2024-01-03T13:36:10.185944100Z",
     "start_time": "2024-01-03T13:36:10.170526300Z"
    }
   },
   "id": "37541b5c579d0cc4"
  },
  {
   "cell_type": "code",
   "execution_count": 12,
   "outputs": [],
   "source": [
    "# Drop columns with only one unique value\n",
    "prices = prices.drop(one_unique, axis=1)"
   ],
   "metadata": {
    "collapsed": false,
    "ExecuteTime": {
     "end_time": "2024-01-03T13:36:21.895843800Z",
     "start_time": "2024-01-03T13:36:21.879862700Z"
    }
   },
   "id": "d2f9c2f17fffffe0"
  },
  {
   "cell_type": "code",
   "execution_count": 13,
   "outputs": [
    {
     "data": {
      "text/plain": "            Name SeasonStartPrice YesterdaysPrice CurrentPrice  \\\n0       Hamilton             25.3            25.3         25.3   \n1        Russell             20.2            20.2         20.2   \n2        Leclerc             23.5            23.5         23.5   \n3          Sainz             20.4            20.4         20.4   \n4     Verstappen             30.0            30.0         30.0   \n5          Perez             20.8            20.8         20.8   \n6         Norris             19.8            19.8         19.8   \n7        Piastri             15.4            15.4         15.4   \n8         Alonso             15.8            15.8         15.8   \n9         Stroll             14.0            14.0         14.0   \n10         Gasly             14.5            14.5         14.5   \n11          Ocon             13.5            13.5         13.5   \n12       Tsunoda              9.4             9.4          9.4   \n13     Ricciardo              5.5             5.5          5.5   \n14         Albon             11.3            11.3         11.3   \n15      Sargeant              5.8             5.8          5.8   \n16        Bottas              9.6             9.6          9.6   \n17          Zhou              7.7             7.7          7.7   \n18     Magnussen              9.6             9.6          9.6   \n19    Hulkenberg              6.2             6.2          6.2   \n20      Mercedes             26.0            26.0         26.0   \n21       Ferrari             25.0            25.0         25.0   \n22      Red Bull             29.7            29.7         29.7   \n23       Mclaren             17.1            17.1         17.1   \n24  Aston Martin             13.4            13.4         13.4   \n25        Alpine             14.2            14.2         14.2   \n26    AlphaTauri              8.7             8.7          8.7   \n27      Williams              7.8             7.8          7.8   \n28    Alfa Romeo              6.6             6.6          6.6   \n29          Haas              7.2             7.2          7.2   \n\n   CurrentSentiment AveragePointsPerMillion CurrentPointsPerMillion  \\\n0                18                    0.91                   20.00   \n1                20                    0.86                   19.01   \n2                28                    0.65                   14.26   \n3                24                    0.88                   19.31   \n4                63                    1.54                   33.80   \n5                35                    1.27                   27.84   \n6                32                    1.01                   22.12   \n7                24                    0.82                   18.12   \n8                66                    1.16                   25.51   \n9                21                    0.75                   16.50   \n10               27                    0.72                   15.86   \n11               10                    0.40                    8.89   \n12               16                    0.77                   17.02   \n13               12                    0.74                   16.36   \n14               18                    0.51                   11.15   \n15               10                   -0.13                   -2.93   \n16               17                    0.20                    4.48   \n17               16                    0.80                   17.53   \n18               13                    0.42                    9.27   \n19               23                    0.43                    9.52   \n20               13                    1.85                   40.77   \n21               23                    1.83                   40.28   \n22               53                    2.83                   62.19   \n23               24                    2.39                   52.57   \n24               58                    2.57                   56.49   \n25                9                    1.49                   32.89   \n26                5                    1.61                   35.40   \n27                5                    0.88                   19.36   \n28                6                    1.53                   33.64   \n29                5                    1.36                   29.86   \n\n      ChangeName   ChangeName2  Unnamed: 14 Unnamed: 15  Unnamed: 18    To U  \\\n0       Hamilton      Hamilton        20.00           1       0.0030  0.0030   \n1        Russell       Russell        19.01           2       0.0029  0.0029   \n2        Leclerc       Leclerc        14.26           3       0.0028  0.0028   \n3          Sainz         Sainz        19.31           4       0.0027  0.0027   \n4     Verstappen    Verstappen        33.80           5       0.0026  0.0026   \n5          Perez         Perez        27.84           6       0.0025  0.0025   \n6         Norris        Norris        22.12           7       0.0024  0.0024   \n7        Piastri       Piastri        18.12           8       0.0023  0.0023   \n8         Alonso        Alonso        25.51           9       0.0022  0.0022   \n9         Stroll        Stroll        16.50          10       0.0021  0.0021   \n10         Gasly         Gasly        15.86          11       0.0020  0.0020   \n11          Ocon          Ocon         8.89          12       0.0019  0.0019   \n12       Tsunoda       Tsunoda        17.02          13       0.0018  0.0018   \n13     Ricciardo     Ricciardo        16.36          14       0.0017  0.0017   \n14         Albon         Albon        11.15          15       0.0016  0.0016   \n15      Sargeant      Sargeant        -2.93          16       0.0015  0.0015   \n16        Bottas        Bottas         4.48          17       0.0014  0.0014   \n17          Zhou          Zhou        17.53          18       0.0013  0.0013   \n18     Magnussen     Magnussen         9.27          19       0.0012  0.0012   \n19    Hulkenberg    Hulkenberg         9.52          20       0.0011  0.0011   \n20      Mercedes      Mercedes        40.77          21       0.0010  0.0010   \n21       Ferrari       Ferrari        40.28          22       0.0009  0.0009   \n22      Red Bull      Red Bull        62.19          23       0.0008  0.0008   \n23       Mclaren       Mclaren        52.57          24       0.0007  0.0007   \n24  Aston Martin  Aston Martin        56.49          25       0.0006  0.0006   \n25        Alpine        Alpine        32.89          26       0.0005  0.0005   \n26    AlphaTauri    AlphaTauri        35.40          27       0.0004  0.0004   \n27      Williams      Williams        19.36          28       0.0003  0.0003   \n28    Alfa Romeo    Alfa Romeo        33.64          29       0.0002  0.0002   \n29          Haas          Haas        29.86          30       0.0001  0.0001   \n\n      To K LastRacePrice    To N  Average Points  CurrentPoints  \n0   0.0030          25.3  0.0030           23.00          506.0  \n1   0.0029          20.2  0.0029           17.45          384.0  \n2   0.0028          23.5  0.0028           15.23          335.0  \n3   0.0027          20.4  0.0027           17.91          394.0  \n4   0.0026          30.0  0.0026           46.09         1014.0  \n5   0.0025          20.8  0.0025           26.32          579.0  \n6   0.0024          19.8  0.0024           19.91          438.0  \n7   0.0023          15.4  0.0023           12.68          279.0  \n8   0.0022          15.8  0.0022           18.32          403.0  \n9   0.0021          14.0  0.0021           10.50          231.0  \n10  0.0020          14.5  0.0020           10.45          230.0  \n11  0.0019          13.5  0.0019            5.45          120.0  \n12  0.0018           9.4  0.0018            7.27          160.0  \n13  0.0017           5.5  0.0017            4.09           90.0  \n14  0.0016          11.3  0.0016            5.73          126.0  \n15  0.0015           5.8  0.0015           -0.77          -17.0  \n16  0.0014           9.6  0.0014            1.95           43.0  \n17  0.0013           7.7  0.0013            6.14          135.0  \n18  0.0012           9.6  0.0012            4.05           89.0  \n19  0.0011           6.2  0.0011            2.68           59.0  \n20  0.0010            26  0.0010           48.20         1060.0  \n21  0.0009            25  0.0009           45.80         1007.0  \n22  0.0008          29.7  0.0008           84.00         1847.0  \n23  0.0007          17.1  0.0007           40.90          899.0  \n24  0.0006          13.4  0.0006           34.40          757.0  \n25  0.0005          14.2  0.0005           21.20          467.0  \n26  0.0004           8.7  0.0004           14.00          308.0  \n27  0.0003           7.8  0.0003            6.90          151.0  \n28  0.0002           6.6  0.0002           10.10          222.0  \n29  0.0001           7.2  0.0001            9.80          215.0  ",
      "text/html": "<div>\n<style scoped>\n    .dataframe tbody tr th:only-of-type {\n        vertical-align: middle;\n    }\n\n    .dataframe tbody tr th {\n        vertical-align: top;\n    }\n\n    .dataframe thead th {\n        text-align: right;\n    }\n</style>\n<table border=\"1\" class=\"dataframe\">\n  <thead>\n    <tr style=\"text-align: right;\">\n      <th></th>\n      <th>Name</th>\n      <th>SeasonStartPrice</th>\n      <th>YesterdaysPrice</th>\n      <th>CurrentPrice</th>\n      <th>CurrentSentiment</th>\n      <th>AveragePointsPerMillion</th>\n      <th>CurrentPointsPerMillion</th>\n      <th>ChangeName</th>\n      <th>ChangeName2</th>\n      <th>Unnamed: 14</th>\n      <th>Unnamed: 15</th>\n      <th>Unnamed: 18</th>\n      <th>To U</th>\n      <th>To K</th>\n      <th>LastRacePrice</th>\n      <th>To N</th>\n      <th>Average Points</th>\n      <th>CurrentPoints</th>\n    </tr>\n  </thead>\n  <tbody>\n    <tr>\n      <th>0</th>\n      <td>Hamilton</td>\n      <td>25.3</td>\n      <td>25.3</td>\n      <td>25.3</td>\n      <td>18</td>\n      <td>0.91</td>\n      <td>20.00</td>\n      <td>Hamilton</td>\n      <td>Hamilton</td>\n      <td>20.00</td>\n      <td>1</td>\n      <td>0.0030</td>\n      <td>0.0030</td>\n      <td>0.0030</td>\n      <td>25.3</td>\n      <td>0.0030</td>\n      <td>23.00</td>\n      <td>506.0</td>\n    </tr>\n    <tr>\n      <th>1</th>\n      <td>Russell</td>\n      <td>20.2</td>\n      <td>20.2</td>\n      <td>20.2</td>\n      <td>20</td>\n      <td>0.86</td>\n      <td>19.01</td>\n      <td>Russell</td>\n      <td>Russell</td>\n      <td>19.01</td>\n      <td>2</td>\n      <td>0.0029</td>\n      <td>0.0029</td>\n      <td>0.0029</td>\n      <td>20.2</td>\n      <td>0.0029</td>\n      <td>17.45</td>\n      <td>384.0</td>\n    </tr>\n    <tr>\n      <th>2</th>\n      <td>Leclerc</td>\n      <td>23.5</td>\n      <td>23.5</td>\n      <td>23.5</td>\n      <td>28</td>\n      <td>0.65</td>\n      <td>14.26</td>\n      <td>Leclerc</td>\n      <td>Leclerc</td>\n      <td>14.26</td>\n      <td>3</td>\n      <td>0.0028</td>\n      <td>0.0028</td>\n      <td>0.0028</td>\n      <td>23.5</td>\n      <td>0.0028</td>\n      <td>15.23</td>\n      <td>335.0</td>\n    </tr>\n    <tr>\n      <th>3</th>\n      <td>Sainz</td>\n      <td>20.4</td>\n      <td>20.4</td>\n      <td>20.4</td>\n      <td>24</td>\n      <td>0.88</td>\n      <td>19.31</td>\n      <td>Sainz</td>\n      <td>Sainz</td>\n      <td>19.31</td>\n      <td>4</td>\n      <td>0.0027</td>\n      <td>0.0027</td>\n      <td>0.0027</td>\n      <td>20.4</td>\n      <td>0.0027</td>\n      <td>17.91</td>\n      <td>394.0</td>\n    </tr>\n    <tr>\n      <th>4</th>\n      <td>Verstappen</td>\n      <td>30.0</td>\n      <td>30.0</td>\n      <td>30.0</td>\n      <td>63</td>\n      <td>1.54</td>\n      <td>33.80</td>\n      <td>Verstappen</td>\n      <td>Verstappen</td>\n      <td>33.80</td>\n      <td>5</td>\n      <td>0.0026</td>\n      <td>0.0026</td>\n      <td>0.0026</td>\n      <td>30.0</td>\n      <td>0.0026</td>\n      <td>46.09</td>\n      <td>1014.0</td>\n    </tr>\n    <tr>\n      <th>5</th>\n      <td>Perez</td>\n      <td>20.8</td>\n      <td>20.8</td>\n      <td>20.8</td>\n      <td>35</td>\n      <td>1.27</td>\n      <td>27.84</td>\n      <td>Perez</td>\n      <td>Perez</td>\n      <td>27.84</td>\n      <td>6</td>\n      <td>0.0025</td>\n      <td>0.0025</td>\n      <td>0.0025</td>\n      <td>20.8</td>\n      <td>0.0025</td>\n      <td>26.32</td>\n      <td>579.0</td>\n    </tr>\n    <tr>\n      <th>6</th>\n      <td>Norris</td>\n      <td>19.8</td>\n      <td>19.8</td>\n      <td>19.8</td>\n      <td>32</td>\n      <td>1.01</td>\n      <td>22.12</td>\n      <td>Norris</td>\n      <td>Norris</td>\n      <td>22.12</td>\n      <td>7</td>\n      <td>0.0024</td>\n      <td>0.0024</td>\n      <td>0.0024</td>\n      <td>19.8</td>\n      <td>0.0024</td>\n      <td>19.91</td>\n      <td>438.0</td>\n    </tr>\n    <tr>\n      <th>7</th>\n      <td>Piastri</td>\n      <td>15.4</td>\n      <td>15.4</td>\n      <td>15.4</td>\n      <td>24</td>\n      <td>0.82</td>\n      <td>18.12</td>\n      <td>Piastri</td>\n      <td>Piastri</td>\n      <td>18.12</td>\n      <td>8</td>\n      <td>0.0023</td>\n      <td>0.0023</td>\n      <td>0.0023</td>\n      <td>15.4</td>\n      <td>0.0023</td>\n      <td>12.68</td>\n      <td>279.0</td>\n    </tr>\n    <tr>\n      <th>8</th>\n      <td>Alonso</td>\n      <td>15.8</td>\n      <td>15.8</td>\n      <td>15.8</td>\n      <td>66</td>\n      <td>1.16</td>\n      <td>25.51</td>\n      <td>Alonso</td>\n      <td>Alonso</td>\n      <td>25.51</td>\n      <td>9</td>\n      <td>0.0022</td>\n      <td>0.0022</td>\n      <td>0.0022</td>\n      <td>15.8</td>\n      <td>0.0022</td>\n      <td>18.32</td>\n      <td>403.0</td>\n    </tr>\n    <tr>\n      <th>9</th>\n      <td>Stroll</td>\n      <td>14.0</td>\n      <td>14.0</td>\n      <td>14.0</td>\n      <td>21</td>\n      <td>0.75</td>\n      <td>16.50</td>\n      <td>Stroll</td>\n      <td>Stroll</td>\n      <td>16.50</td>\n      <td>10</td>\n      <td>0.0021</td>\n      <td>0.0021</td>\n      <td>0.0021</td>\n      <td>14.0</td>\n      <td>0.0021</td>\n      <td>10.50</td>\n      <td>231.0</td>\n    </tr>\n    <tr>\n      <th>10</th>\n      <td>Gasly</td>\n      <td>14.5</td>\n      <td>14.5</td>\n      <td>14.5</td>\n      <td>27</td>\n      <td>0.72</td>\n      <td>15.86</td>\n      <td>Gasly</td>\n      <td>Gasly</td>\n      <td>15.86</td>\n      <td>11</td>\n      <td>0.0020</td>\n      <td>0.0020</td>\n      <td>0.0020</td>\n      <td>14.5</td>\n      <td>0.0020</td>\n      <td>10.45</td>\n      <td>230.0</td>\n    </tr>\n    <tr>\n      <th>11</th>\n      <td>Ocon</td>\n      <td>13.5</td>\n      <td>13.5</td>\n      <td>13.5</td>\n      <td>10</td>\n      <td>0.40</td>\n      <td>8.89</td>\n      <td>Ocon</td>\n      <td>Ocon</td>\n      <td>8.89</td>\n      <td>12</td>\n      <td>0.0019</td>\n      <td>0.0019</td>\n      <td>0.0019</td>\n      <td>13.5</td>\n      <td>0.0019</td>\n      <td>5.45</td>\n      <td>120.0</td>\n    </tr>\n    <tr>\n      <th>12</th>\n      <td>Tsunoda</td>\n      <td>9.4</td>\n      <td>9.4</td>\n      <td>9.4</td>\n      <td>16</td>\n      <td>0.77</td>\n      <td>17.02</td>\n      <td>Tsunoda</td>\n      <td>Tsunoda</td>\n      <td>17.02</td>\n      <td>13</td>\n      <td>0.0018</td>\n      <td>0.0018</td>\n      <td>0.0018</td>\n      <td>9.4</td>\n      <td>0.0018</td>\n      <td>7.27</td>\n      <td>160.0</td>\n    </tr>\n    <tr>\n      <th>13</th>\n      <td>Ricciardo</td>\n      <td>5.5</td>\n      <td>5.5</td>\n      <td>5.5</td>\n      <td>12</td>\n      <td>0.74</td>\n      <td>16.36</td>\n      <td>Ricciardo</td>\n      <td>Ricciardo</td>\n      <td>16.36</td>\n      <td>14</td>\n      <td>0.0017</td>\n      <td>0.0017</td>\n      <td>0.0017</td>\n      <td>5.5</td>\n      <td>0.0017</td>\n      <td>4.09</td>\n      <td>90.0</td>\n    </tr>\n    <tr>\n      <th>14</th>\n      <td>Albon</td>\n      <td>11.3</td>\n      <td>11.3</td>\n      <td>11.3</td>\n      <td>18</td>\n      <td>0.51</td>\n      <td>11.15</td>\n      <td>Albon</td>\n      <td>Albon</td>\n      <td>11.15</td>\n      <td>15</td>\n      <td>0.0016</td>\n      <td>0.0016</td>\n      <td>0.0016</td>\n      <td>11.3</td>\n      <td>0.0016</td>\n      <td>5.73</td>\n      <td>126.0</td>\n    </tr>\n    <tr>\n      <th>15</th>\n      <td>Sargeant</td>\n      <td>5.8</td>\n      <td>5.8</td>\n      <td>5.8</td>\n      <td>10</td>\n      <td>-0.13</td>\n      <td>-2.93</td>\n      <td>Sargeant</td>\n      <td>Sargeant</td>\n      <td>-2.93</td>\n      <td>16</td>\n      <td>0.0015</td>\n      <td>0.0015</td>\n      <td>0.0015</td>\n      <td>5.8</td>\n      <td>0.0015</td>\n      <td>-0.77</td>\n      <td>-17.0</td>\n    </tr>\n    <tr>\n      <th>16</th>\n      <td>Bottas</td>\n      <td>9.6</td>\n      <td>9.6</td>\n      <td>9.6</td>\n      <td>17</td>\n      <td>0.20</td>\n      <td>4.48</td>\n      <td>Bottas</td>\n      <td>Bottas</td>\n      <td>4.48</td>\n      <td>17</td>\n      <td>0.0014</td>\n      <td>0.0014</td>\n      <td>0.0014</td>\n      <td>9.6</td>\n      <td>0.0014</td>\n      <td>1.95</td>\n      <td>43.0</td>\n    </tr>\n    <tr>\n      <th>17</th>\n      <td>Zhou</td>\n      <td>7.7</td>\n      <td>7.7</td>\n      <td>7.7</td>\n      <td>16</td>\n      <td>0.80</td>\n      <td>17.53</td>\n      <td>Zhou</td>\n      <td>Zhou</td>\n      <td>17.53</td>\n      <td>18</td>\n      <td>0.0013</td>\n      <td>0.0013</td>\n      <td>0.0013</td>\n      <td>7.7</td>\n      <td>0.0013</td>\n      <td>6.14</td>\n      <td>135.0</td>\n    </tr>\n    <tr>\n      <th>18</th>\n      <td>Magnussen</td>\n      <td>9.6</td>\n      <td>9.6</td>\n      <td>9.6</td>\n      <td>13</td>\n      <td>0.42</td>\n      <td>9.27</td>\n      <td>Magnussen</td>\n      <td>Magnussen</td>\n      <td>9.27</td>\n      <td>19</td>\n      <td>0.0012</td>\n      <td>0.0012</td>\n      <td>0.0012</td>\n      <td>9.6</td>\n      <td>0.0012</td>\n      <td>4.05</td>\n      <td>89.0</td>\n    </tr>\n    <tr>\n      <th>19</th>\n      <td>Hulkenberg</td>\n      <td>6.2</td>\n      <td>6.2</td>\n      <td>6.2</td>\n      <td>23</td>\n      <td>0.43</td>\n      <td>9.52</td>\n      <td>Hulkenberg</td>\n      <td>Hulkenberg</td>\n      <td>9.52</td>\n      <td>20</td>\n      <td>0.0011</td>\n      <td>0.0011</td>\n      <td>0.0011</td>\n      <td>6.2</td>\n      <td>0.0011</td>\n      <td>2.68</td>\n      <td>59.0</td>\n    </tr>\n    <tr>\n      <th>20</th>\n      <td>Mercedes</td>\n      <td>26.0</td>\n      <td>26.0</td>\n      <td>26.0</td>\n      <td>13</td>\n      <td>1.85</td>\n      <td>40.77</td>\n      <td>Mercedes</td>\n      <td>Mercedes</td>\n      <td>40.77</td>\n      <td>21</td>\n      <td>0.0010</td>\n      <td>0.0010</td>\n      <td>0.0010</td>\n      <td>26</td>\n      <td>0.0010</td>\n      <td>48.20</td>\n      <td>1060.0</td>\n    </tr>\n    <tr>\n      <th>21</th>\n      <td>Ferrari</td>\n      <td>25.0</td>\n      <td>25.0</td>\n      <td>25.0</td>\n      <td>23</td>\n      <td>1.83</td>\n      <td>40.28</td>\n      <td>Ferrari</td>\n      <td>Ferrari</td>\n      <td>40.28</td>\n      <td>22</td>\n      <td>0.0009</td>\n      <td>0.0009</td>\n      <td>0.0009</td>\n      <td>25</td>\n      <td>0.0009</td>\n      <td>45.80</td>\n      <td>1007.0</td>\n    </tr>\n    <tr>\n      <th>22</th>\n      <td>Red Bull</td>\n      <td>29.7</td>\n      <td>29.7</td>\n      <td>29.7</td>\n      <td>53</td>\n      <td>2.83</td>\n      <td>62.19</td>\n      <td>Red Bull</td>\n      <td>Red Bull</td>\n      <td>62.19</td>\n      <td>23</td>\n      <td>0.0008</td>\n      <td>0.0008</td>\n      <td>0.0008</td>\n      <td>29.7</td>\n      <td>0.0008</td>\n      <td>84.00</td>\n      <td>1847.0</td>\n    </tr>\n    <tr>\n      <th>23</th>\n      <td>Mclaren</td>\n      <td>17.1</td>\n      <td>17.1</td>\n      <td>17.1</td>\n      <td>24</td>\n      <td>2.39</td>\n      <td>52.57</td>\n      <td>Mclaren</td>\n      <td>Mclaren</td>\n      <td>52.57</td>\n      <td>24</td>\n      <td>0.0007</td>\n      <td>0.0007</td>\n      <td>0.0007</td>\n      <td>17.1</td>\n      <td>0.0007</td>\n      <td>40.90</td>\n      <td>899.0</td>\n    </tr>\n    <tr>\n      <th>24</th>\n      <td>Aston Martin</td>\n      <td>13.4</td>\n      <td>13.4</td>\n      <td>13.4</td>\n      <td>58</td>\n      <td>2.57</td>\n      <td>56.49</td>\n      <td>Aston Martin</td>\n      <td>Aston Martin</td>\n      <td>56.49</td>\n      <td>25</td>\n      <td>0.0006</td>\n      <td>0.0006</td>\n      <td>0.0006</td>\n      <td>13.4</td>\n      <td>0.0006</td>\n      <td>34.40</td>\n      <td>757.0</td>\n    </tr>\n    <tr>\n      <th>25</th>\n      <td>Alpine</td>\n      <td>14.2</td>\n      <td>14.2</td>\n      <td>14.2</td>\n      <td>9</td>\n      <td>1.49</td>\n      <td>32.89</td>\n      <td>Alpine</td>\n      <td>Alpine</td>\n      <td>32.89</td>\n      <td>26</td>\n      <td>0.0005</td>\n      <td>0.0005</td>\n      <td>0.0005</td>\n      <td>14.2</td>\n      <td>0.0005</td>\n      <td>21.20</td>\n      <td>467.0</td>\n    </tr>\n    <tr>\n      <th>26</th>\n      <td>AlphaTauri</td>\n      <td>8.7</td>\n      <td>8.7</td>\n      <td>8.7</td>\n      <td>5</td>\n      <td>1.61</td>\n      <td>35.40</td>\n      <td>AlphaTauri</td>\n      <td>AlphaTauri</td>\n      <td>35.40</td>\n      <td>27</td>\n      <td>0.0004</td>\n      <td>0.0004</td>\n      <td>0.0004</td>\n      <td>8.7</td>\n      <td>0.0004</td>\n      <td>14.00</td>\n      <td>308.0</td>\n    </tr>\n    <tr>\n      <th>27</th>\n      <td>Williams</td>\n      <td>7.8</td>\n      <td>7.8</td>\n      <td>7.8</td>\n      <td>5</td>\n      <td>0.88</td>\n      <td>19.36</td>\n      <td>Williams</td>\n      <td>Williams</td>\n      <td>19.36</td>\n      <td>28</td>\n      <td>0.0003</td>\n      <td>0.0003</td>\n      <td>0.0003</td>\n      <td>7.8</td>\n      <td>0.0003</td>\n      <td>6.90</td>\n      <td>151.0</td>\n    </tr>\n    <tr>\n      <th>28</th>\n      <td>Alfa Romeo</td>\n      <td>6.6</td>\n      <td>6.6</td>\n      <td>6.6</td>\n      <td>6</td>\n      <td>1.53</td>\n      <td>33.64</td>\n      <td>Alfa Romeo</td>\n      <td>Alfa Romeo</td>\n      <td>33.64</td>\n      <td>29</td>\n      <td>0.0002</td>\n      <td>0.0002</td>\n      <td>0.0002</td>\n      <td>6.6</td>\n      <td>0.0002</td>\n      <td>10.10</td>\n      <td>222.0</td>\n    </tr>\n    <tr>\n      <th>29</th>\n      <td>Haas</td>\n      <td>7.2</td>\n      <td>7.2</td>\n      <td>7.2</td>\n      <td>5</td>\n      <td>1.36</td>\n      <td>29.86</td>\n      <td>Haas</td>\n      <td>Haas</td>\n      <td>29.86</td>\n      <td>30</td>\n      <td>0.0001</td>\n      <td>0.0001</td>\n      <td>0.0001</td>\n      <td>7.2</td>\n      <td>0.0001</td>\n      <td>9.80</td>\n      <td>215.0</td>\n    </tr>\n  </tbody>\n</table>\n</div>"
     },
     "execution_count": 13,
     "metadata": {},
     "output_type": "execute_result"
    }
   ],
   "source": [
    "prices, "
   ],
   "metadata": {
    "collapsed": false,
    "ExecuteTime": {
     "end_time": "2024-01-03T13:36:27.490580800Z",
     "start_time": "2024-01-03T13:36:27.468903900Z"
    }
   },
   "id": "22ae6452e88b0023"
  },
  {
   "cell_type": "code",
   "execution_count": 14,
   "outputs": [],
   "source": [
    "# The only columns that matter is Name, CurrentPrice, AveragePointsPerMillion, Average Points and Current Points\n",
    "# Create a copy only with those columns\n",
    "prices_copy = prices[['Name', 'CurrentPrice', 'AveragePointsPerMillion', 'Average Points', 'CurrentPoints']].copy()"
   ],
   "metadata": {
    "collapsed": false,
    "ExecuteTime": {
     "end_time": "2024-01-03T13:38:48.736738200Z",
     "start_time": "2024-01-03T13:38:48.721540900Z"
    }
   },
   "id": "804d380e3818ab0"
  },
  {
   "cell_type": "code",
   "execution_count": 15,
   "outputs": [
    {
     "data": {
      "text/plain": "            Name CurrentPrice AveragePointsPerMillion  Average Points  \\\n0       Hamilton         25.3                    0.91           23.00   \n1        Russell         20.2                    0.86           17.45   \n2        Leclerc         23.5                    0.65           15.23   \n3          Sainz         20.4                    0.88           17.91   \n4     Verstappen         30.0                    1.54           46.09   \n5          Perez         20.8                    1.27           26.32   \n6         Norris         19.8                    1.01           19.91   \n7        Piastri         15.4                    0.82           12.68   \n8         Alonso         15.8                    1.16           18.32   \n9         Stroll         14.0                    0.75           10.50   \n10         Gasly         14.5                    0.72           10.45   \n11          Ocon         13.5                    0.40            5.45   \n12       Tsunoda          9.4                    0.77            7.27   \n13     Ricciardo          5.5                    0.74            4.09   \n14         Albon         11.3                    0.51            5.73   \n15      Sargeant          5.8                   -0.13           -0.77   \n16        Bottas          9.6                    0.20            1.95   \n17          Zhou          7.7                    0.80            6.14   \n18     Magnussen          9.6                    0.42            4.05   \n19    Hulkenberg          6.2                    0.43            2.68   \n20      Mercedes         26.0                    1.85           48.20   \n21       Ferrari         25.0                    1.83           45.80   \n22      Red Bull         29.7                    2.83           84.00   \n23       Mclaren         17.1                    2.39           40.90   \n24  Aston Martin         13.4                    2.57           34.40   \n25        Alpine         14.2                    1.49           21.20   \n26    AlphaTauri          8.7                    1.61           14.00   \n27      Williams          7.8                    0.88            6.90   \n28    Alfa Romeo          6.6                    1.53           10.10   \n29          Haas          7.2                    1.36            9.80   \n\n    CurrentPoints  \n0           506.0  \n1           384.0  \n2           335.0  \n3           394.0  \n4          1014.0  \n5           579.0  \n6           438.0  \n7           279.0  \n8           403.0  \n9           231.0  \n10          230.0  \n11          120.0  \n12          160.0  \n13           90.0  \n14          126.0  \n15          -17.0  \n16           43.0  \n17          135.0  \n18           89.0  \n19           59.0  \n20         1060.0  \n21         1007.0  \n22         1847.0  \n23          899.0  \n24          757.0  \n25          467.0  \n26          308.0  \n27          151.0  \n28          222.0  \n29          215.0  ",
      "text/html": "<div>\n<style scoped>\n    .dataframe tbody tr th:only-of-type {\n        vertical-align: middle;\n    }\n\n    .dataframe tbody tr th {\n        vertical-align: top;\n    }\n\n    .dataframe thead th {\n        text-align: right;\n    }\n</style>\n<table border=\"1\" class=\"dataframe\">\n  <thead>\n    <tr style=\"text-align: right;\">\n      <th></th>\n      <th>Name</th>\n      <th>CurrentPrice</th>\n      <th>AveragePointsPerMillion</th>\n      <th>Average Points</th>\n      <th>CurrentPoints</th>\n    </tr>\n  </thead>\n  <tbody>\n    <tr>\n      <th>0</th>\n      <td>Hamilton</td>\n      <td>25.3</td>\n      <td>0.91</td>\n      <td>23.00</td>\n      <td>506.0</td>\n    </tr>\n    <tr>\n      <th>1</th>\n      <td>Russell</td>\n      <td>20.2</td>\n      <td>0.86</td>\n      <td>17.45</td>\n      <td>384.0</td>\n    </tr>\n    <tr>\n      <th>2</th>\n      <td>Leclerc</td>\n      <td>23.5</td>\n      <td>0.65</td>\n      <td>15.23</td>\n      <td>335.0</td>\n    </tr>\n    <tr>\n      <th>3</th>\n      <td>Sainz</td>\n      <td>20.4</td>\n      <td>0.88</td>\n      <td>17.91</td>\n      <td>394.0</td>\n    </tr>\n    <tr>\n      <th>4</th>\n      <td>Verstappen</td>\n      <td>30.0</td>\n      <td>1.54</td>\n      <td>46.09</td>\n      <td>1014.0</td>\n    </tr>\n    <tr>\n      <th>5</th>\n      <td>Perez</td>\n      <td>20.8</td>\n      <td>1.27</td>\n      <td>26.32</td>\n      <td>579.0</td>\n    </tr>\n    <tr>\n      <th>6</th>\n      <td>Norris</td>\n      <td>19.8</td>\n      <td>1.01</td>\n      <td>19.91</td>\n      <td>438.0</td>\n    </tr>\n    <tr>\n      <th>7</th>\n      <td>Piastri</td>\n      <td>15.4</td>\n      <td>0.82</td>\n      <td>12.68</td>\n      <td>279.0</td>\n    </tr>\n    <tr>\n      <th>8</th>\n      <td>Alonso</td>\n      <td>15.8</td>\n      <td>1.16</td>\n      <td>18.32</td>\n      <td>403.0</td>\n    </tr>\n    <tr>\n      <th>9</th>\n      <td>Stroll</td>\n      <td>14.0</td>\n      <td>0.75</td>\n      <td>10.50</td>\n      <td>231.0</td>\n    </tr>\n    <tr>\n      <th>10</th>\n      <td>Gasly</td>\n      <td>14.5</td>\n      <td>0.72</td>\n      <td>10.45</td>\n      <td>230.0</td>\n    </tr>\n    <tr>\n      <th>11</th>\n      <td>Ocon</td>\n      <td>13.5</td>\n      <td>0.40</td>\n      <td>5.45</td>\n      <td>120.0</td>\n    </tr>\n    <tr>\n      <th>12</th>\n      <td>Tsunoda</td>\n      <td>9.4</td>\n      <td>0.77</td>\n      <td>7.27</td>\n      <td>160.0</td>\n    </tr>\n    <tr>\n      <th>13</th>\n      <td>Ricciardo</td>\n      <td>5.5</td>\n      <td>0.74</td>\n      <td>4.09</td>\n      <td>90.0</td>\n    </tr>\n    <tr>\n      <th>14</th>\n      <td>Albon</td>\n      <td>11.3</td>\n      <td>0.51</td>\n      <td>5.73</td>\n      <td>126.0</td>\n    </tr>\n    <tr>\n      <th>15</th>\n      <td>Sargeant</td>\n      <td>5.8</td>\n      <td>-0.13</td>\n      <td>-0.77</td>\n      <td>-17.0</td>\n    </tr>\n    <tr>\n      <th>16</th>\n      <td>Bottas</td>\n      <td>9.6</td>\n      <td>0.20</td>\n      <td>1.95</td>\n      <td>43.0</td>\n    </tr>\n    <tr>\n      <th>17</th>\n      <td>Zhou</td>\n      <td>7.7</td>\n      <td>0.80</td>\n      <td>6.14</td>\n      <td>135.0</td>\n    </tr>\n    <tr>\n      <th>18</th>\n      <td>Magnussen</td>\n      <td>9.6</td>\n      <td>0.42</td>\n      <td>4.05</td>\n      <td>89.0</td>\n    </tr>\n    <tr>\n      <th>19</th>\n      <td>Hulkenberg</td>\n      <td>6.2</td>\n      <td>0.43</td>\n      <td>2.68</td>\n      <td>59.0</td>\n    </tr>\n    <tr>\n      <th>20</th>\n      <td>Mercedes</td>\n      <td>26.0</td>\n      <td>1.85</td>\n      <td>48.20</td>\n      <td>1060.0</td>\n    </tr>\n    <tr>\n      <th>21</th>\n      <td>Ferrari</td>\n      <td>25.0</td>\n      <td>1.83</td>\n      <td>45.80</td>\n      <td>1007.0</td>\n    </tr>\n    <tr>\n      <th>22</th>\n      <td>Red Bull</td>\n      <td>29.7</td>\n      <td>2.83</td>\n      <td>84.00</td>\n      <td>1847.0</td>\n    </tr>\n    <tr>\n      <th>23</th>\n      <td>Mclaren</td>\n      <td>17.1</td>\n      <td>2.39</td>\n      <td>40.90</td>\n      <td>899.0</td>\n    </tr>\n    <tr>\n      <th>24</th>\n      <td>Aston Martin</td>\n      <td>13.4</td>\n      <td>2.57</td>\n      <td>34.40</td>\n      <td>757.0</td>\n    </tr>\n    <tr>\n      <th>25</th>\n      <td>Alpine</td>\n      <td>14.2</td>\n      <td>1.49</td>\n      <td>21.20</td>\n      <td>467.0</td>\n    </tr>\n    <tr>\n      <th>26</th>\n      <td>AlphaTauri</td>\n      <td>8.7</td>\n      <td>1.61</td>\n      <td>14.00</td>\n      <td>308.0</td>\n    </tr>\n    <tr>\n      <th>27</th>\n      <td>Williams</td>\n      <td>7.8</td>\n      <td>0.88</td>\n      <td>6.90</td>\n      <td>151.0</td>\n    </tr>\n    <tr>\n      <th>28</th>\n      <td>Alfa Romeo</td>\n      <td>6.6</td>\n      <td>1.53</td>\n      <td>10.10</td>\n      <td>222.0</td>\n    </tr>\n    <tr>\n      <th>29</th>\n      <td>Haas</td>\n      <td>7.2</td>\n      <td>1.36</td>\n      <td>9.80</td>\n      <td>215.0</td>\n    </tr>\n  </tbody>\n</table>\n</div>"
     },
     "execution_count": 15,
     "metadata": {},
     "output_type": "execute_result"
    }
   ],
   "source": [
    "prices_copy"
   ],
   "metadata": {
    "collapsed": false,
    "ExecuteTime": {
     "end_time": "2024-01-03T13:38:52.544143400Z",
     "start_time": "2024-01-03T13:38:52.537632300Z"
    }
   },
   "id": "9070653e01838c45"
  },
  {
   "cell_type": "code",
   "execution_count": 16,
   "outputs": [
    {
     "name": "stderr",
     "output_type": "stream",
     "text": [
      "C:\\Users\\marce\\AppData\\Local\\Temp\\ipykernel_23944\\2365459870.py:3: SettingWithCopyWarning: \n",
      "A value is trying to be set on a copy of a slice from a DataFrame\n",
      "\n",
      "See the caveats in the documentation: https://pandas.pydata.org/pandas-docs/stable/user_guide/indexing.html#returning-a-view-versus-a-copy\n",
      "  prices_copy['IsConstructor'][20:] = True\n"
     ]
    }
   ],
   "source": [
    "# Create \"IsConstructor\" column and set it to False for all rows but the last 10\n",
    "prices_copy['IsConstructor'] = False\n",
    "prices_copy['IsConstructor'][20:] = True"
   ],
   "metadata": {
    "collapsed": false,
    "ExecuteTime": {
     "end_time": "2024-01-03T13:41:04.266673600Z",
     "start_time": "2024-01-03T13:41:04.249399200Z"
    }
   },
   "id": "a999b9e02a53b704"
  },
  {
   "cell_type": "code",
   "execution_count": 17,
   "outputs": [
    {
     "data": {
      "text/plain": "            Name CurrentPrice AveragePointsPerMillion  Average Points  \\\n0       Hamilton         25.3                    0.91           23.00   \n1        Russell         20.2                    0.86           17.45   \n2        Leclerc         23.5                    0.65           15.23   \n3          Sainz         20.4                    0.88           17.91   \n4     Verstappen         30.0                    1.54           46.09   \n5          Perez         20.8                    1.27           26.32   \n6         Norris         19.8                    1.01           19.91   \n7        Piastri         15.4                    0.82           12.68   \n8         Alonso         15.8                    1.16           18.32   \n9         Stroll         14.0                    0.75           10.50   \n10         Gasly         14.5                    0.72           10.45   \n11          Ocon         13.5                    0.40            5.45   \n12       Tsunoda          9.4                    0.77            7.27   \n13     Ricciardo          5.5                    0.74            4.09   \n14         Albon         11.3                    0.51            5.73   \n15      Sargeant          5.8                   -0.13           -0.77   \n16        Bottas          9.6                    0.20            1.95   \n17          Zhou          7.7                    0.80            6.14   \n18     Magnussen          9.6                    0.42            4.05   \n19    Hulkenberg          6.2                    0.43            2.68   \n20      Mercedes         26.0                    1.85           48.20   \n21       Ferrari         25.0                    1.83           45.80   \n22      Red Bull         29.7                    2.83           84.00   \n23       Mclaren         17.1                    2.39           40.90   \n24  Aston Martin         13.4                    2.57           34.40   \n25        Alpine         14.2                    1.49           21.20   \n26    AlphaTauri          8.7                    1.61           14.00   \n27      Williams          7.8                    0.88            6.90   \n28    Alfa Romeo          6.6                    1.53           10.10   \n29          Haas          7.2                    1.36            9.80   \n\n    CurrentPoints  IsConstructor  \n0           506.0          False  \n1           384.0          False  \n2           335.0          False  \n3           394.0          False  \n4          1014.0          False  \n5           579.0          False  \n6           438.0          False  \n7           279.0          False  \n8           403.0          False  \n9           231.0          False  \n10          230.0          False  \n11          120.0          False  \n12          160.0          False  \n13           90.0          False  \n14          126.0          False  \n15          -17.0          False  \n16           43.0          False  \n17          135.0          False  \n18           89.0          False  \n19           59.0          False  \n20         1060.0           True  \n21         1007.0           True  \n22         1847.0           True  \n23          899.0           True  \n24          757.0           True  \n25          467.0           True  \n26          308.0           True  \n27          151.0           True  \n28          222.0           True  \n29          215.0           True  ",
      "text/html": "<div>\n<style scoped>\n    .dataframe tbody tr th:only-of-type {\n        vertical-align: middle;\n    }\n\n    .dataframe tbody tr th {\n        vertical-align: top;\n    }\n\n    .dataframe thead th {\n        text-align: right;\n    }\n</style>\n<table border=\"1\" class=\"dataframe\">\n  <thead>\n    <tr style=\"text-align: right;\">\n      <th></th>\n      <th>Name</th>\n      <th>CurrentPrice</th>\n      <th>AveragePointsPerMillion</th>\n      <th>Average Points</th>\n      <th>CurrentPoints</th>\n      <th>IsConstructor</th>\n    </tr>\n  </thead>\n  <tbody>\n    <tr>\n      <th>0</th>\n      <td>Hamilton</td>\n      <td>25.3</td>\n      <td>0.91</td>\n      <td>23.00</td>\n      <td>506.0</td>\n      <td>False</td>\n    </tr>\n    <tr>\n      <th>1</th>\n      <td>Russell</td>\n      <td>20.2</td>\n      <td>0.86</td>\n      <td>17.45</td>\n      <td>384.0</td>\n      <td>False</td>\n    </tr>\n    <tr>\n      <th>2</th>\n      <td>Leclerc</td>\n      <td>23.5</td>\n      <td>0.65</td>\n      <td>15.23</td>\n      <td>335.0</td>\n      <td>False</td>\n    </tr>\n    <tr>\n      <th>3</th>\n      <td>Sainz</td>\n      <td>20.4</td>\n      <td>0.88</td>\n      <td>17.91</td>\n      <td>394.0</td>\n      <td>False</td>\n    </tr>\n    <tr>\n      <th>4</th>\n      <td>Verstappen</td>\n      <td>30.0</td>\n      <td>1.54</td>\n      <td>46.09</td>\n      <td>1014.0</td>\n      <td>False</td>\n    </tr>\n    <tr>\n      <th>5</th>\n      <td>Perez</td>\n      <td>20.8</td>\n      <td>1.27</td>\n      <td>26.32</td>\n      <td>579.0</td>\n      <td>False</td>\n    </tr>\n    <tr>\n      <th>6</th>\n      <td>Norris</td>\n      <td>19.8</td>\n      <td>1.01</td>\n      <td>19.91</td>\n      <td>438.0</td>\n      <td>False</td>\n    </tr>\n    <tr>\n      <th>7</th>\n      <td>Piastri</td>\n      <td>15.4</td>\n      <td>0.82</td>\n      <td>12.68</td>\n      <td>279.0</td>\n      <td>False</td>\n    </tr>\n    <tr>\n      <th>8</th>\n      <td>Alonso</td>\n      <td>15.8</td>\n      <td>1.16</td>\n      <td>18.32</td>\n      <td>403.0</td>\n      <td>False</td>\n    </tr>\n    <tr>\n      <th>9</th>\n      <td>Stroll</td>\n      <td>14.0</td>\n      <td>0.75</td>\n      <td>10.50</td>\n      <td>231.0</td>\n      <td>False</td>\n    </tr>\n    <tr>\n      <th>10</th>\n      <td>Gasly</td>\n      <td>14.5</td>\n      <td>0.72</td>\n      <td>10.45</td>\n      <td>230.0</td>\n      <td>False</td>\n    </tr>\n    <tr>\n      <th>11</th>\n      <td>Ocon</td>\n      <td>13.5</td>\n      <td>0.40</td>\n      <td>5.45</td>\n      <td>120.0</td>\n      <td>False</td>\n    </tr>\n    <tr>\n      <th>12</th>\n      <td>Tsunoda</td>\n      <td>9.4</td>\n      <td>0.77</td>\n      <td>7.27</td>\n      <td>160.0</td>\n      <td>False</td>\n    </tr>\n    <tr>\n      <th>13</th>\n      <td>Ricciardo</td>\n      <td>5.5</td>\n      <td>0.74</td>\n      <td>4.09</td>\n      <td>90.0</td>\n      <td>False</td>\n    </tr>\n    <tr>\n      <th>14</th>\n      <td>Albon</td>\n      <td>11.3</td>\n      <td>0.51</td>\n      <td>5.73</td>\n      <td>126.0</td>\n      <td>False</td>\n    </tr>\n    <tr>\n      <th>15</th>\n      <td>Sargeant</td>\n      <td>5.8</td>\n      <td>-0.13</td>\n      <td>-0.77</td>\n      <td>-17.0</td>\n      <td>False</td>\n    </tr>\n    <tr>\n      <th>16</th>\n      <td>Bottas</td>\n      <td>9.6</td>\n      <td>0.20</td>\n      <td>1.95</td>\n      <td>43.0</td>\n      <td>False</td>\n    </tr>\n    <tr>\n      <th>17</th>\n      <td>Zhou</td>\n      <td>7.7</td>\n      <td>0.80</td>\n      <td>6.14</td>\n      <td>135.0</td>\n      <td>False</td>\n    </tr>\n    <tr>\n      <th>18</th>\n      <td>Magnussen</td>\n      <td>9.6</td>\n      <td>0.42</td>\n      <td>4.05</td>\n      <td>89.0</td>\n      <td>False</td>\n    </tr>\n    <tr>\n      <th>19</th>\n      <td>Hulkenberg</td>\n      <td>6.2</td>\n      <td>0.43</td>\n      <td>2.68</td>\n      <td>59.0</td>\n      <td>False</td>\n    </tr>\n    <tr>\n      <th>20</th>\n      <td>Mercedes</td>\n      <td>26.0</td>\n      <td>1.85</td>\n      <td>48.20</td>\n      <td>1060.0</td>\n      <td>True</td>\n    </tr>\n    <tr>\n      <th>21</th>\n      <td>Ferrari</td>\n      <td>25.0</td>\n      <td>1.83</td>\n      <td>45.80</td>\n      <td>1007.0</td>\n      <td>True</td>\n    </tr>\n    <tr>\n      <th>22</th>\n      <td>Red Bull</td>\n      <td>29.7</td>\n      <td>2.83</td>\n      <td>84.00</td>\n      <td>1847.0</td>\n      <td>True</td>\n    </tr>\n    <tr>\n      <th>23</th>\n      <td>Mclaren</td>\n      <td>17.1</td>\n      <td>2.39</td>\n      <td>40.90</td>\n      <td>899.0</td>\n      <td>True</td>\n    </tr>\n    <tr>\n      <th>24</th>\n      <td>Aston Martin</td>\n      <td>13.4</td>\n      <td>2.57</td>\n      <td>34.40</td>\n      <td>757.0</td>\n      <td>True</td>\n    </tr>\n    <tr>\n      <th>25</th>\n      <td>Alpine</td>\n      <td>14.2</td>\n      <td>1.49</td>\n      <td>21.20</td>\n      <td>467.0</td>\n      <td>True</td>\n    </tr>\n    <tr>\n      <th>26</th>\n      <td>AlphaTauri</td>\n      <td>8.7</td>\n      <td>1.61</td>\n      <td>14.00</td>\n      <td>308.0</td>\n      <td>True</td>\n    </tr>\n    <tr>\n      <th>27</th>\n      <td>Williams</td>\n      <td>7.8</td>\n      <td>0.88</td>\n      <td>6.90</td>\n      <td>151.0</td>\n      <td>True</td>\n    </tr>\n    <tr>\n      <th>28</th>\n      <td>Alfa Romeo</td>\n      <td>6.6</td>\n      <td>1.53</td>\n      <td>10.10</td>\n      <td>222.0</td>\n      <td>True</td>\n    </tr>\n    <tr>\n      <th>29</th>\n      <td>Haas</td>\n      <td>7.2</td>\n      <td>1.36</td>\n      <td>9.80</td>\n      <td>215.0</td>\n      <td>True</td>\n    </tr>\n  </tbody>\n</table>\n</div>"
     },
     "execution_count": 17,
     "metadata": {},
     "output_type": "execute_result"
    }
   ],
   "source": [
    "prices_copy"
   ],
   "metadata": {
    "collapsed": false,
    "ExecuteTime": {
     "end_time": "2024-01-03T13:41:08.482487900Z",
     "start_time": "2024-01-03T13:41:08.467645700Z"
    }
   },
   "id": "22c44d9db4bff88"
  },
  {
   "cell_type": "code",
   "execution_count": 18,
   "outputs": [],
   "source": [
    "# Export as csv\n",
    "prices_copy.to_csv('FantasyTracker23\\\\TreatedData2023\\\\F1_2023_Fantasy_DriverAndConstructors_Prices.csv', index=False)"
   ],
   "metadata": {
    "collapsed": false,
    "ExecuteTime": {
     "end_time": "2024-01-03T13:41:22.978241700Z",
     "start_time": "2024-01-03T13:41:22.969942800Z"
    }
   },
   "id": "d5e75c15881fd8dc"
  }
 ],
 "metadata": {
  "kernelspec": {
   "display_name": "Python 3",
   "language": "python",
   "name": "python3"
  },
  "language_info": {
   "codemirror_mode": {
    "name": "ipython",
    "version": 2
   },
   "file_extension": ".py",
   "mimetype": "text/x-python",
   "name": "python",
   "nbconvert_exporter": "python",
   "pygments_lexer": "ipython2",
   "version": "2.7.6"
  }
 },
 "nbformat": 4,
 "nbformat_minor": 5
}
