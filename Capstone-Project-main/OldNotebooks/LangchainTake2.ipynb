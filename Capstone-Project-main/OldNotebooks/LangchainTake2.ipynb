{
 "cells": [
  {
   "cell_type": "code",
   "execution_count": 1,
   "id": "initial_id",
   "metadata": {
    "collapsed": true,
    "ExecuteTime": {
     "end_time": "2024-01-05T16:57:30.387850700Z",
     "start_time": "2024-01-05T16:57:27.856206800Z"
    }
   },
   "outputs": [],
   "source": [
    "        #!pip uninstall langchain\n",
    "from langchain.agents.agent_types import AgentType\n",
    "from langchain.chat_models import ChatOpenAI\n",
    "import pandas as pd\n",
    "from langchain.llms import OpenAI\n",
    "import os\n",
    "import pandas as pd"
   ]
  },
  {
   "cell_type": "code",
   "execution_count": 26,
   "outputs": [],
   "source": [
    "# Import data from FantasyTracker23 folder\n",
    "path = 'F1_Fantasy\\\\FantasyTracker23\\\\TreatedData2023\\\\'\n",
    "df_drivers = pd.read_csv(path + 'F1_2023_Fantasy_Drivers_Standings.csv')\n",
    "df_constructors = pd.read_csv(path + 'F1_2023_Fantasy_Constructors_Standings.csv')\n",
    "df_races = pd.read_csv(path + 'F1_2023_Fantasy_Races.csv')\n",
    "df_prices = pd.read_csv(path + 'F1_2023_Fantasy_DriverAndConstructors_Prices.csv')\n"
   ],
   "metadata": {
    "collapsed": false,
    "ExecuteTime": {
     "end_time": "2024-01-05T15:36:29.913971Z",
     "start_time": "2024-01-05T15:36:29.666606Z"
    }
   },
   "id": "17d77934bd2e3841"
  },
  {
   "cell_type": "code",
   "execution_count": 27,
   "outputs": [],
   "source": [
    "df_constructors.drop(columns=['BRA', 'BRA1'], inplace=True)"
   ],
   "metadata": {
    "collapsed": false,
    "ExecuteTime": {
     "end_time": "2024-01-05T15:36:29.913971Z",
     "start_time": "2024-01-05T15:36:29.711672600Z"
    }
   },
   "id": "cfbd03317f927f55"
  },
  {
   "cell_type": "code",
   "execution_count": 28,
   "outputs": [
    {
     "data": {
      "text/plain": "            Name  CurrentPrice  AveragePointsPerMillion  Average Points  \\\n0       Hamilton          25.3                     0.91           23.00   \n1        Russell          20.2                     0.86           17.45   \n2        Leclerc          23.5                     0.65           15.23   \n3          Sainz          20.4                     0.88           17.91   \n4     Verstappen          30.0                     1.54           46.09   \n5          Perez          20.8                     1.27           26.32   \n6         Norris          19.8                     1.01           19.91   \n7        Piastri          15.4                     0.82           12.68   \n8         Alonso          15.8                     1.16           18.32   \n9         Stroll          14.0                     0.75           10.50   \n10         Gasly          14.5                     0.72           10.45   \n11          Ocon          13.5                     0.40            5.45   \n12       Tsunoda           9.4                     0.77            7.27   \n13     Ricciardo           5.5                     0.74            4.09   \n14         Albon          11.3                     0.51            5.73   \n15      Sargeant           5.8                    -0.13           -0.77   \n16        Bottas           9.6                     0.20            1.95   \n17          Zhou           7.7                     0.80            6.14   \n18     Magnussen           9.6                     0.42            4.05   \n19    Hulkenberg           6.2                     0.43            2.68   \n20      Mercedes          26.0                     1.85           48.20   \n21       Ferrari          25.0                     1.83           45.80   \n22      Red Bull          29.7                     2.83           84.00   \n23       Mclaren          17.1                     2.39           40.90   \n24  Aston Martin          13.4                     2.57           34.40   \n25        Alpine          14.2                     1.49           21.20   \n26    AlphaTauri           8.7                     1.61           14.00   \n27      Williams           7.8                     0.88            6.90   \n28    Alfa Romeo           6.6                     1.53           10.10   \n29          Haas           7.2                     1.36            9.80   \n\n    CurrentPoints  IsConstructor  \n0           506.0          False  \n1           384.0          False  \n2           335.0          False  \n3           394.0          False  \n4          1014.0          False  \n5           579.0          False  \n6           438.0          False  \n7           279.0          False  \n8           403.0          False  \n9           231.0          False  \n10          230.0          False  \n11          120.0          False  \n12          160.0          False  \n13           90.0          False  \n14          126.0          False  \n15          -17.0          False  \n16           43.0          False  \n17          135.0          False  \n18           89.0          False  \n19           59.0          False  \n20         1060.0           True  \n21         1007.0           True  \n22         1847.0           True  \n23          899.0           True  \n24          757.0           True  \n25          467.0           True  \n26          308.0           True  \n27          151.0           True  \n28          222.0           True  \n29          215.0           True  ",
      "text/html": "<div>\n<style scoped>\n    .dataframe tbody tr th:only-of-type {\n        vertical-align: middle;\n    }\n\n    .dataframe tbody tr th {\n        vertical-align: top;\n    }\n\n    .dataframe thead th {\n        text-align: right;\n    }\n</style>\n<table border=\"1\" class=\"dataframe\">\n  <thead>\n    <tr style=\"text-align: right;\">\n      <th></th>\n      <th>Name</th>\n      <th>CurrentPrice</th>\n      <th>AveragePointsPerMillion</th>\n      <th>Average Points</th>\n      <th>CurrentPoints</th>\n      <th>IsConstructor</th>\n    </tr>\n  </thead>\n  <tbody>\n    <tr>\n      <th>0</th>\n      <td>Hamilton</td>\n      <td>25.3</td>\n      <td>0.91</td>\n      <td>23.00</td>\n      <td>506.0</td>\n      <td>False</td>\n    </tr>\n    <tr>\n      <th>1</th>\n      <td>Russell</td>\n      <td>20.2</td>\n      <td>0.86</td>\n      <td>17.45</td>\n      <td>384.0</td>\n      <td>False</td>\n    </tr>\n    <tr>\n      <th>2</th>\n      <td>Leclerc</td>\n      <td>23.5</td>\n      <td>0.65</td>\n      <td>15.23</td>\n      <td>335.0</td>\n      <td>False</td>\n    </tr>\n    <tr>\n      <th>3</th>\n      <td>Sainz</td>\n      <td>20.4</td>\n      <td>0.88</td>\n      <td>17.91</td>\n      <td>394.0</td>\n      <td>False</td>\n    </tr>\n    <tr>\n      <th>4</th>\n      <td>Verstappen</td>\n      <td>30.0</td>\n      <td>1.54</td>\n      <td>46.09</td>\n      <td>1014.0</td>\n      <td>False</td>\n    </tr>\n    <tr>\n      <th>5</th>\n      <td>Perez</td>\n      <td>20.8</td>\n      <td>1.27</td>\n      <td>26.32</td>\n      <td>579.0</td>\n      <td>False</td>\n    </tr>\n    <tr>\n      <th>6</th>\n      <td>Norris</td>\n      <td>19.8</td>\n      <td>1.01</td>\n      <td>19.91</td>\n      <td>438.0</td>\n      <td>False</td>\n    </tr>\n    <tr>\n      <th>7</th>\n      <td>Piastri</td>\n      <td>15.4</td>\n      <td>0.82</td>\n      <td>12.68</td>\n      <td>279.0</td>\n      <td>False</td>\n    </tr>\n    <tr>\n      <th>8</th>\n      <td>Alonso</td>\n      <td>15.8</td>\n      <td>1.16</td>\n      <td>18.32</td>\n      <td>403.0</td>\n      <td>False</td>\n    </tr>\n    <tr>\n      <th>9</th>\n      <td>Stroll</td>\n      <td>14.0</td>\n      <td>0.75</td>\n      <td>10.50</td>\n      <td>231.0</td>\n      <td>False</td>\n    </tr>\n    <tr>\n      <th>10</th>\n      <td>Gasly</td>\n      <td>14.5</td>\n      <td>0.72</td>\n      <td>10.45</td>\n      <td>230.0</td>\n      <td>False</td>\n    </tr>\n    <tr>\n      <th>11</th>\n      <td>Ocon</td>\n      <td>13.5</td>\n      <td>0.40</td>\n      <td>5.45</td>\n      <td>120.0</td>\n      <td>False</td>\n    </tr>\n    <tr>\n      <th>12</th>\n      <td>Tsunoda</td>\n      <td>9.4</td>\n      <td>0.77</td>\n      <td>7.27</td>\n      <td>160.0</td>\n      <td>False</td>\n    </tr>\n    <tr>\n      <th>13</th>\n      <td>Ricciardo</td>\n      <td>5.5</td>\n      <td>0.74</td>\n      <td>4.09</td>\n      <td>90.0</td>\n      <td>False</td>\n    </tr>\n    <tr>\n      <th>14</th>\n      <td>Albon</td>\n      <td>11.3</td>\n      <td>0.51</td>\n      <td>5.73</td>\n      <td>126.0</td>\n      <td>False</td>\n    </tr>\n    <tr>\n      <th>15</th>\n      <td>Sargeant</td>\n      <td>5.8</td>\n      <td>-0.13</td>\n      <td>-0.77</td>\n      <td>-17.0</td>\n      <td>False</td>\n    </tr>\n    <tr>\n      <th>16</th>\n      <td>Bottas</td>\n      <td>9.6</td>\n      <td>0.20</td>\n      <td>1.95</td>\n      <td>43.0</td>\n      <td>False</td>\n    </tr>\n    <tr>\n      <th>17</th>\n      <td>Zhou</td>\n      <td>7.7</td>\n      <td>0.80</td>\n      <td>6.14</td>\n      <td>135.0</td>\n      <td>False</td>\n    </tr>\n    <tr>\n      <th>18</th>\n      <td>Magnussen</td>\n      <td>9.6</td>\n      <td>0.42</td>\n      <td>4.05</td>\n      <td>89.0</td>\n      <td>False</td>\n    </tr>\n    <tr>\n      <th>19</th>\n      <td>Hulkenberg</td>\n      <td>6.2</td>\n      <td>0.43</td>\n      <td>2.68</td>\n      <td>59.0</td>\n      <td>False</td>\n    </tr>\n    <tr>\n      <th>20</th>\n      <td>Mercedes</td>\n      <td>26.0</td>\n      <td>1.85</td>\n      <td>48.20</td>\n      <td>1060.0</td>\n      <td>True</td>\n    </tr>\n    <tr>\n      <th>21</th>\n      <td>Ferrari</td>\n      <td>25.0</td>\n      <td>1.83</td>\n      <td>45.80</td>\n      <td>1007.0</td>\n      <td>True</td>\n    </tr>\n    <tr>\n      <th>22</th>\n      <td>Red Bull</td>\n      <td>29.7</td>\n      <td>2.83</td>\n      <td>84.00</td>\n      <td>1847.0</td>\n      <td>True</td>\n    </tr>\n    <tr>\n      <th>23</th>\n      <td>Mclaren</td>\n      <td>17.1</td>\n      <td>2.39</td>\n      <td>40.90</td>\n      <td>899.0</td>\n      <td>True</td>\n    </tr>\n    <tr>\n      <th>24</th>\n      <td>Aston Martin</td>\n      <td>13.4</td>\n      <td>2.57</td>\n      <td>34.40</td>\n      <td>757.0</td>\n      <td>True</td>\n    </tr>\n    <tr>\n      <th>25</th>\n      <td>Alpine</td>\n      <td>14.2</td>\n      <td>1.49</td>\n      <td>21.20</td>\n      <td>467.0</td>\n      <td>True</td>\n    </tr>\n    <tr>\n      <th>26</th>\n      <td>AlphaTauri</td>\n      <td>8.7</td>\n      <td>1.61</td>\n      <td>14.00</td>\n      <td>308.0</td>\n      <td>True</td>\n    </tr>\n    <tr>\n      <th>27</th>\n      <td>Williams</td>\n      <td>7.8</td>\n      <td>0.88</td>\n      <td>6.90</td>\n      <td>151.0</td>\n      <td>True</td>\n    </tr>\n    <tr>\n      <th>28</th>\n      <td>Alfa Romeo</td>\n      <td>6.6</td>\n      <td>1.53</td>\n      <td>10.10</td>\n      <td>222.0</td>\n      <td>True</td>\n    </tr>\n    <tr>\n      <th>29</th>\n      <td>Haas</td>\n      <td>7.2</td>\n      <td>1.36</td>\n      <td>9.80</td>\n      <td>215.0</td>\n      <td>True</td>\n    </tr>\n  </tbody>\n</table>\n</div>"
     },
     "execution_count": 28,
     "metadata": {},
     "output_type": "execute_result"
    }
   ],
   "source": [
    "df_prices"
   ],
   "metadata": {
    "collapsed": false,
    "ExecuteTime": {
     "end_time": "2024-01-05T15:36:29.915970Z",
     "start_time": "2024-01-05T15:36:29.714710500Z"
    }
   },
   "id": "148d18b86ffc417c"
  },
  {
   "cell_type": "code",
   "execution_count": 29,
   "outputs": [
    {
     "name": "stdout",
     "output_type": "stream",
     "text": [
      " is not a valid constructor. Please enter a valid constructor.\n",
      " is not a valid constructor. Please enter a valid constructor.\n",
      " is not a valid constructor. Please enter a valid constructor.\n",
      " is not a valid constructor. Please enter a valid constructor.\n",
      " is not a valid constructor. Please enter a valid constructor.\n",
      " is not a valid constructor. Please enter a valid constructor.\n",
      " is not a valid constructor. Please enter a valid constructor.\n",
      " is not a valid constructor. Please enter a valid constructor.\n",
      " is not a valid constructor. Please enter a valid constructor.\n",
      "Hello ! Your budget is 213028.50000000003.\n",
      "Here is your current team:\n",
      "Constructors: ['Red Bull', 'Ferrari']\n",
      "Drivers: ['Verstappen', 'Leclerc', 'Sargeant', 'Piastri', 'Norris']\n",
      "Here is your final team:\n",
      "Constructors: ['Red Bull', 'Ferrari']\n",
      "Drivers: ['Verstappen', 'Leclerc', 'Sargeant', 'Piastri', 'Norris']\n"
     ]
    }
   ],
   "source": [
    "import pandas as pd\n",
    "\n",
    "def get_user_input():\n",
    "    name = input(\"Enter your name: \")\n",
    "    budget = input(\"Enter your budget: \")\n",
    "    while not budget.isdigit():\n",
    "        budget = input(\"Invalid input. Please enter a valid budget: \")\n",
    "    budget = float(budget)\n",
    "    constructors = []\n",
    "    drivers = []\n",
    "    while len(constructors) < 2:\n",
    "        constructor = input(\"Enter a constructor: \")\n",
    "        if constructor not in constructors:\n",
    "            if df_prices[(df_prices[\"Name\"] == constructor) & (df_prices[\"IsConstructor\"] == True)][\"CurrentPrice\"].tolist():\n",
    "                constructors.append(constructor)\n",
    "            else:\n",
    "                print(f\"{constructor} is not a valid constructor. Please enter a valid constructor.\")\n",
    "        else:\n",
    "            print(\"You have already selected this constructor.\")\n",
    "    while len(drivers) < 5:\n",
    "        driver = input(\"Enter a driver: \")\n",
    "        if driver not in drivers:\n",
    "            if df_prices[(df_prices[\"Name\"] == driver) & (df_prices[\"IsConstructor\"] == False) & (df_prices[\"CurrentPrice\"] <= budget)][\"CurrentPrice\"].tolist():\n",
    "                drivers.append(driver)\n",
    "                budget -= df_prices[df_prices[\"Name\"] == driver][\"CurrentPrice\"].tolist()[0]\n",
    "            else:\n",
    "                print(f\"{driver} is not a valid driver. Please enter a valid driver.\")\n",
    "        else:\n",
    "            print(\"You have already selected this driver.\")\n",
    "    return name, budget, constructors, drivers\n",
    "\n",
    "def make_changes(name, budget, constructors, drivers):\n",
    "    print(f\"Hello {name}! Your budget is {budget}.\")\n",
    "    print(\"Here is your current team:\")\n",
    "    print(f\"Constructors: {constructors}\")\n",
    "    print(f\"Drivers: {drivers}\")\n",
    "    while True:\n",
    "        change = input(\"Would you like to make any changes? (y/n): \")\n",
    "        if change.lower() == \"n\":\n",
    "            break\n",
    "        elif change.lower() == \"y\":\n",
    "            change_type = input(\"What would you like to change? (constructor/driver): \")\n",
    "            if change_type.lower() == \"constructor\":\n",
    "                old_constructor = input(\"Enter the name of the constructor you want to replace: \")\n",
    "                new_constructor = input(\"Enter the name of the new constructor: \")\n",
    "                if new_constructor not in constructors:\n",
    "                    if df_prices[(df_prices[\"Name\"] == new_constructor) & (df_prices[\"IsConstructor\"] == True)][\"CurrentPrice\"].tolist():\n",
    "                        constructors[constructors.index(old_constructor)] = new_constructor\n",
    "                        print(\"Constructor updated successfully!\")\n",
    "                    else:\n",
    "                        print(f\"{new_constructor} is not a valid constructor. Please enter a valid constructor.\")\n",
    "                else:\n",
    "                    print(\"You have already selected this constructor.\")\n",
    "            elif change_type.lower() == \"driver\":\n",
    "                old_driver = input(\"Enter the name of the driver you want to replace: \")\n",
    "                new_driver = input(\"Enter the name of the new driver: \")\n",
    "                if new_driver not in drivers:\n",
    "                    if df_prices[(df_prices[\"Name\"] == new_driver) & (df_prices[\"IsConstructor\"] == False) & (df_prices[\"CurrentPrice\"] <= budget)][\"CurrentPrice\"].tolist():\n",
    "                        drivers[drivers.index(old_driver)] = new_driver\n",
    "                        budget -= df_prices[df_prices[\"Name\"] == new_driver][\"CurrentPrice\"].tolist()[0]\n",
    "                        print(\"Driver updated successfully!\")\n",
    "                    else:\n",
    "                        print(f\"{new_driver} is not a valid driver. Please enter a valid driver.\")\n",
    "                else:\n",
    "                    print(\"You have already selected this driver.\")\n",
    "            else:\n",
    "                print(\"Invalid input. Please enter a valid input.\")\n",
    "        else:\n",
    "            print(\"Invalid input. Please enter a valid input.\")\n",
    "    print(\"Here is your final team:\")\n",
    "    print(f\"Constructors: {constructors}\")\n",
    "    print(f\"Drivers: {drivers}\")\n",
    "\n",
    "name, budget, constructors, drivers = get_user_input()\n",
    "make_changes(name, budget, constructors, drivers)\n"
   ],
   "metadata": {
    "collapsed": false,
    "ExecuteTime": {
     "end_time": "2024-01-05T15:37:09.222540400Z",
     "start_time": "2024-01-05T15:36:29.763942100Z"
    }
   },
   "id": "c1b9857816d55f95"
  },
  {
   "cell_type": "code",
   "execution_count": 30,
   "outputs": [
    {
     "ename": "NameError",
     "evalue": "name 'widgets' is not defined",
     "output_type": "error",
     "traceback": [
      "\u001B[1;31m---------------------------------------------------------------------------\u001B[0m",
      "\u001B[1;31mNameError\u001B[0m                                 Traceback (most recent call last)",
      "Cell \u001B[1;32mIn[30], line 1\u001B[0m\n\u001B[1;32m----> 1\u001B[0m widgets\u001B[38;5;241m.\u001B[39mBoundedIntText(\n\u001B[0;32m      2\u001B[0m     value\u001B[38;5;241m=\u001B[39m\u001B[38;5;241m0\u001B[39m,\n\u001B[0;32m      3\u001B[0m     \u001B[38;5;28mmin\u001B[39m\u001B[38;5;241m=\u001B[39m\u001B[38;5;241m0\u001B[39m,\n\u001B[0;32m      4\u001B[0m     \u001B[38;5;28mmax\u001B[39m\u001B[38;5;241m=\u001B[39m\u001B[38;5;241m10\u001B[39m,\n\u001B[0;32m      5\u001B[0m     step\u001B[38;5;241m=\u001B[39m\u001B[38;5;241m1\u001B[39m,\n\u001B[0;32m      6\u001B[0m     description\u001B[38;5;241m=\u001B[39m\u001B[38;5;124m'\u001B[39m\u001B[38;5;124mText:\u001B[39m\u001B[38;5;124m'\u001B[39m,\n\u001B[0;32m      7\u001B[0m     disabled\u001B[38;5;241m=\u001B[39m\u001B[38;5;28;01mFalse\u001B[39;00m\n\u001B[0;32m      8\u001B[0m )\n\u001B[0;32m     10\u001B[0m \u001B[38;5;66;03m# Save the value of the budget slider\u001B[39;00m\n\u001B[0;32m     11\u001B[0m budget \u001B[38;5;241m=\u001B[39m widgets\u001B[38;5;241m.\u001B[39mvalue\n",
      "\u001B[1;31mNameError\u001B[0m: name 'widgets' is not defined"
     ]
    }
   ],
   "source": [
    "widgets.BoundedIntText(\n",
    "    value=0,\n",
    "    min=0,\n",
    "    max=10,\n",
    "    step=1,\n",
    "    description='Text:',\n",
    "    disabled=False\n",
    ")\n",
    "\n",
    "# Save the value of the budget slider\n",
    "budget = widgets.value\n",
    "\n",
    "print('Budget: ' + str(budget))"
   ],
   "metadata": {
    "collapsed": false,
    "ExecuteTime": {
     "end_time": "2024-01-05T15:37:09.223541800Z",
     "start_time": "2024-01-05T15:37:09.194086800Z"
    }
   },
   "id": "6f320b85525a5eb1"
  },
  {
   "cell_type": "code",
   "execution_count": null,
   "outputs": [],
   "source": [
    "thing = widgets.SelectMultiple(\n",
    "    options=['Apples', 'Oranges', 'Pears'],\n",
    "    value=['Oranges'],\n",
    "    #rows=10,\n",
    "    description='Fruits',\n",
    "    disabled=False\n",
    ")\n",
    "\n",
    "# Store output from this widget in a variable\n",
    "display(thing)\n"
   ],
   "metadata": {
    "collapsed": false,
    "ExecuteTime": {
     "start_time": "2024-01-05T15:37:09.211540100Z"
    }
   },
   "id": "1cdf0c77f3cb007d"
  },
  {
   "cell_type": "code",
   "execution_count": null,
   "outputs": [],
   "source": [
    "df_prices"
   ],
   "metadata": {
    "collapsed": false,
    "ExecuteTime": {
     "start_time": "2024-01-05T15:37:09.213539900Z"
    }
   },
   "id": "fe960b8d6767ab1b"
  },
  {
   "cell_type": "code",
   "execution_count": null,
   "outputs": [],
   "source": [
    "import ipywidgets as widgets\n",
    "budget_slider = widgets.IntSlider(\n",
    "    value=100,\n",
    "    min=50,\n",
    "    max=170,\n",
    "    step=1,\n",
    "    description='Budget:',\n",
    "    disabled=False,\n",
    "    continuous_update=False,\n",
    "    orientation='horizontal',\n",
    "    readout=True,\n",
    "    readout_format='d'\n",
    ")\n",
    "\n",
    "# One change of the slider, change value_budget automatically\n",
    "def on_value_change(change):\n",
    "    global value_budget\n",
    "    value_budget = change['new']\n",
    "    print(value_budget)\n",
    "\n",
    "\n",
    "budget_slider.observe(on_value_change, names='value')\n",
    "\n",
    "display(budget_slider)\n",
    "\n",
    "#### Now for the drivers and constructors. We can use Boolean widgets for this. If they are selected, they are True, if not, they are False.\n",
    "# If they are selected, remove them from the list of available drivers/constructors and subtract their price from the budget.\n",
    "# If they are selected then deselected, add them back to the list of available drivers/constructors and add their price back to the budget.\n",
    "\n",
    "drivers = df_prices[df_prices[\"IsConstructor\"] == False][[\"Name\", 'CurrentPrice']]\n",
    "constructors = df_prices[df_prices[\"IsConstructor\"] == True][[\"Name\", 'CurrentPrice']]\n",
    "\n",
    "remaining_budget = value_budget\n",
    "\n",
    "# Drivers and constructors should be separate. Only 5 drivers can be selected, and only 2 constructors can be selected. No more, no less.\n",
    "# If the team is within budget, then the user can submit it. If not, then they have to change it.\n",
    "# Store the team\n",
    "\n",
    "drivers_widget = widgets.SelectMultiple(\n",
    "    options=drivers[\"Name\"].tolist(),\n",
    "    value=[],\n",
    "    #rows=10,\n",
    "    description='Drivers',\n",
    "    disabled=False\n",
    ")\n",
    "\n"
   ],
   "metadata": {
    "collapsed": false,
    "ExecuteTime": {
     "start_time": "2024-01-05T15:37:09.215539900Z"
    }
   },
   "id": "2c1b8f422673bf7f"
  },
  {
   "cell_type": "code",
   "execution_count": null,
   "outputs": [],
   "source": [
    "drivers = df_prices[df_prices[\"IsConstructor\"] == False][[\"Name\", 'CurrentPrice']]\n",
    "drivers"
   ],
   "metadata": {
    "collapsed": false,
    "ExecuteTime": {
     "start_time": "2024-01-05T15:37:09.217540600Z"
    }
   },
   "id": "68951d5c4d4ea1f3"
  },
  {
   "cell_type": "code",
   "execution_count": null,
   "outputs": [],
   "source": [
    "selected_fruits =  thing.value\n",
    "print(selected_fruits)"
   ],
   "metadata": {
    "collapsed": false,
    "ExecuteTime": {
     "start_time": "2024-01-05T15:37:09.219542200Z"
    }
   },
   "id": "8023fe6593fe0680"
  },
  {
   "cell_type": "code",
   "execution_count": null,
   "outputs": [],
   "source": [
    "# Check how much is the user team worth\n",
    "sum([df_prices[(df_prices[\"Name\"] == constructor) & (df_prices[\"IsConstructor\"] == True)][\"CurrentPrice\"].tolist()[0] for constructor in constructors]) + sum([df_prices[(df_prices[\"Name\"] == driver) & (df_prices[\"IsConstructor\"] == False)][\"CurrentPrice\"].tolist()[0] for driver in drivers])"
   ],
   "metadata": {
    "collapsed": false,
    "ExecuteTime": {
     "start_time": "2024-01-05T15:37:09.220542900Z"
    }
   },
   "id": "53c9df800ca9fa2f"
  },
  {
   "cell_type": "code",
   "execution_count": null,
   "outputs": [],
   "source": [
    "team"
   ],
   "metadata": {
    "collapsed": false,
    "ExecuteTime": {
     "start_time": "2024-01-05T15:37:09.222540400Z"
    }
   },
   "id": "7558929eb11fe3b"
  },
  {
   "cell_type": "code",
   "execution_count": null,
   "outputs": [],
   "source": [
    "# Get the team of the user, knowing that they can only have 2 constructors and 5 drivers.\n",
    "# Ask first his budget, and then his team.\n",
    "\n",
    "# Greet user and ask for name\n",
    "print(\"Hello, I am your F1 Fantasy assistant. What is your name?\")\n",
    "name = input()\n",
    "\n",
    "# Greet user and ask for budget\n",
    "print(\"Hello \" + name + \", what is your budget?\")\n",
    "budget = input()\n",
    "\n",
    "while budget.isnumeric() == False:\n",
    "    print(\"Please enter a valid budget.\")\n",
    "    budget = input()\n",
    "\n",
    "budget = float(budget)\n",
    "\n",
    "# Give all the constructors and their prices, and ask for the user to choose 2 of them\n",
    "print(\"Here are the constructors and their prices:\")\n",
    "print(df_prices[['Constructor', 'CurrentPrice']])\n",
    "print(\"Please choose 2 constructors, and enter their names separated by a comma.\")\n",
    "constructors = input()\n",
    "\n",
    "while len(constructors.split(',')) != 2:\n",
    "    print(\"Please enter 2 constructors.\")\n",
    "    constructors = input()\n",
    "\n",
    "constructors = constructors.split(',')\n",
    "\n",
    "# Give all the drivers and their prices, and ask for the user to choose 5 of them\n",
    "print(\"Here are the drivers and their prices:\")\n",
    "print(df_drivers[['Driver', 'Price']])\n",
    "print(\"Please choose 5 drivers, and enter their names separated by a comma.\")\n",
    "drivers = input()\n",
    "\n",
    "while len(drivers.split(',')) != 5:\n",
    "    print(\"Please enter 5 drivers.\")\n",
    "    drivers = input()\n"
   ],
   "metadata": {
    "collapsed": false,
    "ExecuteTime": {
     "start_time": "2024-01-05T15:37:09.224541200Z"
    }
   },
   "id": "9bcf5b79afbf859c"
  },
  {
   "cell_type": "code",
   "execution_count": null,
   "outputs": [],
   "source": [
    "# Feed JSON data to the agent\n",
    "from langchain.document_loaders import DirectoryLoader, TextLoader\n",
    "\n",
    "#loader = DirectoryLoader('F1_Data', glob='**/*.json', show_progress=True, loader_cls=TextLoader)\n",
    "loader = DirectoryLoader(path, glob='**/*.csv', show_progress=True, loader_cls=TextLoader)\n",
    "\n",
    "# loader for pdf\n",
    "#loader = DirectoryLoader('F1_Data', glob='**/*.pdf', show_progress=True, loader_cls=PDFLoader)\n",
    "\n",
    "docs = loader.load()\n",
    "print(len(docs))\n",
    "\n",
    "from langchain.indexes import VectorstoreIndexCreator\n",
    "index = VectorstoreIndexCreator().from_loaders([loader])\n",
    "\n",
    "index.query(prompt)\n"
   ],
   "metadata": {
    "collapsed": false,
    "ExecuteTime": {
     "start_time": "2024-01-05T15:37:09.226540500Z"
    }
   },
   "id": "c79b6847b00b2b43"
  },
  {
   "cell_type": "code",
   "execution_count": null,
   "outputs": [],
   "source": [
    "# Feed JSON data to the agent\n",
    "from langchain.document_loaders import DirectoryLoader, TextLoader\n",
    "from langchain_community.document_loaders import PyPDFLoader\n",
    "\n",
    "#loader = DirectoryLoader('F1_Data', glob='**/*.json', show_progress=True, loader_cls=TextLoader)\n",
    "loader_csv = DirectoryLoader('FinalData', show_progress=True, use_multithreading=True)\n",
    "\n",
    "csv_docs = loader_csv.load()\n",
    "# loader for pdf\n",
    "#loader = DirectoryLoader('F1_Data', glob='**/*.pdf', show_progress=True, loader_cls=PDFLoader)\n",
    "\n",
    "#docs = loader.load()\n",
    "#print(len(docs))\n",
    "\n",
    "from langchain.indexes import VectorstoreIndexCreator\n",
    "#index = VectorstoreIndexCreator().from_loaders([loader_csv, loader_pdf])\n",
    "\n"
   ],
   "metadata": {
    "collapsed": false,
    "ExecuteTime": {
     "start_time": "2024-01-05T15:37:09.228540600Z"
    }
   },
   "id": "968075ef6229cc33"
  },
  {
   "cell_type": "code",
   "execution_count": 2,
   "outputs": [],
   "source": [
    "# Function to read CSV files from a folder\n",
    "import os\n",
    "import pandas as pd\n",
    "def read_csv_folder(path):\n",
    "    df = pd.DataFrame()\n",
    "    for file in os.listdir(path):\n",
    "        if file.endswith(\".csv\"):\n",
    "            df = df.append(pd.read_csv(path + file))\n",
    "    return df\n",
    "\n",
    "# File to read ad preprocess the PDF files from a folder\n",
    "import os\n",
    "import pandas as pd\n",
    "from PyPDF2 import PdfReader\n",
    "from langchain.text_splitter import CharacterTextSplitter\n",
    "import re\n",
    "import numpy as np\n",
    "from langchain_community.document_loaders import PyPDFLoader\n",
    "from langchain.vectorstores import FAISS\n",
    "from langchain.embeddings import OpenAIEmbeddings\n",
    "\n",
    "def preprocess_pdf_files_for_LLM(path: str):\n",
    "    pdf_docs = []\n",
    "    for file in os.listdir(path):\n",
    "        if file.endswith(\".pdf\"):\n",
    "            pdf_docs.append(os.path.join(path, file))\n",
    "    text = \"\"\n",
    "    for pdf in pdf_docs:\n",
    "        pdf_reader = PdfReader(pdf)\n",
    "        for page in pdf_reader.pages:\n",
    "            text += page.extract_text()\n",
    "    text_splitter = CharacterTextSplitter(\n",
    "        separator=\"\\n\",\n",
    "        chunk_size=1000,\n",
    "        chunk_overlap=200,\n",
    "        length_function=len\n",
    "    )\n",
    "    chunks = text_splitter.split_text(text)\n",
    "\n",
    "    embeddings = OpenAIEmbeddings()\n",
    "    # embeddings = HuggingFaceInstructEmbeddings(model_name=\"hkunlp/instructor-xl\")\n",
    "    vectorstore = FAISS.from_texts(texts=chunks, embedding=embeddings)\n",
    "    return vectorstore"
   ],
   "metadata": {
    "collapsed": false,
    "ExecuteTime": {
     "end_time": "2024-01-05T16:58:43.299310100Z",
     "start_time": "2024-01-05T16:58:42.974262700Z"
    }
   },
   "id": "80baa726ef658508"
  },
  {
   "cell_type": "code",
   "execution_count": 4,
   "outputs": [],
   "source": [
    "pdf_files = preprocess_pdf_files_for_LLM(\"FinalData\\\\Articles\\\\\")"
   ],
   "metadata": {
    "collapsed": false,
    "ExecuteTime": {
     "end_time": "2024-01-05T16:59:38.086634300Z",
     "start_time": "2024-01-05T16:59:00.323932Z"
    }
   },
   "id": "7f6802277e1b773d"
  },
  {
   "cell_type": "code",
   "execution_count": 6,
   "outputs": [
    {
     "data": {
      "text/plain": "<langchain_community.vectorstores.faiss.FAISS at 0x21a8cb87010>"
     },
     "execution_count": 6,
     "metadata": {},
     "output_type": "execute_result"
    }
   ],
   "source": [
    "pdf_files"
   ],
   "metadata": {
    "collapsed": false,
    "ExecuteTime": {
     "end_time": "2024-01-05T17:00:23.307580200Z",
     "start_time": "2024-01-05T17:00:23.288125600Z"
    }
   },
   "id": "88343d4ce350e7f0"
  },
  {
   "cell_type": "code",
   "execution_count": null,
   "outputs": [],
   "source": [
    "# Feed JSON data to the agent\n",
    "from langchain.document_loaders import DirectoryLoader, TextLoader, CSVLoader\n",
    "from langchain_community.document_loaders import PyPDFLoader\n",
    "\n",
    "#loader = DirectoryLoader('F1_Data', glob='**/*.json', show_progress=True, loader_cls=TextLoader)\n",
    "loader_csv = DirectoryLoader('FinalData', show_progress=True, use_multithreading=True, loader_cls=CSVLoader, glob='**/*.csv')\n",
    "\n",
    "csv_docs = loader_csv.load()\n",
    "# loader for pdf\n",
    "#loader = DirectoryLoader('F1_Data', glob='**/*.pdf', show_progress=True, loader_cls=PDFLoader)\n",
    "\n",
    "#docs = loader.load()\n",
    "#print(len(docs))\n",
    "\n",
    "from langchain.indexes import VectorstoreIndexCreator\n",
    "#index = VectorstoreIndexCreator().from_loaders([loader_csv, loader_pdf])\n",
    "\n"
   ],
   "metadata": {
    "collapsed": false,
    "ExecuteTime": {
     "start_time": "2024-01-05T15:37:09.234544100Z"
    }
   },
   "id": "ff300846b40490f8"
  },
  {
   "cell_type": "code",
   "execution_count": null,
   "outputs": [],
   "source": [
    "# Feed pdf_files and csv_docs to the agent\n",
    "from langchain.document_loaders import DirectoryLoader, TextLoader, CSVLoader\n",
    "from langchain_community.document_loaders import PyPDFLoader\n",
    "\n",
    "#loader = DirectoryLoader('F1_Data', glob='**/*.json', show_progress=True, loader_cls=TextLoader)\n",
    "loader_csv = DirectoryLoader('FinalData', show_progress=True, use_multithreading=True, loader_cls=CSVLoader, glob='**/*.csv')\n",
    "loader_pdf = PyPDFLoader(file_path=\"FinalData\\\\Articles\\\\\")\n",
    "csv_docs = loader_csv.load()\n",
    "pdf_docs = loader_pdf.load_and_split()\n",
    "# loader for pdf\n",
    "#loader = DirectoryLoader('F1_Data', glob='**/*.pdf', show_progress=True, loader_cls=PDFLoader)\n"
   ],
   "metadata": {
    "collapsed": false,
    "ExecuteTime": {
     "start_time": "2024-01-05T15:37:09.235541300Z"
    }
   },
   "id": "8bad4965f5558a8e"
  },
  {
   "cell_type": "code",
   "execution_count": null,
   "outputs": [],
   "source": [
    "loader_pdf = DirectoryLoader(\"FinalData\\\\Articles\\\\\", loader_cls=PyPDFLoader, show_progress=True, use_multithreading=True, glob='**/*.pdf')\n",
    "pdf_docs = loader_pdf.load_and_split()\n",
    "\n"
   ],
   "metadata": {
    "collapsed": false,
    "ExecuteTime": {
     "end_time": "2024-01-05T15:37:09.257540Z",
     "start_time": "2024-01-05T15:37:09.236543400Z"
    }
   },
   "id": "72a5256e43f5d253"
  },
  {
   "cell_type": "code",
   "execution_count": null,
   "outputs": [],
   "source": [
    "from langchain.indexes import VectorstoreIndexCreator\n",
    "index = VectorstoreIndexCreator().from_loaders([loader_csv, loader_pdf])\n"
   ],
   "metadata": {
    "collapsed": false,
    "ExecuteTime": {
     "start_time": "2024-01-05T15:37:09.238541200Z"
    }
   },
   "id": "c7020ebcaa794593"
  },
  {
   "cell_type": "code",
   "execution_count": null,
   "outputs": [],
   "source": [
    "df_races"
   ],
   "metadata": {
    "collapsed": false,
    "ExecuteTime": {
     "start_time": "2024-01-05T15:37:09.239542100Z"
    }
   },
   "id": "5dde0b5c72e6dfbc"
  },
  {
   "cell_type": "code",
   "execution_count": null,
   "outputs": [],
   "source": [
    "df_drivers"
   ],
   "metadata": {
    "collapsed": false,
    "ExecuteTime": {
     "start_time": "2024-01-05T15:37:09.240542600Z"
    }
   },
   "id": "edb117068a75aa96"
  },
  {
   "cell_type": "code",
   "execution_count": null,
   "outputs": [],
   "source": [
    "from langchain.chains.question_answering import load_qa_chain\n",
    "prompt = \"In the fantasy, which driver had the most DNFs?\"\n",
    "index.query(prompt)\n",
    "\n"
   ],
   "metadata": {
    "collapsed": false,
    "ExecuteTime": {
     "start_time": "2024-01-05T15:37:09.241542300Z"
    }
   },
   "id": "d21dcc440370b2dd"
  },
  {
   "cell_type": "code",
   "execution_count": 3,
   "outputs": [
    {
     "name": "stdout",
     "output_type": "stream",
     "text": [
      "sk-LCAqduOz4rTSH8NhaGGhT3Bl\n"
     ]
    }
   ],
   "source": [
    "from util import local_settings\n",
    "#pip install --upgrade packaging\n",
    "\n",
    "client = OpenAI(api_key=local_settings.OPENAI_API_KEY)\n",
    "\n",
    "\n",
    "from langchain_experimental.agents.agent_toolkits import create_pandas_dataframe_agent\n",
    "#agent = create_pandas_dataframe_agent(client, [df_drivers, df_constructors, df_races], verbose=True)\n"
   ],
   "metadata": {
    "collapsed": false,
    "ExecuteTime": {
     "end_time": "2024-01-05T16:58:54.013911100Z",
     "start_time": "2024-01-05T16:58:52.952642300Z"
    }
   },
   "id": "add49104b9bd7a36"
  },
  {
   "cell_type": "code",
   "execution_count": null,
   "outputs": [],
   "source": [
    "agent.run(\"What was the average amount of points score by Verstappen in 2023? Give me the final result, and remember to ignore TotalPoints.\")\n"
   ],
   "metadata": {
    "collapsed": false,
    "ExecuteTime": {
     "start_time": "2024-01-05T15:37:09.244539500Z"
    }
   },
   "id": "1f50828c63e2f6fa"
  }
 ],
 "metadata": {
  "kernelspec": {
   "display_name": "Python 3",
   "language": "python",
   "name": "python3"
  },
  "language_info": {
   "codemirror_mode": {
    "name": "ipython",
    "version": 2
   },
   "file_extension": ".py",
   "mimetype": "text/x-python",
   "name": "python",
   "nbconvert_exporter": "python",
   "pygments_lexer": "ipython2",
   "version": "2.7.6"
  }
 },
 "nbformat": 4,
 "nbformat_minor": 5
}
