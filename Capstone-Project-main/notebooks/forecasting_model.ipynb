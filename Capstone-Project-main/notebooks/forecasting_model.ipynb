{
 "cells": [
  {
   "cell_type": "code",
   "execution_count": 1,
   "metadata": {},
   "outputs": [
    {
     "name": "stdout",
     "output_type": "stream",
     "text": [
      "<class 'pandas.core.frame.DataFrame'>\n",
      "Index: 857 entries, 1 to 858\n",
      "Data columns (total 8 columns):\n",
      " #   Column       Non-Null Count  Dtype \n",
      "---  ------       --------------  ----- \n",
      " 0   driverRef    857 non-null    object\n",
      " 1   number       857 non-null    object\n",
      " 2   code         857 non-null    object\n",
      " 3   forename     857 non-null    object\n",
      " 4   surname      857 non-null    object\n",
      " 5   dob          857 non-null    object\n",
      " 6   nationality  857 non-null    object\n",
      " 7   url          857 non-null    object\n",
      "dtypes: object(8)\n",
      "memory usage: 60.3+ KB\n",
      "<class 'pandas.core.frame.DataFrame'>\n",
      "Index: 77 entries, 1 to 79\n",
      "Data columns (total 8 columns):\n",
      " #   Column      Non-Null Count  Dtype  \n",
      "---  ------      --------------  -----  \n",
      " 0   circuitRef  77 non-null     object \n",
      " 1   name        77 non-null     object \n",
      " 2   location    77 non-null     object \n",
      " 3   country     77 non-null     object \n",
      " 4   lat         77 non-null     float64\n",
      " 5   lng         77 non-null     float64\n",
      " 6   alt         77 non-null     object \n",
      " 7   url         77 non-null     object \n",
      "dtypes: float64(2), object(6)\n",
      "memory usage: 5.4+ KB\n",
      "<class 'pandas.core.frame.DataFrame'>\n",
      "Index: 26080 entries, 1 to 26085\n",
      "Data columns (total 17 columns):\n",
      " #   Column           Non-Null Count  Dtype  \n",
      "---  ------           --------------  -----  \n",
      " 0   raceId           26080 non-null  int64  \n",
      " 1   driverId         26080 non-null  int64  \n",
      " 2   constructorId    26080 non-null  int64  \n",
      " 3   number           26080 non-null  object \n",
      " 4   grid             26080 non-null  int64  \n",
      " 5   position         26080 non-null  object \n",
      " 6   positionText     26080 non-null  object \n",
      " 7   positionOrder    26080 non-null  int64  \n",
      " 8   points           26080 non-null  float64\n",
      " 9   laps             26080 non-null  int64  \n",
      " 10  time             26080 non-null  object \n",
      " 11  milliseconds     26080 non-null  object \n",
      " 12  fastestLap       26080 non-null  object \n",
      " 13  rank             26080 non-null  object \n",
      " 14  fastestLapTime   26080 non-null  object \n",
      " 15  fastestLapSpeed  26080 non-null  object \n",
      " 16  statusId         26080 non-null  int64  \n",
      "dtypes: float64(1), int64(7), object(9)\n",
      "memory usage: 3.6+ MB\n"
     ]
    }
   ],
   "source": [
    "import pandas as pd\n",
    "import numpy as np \n",
    "from pathlib import Path\n",
    "from warnings import simplefilter\n",
    "simplefilter(\"ignore\")  # ignore warnings to clean up output cells\n",
    "from sklearn.linear_model import LinearRegression\n",
    "import matplotlib.pyplot as plt\n",
    "#################### DATA ############################\n",
    "\n",
    "data = pd.read_csv('data/data2022_2023.csv')\n",
    "results = pd.read_csv('data/results.csv', index_col = 'resultId')\n",
    "drivers = pd.read_csv('data/drivers.csv', index_col = 'driverId')\n",
    "circuits = pd.read_csv('data/circuits.csv', index_col = 'circuitId')\n",
    "races = pd.read_csv('data/races.csv', index_col = 'raceId')\n",
    "stand = pd.read_csv('data/driver_standings.csv', index_col= 'driverStandingsId')\n",
    "drivers.info()\n",
    "circuits.info()\n",
    "results.info()\n",
    "results.head()\n",
    "circuits.head()\n",
    "drivers.head()\n",
    "results.raceId.value_counts()\n",
    "results[results.raceId == 800].T\n",
    "drivers.loc[509]\n",
    "# trying to forecast the future year ending results for HAMILTON\n",
    "\n",
    "hami_results = results[results['driverId'] == 1].loc[:,['raceId','position', 'points', 'rank']]\n",
    "hami_results  \n",
    "hami_results.replace('\\\\N', np.nan, inplace=True)\n",
    "np.where(hami_results.isna())[0]\n",
    "hami_results = hami_results.dropna()\n",
    "############################################################################################\n",
    "########## Simple Predictions ###########\n",
    "# predicting position\n",
    "# Training data\n",
    "\n",
    "'''X = hami_results.loc[:, ['raceId']]  # features\n",
    "y = hami_results.loc[:, 'position']  # target\n",
    "# Train the model\n",
    "model = LinearRegression()\n",
    "model.fit(X, y)\n",
    "# Store the fitted values as a time series with the same time index as\n",
    "# the training data\n",
    "y_pred = pd.Series(model.predict(X), index=X.index)\n",
    "ax = y_pred.plot()\n",
    "ax.set_title('Hamiltons finishing positions through his races')'''\n",
    "\n",
    "'''# predicting points\n",
    "# Training data\n",
    "X = hami_results.loc[:, ['raceId']]  # features\n",
    "y = hami_results.loc[:, 'points']  # target\n",
    "# Train the model\n",
    "model = LinearRegression()\n",
    "model.fit(X, y)\n",
    "# Store the fitted values as a time series with the same time index as\n",
    "# the training data\n",
    "y_pred = pd.Series(model.predict(X), index=X.index)\n",
    "ax = y_pred.plot()\n",
    "ax.set_title('Hamiltons points through his races')'''\n",
    "######### Lag Variables #########\n",
    "\n",
    "'''hami_results['Lag_1'] = hami_results['points'].shift(1)\n",
    "X = hami_results.loc[:, ['Lag_1']]\n",
    "X.dropna(inplace=True)  # drop missing values in the feature set\n",
    "y = hami_results.loc[:, 'points']  # create the target\n",
    "y, X = y.align(X, join='inner')  # drop corresponding values in target\n",
    "model = LinearRegression()\n",
    "model.fit(X, y)\n",
    "y_pred = pd.Series(model.predict(X), index=X.index)\n",
    "fig, ax = plt.subplots()\n",
    "ax.plot(X['Lag_1'], y, '.', color='0.25')\n",
    "ax.plot(X['Lag_1'], y_pred)\n",
    "ax.set_aspect('equal')\n",
    "ax.set_ylabel('points')\n",
    "ax.set_xlabel('Lag_1')\n",
    "ax.set_title('Lag Plot of points scored by Hamilton')\n",
    "ax = y_pred.plot()'''\n",
    "##################### CNN ########################\n",
    "\n",
    "from keras.models import Sequential\n",
    "from keras.layers import Conv1D, MaxPooling1D, Flatten, Dense"
   ]
  },
  {
   "cell_type": "code",
   "execution_count": 2,
   "metadata": {},
   "outputs": [],
   "source": [
    "hami_results\n",
    "# Convert the dataset to float32\n",
    "\n",
    "hami_results = hami_results.astype('float16')"
   ]
  },
  {
   "cell_type": "code",
   "execution_count": 3,
   "metadata": {},
   "outputs": [],
   "source": [
    "selected_X_data = hami_results.iloc[:, [0, 2, 3]]"
   ]
  },
  {
   "cell_type": "code",
   "execution_count": 4,
   "metadata": {},
   "outputs": [],
   "source": [
    "\n",
    "selected_y_data = hami_results.position"
   ]
  },
  {
   "cell_type": "code",
   "execution_count": 5,
   "metadata": {},
   "outputs": [],
   "source": [
    "\n",
    "\n",
    "selected_X_data = selected_X_data.values.reshape(-1, 12, 2)  # Assuming n_steps=3 and n_features=1"
   ]
  },
  {
   "cell_type": "code",
   "execution_count": 6,
   "metadata": {},
   "outputs": [],
   "source": [
    "selected_y_data = selected_y_data.values.reshape(-1, 2, 2)  # Assuming n_steps=3 and n_features=1"
   ]
  },
  {
   "cell_type": "code",
   "execution_count": 7,
   "metadata": {},
   "outputs": [],
   "source": [
    "model = Sequential()\n",
    "model.add(Conv1D(filters=64, kernel_size=2, activation='relu', input_shape=(10, 3)))\n",
    "model.add(MaxPooling1D(pool_size=2))\n",
    "model.add(Flatten())\n",
    "model.add(Dense(50, activation='relu'))\n",
    "model.add(Dense(1))\n",
    "model.compile(optimizer='adam', loss='mse')"
   ]
  },
  {
   "cell_type": "code",
   "execution_count": 8,
   "metadata": {},
   "outputs": [],
   "source": [
    "X_train = selected_X_data  # Assuming selected_data is your input data"
   ]
  },
  {
   "cell_type": "code",
   "execution_count": 9,
   "metadata": {},
   "outputs": [],
   "source": [
    "y_train = selected_y_data  # Assuming y_train is your target data"
   ]
  },
  {
   "cell_type": "code",
   "execution_count": 10,
   "metadata": {},
   "outputs": [
    {
     "name": "stdout",
     "output_type": "stream",
     "text": [
      "(37, 12, 2)\n"
     ]
    }
   ],
   "source": [
    "print(X_train.shape)"
   ]
  },
  {
   "cell_type": "code",
   "execution_count": 11,
   "metadata": {},
   "outputs": [
    {
     "name": "stdout",
     "output_type": "stream",
     "text": [
      "(74, 2, 2)\n"
     ]
    }
   ],
   "source": [
    "print(y_train.shape)"
   ]
  },
  {
   "cell_type": "code",
   "execution_count": 12,
   "metadata": {},
   "outputs": [
    {
     "ename": "ValueError",
     "evalue": "Data cardinality is ambiguous:\n  x sizes: 37\n  y sizes: 74\nMake sure all arrays contain the same number of samples.",
     "output_type": "error",
     "traceback": [
      "\u001b[1;31m---------------------------------------------------------------------------\u001b[0m",
      "\u001b[1;31mValueError\u001b[0m                                Traceback (most recent call last)",
      "\u001b[1;32mc:\\Programinhas\\Git Repositories\\Capstone-Project\\forecasting_model.py\u001b[0m in \u001b[0;36mline 1\n\u001b[1;32m----> <a href='file:///c%3A/Programinhas/Git%20Repositories/Capstone-Project/forecasting_model.py?line=142'>143</a>\u001b[0m model\u001b[39m.\u001b[39;49mfit(X_train, y_train, epochs\u001b[39m=\u001b[39;49m\u001b[39m10\u001b[39;49m)\n",
      "File \u001b[1;32m~\\AppData\\Roaming\\Python\\Python311\\site-packages\\keras\\src\\utils\\traceback_utils.py:70\u001b[0m, in \u001b[0;36mfilter_traceback.<locals>.error_handler\u001b[1;34m(*args, **kwargs)\u001b[0m\n\u001b[0;32m     <a href='file:///c%3A/Users/Martin/AppData/Roaming/Python/Python311/site-packages/keras/src/utils/traceback_utils.py?line=66'>67</a>\u001b[0m     filtered_tb \u001b[39m=\u001b[39m _process_traceback_frames(e\u001b[39m.\u001b[39m__traceback__)\n\u001b[0;32m     <a href='file:///c%3A/Users/Martin/AppData/Roaming/Python/Python311/site-packages/keras/src/utils/traceback_utils.py?line=67'>68</a>\u001b[0m     \u001b[39m# To get the full stack trace, call:\u001b[39;00m\n\u001b[0;32m     <a href='file:///c%3A/Users/Martin/AppData/Roaming/Python/Python311/site-packages/keras/src/utils/traceback_utils.py?line=68'>69</a>\u001b[0m     \u001b[39m# `tf.debugging.disable_traceback_filtering()`\u001b[39;00m\n\u001b[1;32m---> <a href='file:///c%3A/Users/Martin/AppData/Roaming/Python/Python311/site-packages/keras/src/utils/traceback_utils.py?line=69'>70</a>\u001b[0m     \u001b[39mraise\u001b[39;00m e\u001b[39m.\u001b[39mwith_traceback(filtered_tb) \u001b[39mfrom\u001b[39;00m \u001b[39mNone\u001b[39;00m\n\u001b[0;32m     <a href='file:///c%3A/Users/Martin/AppData/Roaming/Python/Python311/site-packages/keras/src/utils/traceback_utils.py?line=70'>71</a>\u001b[0m \u001b[39mfinally\u001b[39;00m:\n\u001b[0;32m     <a href='file:///c%3A/Users/Martin/AppData/Roaming/Python/Python311/site-packages/keras/src/utils/traceback_utils.py?line=71'>72</a>\u001b[0m     \u001b[39mdel\u001b[39;00m filtered_tb\n",
      "File \u001b[1;32m~\\AppData\\Roaming\\Python\\Python311\\site-packages\\keras\\src\\engine\\data_adapter.py:1960\u001b[0m, in \u001b[0;36m_check_data_cardinality\u001b[1;34m(data)\u001b[0m\n\u001b[0;32m   <a href='file:///c%3A/Users/Martin/AppData/Roaming/Python/Python311/site-packages/keras/src/engine/data_adapter.py?line=1952'>1953</a>\u001b[0m     msg \u001b[39m+\u001b[39m\u001b[39m=\u001b[39m \u001b[39m\"\u001b[39m\u001b[39m  \u001b[39m\u001b[39m{}\u001b[39;00m\u001b[39m sizes: \u001b[39m\u001b[39m{}\u001b[39;00m\u001b[39m\\n\u001b[39;00m\u001b[39m\"\u001b[39m\u001b[39m.\u001b[39mformat(\n\u001b[0;32m   <a href='file:///c%3A/Users/Martin/AppData/Roaming/Python/Python311/site-packages/keras/src/engine/data_adapter.py?line=1953'>1954</a>\u001b[0m         label,\n\u001b[0;32m   <a href='file:///c%3A/Users/Martin/AppData/Roaming/Python/Python311/site-packages/keras/src/engine/data_adapter.py?line=1954'>1955</a>\u001b[0m         \u001b[39m\"\u001b[39m\u001b[39m, \u001b[39m\u001b[39m\"\u001b[39m\u001b[39m.\u001b[39mjoin(\n\u001b[0;32m   <a href='file:///c%3A/Users/Martin/AppData/Roaming/Python/Python311/site-packages/keras/src/engine/data_adapter.py?line=1955'>1956</a>\u001b[0m             \u001b[39mstr\u001b[39m(i\u001b[39m.\u001b[39mshape[\u001b[39m0\u001b[39m]) \u001b[39mfor\u001b[39;00m i \u001b[39min\u001b[39;00m tf\u001b[39m.\u001b[39mnest\u001b[39m.\u001b[39mflatten(single_data)\n\u001b[0;32m   <a href='file:///c%3A/Users/Martin/AppData/Roaming/Python/Python311/site-packages/keras/src/engine/data_adapter.py?line=1956'>1957</a>\u001b[0m         ),\n\u001b[0;32m   <a href='file:///c%3A/Users/Martin/AppData/Roaming/Python/Python311/site-packages/keras/src/engine/data_adapter.py?line=1957'>1958</a>\u001b[0m     )\n\u001b[0;32m   <a href='file:///c%3A/Users/Martin/AppData/Roaming/Python/Python311/site-packages/keras/src/engine/data_adapter.py?line=1958'>1959</a>\u001b[0m msg \u001b[39m+\u001b[39m\u001b[39m=\u001b[39m \u001b[39m\"\u001b[39m\u001b[39mMake sure all arrays contain the same number of samples.\u001b[39m\u001b[39m\"\u001b[39m\n\u001b[1;32m-> <a href='file:///c%3A/Users/Martin/AppData/Roaming/Python/Python311/site-packages/keras/src/engine/data_adapter.py?line=1959'>1960</a>\u001b[0m \u001b[39mraise\u001b[39;00m \u001b[39mValueError\u001b[39;00m(msg)\n",
      "\u001b[1;31mValueError\u001b[0m: Data cardinality is ambiguous:\n  x sizes: 37\n  y sizes: 74\nMake sure all arrays contain the same number of samples."
     ]
    }
   ],
   "source": [
    "model.fit(X_train, y_train, epochs=10)"
   ]
  },
  {
   "cell_type": "code",
   "execution_count": 13,
   "metadata": {},
   "outputs": [
    {
     "ename": "AttributeError",
     "evalue": "'numpy.ndarray' object has no attribute 'values'",
     "output_type": "error",
     "traceback": [
      "\u001b[1;31m---------------------------------------------------------------------------\u001b[0m",
      "\u001b[1;31mAttributeError\u001b[0m                            Traceback (most recent call last)",
      "\u001b[1;32mc:\\Programinhas\\Git Repositories\\Capstone-Project\\forecasting_model.py\u001b[0m in \u001b[0;36mline 1\n\u001b[1;32m----> <a href='file:///c%3A/Programinhas/Git%20Repositories/Capstone-Project/forecasting_model.py?line=123'>124</a>\u001b[0m selected_X_data \u001b[39m=\u001b[39m selected_X_data\u001b[39m.\u001b[39;49mvalues\u001b[39m.\u001b[39mreshape(\u001b[39m-\u001b[39m\u001b[39m1\u001b[39m, \u001b[39m2\u001b[39m, \u001b[39m2\u001b[39m)  \u001b[39m# Assuming n_steps=3 and n_features=1\u001b[39;00m\n",
      "\u001b[1;31mAttributeError\u001b[0m: 'numpy.ndarray' object has no attribute 'values'"
     ]
    }
   ],
   "source": [
    "selected_X_data = selected_X_data.values.reshape(-1, 2, 2)  # Assuming n_steps=3 and n_features=1"
   ]
  },
  {
   "cell_type": "code",
   "execution_count": 14,
   "metadata": {},
   "outputs": [
    {
     "ename": "AttributeError",
     "evalue": "'numpy.ndarray' object has no attribute 'values'",
     "output_type": "error",
     "traceback": [
      "\u001b[1;31m---------------------------------------------------------------------------\u001b[0m",
      "\u001b[1;31mAttributeError\u001b[0m                            Traceback (most recent call last)",
      "Cell \u001b[1;32mIn[14], line 1\u001b[0m\n\u001b[1;32m----> 1\u001b[0m selected_X_data\u001b[39m.\u001b[39;49mvalues\u001b[39m.\u001b[39mshape\n",
      "\u001b[1;31mAttributeError\u001b[0m: 'numpy.ndarray' object has no attribute 'values'"
     ]
    }
   ],
   "source": [
    "selected_X_data.values.shape"
   ]
  },
  {
   "cell_type": "code",
   "execution_count": 15,
   "metadata": {},
   "outputs": [
    {
     "data": {
      "text/plain": [
       "(37, 12, 2)"
      ]
     },
     "execution_count": 15,
     "metadata": {},
     "output_type": "execute_result"
    }
   ],
   "source": [
    "selected_X_data.shape"
   ]
  },
  {
   "cell_type": "code",
   "execution_count": 16,
   "metadata": {},
   "outputs": [],
   "source": [
    "selected_X_data = hami_results.iloc[:, [0, 2, 3]]"
   ]
  },
  {
   "cell_type": "code",
   "execution_count": 17,
   "metadata": {},
   "outputs": [
    {
     "data": {
      "text/plain": [
       "(296, 3)"
      ]
     },
     "execution_count": 17,
     "metadata": {},
     "output_type": "execute_result"
    }
   ],
   "source": [
    "selected_X_data.shape"
   ]
  },
  {
   "cell_type": "code",
   "execution_count": 18,
   "metadata": {},
   "outputs": [],
   "source": [
    "selected_y_data = hami_results.position"
   ]
  },
  {
   "cell_type": "code",
   "execution_count": 19,
   "metadata": {},
   "outputs": [
    {
     "data": {
      "text/plain": [
       "(296,)"
      ]
     },
     "execution_count": 19,
     "metadata": {},
     "output_type": "execute_result"
    }
   ],
   "source": [
    "selected_y_data.shape"
   ]
  }
 ],
 "metadata": {
  "language_info": {
   "codemirror_mode": {
    "name": "ipython",
    "version": 3
   },
   "file_extension": ".py",
   "mimetype": "text/x-python",
   "name": "python",
   "nbconvert_exporter": "python",
   "pygments_lexer": "ipython3",
   "version": 3
  },
  "orig_nbformat": 4
 },
 "nbformat": 4,
 "nbformat_minor": 2
}
