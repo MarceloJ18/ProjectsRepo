{
 "cells": [
  {
   "cell_type": "code",
   "execution_count": 1,
   "id": "initial_id",
   "metadata": {
    "collapsed": true,
    "ExecuteTime": {
     "end_time": "2024-01-06T19:02:38.186516400Z",
     "start_time": "2024-01-06T19:02:35.669312500Z"
    }
   },
   "outputs": [],
   "source": [
    "from langchain.agents.agent_types import AgentType\n",
    "from langchain.chat_models import ChatOpenAI\n",
    "import pandas as pd\n",
    "from langchain.llms import OpenAI\n",
    "import os\n",
    "import pandas as pd"
   ]
  },
  {
   "cell_type": "code",
   "execution_count": null,
   "outputs": [],
   "source": [
    "# Feed JSON data to the agent\n",
    "from langchain.document_loaders import DirectoryLoader, TextLoader, CSVLoader\n",
    "from langchain_community.document_loaders import PyPDFLoader\n",
    "\n",
    "#loader = DirectoryLoader('F1_Data', glob='**/*.json', show_progress=True, loader_cls=TextLoader)\n",
    "loader_csv = DirectoryLoader('FinalData', show_progress=True, use_multithreading=True, loader_cls=CSVLoader, glob='**/*.csv')\n",
    "\n",
    "csv_docs = loader_csv.load()\n",
    "# loader for pdf\n",
    "#loader = DirectoryLoader('F1_Data', glob='**/*.pdf', show_progress=True, loader_cls=PDFLoader)\n",
    "\n",
    "#docs = loader.load()\n",
    "#print(len(docs))\n",
    "\n",
    "from langchain.indexes import VectorstoreIndexCreator\n",
    "#index = VectorstoreIndexCreator().from_loaders([loader_csv, loader_pdf])\n",
    "\n"
   ],
   "metadata": {
    "collapsed": false
   },
   "id": "4b3f06718db9977c"
  },
  {
   "cell_type": "code",
   "execution_count": 2,
   "outputs": [
    {
     "name": "stdout",
     "output_type": "stream",
     "text": [
      "sk-LCAqduOz4rTSH8NhaGGhT3Bl\n"
     ]
    }
   ],
   "source": [
    "from langchain_experimental.agents.agent_toolkits import create_python_agent\n",
    "from langchain.agents import load_tools, initialize_agent\n",
    "from langchain.agents import AgentType\n",
    "from langchain_experimental.tools.python.tool import PythonREPLTool\n",
    "from langchain.python import PythonREPL\n",
    "from langchain.chat_models import ChatOpenAI\n",
    "from util import local_settings\n",
    "# !pip install wikipedia\n",
    "model=\"gpt-3.5-turbo\"\n",
    "from langchain.document_loaders import DirectoryLoader, TextLoader, CSVLoader\n",
    "from langchain_community.document_loaders import PyPDFLoader\n",
    "\n"
   ],
   "metadata": {
    "collapsed": false,
    "ExecuteTime": {
     "end_time": "2024-01-06T19:02:41.090123700Z",
     "start_time": "2024-01-06T19:02:40.329453200Z"
    }
   },
   "id": "625010bc5b4b1e65"
  },
  {
   "cell_type": "code",
   "execution_count": 3,
   "outputs": [],
   "source": [
    "import os\n",
    "import pandas as pd\n",
    "from PyPDF2 import PdfReader\n",
    "from langchain.text_splitter import CharacterTextSplitter\n",
    "import re\n",
    "import numpy as np\n",
    "from langchain_community.document_loaders import PyPDFLoader\n",
    "from langchain.vectorstores import FAISS\n",
    "from langchain.embeddings import OpenAIEmbeddings\n",
    "\n",
    "\n",
    "def preprocess_pdf_files_for_LLM(path: str):\n",
    "    pdf_docs = []\n",
    "    for file in os.listdir(path):\n",
    "        if file.endswith(\".pdf\"):\n",
    "            pdf_docs.append(os.path.join(path, file))\n",
    "    text = \"\"\n",
    "    for pdf in pdf_docs:\n",
    "        pdf_reader = PdfReader(pdf)\n",
    "        for page in pdf_reader.pages:\n",
    "            text += page.extract_text()\n",
    "    text_splitter = CharacterTextSplitter(\n",
    "        separator=\"\\n\",\n",
    "        chunk_size=1000,\n",
    "        chunk_overlap=200,\n",
    "        length_function=len\n",
    "    )\n",
    "    chunks = text_splitter.split_text(text)\n",
    "\n",
    "    embeddings = OpenAIEmbeddings()\n",
    "    # embeddings = HuggingFaceInstructEmbeddings(model_name=\"hkunlp/instructor-xl\")\n",
    "    vectorstore = FAISS.from_texts(texts=chunks, embedding=embeddings)\n",
    "    return vectorstore\n",
    "\n",
    "def preprocess_csv_files_for_LLM(path: str):\n",
    "    csv_docs = []\n",
    "    for file in os.listdir(path):\n",
    "        if file.endswith(\".csv\"):\n",
    "            csv_docs.append(os.path.join(path, file))\n",
    "    text = \"\"\n",
    "    for csv in csv_docs:\n",
    "        df = pd.read_csv(csv)\n",
    "        for col in df.columns:\n",
    "            text += col + \"\\n\"\n",
    "            for row in df[col]:\n",
    "                text += str(row) + \"\\n\"\n",
    "    text_splitter = CharacterTextSplitter(\n",
    "        separator=\"\\n\",\n",
    "        chunk_size=1000,\n",
    "        chunk_overlap=200,\n",
    "        length_function=len\n",
    "    )\n",
    "    chunks = text_splitter.split_text(text)\n",
    "\n",
    "    embeddings = OpenAIEmbeddings()\n",
    "    # embeddings = HuggingFaceInstructEmbeddings(model_name=\"hkunlp/instructor-xl\")\n",
    "    vectorstore = FAISS.from_texts(texts=chunks, embedding=embeddings)\n",
    "    return vectorstore\n",
    "\n",
    "#pdf_files = preprocess_pdf_files_for_LLM(\"FinalData\\\\Articles\\\\\")\n",
    "#csv_files = preprocess_csv_files_for_LLM(\"FinalData\\\\\")"
   ],
   "metadata": {
    "collapsed": false,
    "ExecuteTime": {
     "end_time": "2024-01-06T03:07:53.206077600Z",
     "start_time": "2024-01-06T03:07:53.058998700Z"
    }
   },
   "id": "e45ee21c1428fbfa"
  },
  {
   "cell_type": "code",
   "execution_count": 4,
   "outputs": [],
   "source": [
    "pdf_files = preprocess_pdf_files_for_LLM(\"FinalData\\\\Articles\\\\\")"
   ],
   "metadata": {
    "collapsed": false,
    "ExecuteTime": {
     "end_time": "2024-01-06T03:08:36.110553300Z",
     "start_time": "2024-01-06T03:07:54.025210700Z"
    }
   },
   "id": "3fb6d7d05d3c9a"
  },
  {
   "cell_type": "code",
   "execution_count": 15,
   "outputs": [],
   "source": [
    "csv_files = preprocess_csv_files_for_LLM(\"FinalData\\\\A.FantasyF1_2023\\\\\")"
   ],
   "metadata": {
    "collapsed": false,
    "ExecuteTime": {
     "end_time": "2024-01-06T00:51:02.355962400Z",
     "start_time": "2024-01-06T00:51:00.938129300Z"
    }
   },
   "id": "3df1e023f3f150da"
  },
  {
   "cell_type": "code",
   "execution_count": 17,
   "outputs": [
    {
     "ename": "RateLimitError",
     "evalue": "Error code: 429 - {'error': {'message': 'Rate limit reached for text-embedding-ada-002 in organization org-xThP8bDChYedB4a2IVODMlAy on tokens per min (TPM): Limit 1000000, Used 337802, Requested 685334. Please try again in 1.388s. Visit https://platform.openai.com/account/rate-limits to learn more.', 'type': 'tokens', 'param': None, 'code': 'rate_limit_exceeded'}}",
     "output_type": "error",
     "traceback": [
      "\u001B[1;31m---------------------------------------------------------------------------\u001B[0m",
      "\u001B[1;31mRateLimitError\u001B[0m                            Traceback (most recent call last)",
      "Cell \u001B[1;32mIn[17], line 1\u001B[0m\n\u001B[1;32m----> 1\u001B[0m csv_files2 \u001B[38;5;241m=\u001B[39m preprocess_csv_files_for_LLM(\u001B[38;5;124m\"\u001B[39m\u001B[38;5;124mFinalData\u001B[39m\u001B[38;5;130;01m\\\\\u001B[39;00m\u001B[38;5;124mF1_Data\u001B[39m\u001B[38;5;130;01m\\\\\u001B[39;00m\u001B[38;5;124m\"\u001B[39m)\n",
      "Cell \u001B[1;32mIn[13], line 57\u001B[0m, in \u001B[0;36mpreprocess_csv_files_for_LLM\u001B[1;34m(path)\u001B[0m\n\u001B[0;32m     55\u001B[0m embeddings \u001B[38;5;241m=\u001B[39m OpenAIEmbeddings()\n\u001B[0;32m     56\u001B[0m \u001B[38;5;66;03m# embeddings = HuggingFaceInstructEmbeddings(model_name=\"hkunlp/instructor-xl\")\u001B[39;00m\n\u001B[1;32m---> 57\u001B[0m vectorstore \u001B[38;5;241m=\u001B[39m FAISS\u001B[38;5;241m.\u001B[39mfrom_texts(texts\u001B[38;5;241m=\u001B[39mchunks, embedding\u001B[38;5;241m=\u001B[39membeddings)\n\u001B[0;32m     58\u001B[0m \u001B[38;5;28;01mreturn\u001B[39;00m vectorstore\n",
      "File \u001B[1;32m~\\anaconda3\\envs\\GPT_env2\\Lib\\site-packages\\langchain_community\\vectorstores\\faiss.py:914\u001B[0m, in \u001B[0;36mFAISS.from_texts\u001B[1;34m(cls, texts, embedding, metadatas, ids, **kwargs)\u001B[0m\n\u001B[0;32m    887\u001B[0m \u001B[38;5;129m@classmethod\u001B[39m\n\u001B[0;32m    888\u001B[0m \u001B[38;5;28;01mdef\u001B[39;00m \u001B[38;5;21mfrom_texts\u001B[39m(\n\u001B[0;32m    889\u001B[0m     \u001B[38;5;28mcls\u001B[39m,\n\u001B[1;32m   (...)\u001B[0m\n\u001B[0;32m    894\u001B[0m     \u001B[38;5;241m*\u001B[39m\u001B[38;5;241m*\u001B[39mkwargs: Any,\n\u001B[0;32m    895\u001B[0m ) \u001B[38;5;241m-\u001B[39m\u001B[38;5;241m>\u001B[39m FAISS:\n\u001B[0;32m    896\u001B[0m \u001B[38;5;250m    \u001B[39m\u001B[38;5;124;03m\"\"\"Construct FAISS wrapper from raw documents.\u001B[39;00m\n\u001B[0;32m    897\u001B[0m \n\u001B[0;32m    898\u001B[0m \u001B[38;5;124;03m    This is a user friendly interface that:\u001B[39;00m\n\u001B[1;32m   (...)\u001B[0m\n\u001B[0;32m    912\u001B[0m \u001B[38;5;124;03m            faiss = FAISS.from_texts(texts, embeddings)\u001B[39;00m\n\u001B[0;32m    913\u001B[0m \u001B[38;5;124;03m    \"\"\"\u001B[39;00m\n\u001B[1;32m--> 914\u001B[0m     embeddings \u001B[38;5;241m=\u001B[39m embedding\u001B[38;5;241m.\u001B[39membed_documents(texts)\n\u001B[0;32m    915\u001B[0m     \u001B[38;5;28;01mreturn\u001B[39;00m \u001B[38;5;28mcls\u001B[39m\u001B[38;5;241m.\u001B[39m__from(\n\u001B[0;32m    916\u001B[0m         texts,\n\u001B[0;32m    917\u001B[0m         embeddings,\n\u001B[1;32m   (...)\u001B[0m\n\u001B[0;32m    921\u001B[0m         \u001B[38;5;241m*\u001B[39m\u001B[38;5;241m*\u001B[39mkwargs,\n\u001B[0;32m    922\u001B[0m     )\n",
      "File \u001B[1;32m~\\anaconda3\\envs\\GPT_env2\\Lib\\site-packages\\langchain_community\\embeddings\\openai.py:667\u001B[0m, in \u001B[0;36mOpenAIEmbeddings.embed_documents\u001B[1;34m(self, texts, chunk_size)\u001B[0m\n\u001B[0;32m    664\u001B[0m \u001B[38;5;66;03m# NOTE: to keep things simple, we assume the list may contain texts longer\u001B[39;00m\n\u001B[0;32m    665\u001B[0m \u001B[38;5;66;03m#       than the maximum context and use length-safe embedding function.\u001B[39;00m\n\u001B[0;32m    666\u001B[0m engine \u001B[38;5;241m=\u001B[39m cast(\u001B[38;5;28mstr\u001B[39m, \u001B[38;5;28mself\u001B[39m\u001B[38;5;241m.\u001B[39mdeployment)\n\u001B[1;32m--> 667\u001B[0m \u001B[38;5;28;01mreturn\u001B[39;00m \u001B[38;5;28mself\u001B[39m\u001B[38;5;241m.\u001B[39m_get_len_safe_embeddings(texts, engine\u001B[38;5;241m=\u001B[39mengine)\n",
      "File \u001B[1;32m~\\anaconda3\\envs\\GPT_env2\\Lib\\site-packages\\langchain_community\\embeddings\\openai.py:493\u001B[0m, in \u001B[0;36mOpenAIEmbeddings._get_len_safe_embeddings\u001B[1;34m(self, texts, engine, chunk_size)\u001B[0m\n\u001B[0;32m    491\u001B[0m batched_embeddings: List[List[\u001B[38;5;28mfloat\u001B[39m]] \u001B[38;5;241m=\u001B[39m []\n\u001B[0;32m    492\u001B[0m \u001B[38;5;28;01mfor\u001B[39;00m i \u001B[38;5;129;01min\u001B[39;00m _iter:\n\u001B[1;32m--> 493\u001B[0m     response \u001B[38;5;241m=\u001B[39m embed_with_retry(\n\u001B[0;32m    494\u001B[0m         \u001B[38;5;28mself\u001B[39m,\n\u001B[0;32m    495\u001B[0m         \u001B[38;5;28minput\u001B[39m\u001B[38;5;241m=\u001B[39mtokens[i : i \u001B[38;5;241m+\u001B[39m _chunk_size],\n\u001B[0;32m    496\u001B[0m         \u001B[38;5;241m*\u001B[39m\u001B[38;5;241m*\u001B[39m\u001B[38;5;28mself\u001B[39m\u001B[38;5;241m.\u001B[39m_invocation_params,\n\u001B[0;32m    497\u001B[0m     )\n\u001B[0;32m    498\u001B[0m     \u001B[38;5;28;01mif\u001B[39;00m \u001B[38;5;129;01mnot\u001B[39;00m \u001B[38;5;28misinstance\u001B[39m(response, \u001B[38;5;28mdict\u001B[39m):\n\u001B[0;32m    499\u001B[0m         response \u001B[38;5;241m=\u001B[39m response\u001B[38;5;241m.\u001B[39mdict()\n",
      "File \u001B[1;32m~\\anaconda3\\envs\\GPT_env2\\Lib\\site-packages\\langchain_community\\embeddings\\openai.py:115\u001B[0m, in \u001B[0;36membed_with_retry\u001B[1;34m(embeddings, **kwargs)\u001B[0m\n\u001B[0;32m    113\u001B[0m \u001B[38;5;250m\u001B[39m\u001B[38;5;124;03m\"\"\"Use tenacity to retry the embedding call.\"\"\"\u001B[39;00m\n\u001B[0;32m    114\u001B[0m \u001B[38;5;28;01mif\u001B[39;00m _is_openai_v1():\n\u001B[1;32m--> 115\u001B[0m     \u001B[38;5;28;01mreturn\u001B[39;00m embeddings\u001B[38;5;241m.\u001B[39mclient\u001B[38;5;241m.\u001B[39mcreate(\u001B[38;5;241m*\u001B[39m\u001B[38;5;241m*\u001B[39mkwargs)\n\u001B[0;32m    116\u001B[0m retry_decorator \u001B[38;5;241m=\u001B[39m _create_retry_decorator(embeddings)\n\u001B[0;32m    118\u001B[0m \u001B[38;5;129m@retry_decorator\u001B[39m\n\u001B[0;32m    119\u001B[0m \u001B[38;5;28;01mdef\u001B[39;00m \u001B[38;5;21m_embed_with_retry\u001B[39m(\u001B[38;5;241m*\u001B[39m\u001B[38;5;241m*\u001B[39mkwargs: Any) \u001B[38;5;241m-\u001B[39m\u001B[38;5;241m>\u001B[39m Any:\n",
      "File \u001B[1;32m~\\anaconda3\\envs\\GPT_env2\\Lib\\site-packages\\openai\\resources\\embeddings.py:106\u001B[0m, in \u001B[0;36mEmbeddings.create\u001B[1;34m(self, input, model, encoding_format, user, extra_headers, extra_query, extra_body, timeout)\u001B[0m\n\u001B[0;32m    100\u001B[0m         embedding\u001B[38;5;241m.\u001B[39membedding \u001B[38;5;241m=\u001B[39m np\u001B[38;5;241m.\u001B[39mfrombuffer(  \u001B[38;5;66;03m# type: ignore[no-untyped-call]\u001B[39;00m\n\u001B[0;32m    101\u001B[0m             base64\u001B[38;5;241m.\u001B[39mb64decode(data), dtype\u001B[38;5;241m=\u001B[39m\u001B[38;5;124m\"\u001B[39m\u001B[38;5;124mfloat32\u001B[39m\u001B[38;5;124m\"\u001B[39m\n\u001B[0;32m    102\u001B[0m         )\u001B[38;5;241m.\u001B[39mtolist()\n\u001B[0;32m    104\u001B[0m     \u001B[38;5;28;01mreturn\u001B[39;00m obj\n\u001B[1;32m--> 106\u001B[0m \u001B[38;5;28;01mreturn\u001B[39;00m \u001B[38;5;28mself\u001B[39m\u001B[38;5;241m.\u001B[39m_post(\n\u001B[0;32m    107\u001B[0m     \u001B[38;5;124m\"\u001B[39m\u001B[38;5;124m/embeddings\u001B[39m\u001B[38;5;124m\"\u001B[39m,\n\u001B[0;32m    108\u001B[0m     body\u001B[38;5;241m=\u001B[39mmaybe_transform(params, embedding_create_params\u001B[38;5;241m.\u001B[39mEmbeddingCreateParams),\n\u001B[0;32m    109\u001B[0m     options\u001B[38;5;241m=\u001B[39mmake_request_options(\n\u001B[0;32m    110\u001B[0m         extra_headers\u001B[38;5;241m=\u001B[39mextra_headers,\n\u001B[0;32m    111\u001B[0m         extra_query\u001B[38;5;241m=\u001B[39mextra_query,\n\u001B[0;32m    112\u001B[0m         extra_body\u001B[38;5;241m=\u001B[39mextra_body,\n\u001B[0;32m    113\u001B[0m         timeout\u001B[38;5;241m=\u001B[39mtimeout,\n\u001B[0;32m    114\u001B[0m         post_parser\u001B[38;5;241m=\u001B[39mparser,\n\u001B[0;32m    115\u001B[0m     ),\n\u001B[0;32m    116\u001B[0m     cast_to\u001B[38;5;241m=\u001B[39mCreateEmbeddingResponse,\n\u001B[0;32m    117\u001B[0m )\n",
      "File \u001B[1;32m~\\anaconda3\\envs\\GPT_env2\\Lib\\site-packages\\openai\\_base_client.py:1088\u001B[0m, in \u001B[0;36mSyncAPIClient.post\u001B[1;34m(self, path, cast_to, body, options, files, stream, stream_cls)\u001B[0m\n\u001B[0;32m   1074\u001B[0m \u001B[38;5;28;01mdef\u001B[39;00m \u001B[38;5;21mpost\u001B[39m(\n\u001B[0;32m   1075\u001B[0m     \u001B[38;5;28mself\u001B[39m,\n\u001B[0;32m   1076\u001B[0m     path: \u001B[38;5;28mstr\u001B[39m,\n\u001B[1;32m   (...)\u001B[0m\n\u001B[0;32m   1083\u001B[0m     stream_cls: \u001B[38;5;28mtype\u001B[39m[_StreamT] \u001B[38;5;241m|\u001B[39m \u001B[38;5;28;01mNone\u001B[39;00m \u001B[38;5;241m=\u001B[39m \u001B[38;5;28;01mNone\u001B[39;00m,\n\u001B[0;32m   1084\u001B[0m ) \u001B[38;5;241m-\u001B[39m\u001B[38;5;241m>\u001B[39m ResponseT \u001B[38;5;241m|\u001B[39m _StreamT:\n\u001B[0;32m   1085\u001B[0m     opts \u001B[38;5;241m=\u001B[39m FinalRequestOptions\u001B[38;5;241m.\u001B[39mconstruct(\n\u001B[0;32m   1086\u001B[0m         method\u001B[38;5;241m=\u001B[39m\u001B[38;5;124m\"\u001B[39m\u001B[38;5;124mpost\u001B[39m\u001B[38;5;124m\"\u001B[39m, url\u001B[38;5;241m=\u001B[39mpath, json_data\u001B[38;5;241m=\u001B[39mbody, files\u001B[38;5;241m=\u001B[39mto_httpx_files(files), \u001B[38;5;241m*\u001B[39m\u001B[38;5;241m*\u001B[39moptions\n\u001B[0;32m   1087\u001B[0m     )\n\u001B[1;32m-> 1088\u001B[0m     \u001B[38;5;28;01mreturn\u001B[39;00m cast(ResponseT, \u001B[38;5;28mself\u001B[39m\u001B[38;5;241m.\u001B[39mrequest(cast_to, opts, stream\u001B[38;5;241m=\u001B[39mstream, stream_cls\u001B[38;5;241m=\u001B[39mstream_cls))\n",
      "File \u001B[1;32m~\\anaconda3\\envs\\GPT_env2\\Lib\\site-packages\\openai\\_base_client.py:853\u001B[0m, in \u001B[0;36mSyncAPIClient.request\u001B[1;34m(self, cast_to, options, remaining_retries, stream, stream_cls)\u001B[0m\n\u001B[0;32m    844\u001B[0m \u001B[38;5;28;01mdef\u001B[39;00m \u001B[38;5;21mrequest\u001B[39m(\n\u001B[0;32m    845\u001B[0m     \u001B[38;5;28mself\u001B[39m,\n\u001B[0;32m    846\u001B[0m     cast_to: Type[ResponseT],\n\u001B[1;32m   (...)\u001B[0m\n\u001B[0;32m    851\u001B[0m     stream_cls: \u001B[38;5;28mtype\u001B[39m[_StreamT] \u001B[38;5;241m|\u001B[39m \u001B[38;5;28;01mNone\u001B[39;00m \u001B[38;5;241m=\u001B[39m \u001B[38;5;28;01mNone\u001B[39;00m,\n\u001B[0;32m    852\u001B[0m ) \u001B[38;5;241m-\u001B[39m\u001B[38;5;241m>\u001B[39m ResponseT \u001B[38;5;241m|\u001B[39m _StreamT:\n\u001B[1;32m--> 853\u001B[0m     \u001B[38;5;28;01mreturn\u001B[39;00m \u001B[38;5;28mself\u001B[39m\u001B[38;5;241m.\u001B[39m_request(\n\u001B[0;32m    854\u001B[0m         cast_to\u001B[38;5;241m=\u001B[39mcast_to,\n\u001B[0;32m    855\u001B[0m         options\u001B[38;5;241m=\u001B[39moptions,\n\u001B[0;32m    856\u001B[0m         stream\u001B[38;5;241m=\u001B[39mstream,\n\u001B[0;32m    857\u001B[0m         stream_cls\u001B[38;5;241m=\u001B[39mstream_cls,\n\u001B[0;32m    858\u001B[0m         remaining_retries\u001B[38;5;241m=\u001B[39mremaining_retries,\n\u001B[0;32m    859\u001B[0m     )\n",
      "File \u001B[1;32m~\\anaconda3\\envs\\GPT_env2\\Lib\\site-packages\\openai\\_base_client.py:916\u001B[0m, in \u001B[0;36mSyncAPIClient._request\u001B[1;34m(self, cast_to, options, remaining_retries, stream, stream_cls)\u001B[0m\n\u001B[0;32m    914\u001B[0m \u001B[38;5;28;01mif\u001B[39;00m retries \u001B[38;5;241m>\u001B[39m \u001B[38;5;241m0\u001B[39m \u001B[38;5;129;01mand\u001B[39;00m \u001B[38;5;28mself\u001B[39m\u001B[38;5;241m.\u001B[39m_should_retry(err\u001B[38;5;241m.\u001B[39mresponse):\n\u001B[0;32m    915\u001B[0m     err\u001B[38;5;241m.\u001B[39mresponse\u001B[38;5;241m.\u001B[39mclose()\n\u001B[1;32m--> 916\u001B[0m     \u001B[38;5;28;01mreturn\u001B[39;00m \u001B[38;5;28mself\u001B[39m\u001B[38;5;241m.\u001B[39m_retry_request(\n\u001B[0;32m    917\u001B[0m         options,\n\u001B[0;32m    918\u001B[0m         cast_to,\n\u001B[0;32m    919\u001B[0m         retries,\n\u001B[0;32m    920\u001B[0m         err\u001B[38;5;241m.\u001B[39mresponse\u001B[38;5;241m.\u001B[39mheaders,\n\u001B[0;32m    921\u001B[0m         stream\u001B[38;5;241m=\u001B[39mstream,\n\u001B[0;32m    922\u001B[0m         stream_cls\u001B[38;5;241m=\u001B[39mstream_cls,\n\u001B[0;32m    923\u001B[0m     )\n\u001B[0;32m    925\u001B[0m \u001B[38;5;66;03m# If the response is streamed then we need to explicitly read the response\u001B[39;00m\n\u001B[0;32m    926\u001B[0m \u001B[38;5;66;03m# to completion before attempting to access the response text.\u001B[39;00m\n\u001B[0;32m    927\u001B[0m \u001B[38;5;28;01mif\u001B[39;00m \u001B[38;5;129;01mnot\u001B[39;00m err\u001B[38;5;241m.\u001B[39mresponse\u001B[38;5;241m.\u001B[39mis_closed:\n",
      "File \u001B[1;32m~\\anaconda3\\envs\\GPT_env2\\Lib\\site-packages\\openai\\_base_client.py:958\u001B[0m, in \u001B[0;36mSyncAPIClient._retry_request\u001B[1;34m(self, options, cast_to, remaining_retries, response_headers, stream, stream_cls)\u001B[0m\n\u001B[0;32m    954\u001B[0m \u001B[38;5;66;03m# In a synchronous context we are blocking the entire thread. Up to the library user to run the client in a\u001B[39;00m\n\u001B[0;32m    955\u001B[0m \u001B[38;5;66;03m# different thread if necessary.\u001B[39;00m\n\u001B[0;32m    956\u001B[0m time\u001B[38;5;241m.\u001B[39msleep(timeout)\n\u001B[1;32m--> 958\u001B[0m \u001B[38;5;28;01mreturn\u001B[39;00m \u001B[38;5;28mself\u001B[39m\u001B[38;5;241m.\u001B[39m_request(\n\u001B[0;32m    959\u001B[0m     options\u001B[38;5;241m=\u001B[39moptions,\n\u001B[0;32m    960\u001B[0m     cast_to\u001B[38;5;241m=\u001B[39mcast_to,\n\u001B[0;32m    961\u001B[0m     remaining_retries\u001B[38;5;241m=\u001B[39mremaining,\n\u001B[0;32m    962\u001B[0m     stream\u001B[38;5;241m=\u001B[39mstream,\n\u001B[0;32m    963\u001B[0m     stream_cls\u001B[38;5;241m=\u001B[39mstream_cls,\n\u001B[0;32m    964\u001B[0m )\n",
      "File \u001B[1;32m~\\anaconda3\\envs\\GPT_env2\\Lib\\site-packages\\openai\\_base_client.py:916\u001B[0m, in \u001B[0;36mSyncAPIClient._request\u001B[1;34m(self, cast_to, options, remaining_retries, stream, stream_cls)\u001B[0m\n\u001B[0;32m    914\u001B[0m \u001B[38;5;28;01mif\u001B[39;00m retries \u001B[38;5;241m>\u001B[39m \u001B[38;5;241m0\u001B[39m \u001B[38;5;129;01mand\u001B[39;00m \u001B[38;5;28mself\u001B[39m\u001B[38;5;241m.\u001B[39m_should_retry(err\u001B[38;5;241m.\u001B[39mresponse):\n\u001B[0;32m    915\u001B[0m     err\u001B[38;5;241m.\u001B[39mresponse\u001B[38;5;241m.\u001B[39mclose()\n\u001B[1;32m--> 916\u001B[0m     \u001B[38;5;28;01mreturn\u001B[39;00m \u001B[38;5;28mself\u001B[39m\u001B[38;5;241m.\u001B[39m_retry_request(\n\u001B[0;32m    917\u001B[0m         options,\n\u001B[0;32m    918\u001B[0m         cast_to,\n\u001B[0;32m    919\u001B[0m         retries,\n\u001B[0;32m    920\u001B[0m         err\u001B[38;5;241m.\u001B[39mresponse\u001B[38;5;241m.\u001B[39mheaders,\n\u001B[0;32m    921\u001B[0m         stream\u001B[38;5;241m=\u001B[39mstream,\n\u001B[0;32m    922\u001B[0m         stream_cls\u001B[38;5;241m=\u001B[39mstream_cls,\n\u001B[0;32m    923\u001B[0m     )\n\u001B[0;32m    925\u001B[0m \u001B[38;5;66;03m# If the response is streamed then we need to explicitly read the response\u001B[39;00m\n\u001B[0;32m    926\u001B[0m \u001B[38;5;66;03m# to completion before attempting to access the response text.\u001B[39;00m\n\u001B[0;32m    927\u001B[0m \u001B[38;5;28;01mif\u001B[39;00m \u001B[38;5;129;01mnot\u001B[39;00m err\u001B[38;5;241m.\u001B[39mresponse\u001B[38;5;241m.\u001B[39mis_closed:\n",
      "File \u001B[1;32m~\\anaconda3\\envs\\GPT_env2\\Lib\\site-packages\\openai\\_base_client.py:958\u001B[0m, in \u001B[0;36mSyncAPIClient._retry_request\u001B[1;34m(self, options, cast_to, remaining_retries, response_headers, stream, stream_cls)\u001B[0m\n\u001B[0;32m    954\u001B[0m \u001B[38;5;66;03m# In a synchronous context we are blocking the entire thread. Up to the library user to run the client in a\u001B[39;00m\n\u001B[0;32m    955\u001B[0m \u001B[38;5;66;03m# different thread if necessary.\u001B[39;00m\n\u001B[0;32m    956\u001B[0m time\u001B[38;5;241m.\u001B[39msleep(timeout)\n\u001B[1;32m--> 958\u001B[0m \u001B[38;5;28;01mreturn\u001B[39;00m \u001B[38;5;28mself\u001B[39m\u001B[38;5;241m.\u001B[39m_request(\n\u001B[0;32m    959\u001B[0m     options\u001B[38;5;241m=\u001B[39moptions,\n\u001B[0;32m    960\u001B[0m     cast_to\u001B[38;5;241m=\u001B[39mcast_to,\n\u001B[0;32m    961\u001B[0m     remaining_retries\u001B[38;5;241m=\u001B[39mremaining,\n\u001B[0;32m    962\u001B[0m     stream\u001B[38;5;241m=\u001B[39mstream,\n\u001B[0;32m    963\u001B[0m     stream_cls\u001B[38;5;241m=\u001B[39mstream_cls,\n\u001B[0;32m    964\u001B[0m )\n",
      "File \u001B[1;32m~\\anaconda3\\envs\\GPT_env2\\Lib\\site-packages\\openai\\_base_client.py:930\u001B[0m, in \u001B[0;36mSyncAPIClient._request\u001B[1;34m(self, cast_to, options, remaining_retries, stream, stream_cls)\u001B[0m\n\u001B[0;32m    927\u001B[0m     \u001B[38;5;28;01mif\u001B[39;00m \u001B[38;5;129;01mnot\u001B[39;00m err\u001B[38;5;241m.\u001B[39mresponse\u001B[38;5;241m.\u001B[39mis_closed:\n\u001B[0;32m    928\u001B[0m         err\u001B[38;5;241m.\u001B[39mresponse\u001B[38;5;241m.\u001B[39mread()\n\u001B[1;32m--> 930\u001B[0m     \u001B[38;5;28;01mraise\u001B[39;00m \u001B[38;5;28mself\u001B[39m\u001B[38;5;241m.\u001B[39m_make_status_error_from_response(err\u001B[38;5;241m.\u001B[39mresponse) \u001B[38;5;28;01mfrom\u001B[39;00m \u001B[38;5;28;01mNone\u001B[39;00m\n\u001B[0;32m    932\u001B[0m \u001B[38;5;28;01mreturn\u001B[39;00m \u001B[38;5;28mself\u001B[39m\u001B[38;5;241m.\u001B[39m_process_response(\n\u001B[0;32m    933\u001B[0m     cast_to\u001B[38;5;241m=\u001B[39mcast_to,\n\u001B[0;32m    934\u001B[0m     options\u001B[38;5;241m=\u001B[39moptions,\n\u001B[1;32m   (...)\u001B[0m\n\u001B[0;32m    937\u001B[0m     stream_cls\u001B[38;5;241m=\u001B[39mstream_cls,\n\u001B[0;32m    938\u001B[0m )\n",
      "\u001B[1;31mRateLimitError\u001B[0m: Error code: 429 - {'error': {'message': 'Rate limit reached for text-embedding-ada-002 in organization org-xThP8bDChYedB4a2IVODMlAy on tokens per min (TPM): Limit 1000000, Used 337802, Requested 685334. Please try again in 1.388s. Visit https://platform.openai.com/account/rate-limits to learn more.', 'type': 'tokens', 'param': None, 'code': 'rate_limit_exceeded'}}"
     ]
    }
   ],
   "source": [
    "csv_files2 = preprocess_csv_files_for_LLM(\"FinalData\\\\F1_Data\\\\\")"
   ],
   "metadata": {
    "collapsed": false,
    "ExecuteTime": {
     "end_time": "2024-01-06T00:53:00.119861600Z",
     "start_time": "2024-01-06T00:51:33.348447900Z"
    }
   },
   "id": "5442874ea5e7caa7"
  },
  {
   "cell_type": "code",
   "execution_count": null,
   "outputs": [],
   "source": [
    "# Create a function that will be used as as tool that interacts with the Ergast API to gather data on Formula 1\n",
    "def get_data_from_ergast_api(year: int):\n",
    "    import requests\n",
    "    import json\n",
    "    url = f\"https://ergast.com/api/f1/{year}/driverStandings.json\"\n",
    "    response = requests.get(url)\n",
    "    data = json.loads(response.text)\n",
    "    return data"
   ],
   "metadata": {
    "collapsed": false
   },
   "id": "e47d630b0bf67ebe"
  },
  {
   "cell_type": "code",
   "execution_count": null,
   "outputs": [],
   "source": [
    "def gather_data_from_fastf1()"
   ],
   "metadata": {
    "collapsed": false
   },
   "id": "290ea803f916a3a5"
  },
  {
   "cell_type": "code",
   "execution_count": 3,
   "outputs": [],
   "source": [
    "import fastf1 as ff1\n",
    "from fastf1 import plotting\n",
    "from fastf1 import utils\n",
    "import fastf1.legacy\n",
    "import fastf1 as ff1\n",
    "import numpy as np\n",
    "from matplotlib import pyplot as plt\n",
    "from matplotlib.collections import LineCollection\n",
    "from matplotlib import cm\n",
    "import matplotlib.font_manager as fm\n",
    "import numpy as np\n",
    "import pandas as pd\n",
    "import matplotlib as mpl\n",
    "colormap = mpl.cm.plasma\n",
    "\n",
    "def draw_f1_circuit(circuit, year = 2023):\n",
    "    session = fastf1.get_session(year, circuit, 'R')\n",
    "    session.load()\n",
    "    circuit_info = session.get_circuit_info()\n",
    "    lap = session.laps.pick_fastest()\n",
    "    pos = lap.get_pos_data()\n",
    "    fig, ax = plt.subplots(figsize=(10,5))\n",
    "\n",
    "    track = pos.loc[:, ('X', 'Y')].to_numpy()\n",
    "\n",
    "    track_angle = circuit_info.rotation / 180 * np.pi\n",
    "    \n",
    "    offset_vector = [500, 0]\n",
    "\n",
    "    def rotate(xy, *, angle):\n",
    "        rot_mat = np.array([[np.cos(angle), np.sin(angle)],\n",
    "                            [-np.sin(angle), np.cos(angle)]])\n",
    "        return np.matmul(xy, rot_mat)\n",
    "\n",
    "    rotated_track = rotate(track, angle=track_angle)\n",
    "    plt.plot(rotated_track[:, 0], rotated_track[:, 1], color ='tab:orange')\n",
    "    \n",
    "    # Iterate over all corners.\n",
    "    for _, corner in circuit_info.corners.iterrows():\n",
    "        # Create a string from corner number and letter\n",
    "        txt = f\"{corner['Number']}{corner['Letter']}\"\n",
    "    \n",
    "        # Convert the angle from degrees to radian.\n",
    "        offset_angle = corner['Angle'] / 180 * np.pi\n",
    "    \n",
    "        # Rotate the offset vector so that it points sideways from the track.\n",
    "        offset_x, offset_y = rotate(offset_vector, angle=offset_angle)\n",
    "    \n",
    "        # Add the offset to the position of the corner\n",
    "        text_x = corner['X'] + offset_x\n",
    "        text_y = corner['Y'] + offset_y\n",
    "    \n",
    "        # Rotate the text position equivalently to the rest of the track map\n",
    "        text_x, text_y = rotate([text_x, text_y], angle=track_angle)\n",
    "    \n",
    "        # Rotate the center of the corner equivalently to the rest of the track map\n",
    "        track_x, track_y = rotate([corner['X'], corner['Y']], angle=track_angle)\n",
    "    \n",
    "        # Draw a circle next to the track.\n",
    "        plt.scatter(text_x, text_y, color= 'yellow', s=140)\n",
    "    \n",
    "        # Draw a line from the track to this circle.\n",
    "        plt.plot([track_x, text_x], [track_y, text_y], color= 'yellow')\n",
    "    \n",
    "        # Finally, print the corner number inside the circle.\n",
    "        plt.text(text_x, text_y, txt,\n",
    "                 va='center_baseline', ha='center', size='small', color=  'black')\n",
    "        \n",
    "        # Add title with session name\n",
    "        plt.title(session.event['EventName'])\n",
    "        \n",
    "        # hide axis\n",
    "        ax.axis('off')\n",
    "        \n",
    "        \n",
    "    "
   ],
   "metadata": {
    "collapsed": false,
    "ExecuteTime": {
     "end_time": "2024-01-06T19:02:55.834668800Z",
     "start_time": "2024-01-06T19:02:54.243106500Z"
    }
   },
   "id": "d7e6fa60d7be0ea"
  },
  {
   "cell_type": "code",
   "execution_count": 63,
   "outputs": [],
   "source": [
    "session_event = ff1.get_session(2022, 'Bahrain', 'Q')\n",
    "#session_event.load()"
   ],
   "metadata": {
    "collapsed": false,
    "ExecuteTime": {
     "end_time": "2024-01-06T16:34:09.859176400Z",
     "start_time": "2024-01-06T16:34:09.825536800Z"
    }
   },
   "id": "46316ec7860bff35"
  },
  {
   "cell_type": "code",
   "execution_count": 69,
   "outputs": [
    {
     "data": {
      "text/plain": "   DriverNumber BroadcastName Abbreviation         DriverId         TeamName  \\\n16           16     C LECLERC          LEC          leclerc          Ferrari   \n1             1  M VERSTAPPEN          VER   max_verstappen  Red Bull Racing   \n55           55       C SAINZ          SAI            sainz          Ferrari   \n11           11       S PEREZ          PER            perez  Red Bull Racing   \n44           44    L HAMILTON          HAM         hamilton         Mercedes   \n77           77      V BOTTAS          BOT           bottas       Alfa Romeo   \n20           20   K MAGNUSSEN          MAG  kevin_magnussen     Haas F1 Team   \n14           14      F ALONSO          ALO           alonso           Alpine   \n63           63     G RUSSELL          RUS          russell         Mercedes   \n10           10       P GASLY          GAS            gasly       AlphaTauri   \n31           31        E OCON          OCO             ocon           Alpine   \n47           47  M SCHUMACHER          MSC  mick_schumacher     Haas F1 Team   \n4             4      L NORRIS          NOR           norris          McLaren   \n23           23       A ALBON          ALB            albon         Williams   \n24           24        G ZHOU          ZHO             zhou       Alfa Romeo   \n22           22     Y TSUNODA          TSU          tsunoda       AlphaTauri   \n27           27  N HULKENBERG          HUL       hulkenberg     Aston Martin   \n3             3   D RICCIARDO          RIC        ricciardo          McLaren   \n18           18      L STROLL          STR           stroll     Aston Martin   \n6             6      N LATIFI          LAT           latifi         Williams   \n\n   TeamColor        TeamId  FirstName    LastName          FullName  ...  \\\n16    ed1c24       ferrari    Charles     Leclerc   Charles Leclerc  ...   \n1     1e5bc6      red_bull        Max  Verstappen    Max Verstappen  ...   \n55    ed1c24       ferrari     Carlos       Sainz      Carlos Sainz  ...   \n11    1e5bc6      red_bull     Sergio       Perez      Sergio Perez  ...   \n44    6cd3bf      mercedes      Lewis    Hamilton    Lewis Hamilton  ...   \n77    b12039          alfa   Valtteri      Bottas   Valtteri Bottas  ...   \n20    b6babd          haas      Kevin   Magnussen   Kevin Magnussen  ...   \n14    2293d1        alpine   Fernando      Alonso   Fernando Alonso  ...   \n63    6cd3bf      mercedes     George     Russell    George Russell  ...   \n10    4e7c9b    alphatauri     Pierre       Gasly      Pierre Gasly  ...   \n31    2293d1        alpine    Esteban        Ocon      Esteban Ocon  ...   \n47    b6babd          haas       Mick  Schumacher   Mick Schumacher  ...   \n4     f58020       mclaren      Lando      Norris      Lando Norris  ...   \n23    37bedd      williams  Alexander       Albon   Alexander Albon  ...   \n24    b12039          alfa     Guanyu        Zhou       Guanyu Zhou  ...   \n22    4e7c9b    alphatauri       Yuki     Tsunoda      Yuki Tsunoda  ...   \n27    2d826d  aston_martin       Nico  Hulkenberg   Nico Hulkenberg  ...   \n3     f58020       mclaren     Daniel   Ricciardo  Daniel Ricciardo  ...   \n18    2d826d  aston_martin      Lance      Stroll      Lance Stroll  ...   \n6     37bedd      williams   Nicholas      Latifi   Nicholas Latifi  ...   \n\n   CountryCode Position  ClassifiedPosition GridPosition  \\\n16                  1.0                              NaN   \n1                   2.0                              NaN   \n55                  3.0                              NaN   \n11                  4.0                              NaN   \n44                  5.0                              NaN   \n77                  6.0                              NaN   \n20                  7.0                              NaN   \n14                  8.0                              NaN   \n63                  9.0                              NaN   \n10                 10.0                              NaN   \n31                 11.0                              NaN   \n47                 12.0                              NaN   \n4                  13.0                              NaN   \n23                 14.0                              NaN   \n24                 15.0                              NaN   \n22                 16.0                              NaN   \n27                 17.0                              NaN   \n3                  18.0                              NaN   \n18                 19.0                              NaN   \n6                  20.0                              NaN   \n\n                       Q1                     Q2                     Q3 Time  \\\n16 0 days 00:01:31.471000 0 days 00:01:30.932000 0 days 00:01:30.558000  NaT   \n1  0 days 00:01:31.785000 0 days 00:01:30.757000 0 days 00:01:30.681000  NaT   \n55 0 days 00:01:31.567000 0 days 00:01:30.787000 0 days 00:01:30.687000  NaT   \n11 0 days 00:01:32.311000 0 days 00:01:31.008000 0 days 00:01:30.921000  NaT   \n44 0 days 00:01:32.285000 0 days 00:01:31.048000 0 days 00:01:31.238000  NaT   \n77 0 days 00:01:31.919000 0 days 00:01:31.717000 0 days 00:01:31.560000  NaT   \n20 0 days 00:01:31.955000 0 days 00:01:31.461000 0 days 00:01:31.808000  NaT   \n14 0 days 00:01:32.346000 0 days 00:01:31.621000 0 days 00:01:32.195000  NaT   \n63 0 days 00:01:32.269000 0 days 00:01:31.252000 0 days 00:01:32.216000  NaT   \n10 0 days 00:01:32.096000 0 days 00:01:31.635000 0 days 00:01:32.338000  NaT   \n31 0 days 00:01:32.041000 0 days 00:01:31.782000                    NaT  NaT   \n47 0 days 00:01:32.380000 0 days 00:01:31.998000                    NaT  NaT   \n4  0 days 00:01:32.239000 0 days 00:01:32.008000                    NaT  NaT   \n23 0 days 00:01:32.726000 0 days 00:01:32.664000                    NaT  NaT   \n24 0 days 00:01:32.493000 0 days 00:01:33.543000                    NaT  NaT   \n22 0 days 00:01:32.750000                    NaT                    NaT  NaT   \n27 0 days 00:01:32.777000                    NaT                    NaT  NaT   \n3  0 days 00:01:32.945000                    NaT                    NaT  NaT   \n18 0 days 00:01:33.032000                    NaT                    NaT  NaT   \n6  0 days 00:01:33.634000                    NaT                    NaT  NaT   \n\n   Status Points  \n16           NaN  \n1            NaN  \n55           NaN  \n11           NaN  \n44           NaN  \n77           NaN  \n20           NaN  \n14           NaN  \n63           NaN  \n10           NaN  \n31           NaN  \n47           NaN  \n4            NaN  \n23           NaN  \n24           NaN  \n22           NaN  \n27           NaN  \n3            NaN  \n18           NaN  \n6            NaN  \n\n[20 rows x 21 columns]",
      "text/html": "<div>\n<style scoped>\n    .dataframe tbody tr th:only-of-type {\n        vertical-align: middle;\n    }\n\n    .dataframe tbody tr th {\n        vertical-align: top;\n    }\n\n    .dataframe thead th {\n        text-align: right;\n    }\n</style>\n<table border=\"1\" class=\"dataframe\">\n  <thead>\n    <tr style=\"text-align: right;\">\n      <th></th>\n      <th>DriverNumber</th>\n      <th>BroadcastName</th>\n      <th>Abbreviation</th>\n      <th>DriverId</th>\n      <th>TeamName</th>\n      <th>TeamColor</th>\n      <th>TeamId</th>\n      <th>FirstName</th>\n      <th>LastName</th>\n      <th>FullName</th>\n      <th>...</th>\n      <th>CountryCode</th>\n      <th>Position</th>\n      <th>ClassifiedPosition</th>\n      <th>GridPosition</th>\n      <th>Q1</th>\n      <th>Q2</th>\n      <th>Q3</th>\n      <th>Time</th>\n      <th>Status</th>\n      <th>Points</th>\n    </tr>\n  </thead>\n  <tbody>\n    <tr>\n      <th>16</th>\n      <td>16</td>\n      <td>C LECLERC</td>\n      <td>LEC</td>\n      <td>leclerc</td>\n      <td>Ferrari</td>\n      <td>ed1c24</td>\n      <td>ferrari</td>\n      <td>Charles</td>\n      <td>Leclerc</td>\n      <td>Charles Leclerc</td>\n      <td>...</td>\n      <td></td>\n      <td>1.0</td>\n      <td></td>\n      <td>NaN</td>\n      <td>0 days 00:01:31.471000</td>\n      <td>0 days 00:01:30.932000</td>\n      <td>0 days 00:01:30.558000</td>\n      <td>NaT</td>\n      <td></td>\n      <td>NaN</td>\n    </tr>\n    <tr>\n      <th>1</th>\n      <td>1</td>\n      <td>M VERSTAPPEN</td>\n      <td>VER</td>\n      <td>max_verstappen</td>\n      <td>Red Bull Racing</td>\n      <td>1e5bc6</td>\n      <td>red_bull</td>\n      <td>Max</td>\n      <td>Verstappen</td>\n      <td>Max Verstappen</td>\n      <td>...</td>\n      <td></td>\n      <td>2.0</td>\n      <td></td>\n      <td>NaN</td>\n      <td>0 days 00:01:31.785000</td>\n      <td>0 days 00:01:30.757000</td>\n      <td>0 days 00:01:30.681000</td>\n      <td>NaT</td>\n      <td></td>\n      <td>NaN</td>\n    </tr>\n    <tr>\n      <th>55</th>\n      <td>55</td>\n      <td>C SAINZ</td>\n      <td>SAI</td>\n      <td>sainz</td>\n      <td>Ferrari</td>\n      <td>ed1c24</td>\n      <td>ferrari</td>\n      <td>Carlos</td>\n      <td>Sainz</td>\n      <td>Carlos Sainz</td>\n      <td>...</td>\n      <td></td>\n      <td>3.0</td>\n      <td></td>\n      <td>NaN</td>\n      <td>0 days 00:01:31.567000</td>\n      <td>0 days 00:01:30.787000</td>\n      <td>0 days 00:01:30.687000</td>\n      <td>NaT</td>\n      <td></td>\n      <td>NaN</td>\n    </tr>\n    <tr>\n      <th>11</th>\n      <td>11</td>\n      <td>S PEREZ</td>\n      <td>PER</td>\n      <td>perez</td>\n      <td>Red Bull Racing</td>\n      <td>1e5bc6</td>\n      <td>red_bull</td>\n      <td>Sergio</td>\n      <td>Perez</td>\n      <td>Sergio Perez</td>\n      <td>...</td>\n      <td></td>\n      <td>4.0</td>\n      <td></td>\n      <td>NaN</td>\n      <td>0 days 00:01:32.311000</td>\n      <td>0 days 00:01:31.008000</td>\n      <td>0 days 00:01:30.921000</td>\n      <td>NaT</td>\n      <td></td>\n      <td>NaN</td>\n    </tr>\n    <tr>\n      <th>44</th>\n      <td>44</td>\n      <td>L HAMILTON</td>\n      <td>HAM</td>\n      <td>hamilton</td>\n      <td>Mercedes</td>\n      <td>6cd3bf</td>\n      <td>mercedes</td>\n      <td>Lewis</td>\n      <td>Hamilton</td>\n      <td>Lewis Hamilton</td>\n      <td>...</td>\n      <td></td>\n      <td>5.0</td>\n      <td></td>\n      <td>NaN</td>\n      <td>0 days 00:01:32.285000</td>\n      <td>0 days 00:01:31.048000</td>\n      <td>0 days 00:01:31.238000</td>\n      <td>NaT</td>\n      <td></td>\n      <td>NaN</td>\n    </tr>\n    <tr>\n      <th>77</th>\n      <td>77</td>\n      <td>V BOTTAS</td>\n      <td>BOT</td>\n      <td>bottas</td>\n      <td>Alfa Romeo</td>\n      <td>b12039</td>\n      <td>alfa</td>\n      <td>Valtteri</td>\n      <td>Bottas</td>\n      <td>Valtteri Bottas</td>\n      <td>...</td>\n      <td></td>\n      <td>6.0</td>\n      <td></td>\n      <td>NaN</td>\n      <td>0 days 00:01:31.919000</td>\n      <td>0 days 00:01:31.717000</td>\n      <td>0 days 00:01:31.560000</td>\n      <td>NaT</td>\n      <td></td>\n      <td>NaN</td>\n    </tr>\n    <tr>\n      <th>20</th>\n      <td>20</td>\n      <td>K MAGNUSSEN</td>\n      <td>MAG</td>\n      <td>kevin_magnussen</td>\n      <td>Haas F1 Team</td>\n      <td>b6babd</td>\n      <td>haas</td>\n      <td>Kevin</td>\n      <td>Magnussen</td>\n      <td>Kevin Magnussen</td>\n      <td>...</td>\n      <td></td>\n      <td>7.0</td>\n      <td></td>\n      <td>NaN</td>\n      <td>0 days 00:01:31.955000</td>\n      <td>0 days 00:01:31.461000</td>\n      <td>0 days 00:01:31.808000</td>\n      <td>NaT</td>\n      <td></td>\n      <td>NaN</td>\n    </tr>\n    <tr>\n      <th>14</th>\n      <td>14</td>\n      <td>F ALONSO</td>\n      <td>ALO</td>\n      <td>alonso</td>\n      <td>Alpine</td>\n      <td>2293d1</td>\n      <td>alpine</td>\n      <td>Fernando</td>\n      <td>Alonso</td>\n      <td>Fernando Alonso</td>\n      <td>...</td>\n      <td></td>\n      <td>8.0</td>\n      <td></td>\n      <td>NaN</td>\n      <td>0 days 00:01:32.346000</td>\n      <td>0 days 00:01:31.621000</td>\n      <td>0 days 00:01:32.195000</td>\n      <td>NaT</td>\n      <td></td>\n      <td>NaN</td>\n    </tr>\n    <tr>\n      <th>63</th>\n      <td>63</td>\n      <td>G RUSSELL</td>\n      <td>RUS</td>\n      <td>russell</td>\n      <td>Mercedes</td>\n      <td>6cd3bf</td>\n      <td>mercedes</td>\n      <td>George</td>\n      <td>Russell</td>\n      <td>George Russell</td>\n      <td>...</td>\n      <td></td>\n      <td>9.0</td>\n      <td></td>\n      <td>NaN</td>\n      <td>0 days 00:01:32.269000</td>\n      <td>0 days 00:01:31.252000</td>\n      <td>0 days 00:01:32.216000</td>\n      <td>NaT</td>\n      <td></td>\n      <td>NaN</td>\n    </tr>\n    <tr>\n      <th>10</th>\n      <td>10</td>\n      <td>P GASLY</td>\n      <td>GAS</td>\n      <td>gasly</td>\n      <td>AlphaTauri</td>\n      <td>4e7c9b</td>\n      <td>alphatauri</td>\n      <td>Pierre</td>\n      <td>Gasly</td>\n      <td>Pierre Gasly</td>\n      <td>...</td>\n      <td></td>\n      <td>10.0</td>\n      <td></td>\n      <td>NaN</td>\n      <td>0 days 00:01:32.096000</td>\n      <td>0 days 00:01:31.635000</td>\n      <td>0 days 00:01:32.338000</td>\n      <td>NaT</td>\n      <td></td>\n      <td>NaN</td>\n    </tr>\n    <tr>\n      <th>31</th>\n      <td>31</td>\n      <td>E OCON</td>\n      <td>OCO</td>\n      <td>ocon</td>\n      <td>Alpine</td>\n      <td>2293d1</td>\n      <td>alpine</td>\n      <td>Esteban</td>\n      <td>Ocon</td>\n      <td>Esteban Ocon</td>\n      <td>...</td>\n      <td></td>\n      <td>11.0</td>\n      <td></td>\n      <td>NaN</td>\n      <td>0 days 00:01:32.041000</td>\n      <td>0 days 00:01:31.782000</td>\n      <td>NaT</td>\n      <td>NaT</td>\n      <td></td>\n      <td>NaN</td>\n    </tr>\n    <tr>\n      <th>47</th>\n      <td>47</td>\n      <td>M SCHUMACHER</td>\n      <td>MSC</td>\n      <td>mick_schumacher</td>\n      <td>Haas F1 Team</td>\n      <td>b6babd</td>\n      <td>haas</td>\n      <td>Mick</td>\n      <td>Schumacher</td>\n      <td>Mick Schumacher</td>\n      <td>...</td>\n      <td></td>\n      <td>12.0</td>\n      <td></td>\n      <td>NaN</td>\n      <td>0 days 00:01:32.380000</td>\n      <td>0 days 00:01:31.998000</td>\n      <td>NaT</td>\n      <td>NaT</td>\n      <td></td>\n      <td>NaN</td>\n    </tr>\n    <tr>\n      <th>4</th>\n      <td>4</td>\n      <td>L NORRIS</td>\n      <td>NOR</td>\n      <td>norris</td>\n      <td>McLaren</td>\n      <td>f58020</td>\n      <td>mclaren</td>\n      <td>Lando</td>\n      <td>Norris</td>\n      <td>Lando Norris</td>\n      <td>...</td>\n      <td></td>\n      <td>13.0</td>\n      <td></td>\n      <td>NaN</td>\n      <td>0 days 00:01:32.239000</td>\n      <td>0 days 00:01:32.008000</td>\n      <td>NaT</td>\n      <td>NaT</td>\n      <td></td>\n      <td>NaN</td>\n    </tr>\n    <tr>\n      <th>23</th>\n      <td>23</td>\n      <td>A ALBON</td>\n      <td>ALB</td>\n      <td>albon</td>\n      <td>Williams</td>\n      <td>37bedd</td>\n      <td>williams</td>\n      <td>Alexander</td>\n      <td>Albon</td>\n      <td>Alexander Albon</td>\n      <td>...</td>\n      <td></td>\n      <td>14.0</td>\n      <td></td>\n      <td>NaN</td>\n      <td>0 days 00:01:32.726000</td>\n      <td>0 days 00:01:32.664000</td>\n      <td>NaT</td>\n      <td>NaT</td>\n      <td></td>\n      <td>NaN</td>\n    </tr>\n    <tr>\n      <th>24</th>\n      <td>24</td>\n      <td>G ZHOU</td>\n      <td>ZHO</td>\n      <td>zhou</td>\n      <td>Alfa Romeo</td>\n      <td>b12039</td>\n      <td>alfa</td>\n      <td>Guanyu</td>\n      <td>Zhou</td>\n      <td>Guanyu Zhou</td>\n      <td>...</td>\n      <td></td>\n      <td>15.0</td>\n      <td></td>\n      <td>NaN</td>\n      <td>0 days 00:01:32.493000</td>\n      <td>0 days 00:01:33.543000</td>\n      <td>NaT</td>\n      <td>NaT</td>\n      <td></td>\n      <td>NaN</td>\n    </tr>\n    <tr>\n      <th>22</th>\n      <td>22</td>\n      <td>Y TSUNODA</td>\n      <td>TSU</td>\n      <td>tsunoda</td>\n      <td>AlphaTauri</td>\n      <td>4e7c9b</td>\n      <td>alphatauri</td>\n      <td>Yuki</td>\n      <td>Tsunoda</td>\n      <td>Yuki Tsunoda</td>\n      <td>...</td>\n      <td></td>\n      <td>16.0</td>\n      <td></td>\n      <td>NaN</td>\n      <td>0 days 00:01:32.750000</td>\n      <td>NaT</td>\n      <td>NaT</td>\n      <td>NaT</td>\n      <td></td>\n      <td>NaN</td>\n    </tr>\n    <tr>\n      <th>27</th>\n      <td>27</td>\n      <td>N HULKENBERG</td>\n      <td>HUL</td>\n      <td>hulkenberg</td>\n      <td>Aston Martin</td>\n      <td>2d826d</td>\n      <td>aston_martin</td>\n      <td>Nico</td>\n      <td>Hulkenberg</td>\n      <td>Nico Hulkenberg</td>\n      <td>...</td>\n      <td></td>\n      <td>17.0</td>\n      <td></td>\n      <td>NaN</td>\n      <td>0 days 00:01:32.777000</td>\n      <td>NaT</td>\n      <td>NaT</td>\n      <td>NaT</td>\n      <td></td>\n      <td>NaN</td>\n    </tr>\n    <tr>\n      <th>3</th>\n      <td>3</td>\n      <td>D RICCIARDO</td>\n      <td>RIC</td>\n      <td>ricciardo</td>\n      <td>McLaren</td>\n      <td>f58020</td>\n      <td>mclaren</td>\n      <td>Daniel</td>\n      <td>Ricciardo</td>\n      <td>Daniel Ricciardo</td>\n      <td>...</td>\n      <td></td>\n      <td>18.0</td>\n      <td></td>\n      <td>NaN</td>\n      <td>0 days 00:01:32.945000</td>\n      <td>NaT</td>\n      <td>NaT</td>\n      <td>NaT</td>\n      <td></td>\n      <td>NaN</td>\n    </tr>\n    <tr>\n      <th>18</th>\n      <td>18</td>\n      <td>L STROLL</td>\n      <td>STR</td>\n      <td>stroll</td>\n      <td>Aston Martin</td>\n      <td>2d826d</td>\n      <td>aston_martin</td>\n      <td>Lance</td>\n      <td>Stroll</td>\n      <td>Lance Stroll</td>\n      <td>...</td>\n      <td></td>\n      <td>19.0</td>\n      <td></td>\n      <td>NaN</td>\n      <td>0 days 00:01:33.032000</td>\n      <td>NaT</td>\n      <td>NaT</td>\n      <td>NaT</td>\n      <td></td>\n      <td>NaN</td>\n    </tr>\n    <tr>\n      <th>6</th>\n      <td>6</td>\n      <td>N LATIFI</td>\n      <td>LAT</td>\n      <td>latifi</td>\n      <td>Williams</td>\n      <td>37bedd</td>\n      <td>williams</td>\n      <td>Nicholas</td>\n      <td>Latifi</td>\n      <td>Nicholas Latifi</td>\n      <td>...</td>\n      <td></td>\n      <td>20.0</td>\n      <td></td>\n      <td>NaN</td>\n      <td>0 days 00:01:33.634000</td>\n      <td>NaT</td>\n      <td>NaT</td>\n      <td>NaT</td>\n      <td></td>\n      <td>NaN</td>\n    </tr>\n  </tbody>\n</table>\n<p>20 rows × 21 columns</p>\n</div>"
     },
     "execution_count": 69,
     "metadata": {},
     "output_type": "execute_result"
    }
   ],
   "source": [
    "session_event.results"
   ],
   "metadata": {
    "collapsed": false,
    "ExecuteTime": {
     "end_time": "2024-01-06T16:36:49.833353700Z",
     "start_time": "2024-01-06T16:36:49.812708400Z"
    }
   },
   "id": "30f4aa919c5b5b62"
  },
  {
   "cell_type": "code",
   "execution_count": 66,
   "outputs": [
    {
     "name": "stderr",
     "output_type": "stream",
     "text": [
      "core           INFO \tLoading data for Bahrain Grand Prix - Qualifying [v3.1.6]\n",
      "req            INFO \tUsing cached data for session_info\n",
      "req            INFO \tUsing cached data for driver_info\n",
      "req            INFO \tUsing cached data for session_status_data\n",
      "req            INFO \tUsing cached data for track_status_data\n",
      "req            INFO \tUsing cached data for _extended_timing_data\n",
      "req            INFO \tUsing cached data for timing_app_data\n",
      "core           INFO \tProcessing timing data...\n",
      "req            INFO \tUsing cached data for car_data\n",
      "req            INFO \tUsing cached data for position_data\n",
      "req            INFO \tUsing cached data for weather_data\n",
      "req            INFO \tUsing cached data for race_control_messages\n",
      "core           INFO \tFinished loading data for 20 drivers: ['16', '1', '55', '11', '44', '77', '20', '14', '63', '10', '31', '47', '4', '23', '24', '22', '27', '3', '18', '6']\n"
     ]
    }
   ],
   "source": [
    "session_event.load()#.laps.pick_driver('Leclerc').pick_fastest().get_telemetry().add_distance()"
   ],
   "metadata": {
    "collapsed": false,
    "ExecuteTime": {
     "end_time": "2024-01-06T16:34:23.399055600Z",
     "start_time": "2024-01-06T16:34:21.807842300Z"
    }
   },
   "id": "8d43b4d2129077bb"
  },
  {
   "cell_type": "code",
   "execution_count": 77,
   "outputs": [
    {
     "data": {
      "text/plain": "'LEC'"
     },
     "execution_count": 77,
     "metadata": {},
     "output_type": "execute_result"
    }
   ],
   "source": [
    "# Get driver abbreviation from their surname using session_event.results dataframe.\n",
    "# We can find the row with their surname in LastName and store the corresponding value in Abbreviation.\n",
    "Abbreviation = session_event.results[session_event.results['LastName'] == 'Leclerc']['Abbreviation'].values[0]\n",
    "Abbreviation"
   ],
   "metadata": {
    "collapsed": false,
    "ExecuteTime": {
     "end_time": "2024-01-06T16:41:03.903555800Z",
     "start_time": "2024-01-06T16:41:03.889043500Z"
    }
   },
   "id": "e00eb043ad8459e5"
  },
  {
   "cell_type": "code",
   "execution_count": 84,
   "outputs": [
    {
     "name": "stderr",
     "output_type": "stream",
     "text": [
      "core           INFO \tLoading data for Bahrain Grand Prix - Qualifying [v3.1.6]\n",
      "req            INFO \tUsing cached data for session_info\n",
      "req            INFO \tUsing cached data for driver_info\n",
      "req            INFO \tUsing cached data for session_status_data\n",
      "req            INFO \tUsing cached data for track_status_data\n",
      "req            INFO \tUsing cached data for _extended_timing_data\n",
      "req            INFO \tUsing cached data for timing_app_data\n",
      "core           INFO \tProcessing timing data...\n",
      "req            INFO \tUsing cached data for car_data\n",
      "req            INFO \tUsing cached data for position_data\n",
      "req            INFO \tUsing cached data for weather_data\n",
      "req            INFO \tUsing cached data for race_control_messages\n",
      "core           INFO \tFinished loading data for 20 drivers: ['16', '1', '55', '11', '44', '77', '20', '14', '63', '10', '31', '47', '4', '23', '24', '22', '27', '3', '18', '6']\n"
     ]
    }
   ],
   "source": [
    "session_event = ff1.get_session(2022, 'Bahrain', 'Q')\n",
    "session_event.load()\n",
    "\n",
    "driver01 = session_event.results[session_event.results['LastName'] == 'Verstappen']['Abbreviation'].values[0]\n",
    "driver02 = session_event.results[session_event.results['LastName'] == 'Leclerc']['Abbreviation'].values[0]\n",
    "\n",
    "drivers = [driver01, driver02]\n",
    "compare_drivers = session_event.laps[session_event.laps['Driver'].isin(drivers)]\n",
    "\n",
    "fastest_lap_driver01 = session_event.laps.pick_driver(driver01).pick_fastest()\n",
    "fastest_lap_driver02 = session_event.laps.pick_driver(driver02).pick_fastest()\n",
    "\n",
    "telemetry_driver01 = fastest_lap_driver01.get_telemetry().add_distance()\n",
    "telemetry_driver02 = fastest_lap_driver02.get_telemetry().add_distance()\n",
    "\n",
    "telemetry_driver01['Driver'] = driver01\n",
    "telemetry_driver02['Driver'] = driver02"
   ],
   "metadata": {
    "collapsed": false,
    "ExecuteTime": {
     "end_time": "2024-01-06T16:49:18.030645800Z",
     "start_time": "2024-01-06T16:49:14.919517200Z"
    }
   },
   "id": "6643d99a95a22d05"
  },
  {
   "cell_type": "code",
   "execution_count": 86,
   "outputs": [
    {
     "data": {
      "text/plain": "                       Date            SessionTime DriverAhead  \\\n2   2022-03-19 15:58:18.339 0 days 01:13:17.410000               \n3   2022-03-19 15:58:18.423 0 days 01:13:17.494000               \n4   2022-03-19 15:58:18.491 0 days 01:13:17.562000               \n5   2022-03-19 15:58:18.723 0 days 01:13:17.794000               \n6   2022-03-19 15:58:18.731 0 days 01:13:17.802000          77   \n..                      ...                    ...         ...   \n694 2022-03-19 15:59:48.503 0 days 01:14:47.574000          77   \n695 2022-03-19 15:59:48.611 0 days 01:14:47.682000          77   \n696 2022-03-19 15:59:48.683 0 days 01:14:47.754000          77   \n697 2022-03-19 15:59:48.851 0 days 01:14:47.922000          77   \n698 2022-03-19 15:59:48.897 0 days 01:14:47.968000          77   \n\n     DistanceToDriverAhead                   Time    RPM  Speed  nGear  \\\n2               591.047778        0 days 00:00:00  10514    292      7   \n3               591.047778 0 days 00:00:00.084000  10502    293      7   \n4               591.047778 0 days 00:00:00.152000  10478    294      8   \n5               591.047778 0 days 00:00:00.384000  10519    295      8   \n6               591.047778 0 days 00:00:00.392000  10560    296      8   \n..                     ...                    ...    ...    ...    ...   \n694             465.962778 0 days 00:01:30.164000  11636    288      7   \n695             464.673889 0 days 00:01:30.272000  11495    289      7   \n696             462.607222 0 days 00:01:30.344000  11064    289      7   \n697             460.540556 0 days 00:01:30.512000  10634    290      7   \n698             460.540556 0 days 00:01:30.558000  10552    290      7   \n\n     Throttle  Brake  DRS         Source  RelativeDistance   Status    X  \\\n2         100  False   12  interpolation          0.000006  OnTrack -380   \n3         100  False   12            pos          0.001283  OnTrack -377   \n4         100  False   12            car          0.002319  OnTrack -373   \n5         100  False   12            pos          0.005868  OnTrack -362   \n6         100  False   12            car          0.005991  OnTrack -361   \n..        ...    ...  ...            ...               ...      ...  ...   \n694       100  False   12            pos          0.991791  OnTrack -396   \n695       100  False   12            car          0.993405  OnTrack -391   \n696       100  False   12            pos          0.994483  OnTrack -389   \n697       100  False   12            car          0.997002  OnTrack -382   \n698       100  False   12  interpolation          0.997692  OnTrack -380   \n\n        Y    Z     Distance Driver  \n2    1280 -159     0.000000    LEC  \n3    1350 -159     6.836667    LEC  \n4    1413 -158    12.390000    LEC  \n5    1661 -158    31.401111    LEC  \n6    1669 -157    32.058889    LEC  \n..    ...  ...          ...    ...  \n694   961 -159  5329.548333    LEC  \n695  1045 -159  5338.218333    LEC  \n696  1106 -159  5343.998333    LEC  \n697  1242 -158  5357.531667    LEC  \n698  1278 -158  5361.237222    LEC  \n\n[697 rows x 19 columns]",
      "text/html": "<div>\n<style scoped>\n    .dataframe tbody tr th:only-of-type {\n        vertical-align: middle;\n    }\n\n    .dataframe tbody tr th {\n        vertical-align: top;\n    }\n\n    .dataframe thead th {\n        text-align: right;\n    }\n</style>\n<table border=\"1\" class=\"dataframe\">\n  <thead>\n    <tr style=\"text-align: right;\">\n      <th></th>\n      <th>Date</th>\n      <th>SessionTime</th>\n      <th>DriverAhead</th>\n      <th>DistanceToDriverAhead</th>\n      <th>Time</th>\n      <th>RPM</th>\n      <th>Speed</th>\n      <th>nGear</th>\n      <th>Throttle</th>\n      <th>Brake</th>\n      <th>DRS</th>\n      <th>Source</th>\n      <th>RelativeDistance</th>\n      <th>Status</th>\n      <th>X</th>\n      <th>Y</th>\n      <th>Z</th>\n      <th>Distance</th>\n      <th>Driver</th>\n    </tr>\n  </thead>\n  <tbody>\n    <tr>\n      <th>2</th>\n      <td>2022-03-19 15:58:18.339</td>\n      <td>0 days 01:13:17.410000</td>\n      <td></td>\n      <td>591.047778</td>\n      <td>0 days 00:00:00</td>\n      <td>10514</td>\n      <td>292</td>\n      <td>7</td>\n      <td>100</td>\n      <td>False</td>\n      <td>12</td>\n      <td>interpolation</td>\n      <td>0.000006</td>\n      <td>OnTrack</td>\n      <td>-380</td>\n      <td>1280</td>\n      <td>-159</td>\n      <td>0.000000</td>\n      <td>LEC</td>\n    </tr>\n    <tr>\n      <th>3</th>\n      <td>2022-03-19 15:58:18.423</td>\n      <td>0 days 01:13:17.494000</td>\n      <td></td>\n      <td>591.047778</td>\n      <td>0 days 00:00:00.084000</td>\n      <td>10502</td>\n      <td>293</td>\n      <td>7</td>\n      <td>100</td>\n      <td>False</td>\n      <td>12</td>\n      <td>pos</td>\n      <td>0.001283</td>\n      <td>OnTrack</td>\n      <td>-377</td>\n      <td>1350</td>\n      <td>-159</td>\n      <td>6.836667</td>\n      <td>LEC</td>\n    </tr>\n    <tr>\n      <th>4</th>\n      <td>2022-03-19 15:58:18.491</td>\n      <td>0 days 01:13:17.562000</td>\n      <td></td>\n      <td>591.047778</td>\n      <td>0 days 00:00:00.152000</td>\n      <td>10478</td>\n      <td>294</td>\n      <td>8</td>\n      <td>100</td>\n      <td>False</td>\n      <td>12</td>\n      <td>car</td>\n      <td>0.002319</td>\n      <td>OnTrack</td>\n      <td>-373</td>\n      <td>1413</td>\n      <td>-158</td>\n      <td>12.390000</td>\n      <td>LEC</td>\n    </tr>\n    <tr>\n      <th>5</th>\n      <td>2022-03-19 15:58:18.723</td>\n      <td>0 days 01:13:17.794000</td>\n      <td></td>\n      <td>591.047778</td>\n      <td>0 days 00:00:00.384000</td>\n      <td>10519</td>\n      <td>295</td>\n      <td>8</td>\n      <td>100</td>\n      <td>False</td>\n      <td>12</td>\n      <td>pos</td>\n      <td>0.005868</td>\n      <td>OnTrack</td>\n      <td>-362</td>\n      <td>1661</td>\n      <td>-158</td>\n      <td>31.401111</td>\n      <td>LEC</td>\n    </tr>\n    <tr>\n      <th>6</th>\n      <td>2022-03-19 15:58:18.731</td>\n      <td>0 days 01:13:17.802000</td>\n      <td>77</td>\n      <td>591.047778</td>\n      <td>0 days 00:00:00.392000</td>\n      <td>10560</td>\n      <td>296</td>\n      <td>8</td>\n      <td>100</td>\n      <td>False</td>\n      <td>12</td>\n      <td>car</td>\n      <td>0.005991</td>\n      <td>OnTrack</td>\n      <td>-361</td>\n      <td>1669</td>\n      <td>-157</td>\n      <td>32.058889</td>\n      <td>LEC</td>\n    </tr>\n    <tr>\n      <th>...</th>\n      <td>...</td>\n      <td>...</td>\n      <td>...</td>\n      <td>...</td>\n      <td>...</td>\n      <td>...</td>\n      <td>...</td>\n      <td>...</td>\n      <td>...</td>\n      <td>...</td>\n      <td>...</td>\n      <td>...</td>\n      <td>...</td>\n      <td>...</td>\n      <td>...</td>\n      <td>...</td>\n      <td>...</td>\n      <td>...</td>\n      <td>...</td>\n    </tr>\n    <tr>\n      <th>694</th>\n      <td>2022-03-19 15:59:48.503</td>\n      <td>0 days 01:14:47.574000</td>\n      <td>77</td>\n      <td>465.962778</td>\n      <td>0 days 00:01:30.164000</td>\n      <td>11636</td>\n      <td>288</td>\n      <td>7</td>\n      <td>100</td>\n      <td>False</td>\n      <td>12</td>\n      <td>pos</td>\n      <td>0.991791</td>\n      <td>OnTrack</td>\n      <td>-396</td>\n      <td>961</td>\n      <td>-159</td>\n      <td>5329.548333</td>\n      <td>LEC</td>\n    </tr>\n    <tr>\n      <th>695</th>\n      <td>2022-03-19 15:59:48.611</td>\n      <td>0 days 01:14:47.682000</td>\n      <td>77</td>\n      <td>464.673889</td>\n      <td>0 days 00:01:30.272000</td>\n      <td>11495</td>\n      <td>289</td>\n      <td>7</td>\n      <td>100</td>\n      <td>False</td>\n      <td>12</td>\n      <td>car</td>\n      <td>0.993405</td>\n      <td>OnTrack</td>\n      <td>-391</td>\n      <td>1045</td>\n      <td>-159</td>\n      <td>5338.218333</td>\n      <td>LEC</td>\n    </tr>\n    <tr>\n      <th>696</th>\n      <td>2022-03-19 15:59:48.683</td>\n      <td>0 days 01:14:47.754000</td>\n      <td>77</td>\n      <td>462.607222</td>\n      <td>0 days 00:01:30.344000</td>\n      <td>11064</td>\n      <td>289</td>\n      <td>7</td>\n      <td>100</td>\n      <td>False</td>\n      <td>12</td>\n      <td>pos</td>\n      <td>0.994483</td>\n      <td>OnTrack</td>\n      <td>-389</td>\n      <td>1106</td>\n      <td>-159</td>\n      <td>5343.998333</td>\n      <td>LEC</td>\n    </tr>\n    <tr>\n      <th>697</th>\n      <td>2022-03-19 15:59:48.851</td>\n      <td>0 days 01:14:47.922000</td>\n      <td>77</td>\n      <td>460.540556</td>\n      <td>0 days 00:01:30.512000</td>\n      <td>10634</td>\n      <td>290</td>\n      <td>7</td>\n      <td>100</td>\n      <td>False</td>\n      <td>12</td>\n      <td>car</td>\n      <td>0.997002</td>\n      <td>OnTrack</td>\n      <td>-382</td>\n      <td>1242</td>\n      <td>-158</td>\n      <td>5357.531667</td>\n      <td>LEC</td>\n    </tr>\n    <tr>\n      <th>698</th>\n      <td>2022-03-19 15:59:48.897</td>\n      <td>0 days 01:14:47.968000</td>\n      <td>77</td>\n      <td>460.540556</td>\n      <td>0 days 00:01:30.558000</td>\n      <td>10552</td>\n      <td>290</td>\n      <td>7</td>\n      <td>100</td>\n      <td>False</td>\n      <td>12</td>\n      <td>interpolation</td>\n      <td>0.997692</td>\n      <td>OnTrack</td>\n      <td>-380</td>\n      <td>1278</td>\n      <td>-158</td>\n      <td>5361.237222</td>\n      <td>LEC</td>\n    </tr>\n  </tbody>\n</table>\n<p>697 rows × 19 columns</p>\n</div>"
     },
     "execution_count": 86,
     "metadata": {},
     "output_type": "execute_result"
    }
   ],
   "source": [
    "telemetry_driver02"
   ],
   "metadata": {
    "collapsed": false,
    "ExecuteTime": {
     "end_time": "2024-01-06T16:49:35.880610200Z",
     "start_time": "2024-01-06T16:49:35.864375700Z"
    }
   },
   "id": "ea585c31924307cd"
  },
  {
   "cell_type": "code",
   "execution_count": 4,
   "outputs": [],
   "source": [
    "def compare_track_dominance(race_name, driver_surname1, driver_surname2, year = 2023, session = 'Q'):\n",
    "\n",
    "    session_event = ff1.get_session(year, race_name, session)\n",
    "    session_event.load()\n",
    "\n",
    "    driver01 = session_event.results[session_event.results['LastName'] == driver_surname1]['Abbreviation'].values[0]\n",
    "    driver02 = session_event.results[session_event.results['LastName'] == driver_surname2]['Abbreviation'].values[0]\n",
    "    \n",
    "    drivers = [driver01, driver02]\n",
    "    compare_drivers = session_event.laps[session_event.laps['Driver'].isin(drivers)]\n",
    "    \n",
    "    fastest_lap_driver01 = session_event.laps.pick_driver(driver01).pick_fastest()\n",
    "    fastest_lap_driver02 = session_event.laps.pick_driver(driver02).pick_fastest()\n",
    "    \n",
    "    telemetry_driver01 = fastest_lap_driver01.get_telemetry().add_distance()\n",
    "    telemetry_driver02 = fastest_lap_driver02.get_telemetry().add_distance()\n",
    "    \n",
    "    telemetry_driver01['Driver'] = driver01\n",
    "    telemetry_driver02['Driver'] = driver02\n",
    "    #telemetry_drivers = pd.DataFrame(telemetry_driver01).append(pd.DataFrame(telemetry_driver02))\n",
    "    telemetry_drivers = pd.concat([telemetry_driver01, telemetry_driver02])\n",
    "\n",
    "\n",
    "    # We want 25 mini-sectors (this can be adjusted up and down)\n",
    "    num_minisectors = 7*3\n",
    "    \n",
    "    # Grab the maximum value of distance that is known in the telemetry\n",
    "    total_distance = total_distance = max(telemetry_drivers['Distance'])\n",
    "    \n",
    "    # Generate equally sized mini-sectors\n",
    "    minisector_length = total_distance / num_minisectors\n",
    "    \n",
    "    \n",
    "    # Initiate minisector variable, with 0 (meters) as a starting point.\n",
    "    minisectors = [0]\n",
    "    \n",
    "    # Add multiples of minisector_length to the minisectors\n",
    "    for i in range(0, (num_minisectors - 1)):\n",
    "        minisectors.append(minisector_length * (i + 1))\n",
    "    \n",
    "    telemetry_drivers['Minisector'] = telemetry_drivers['Distance'].apply(\n",
    "        lambda dist: (\n",
    "            int((dist // minisector_length) + 1)\n",
    "        )\n",
    "    )\n",
    "    \n",
    "    average_speed = telemetry_drivers.groupby(['Minisector', 'Driver'])['Speed'].mean().reset_index()\n",
    "    \n",
    "    \n",
    "    # Select the driver with the highest average speed\n",
    "    fastest_driver = average_speed.loc[average_speed.groupby(['Minisector'])['Speed'].idxmax()]\n",
    "    \n",
    "    # Get rid of the speed column and rename the driver column\n",
    "    fastest_driver = fastest_driver[['Minisector', 'Driver']].rename(columns={'Driver': 'Fastest_driver'})\n",
    "        \n",
    "    # Join the fastest driver per minisector with the full telemetry\n",
    "    telemetry_drivers = telemetry_drivers.merge(fastest_driver, on=['Minisector'])\n",
    "    \n",
    "    # Order the data by distance to make matploblib does not get confused\n",
    "    telemetry_drivers = telemetry_drivers.sort_values(by=['Distance'])\n",
    "    \n",
    "    # Convert driver name to integer\n",
    "    telemetry_drivers.loc[telemetry_drivers['Fastest_driver'] == driver01, 'Fastest_driver_int'] = 1\n",
    "    telemetry_drivers.loc[telemetry_drivers['Fastest_driver'] == driver02, 'Fastest_driver_int'] = 2\n",
    "    \n",
    "    x = np.array(telemetry_drivers['X'].values)\n",
    "    y = np.array(telemetry_drivers['Y'].values)\n",
    "    \n",
    "    points = np.array([x, y]).T.reshape(-1, 1, 2)\n",
    "    segments = np.concatenate([points[:-1], points[1:]], axis=1)\n",
    "    fastest_driver_array = telemetry_drivers['Fastest_driver_int'].to_numpy().astype(float)\n",
    "    \n",
    "    cmap = plt.get_cmap('spring',2) \n",
    "    lc_comp = LineCollection(segments, norm=plt.Normalize(1, cmap.N+1), cmap=cmap)\n",
    "    lc_comp.set_array(fastest_driver_array)\n",
    "    lc_comp.set_linewidth(5)\n",
    "    \n",
    "    plt.rcParams['figure.figsize'] = [12, 6]\n",
    "    \n",
    "    plt.gca().add_collection(lc_comp)\n",
    "    plt.axis('equal')\n",
    "    plt.tick_params(labelleft=False, left=False, labelbottom=False, bottom=False)\n",
    "    \n",
    "    cbar = plt.colorbar(mappable=lc_comp, label='Driver', boundaries=np.arange(1,4))\n",
    "    cbar.set_ticks(np.arange(1.5, 3.5))\n",
    "    cbar.set_ticklabels([driver01,driver02])\n",
    "    # Store the fastest lap time of each driver. Use only minutes and seconds.\n",
    "    \n",
    "    title_color = 'silver' # '#6441a5'\n",
    "    plt.title(f\"{year} {race_name} | {session} {driver_surname1} ({fastest_lap_driver01['LapTime']}) vs {driver_surname2} ({fastest_lap_driver02['LapTime']})\", color=title_color, fontsize = 16)\n",
    "\n",
    "    \n",
    "    plt.show()"
   ],
   "metadata": {
    "collapsed": false,
    "ExecuteTime": {
     "end_time": "2024-01-06T19:03:08.186223400Z",
     "start_time": "2024-01-06T19:03:08.178682800Z"
    }
   },
   "id": "9ff05e677e3a3ffd"
  },
  {
   "cell_type": "code",
   "execution_count": 108,
   "outputs": [
    {
     "name": "stderr",
     "output_type": "stream",
     "text": [
      "core           INFO \tLoading data for Bahrain Grand Prix - Practice 3 [v3.1.6]\n",
      "req            INFO \tUsing cached data for session_info\n",
      "req            INFO \tUsing cached data for driver_info\n",
      "req            INFO \tUsing cached data for session_status_data\n",
      "req            INFO \tUsing cached data for track_status_data\n",
      "req            INFO \tUsing cached data for _extended_timing_data\n",
      "req            INFO \tUsing cached data for timing_app_data\n",
      "core           INFO \tProcessing timing data...\n",
      "core        WARNING \tNo lap data for driver 22\n",
      "core        WARNING \tFailed to perform lap accuracy check - all laps marked as inaccurate (driver 22)\n",
      "req            INFO \tUsing cached data for car_data\n",
      "req            INFO \tUsing cached data for position_data\n",
      "req            INFO \tUsing cached data for weather_data\n",
      "req            INFO \tUsing cached data for race_control_messages\n",
      "core           INFO \tFinished loading data for 20 drivers: ['1', '10', '11', '14', '16', '18', '20', '22', '23', '24', '27', '3', '31', '4', '44', '47', '55', '6', '63', '77']\n"
     ]
    },
    {
     "data": {
      "text/plain": "<Figure size 1200x600 with 2 Axes>",
      "image/png": "[encoded data removed]"
     },
     "metadata": {},
     "output_type": "display_data"
    }
   ],
   "source": [
    "compare_track_dominance('Bahrain', 'Leclerc', 'Verstappen', year = 2022, session = 'FP3')"
   ],
   "metadata": {
    "collapsed": false,
    "ExecuteTime": {
     "end_time": "2024-01-06T17:09:53.329283600Z",
     "start_time": "2024-01-06T17:09:50.760433800Z"
    }
   },
   "id": "83b81ab92b49441c"
  },
  {
   "cell_type": "code",
   "execution_count": 52,
   "outputs": [
    {
     "name": "stderr",
     "output_type": "stream",
     "text": [
      "core           INFO \tLoading data for Portuguese Grand Prix - Race [v3.1.6]\n",
      "req            INFO \tUsing cached data for session_info\n",
      "req            INFO \tUsing cached data for driver_info\n",
      "req            INFO \tUsing cached data for session_status_data\n",
      "req            INFO \tUsing cached data for lap_count\n",
      "req            INFO \tUsing cached data for track_status_data\n",
      "req            INFO \tUsing cached data for _extended_timing_data\n",
      "req            INFO \tUsing cached data for timing_app_data\n",
      "core           INFO \tProcessing timing data...\n",
      "req            INFO \tUsing cached data for car_data\n",
      "req            INFO \tUsing cached data for position_data\n",
      "req            INFO \tUsing cached data for weather_data\n",
      "req            INFO \tUsing cached data for race_control_messages\n",
      "core           INFO \tFinished loading data for 20 drivers: ['44', '33', '77', '11', '4', '16', '31', '14', '3', '10', '55', '99', '5', '18', '22', '63', '47', '6', '9', '7']\n"
     ]
    },
    {
     "data": {
      "text/plain": "<Figure size 1000x500 with 1 Axes>",
      "image/png": "[encoded data removed]"
     },
     "metadata": {},
     "output_type": "display_data"
    }
   ],
   "source": [
    "draw_f1_circuit('Portugal', 2021)"
   ],
   "metadata": {
    "collapsed": false,
    "ExecuteTime": {
     "end_time": "2024-01-06T16:26:56.941601400Z",
     "start_time": "2024-01-06T16:26:53.382528800Z"
    }
   },
   "id": "90a3f8fa8b3bfd78"
  },
  {
   "cell_type": "code",
   "execution_count": 5,
   "outputs": [
    {
     "name": "stdout",
     "output_type": "stream",
     "text": [
      "\n",
      "\n",
      "The 2023 Bahrain Grand Prix was the opening round of the 2023 Formula One World Championship. It was held on 5 March 2023 at the Bahrain International Circuit in Sakhir, Bahrain.\n",
      "\n",
      "Qualifying saw Max Verstappen of Red Bull Racing secure pole position with a time of 1:29.708, beating out Lewis Hamilton of Mercedes by 0.160 seconds. The race itself saw Verstappen maintain his lead, while Hamilton was overtaken by Sergio Pérez in the other Red Bull Racing car. Verstappen went on to win the race, securing his third World Drivers' Championship.\n",
      "\n",
      "Pérez finished second, giving Red Bull Racing their first ever 1-2 finish in the World Drivers' Championship. Hamilton finished third, driving for Mercedes. Red Bull Racing also secured their sixth World Constructors' Championship, with Mercedes finishing second and Ferrari in third.\n",
      "\n",
      "Several notable moments occurred during the race, including a thrilling final-lap battle between Fernando Alonso and Pérez for second place. Alonso, driving for Alpine, was able to hold off Pérez and secure his first podium finish since his return to Formula One.\n",
      "\n",
      "The race also saw the debut of three new drivers: Oscar Piastri, Nyck de Vries, and Logan\n"
     ]
    }
   ],
   "source": [
    "from langchain.chains.question_answering import load_qa_chain\n",
    "from langchain.llms import OpenAI\n",
    "\n",
    "chain = load_qa_chain(OpenAI(), chain_type=\"stuff\")\n",
    "prompt = f\"Who won the 2023 Bahrain GP of Formula 1?\"\n",
    "\n",
    "docs =  pdf_files.similarity_search(prompt)\n",
    "result = chain.run(input_documents=docs, question=prompt)\n",
    "print(result)\n"
   ],
   "metadata": {
    "collapsed": false,
    "ExecuteTime": {
     "end_time": "2024-01-06T03:08:51.102135800Z",
     "start_time": "2024-01-06T03:08:46.831841100Z"
    }
   },
   "id": "1a5fb60a53537f71"
  },
  {
   "cell_type": "code",
   "execution_count": null,
   "outputs": [],
   "source": [
    "# Feed JSON data to the agent\n",
    "from langchain.document_loaders import DirectoryLoader, TextLoader, CSVLoader\n",
    "from langchain_community.document_loaders import PyPDFLoader\n",
    "\n",
    "#loader = DirectoryLoader('F1_Data', glob='**/*.json', show_progress=True, loader_cls=TextLoader)\n",
    "loader_csv = DirectoryLoader('FinalData', show_progress=True, use_multithreading=True, loader_cls=CSVLoader, glob='**/*.csv')\n",
    "\n",
    "csv_docs = loader_csv.load()\n",
    "# loader for pdf\n",
    "#loader = DirectoryLoader('F1_Data', glob='**/*.pdf', show_progress=True, loader_cls=PDFLoader)\n",
    "\n",
    "#docs = loader.load()\n",
    "#print(len(docs))\n",
    "\n",
    "from langchain.indexes import VectorstoreIndexCreator\n",
    "#index = VectorstoreIndexCreator().from_loaders([loader_csv])\n",
    "\n"
   ],
   "metadata": {
    "collapsed": false
   },
   "id": "fd5007aaa5357101"
  },
  {
   "cell_type": "code",
   "execution_count": null,
   "outputs": [],
   "source": [
    "len(csv_docs)"
   ],
   "metadata": {
    "collapsed": false
   },
   "id": "240490147738ec1c"
  },
  {
   "cell_type": "code",
   "execution_count": 5,
   "outputs": [],
   "source": [
    "\n",
    "OPENAI_API_KEY=local_settings.OPENAI_API_KEY"
   ],
   "metadata": {
    "collapsed": false,
    "ExecuteTime": {
     "end_time": "2024-01-06T15:20:16.870567400Z",
     "start_time": "2024-01-06T15:20:16.867571500Z"
    }
   },
   "id": "83f486a5db63d7d8"
  },
  {
   "cell_type": "code",
   "execution_count": 11,
   "outputs": [
    {
     "ename": "ValueError",
     "evalue": "Got unknown tool ergast_retrieve",
     "output_type": "error",
     "traceback": [
      "\u001B[1;31m---------------------------------------------------------------------------\u001B[0m",
      "\u001B[1;31mValueError\u001B[0m                                Traceback (most recent call last)",
      "Cell \u001B[1;32mIn[11], line 5\u001B[0m\n\u001B[0;32m      2\u001B[0m \u001B[38;5;28;01mfrom\u001B[39;00m \u001B[38;5;21;01mlangchain\u001B[39;00m\u001B[38;5;21;01m.\u001B[39;00m\u001B[38;5;21;01mtools\u001B[39;00m \u001B[38;5;28;01mimport\u001B[39;00m BaseTool, StructuredTool, tool\n\u001B[0;32m      4\u001B[0m llm \u001B[38;5;241m=\u001B[39m ChatOpenAI(temperature\u001B[38;5;241m=\u001B[39m\u001B[38;5;241m0.1\u001B[39m, model\u001B[38;5;241m=\u001B[39mmodel)\n\u001B[1;32m----> 5\u001B[0m tools \u001B[38;5;241m=\u001B[39m load_tools([\u001B[38;5;124m\"\u001B[39m\u001B[38;5;124mllm-math\u001B[39m\u001B[38;5;124m\"\u001B[39m,\u001B[38;5;124m\"\u001B[39m\u001B[38;5;124mwikipedia\u001B[39m\u001B[38;5;124m\"\u001B[39m, \u001B[38;5;124m\"\u001B[39m\u001B[38;5;124mergast_retrieve\u001B[39m\u001B[38;5;124m\"\u001B[39m], llm\u001B[38;5;241m=\u001B[39mllm)\n",
      "File \u001B[1;32m~\\anaconda3\\envs\\GPT_env2\\Lib\\site-packages\\langchain\\agents\\load_tools.py:616\u001B[0m, in \u001B[0;36mload_tools\u001B[1;34m(tool_names, llm, callbacks, **kwargs)\u001B[0m\n\u001B[0;32m    614\u001B[0m         tools\u001B[38;5;241m.\u001B[39mappend(tool)\n\u001B[0;32m    615\u001B[0m     \u001B[38;5;28;01melse\u001B[39;00m:\n\u001B[1;32m--> 616\u001B[0m         \u001B[38;5;28;01mraise\u001B[39;00m \u001B[38;5;167;01mValueError\u001B[39;00m(\u001B[38;5;124mf\u001B[39m\u001B[38;5;124m\"\u001B[39m\u001B[38;5;124mGot unknown tool \u001B[39m\u001B[38;5;132;01m{\u001B[39;00mname\u001B[38;5;132;01m}\u001B[39;00m\u001B[38;5;124m\"\u001B[39m)\n\u001B[0;32m    617\u001B[0m \u001B[38;5;28;01mif\u001B[39;00m callbacks \u001B[38;5;129;01mis\u001B[39;00m \u001B[38;5;129;01mnot\u001B[39;00m \u001B[38;5;28;01mNone\u001B[39;00m:\n\u001B[0;32m    618\u001B[0m     \u001B[38;5;28;01mfor\u001B[39;00m tool \u001B[38;5;129;01min\u001B[39;00m tools:\n",
      "\u001B[1;31mValueError\u001B[0m: Got unknown tool ergast_retrieve"
     ]
    }
   ],
   "source": [
    "from langchain.pydantic_v1 import BaseModel, Field\n",
    "from langchain.tools import BaseTool, StructuredTool, tool\n",
    "\n",
    "llm = ChatOpenAI(temperature=0.1, model=model)\n",
    "tools = load_tools([\"llm-math\",\"wikipedia\", \"ergast_retrieve\"], llm=llm)\n",
    "#tools += [\n",
    "#    Tool(\n",
    "#        name=\"State of Union QA System\",\n",
    "#        func=ergast_retrieve,\n",
    "#        description=\"Retrieve data from the Ergast API for Formula 1. The API endpoint is appended to the base URL. It can be specified with '/', such as current/DriverStandings.json.\",\n",
    "#    ),\n",
    "#]\n"
   ],
   "metadata": {
    "collapsed": false,
    "ExecuteTime": {
     "end_time": "2024-01-06T15:28:11.620857800Z",
     "start_time": "2024-01-06T15:28:11.037939700Z"
    }
   },
   "id": "4042e2955bd122d7"
  },
  {
   "cell_type": "code",
   "execution_count": 4,
   "outputs": [],
   "source": [
    "agent= initialize_agent(\n",
    "    tools,\n",
    "    llm,\n",
    "    agent=AgentType.CHAT_ZERO_SHOT_REACT_DESCRIPTION,\n",
    "    handle_parsing_errors=True,\n",
    "    verbose = True)"
   ],
   "metadata": {
    "collapsed": false,
    "ExecuteTime": {
     "end_time": "2024-01-06T02:54:25.487914700Z",
     "start_time": "2024-01-06T02:54:25.480279800Z"
    }
   },
   "id": "fce9257d3d49be86"
  },
  {
   "cell_type": "code",
   "execution_count": 12,
   "outputs": [
    {
     "name": "stdout",
     "output_type": "stream",
     "text": [
      "\n",
      "\n",
      "\u001B[1m> Entering new AgentExecutor chain...\u001B[0m\n",
      "\u001B[32;1m\u001B[1;3mQuestion: How would you do a race report for the 2023 Bahrain GP of Formula 1?\n",
      "Thought: I can use Wikipedia to gather information about the 2023 Bahrain GP and then write a race report based on that information.\n",
      "Action:\n",
      "```\n",
      "{\n",
      "  \"action\": \"Wikipedia\",\n",
      "  \"action_input\": \"2023 Bahrain GP\"\n",
      "}\n",
      "```\n",
      "\u001B[0m\n",
      "Observation: \u001B[33;1m\u001B[1;3mPage: Bahrain Grand Prix\n",
      "Summary: The Bahrain Grand Prix (Arabic: جائزة البحرين الكبرى), officially known as the Gulf Air Bahrain Grand Prix for sponsorship reasons, is a Formula One motor racing event in Bahrain. The first race took place at the Bahrain International Circuit on 4 April 2004. It made history as the first Formula One Grand Prix to be held in the Middle East, and was given the award for the \"Best Organised Grand Prix\" by the FIA. The race has in the past been the second, third, or fourth race of the Formula One calendar. However, in the 2006 season, Bahrain swapped places with the traditional opener, the Australian Grand Prix, which was pushed back to avoid a clash with the Commonwealth Games. In 2010, Bahrain staged the opening race of the 2010 season and the cars drove the full 6.299 km (3.914 mi) \"Endurance Circuit\" to celebrate F1's 'diamond jubilee'. In 2021, the Bahrain Grand Prix was the season opener again because the 2021 Australian Grand Prix was cancelled due to the COVID-19 pandemic.\n",
      "The 2011 edition, due to be held on 13 March, was cancelled on 21 February due to the 2011 Bahraini protests after drivers including Damon Hill and Mark Webber had protested. Human rights activists called for a cancellation of the 2012 race due to reports of human rights abuses committed by the Bahraini authorities. Team personnel also voiced concerns about safety, but the race, nonetheless, was held as planned on 22 April 2012.\n",
      "In 2014, to commemorate the tenth anniversary of the first staging of the Bahrain Grand Prix, the race was held as a night event under floodlights. In so doing it became the second Formula One night race after the Singapore Grand Prix in 2008. Bahrain's inaugural night event was won by Lewis Hamilton. Subsequent races have also been night races.\n",
      "\n",
      "Page: 2023 Bahrain Grand Prix\n",
      "Summary: The 2023 Bahrain Grand Prix (officially known as the Formula 1 Gulf Air Bahrain Grand Prix 2023) was a Formula One motor race that was held on 5 March 2023 at the Bahrain International Circuit in Sakhir, Bahrain. It was the opening round of the 2023 Formula One World Championship.\n",
      "Oscar Piastri, Nyck de Vries and Logan Sargeant made their Formula One Grand Prix season debuts with McLaren, AlphaTauri and Williams, respectively. Red Bull Racing driver Max Verstappen took pole position and won the race, ahead of his teammate Sergio Pérez in what was their first 1-2 finish of the season. Fernando Alonso of Aston Martin in third. This was only Alonso's second podium since the 2014 Hungarian Grand Prix, and the first of eight for the season.\n",
      "\n",
      "\n",
      "\n",
      "Page: Red Bull Racing RB19\n",
      "Summary: The Red Bull Racing RB19 is a highly successful Formula One car designed and constructed by Red Bull Racing which competed in the 2023 Formula One World Championship. The car was unveiled in New York City on 3 February 2023. The RB19 was driven by defending world champion Max Verstappen and Sergio Pérez. The car also marked the return of Honda as a named engine supplier to Red Bull Racing and AlphaTauri, with both teams' engines badged as Honda RBPT. The car is the most dominant car in the history of the Formula One World Championship, winning 21 out of the 22 races (95.45%) it competed in, thereby outperforming the McLaren MP4/4's previous record of winning 15 out of 16 races (93.8%) that has stood since the 1988 F1 season.\n",
      "\n",
      "\u001B[0m\n",
      "Thought:\u001B[32;1m\u001B[1;3mBased on the information from Wikipedia, I can now write a race report for the 2023 Bahrain GP of Formula 1.\n",
      "\n",
      "Final Answer: The 2023 Bahrain Grand Prix was held on March 5th at the Bahrain International Circuit in Sakhir, Bahrain. It served as the opening round of the 2023 Formula One World Championship. The race saw the debut of Oscar Piastri, Nyck de Vries, and Logan Sargeant with McLaren, AlphaTauri, and Williams respectively. Max Verstappen of Red Bull Racing secured pole position and went on to win the race, with his teammate Sergio Pérez finishing in second place. This marked their first 1-2 finish of the season. Fernando Alonso of Aston Martin secured third place, marking his second podium since the 2014 Hungarian Grand Prix. The Red Bull Racing RB19, driven by Verstappen and Pérez, proved to be highly successful throughout the season, winning 21 out of the 22 races it competed in, making it the most dominant car in the history of the Formula One World Championship.\u001B[0m\n",
      "\n",
      "\u001B[1m> Finished chain.\u001B[0m\n"
     ]
    },
    {
     "data": {
      "text/plain": "{'input': 'How would you do a race report for the 2023 Bahrain GP of Formula 1. Use information from wikipedia',\n 'output': 'The 2023 Bahrain Grand Prix was held on March 5th at the Bahrain International Circuit in Sakhir, Bahrain. It served as the opening round of the 2023 Formula One World Championship. The race saw the debut of Oscar Piastri, Nyck de Vries, and Logan Sargeant with McLaren, AlphaTauri, and Williams respectively. Max Verstappen of Red Bull Racing secured pole position and went on to win the race, with his teammate Sergio Pérez finishing in second place. This marked their first 1-2 finish of the season. Fernando Alonso of Aston Martin secured third place, marking his second podium since the 2014 Hungarian Grand Prix. The Red Bull Racing RB19, driven by Verstappen and Pérez, proved to be highly successful throughout the season, winning 21 out of the 22 races it competed in, making it the most dominant car in the history of the Formula One World Championship.'}"
     },
     "execution_count": 12,
     "metadata": {},
     "output_type": "execute_result"
    }
   ],
   "source": [
    "agent(\"How would you do a race report for the 2023 Bahrain GP of Formula 1. Use information from wikipedia\")\n"
   ],
   "metadata": {
    "collapsed": false,
    "ExecuteTime": {
     "end_time": "2024-01-06T03:02:31.687377Z",
     "start_time": "2024-01-06T03:02:14.223443800Z"
    }
   },
   "id": "9cb0e4f39611526b"
  },
  {
   "cell_type": "code",
   "execution_count": null,
   "outputs": [],
   "source": [
    "# give csv docs to agent\n",
    "agent.add_documents(csv_docs)\n",
    "agent.con"
   ],
   "metadata": {
    "collapsed": false
   },
   "id": "f2584e3850420f34"
  },
  {
   "cell_type": "code",
   "execution_count": null,
   "outputs": [],
   "source": [
    "index = VectorstoreIndexCreator().from_loaders([loader_csv, loader_pdf])"
   ],
   "metadata": {
    "collapsed": false
   },
   "id": "17f2b7125ead9005"
  },
  {
   "cell_type": "code",
   "execution_count": 5,
   "outputs": [],
   "source": [
    "import fastf1\n",
    "\n",
    "class F1Data:\n",
    "    def __init__(self, year, gp, session):\n",
    "        self.year = year\n",
    "        self.gp = gp\n",
    "        self.session = session\n",
    "\n",
    "    def get_data(self, data_type, driver=None):\n",
    "        session = fastf1.get_session(self.year, self.gp, self.session)\n",
    "        if data_type == 'standings':\n",
    "            if driver is None:\n",
    "                return session.get_results().to_dict()\n",
    "            else:\n",
    "                return session.get_results().loc[session.get_results()['Driver'] == driver].to_dict()\n",
    "        elif data_type == 'telemetry':\n",
    "            if driver is None:\n",
    "                return 'Please specify a driver'\n",
    "            else:\n",
    "                return session.get_car_data(driver).to_dict()\n",
    "        else:\n",
    "            return 'Invalid data type'\n",
    "\n",
    "\n"
   ],
   "metadata": {
    "collapsed": false,
    "ExecuteTime": {
     "end_time": "2024-01-06T19:03:59.614336200Z",
     "start_time": "2024-01-06T19:03:59.606956Z"
    }
   },
   "id": "589302d70e7ba07d"
  },
  {
   "cell_type": "code",
   "execution_count": 139,
   "outputs": [],
   "source": [
    "class fastF1Data_events:\n",
    "    def __init__(self, year, gp, session):\n",
    "        # Year is an integer representing the year the GP happened\n",
    "        # GP is a string representing the name of the GP, e.g. 'Bahrain', or Circuit name, or Country name (use with caution, as some countries have multiple GPs)\n",
    "        # Session can be 'FP1', 'FP2', 'FP3', 'Q', 'R'\n",
    "        # If you do not know, use 2023, 'Abu Dhabi', 'R' as default\n",
    "        self.year = year\n",
    "        self.gp = gp\n",
    "        self.session = session\n",
    "\n",
    "    def get_event_info(self):\n",
    "        session = fastf1.get_event(self.year, self.gp)\n",
    "        #session.load()\n",
    "        return session\n",
    "    \n",
    "    def get_remaining_events(self):\n",
    "        # If no year is specified and the season is over, it will return all the events of the next season\n",
    "        return fastf1.get_events_remaining()\n",
    "    \n",
    "    def get_testing_events(self):\n",
    "        return fastf1.get_testing_event(self.year, 1)\n",
    "    \n",
    "    def get_all_races_in_season(self):\n",
    "        return fastf1.get_event_schedule(self.year)"
   ],
   "metadata": {
    "collapsed": false,
    "ExecuteTime": {
     "end_time": "2024-01-06T18:06:02.442195Z",
     "start_time": "2024-01-06T18:06:02.421641200Z"
    }
   },
   "id": "fb84a62afccc62d2"
  },
  {
   "cell_type": "code",
   "execution_count": null,
   "outputs": [],
   "source": [
    "class fastF1Data_telemetry:\n",
    "    def __init__(self, year, gp, session):\n",
    "        # Year is an integer representing the year the GP happened\n",
    "        # GP is a string representing the name of the GP, e.g. 'Bahrain', or Circuit name, or Country name (use with caution, as some countries have multiple GPs)\n",
    "        # Session can be 'FP1', 'FP2', 'FP3', 'Q', 'R'\n",
    "        # If you do not know, use 2023, 'Abu Dhabi', 'R' as default\n",
    "        self.year = year\n",
    "        self.gp = gp\n",
    "        self.session = session\n",
    "\n",
    "    def get_data(self, driver):\n",
    "        session = fastf1.get_session(self.year, self.gp, self.session)\n",
    "        return session.get_car_data(driver).to_dict()"
   ],
   "metadata": {
    "collapsed": false
   },
   "id": "555747e23c604dc7"
  },
  {
   "cell_type": "code",
   "execution_count": 6,
   "outputs": [
    {
     "name": "stderr",
     "output_type": "stream",
     "text": [
      "req         WARNING \t\n",
      "\n",
      "DEFAULT CACHE ENABLED!\n",
      "\tCache directory: C:\\Users\\marce\\AppData\\Local\\Temp\\fastf1.\n",
      "\tSize: 664.53 MB\n",
      "core           INFO \tLoading data for Bahrain Grand Prix - Race [v3.1.6]\n",
      "req            INFO \tUsing cached data for session_info\n",
      "req            INFO \tUsing cached data for driver_info\n",
      "req            INFO \tUsing cached data for session_status_data\n",
      "req            INFO \tUsing cached data for lap_count\n",
      "req            INFO \tUsing cached data for track_status_data\n",
      "req            INFO \tUsing cached data for _extended_timing_data\n",
      "req            INFO \tUsing cached data for timing_app_data\n",
      "core           INFO \tProcessing timing data...\n",
      "req            INFO \tUsing cached data for car_data\n",
      "req            INFO \tUsing cached data for position_data\n",
      "req            INFO \tUsing cached data for weather_data\n",
      "req            INFO \tUsing cached data for race_control_messages\n",
      "core           INFO \tFinished loading data for 20 drivers: ['1', '11', '14', '55', '44', '18', '63', '77', '10', '23', '22', '2', '20', '21', '27', '24', '4', '31', '16', '81']\n"
     ]
    }
   ],
   "source": [
    "bahrain = fastf1.get_session(2023, 'Bahrain', 'R', backend='fastf1').load()\n",
    "\n"
   ],
   "metadata": {
    "collapsed": false,
    "ExecuteTime": {
     "end_time": "2024-01-06T19:04:08.743116800Z",
     "start_time": "2024-01-06T19:04:05.027767700Z"
    }
   },
   "id": "df2d1dcb6712392e"
  },
  {
   "cell_type": "code",
   "execution_count": 164,
   "outputs": [
    {
     "ename": "AttributeError",
     "evalue": "'NoneType' object has no attribute 'columns'",
     "output_type": "error",
     "traceback": [
      "\u001B[1;31m---------------------------------------------------------------------------\u001B[0m",
      "\u001B[1;31mAttributeError\u001B[0m                            Traceback (most recent call last)",
      "Cell \u001B[1;32mIn[164], line 1\u001B[0m\n\u001B[1;32m----> 1\u001B[0m bahrain\u001B[38;5;241m.\u001B[39mcolumns\n",
      "\u001B[1;31mAttributeError\u001B[0m: 'NoneType' object has no attribute 'columns'"
     ]
    }
   ],
   "source": [
    "bahrain.columns"
   ],
   "metadata": {
    "collapsed": false,
    "ExecuteTime": {
     "end_time": "2024-01-06T18:41:18.204285700Z",
     "start_time": "2024-01-06T18:41:18.187931600Z"
    }
   },
   "id": "d3bbd5328d7eeed3"
  },
  {
   "cell_type": "code",
   "execution_count": 141,
   "outputs": [
    {
     "data": {
      "text/plain": "RoundNumber                                                 0\nCountry                                               Bahrain\nLocation                                               Sakhir\nOfficialEventName    FORMULA 1 ARAMCO PRE-SEASON TESTING 2023\nEventDate                                 2023-02-25 00:00:00\nEventName                                  Pre-Season Testing\nEventFormat                                           testing\nSession1                                           Practice 1\nSession1Date                        2023-02-23 10:00:00+03:00\nSession1DateUtc                           2023-02-23 07:00:00\nSession2                                           Practice 2\nSession2Date                        2023-02-24 10:00:00+03:00\nSession2DateUtc                           2023-02-24 07:00:00\nSession3                                           Practice 3\nSession3Date                        2023-02-25 10:00:00+03:00\nSession3DateUtc                           2023-02-25 07:00:00\nSession4                                                 None\nSession4Date                                             None\nSession4DateUtc                                           NaT\nSession5                                                 None\nSession5Date                                             None\nSession5DateUtc                                           NaT\nF1ApiSupport                                             True\nName: 0, dtype: object"
     },
     "execution_count": 141,
     "metadata": {},
     "output_type": "execute_result"
    }
   ],
   "source": [
    "data_f1.get_testing_events()"
   ],
   "metadata": {
    "collapsed": false,
    "ExecuteTime": {
     "end_time": "2024-01-06T18:06:02.976891300Z",
     "start_time": "2024-01-06T18:06:02.947450900Z"
    }
   },
   "id": "6c5119b74a53655b"
  },
  {
   "cell_type": "code",
   "execution_count": 148,
   "outputs": [],
   "source": [
    "import pandas as pd\n",
    "import plotly.express as px\n",
    "from plotly.io import show\n",
    "\n",
    "from fastf1.ergast import Ergast\n",
    "def plot_driver_standings_by_year(year):\n",
    "    ergast = Ergast()\n",
    "    races = ergast.get_race_schedule(year)  # Races in year 2022\n",
    "    results = []\n",
    "    \n",
    "    # For each race in the season\n",
    "    for rnd, race in races['raceName'].items():\n",
    "    \n",
    "        # Get results. Note that we use the round no. + 1, because the round no.\n",
    "        # starts from one (1) instead of zero (0)\n",
    "        temp = ergast.get_race_results(season=year, round=rnd + 1)\n",
    "        temp = temp.content[0]\n",
    "    \n",
    "        # If there is a sprint, get the results as well\n",
    "        sprint = ergast.get_sprint_results(season=year, round=rnd + 1)\n",
    "        if sprint.content and sprint.description['round'][0] == rnd + 1:\n",
    "            temp = pd.merge(temp, sprint.content[0], on='driverCode', how='left')\n",
    "            # Add sprint points and race points to get the total\n",
    "            temp['points'] = temp['points_x'] + temp['points_y']\n",
    "            temp.drop(columns=['points_x', 'points_y'], inplace=True)\n",
    "    \n",
    "        # Add round no. and grand prix name\n",
    "        temp['round'] = rnd + 1\n",
    "        temp['race'] = race.removesuffix(' Grand Prix')\n",
    "        temp = temp[['round', 'race', 'driverCode', 'points']]  # Keep useful cols.\n",
    "        results.append(temp)\n",
    "    \n",
    "    # Append all races into a single dataframe\n",
    "    results = pd.concat(results)\n",
    "    races = results['race'].drop_duplicates()\n",
    "    \n",
    "    results = results.pivot(index='driverCode', columns='round', values='points')\n",
    "    # Here we have a 22-by-22 matrix (22 races and 22 drivers, incl. DEV and HUL)\n",
    "    \n",
    "    # Rank the drivers by their total points\n",
    "    results['total_points'] = results.sum(axis=1)\n",
    "    results = results.sort_values(by='total_points', ascending=False)\n",
    "    results.drop(columns='total_points', inplace=True)\n",
    "    \n",
    "    # Use race name, instead of round no., as column names\n",
    "    results.columns = races\n",
    "    \n",
    "    fig = px.imshow(\n",
    "        results,\n",
    "        text_auto=True,\n",
    "        aspect='auto',  # Automatically adjust the aspect ratio\n",
    "        color_continuous_scale=[[0,    'rgb(198, 219, 239)'],  # Blue scale\n",
    "                                [0.25, 'rgb(107, 174, 214)'],\n",
    "                                [0.5,  'rgb(33,  113, 181)'],\n",
    "                                [0.75, 'rgb(8,   81,  156)'],\n",
    "                                [1,    'rgb(8,   48,  107)']],\n",
    "        labels={'x': 'Race',\n",
    "                'y': 'Driver',\n",
    "                'color': 'Points'}       # Change hover texts\n",
    "    )\n",
    "    fig.update_xaxes(title_text='')      # Remove axis titles\n",
    "    fig.update_yaxes(title_text='')\n",
    "    fig.update_yaxes(tickmode='linear')  # Show all ticks, i.e. driver names\n",
    "    fig.update_yaxes(showgrid=True, gridwidth=1, gridcolor='LightGrey',\n",
    "                     showline=False,\n",
    "                     tickson='boundaries')              # Show horizontal grid only\n",
    "    fig.update_xaxes(showgrid=False, showline=False)    # And remove vertical grid\n",
    "    fig.update_layout(plot_bgcolor='rgba(0,0,0,0)')     # White background\n",
    "    fig.update_layout(coloraxis_showscale=False)        # Remove legend\n",
    "    fig.update_layout(xaxis=dict(side='top'))           # x-axis on top\n",
    "    fig.update_layout(margin=dict(l=0, r=0, b=0, t=0))  # Remove border margins\n",
    "    show(fig)"
   ],
   "metadata": {
    "collapsed": false,
    "ExecuteTime": {
     "end_time": "2024-01-06T18:24:23.751223100Z",
     "start_time": "2024-01-06T18:24:23.726272700Z"
    }
   },
   "id": "353ddc585752d9fa"
  },
  {
   "cell_type": "code",
   "execution_count": 151,
   "outputs": [
    {
     "ename": "RateLimitExceededError",
     "evalue": "ergast.com: 200 calls/h",
     "output_type": "error",
     "traceback": [
      "\u001B[1;31m---------------------------------------------------------------------------\u001B[0m",
      "\u001B[1;31mRateLimitExceededError\u001B[0m                    Traceback (most recent call last)",
      "Cell \u001B[1;32mIn[151], line 1\u001B[0m\n\u001B[1;32m----> 1\u001B[0m plot_driver_standings_by_year(\u001B[38;5;241m2008\u001B[39m)\n",
      "Cell \u001B[1;32mIn[148], line 20\u001B[0m, in \u001B[0;36mplot_driver_standings_by_year\u001B[1;34m(year)\u001B[0m\n\u001B[0;32m     17\u001B[0m temp \u001B[38;5;241m=\u001B[39m temp\u001B[38;5;241m.\u001B[39mcontent[\u001B[38;5;241m0\u001B[39m]\n\u001B[0;32m     19\u001B[0m \u001B[38;5;66;03m# If there is a sprint, get the results as well\u001B[39;00m\n\u001B[1;32m---> 20\u001B[0m sprint \u001B[38;5;241m=\u001B[39m ergast\u001B[38;5;241m.\u001B[39mget_sprint_results(season\u001B[38;5;241m=\u001B[39myear, \u001B[38;5;28mround\u001B[39m\u001B[38;5;241m=\u001B[39mrnd \u001B[38;5;241m+\u001B[39m \u001B[38;5;241m1\u001B[39m)\n\u001B[0;32m     21\u001B[0m \u001B[38;5;28;01mif\u001B[39;00m sprint\u001B[38;5;241m.\u001B[39mcontent \u001B[38;5;129;01mand\u001B[39;00m sprint\u001B[38;5;241m.\u001B[39mdescription[\u001B[38;5;124m'\u001B[39m\u001B[38;5;124mround\u001B[39m\u001B[38;5;124m'\u001B[39m][\u001B[38;5;241m0\u001B[39m] \u001B[38;5;241m==\u001B[39m rnd \u001B[38;5;241m+\u001B[39m \u001B[38;5;241m1\u001B[39m:\n\u001B[0;32m     22\u001B[0m     temp \u001B[38;5;241m=\u001B[39m pd\u001B[38;5;241m.\u001B[39mmerge(temp, sprint\u001B[38;5;241m.\u001B[39mcontent[\u001B[38;5;241m0\u001B[39m], on\u001B[38;5;241m=\u001B[39m\u001B[38;5;124m'\u001B[39m\u001B[38;5;124mdriverCode\u001B[39m\u001B[38;5;124m'\u001B[39m, how\u001B[38;5;241m=\u001B[39m\u001B[38;5;124m'\u001B[39m\u001B[38;5;124mleft\u001B[39m\u001B[38;5;124m'\u001B[39m)\n",
      "File \u001B[1;32m~\\anaconda3\\envs\\GPT_env2\\Lib\\site-packages\\fastf1\\ergast\\interface.py:1178\u001B[0m, in \u001B[0;36mErgast.get_sprint_results\u001B[1;34m(self, season, round, circuit, constructor, driver, grid_position, status, result_type, auto_cast, limit, offset)\u001B[0m\n\u001B[0;32m   1141\u001B[0m \u001B[38;5;250m\u001B[39m\u001B[38;5;124;03m\"\"\"Get sprint results for one or multiple sprints.\u001B[39;00m\n\u001B[0;32m   1142\u001B[0m \n\u001B[0;32m   1143\u001B[0m \u001B[38;5;124;03mSee: https://ergast.com/mrd/methods/sprint/\u001B[39;00m\n\u001B[1;32m   (...)\u001B[0m\n\u001B[0;32m   1168\u001B[0m \u001B[38;5;124;03m    ``result_type`` parameter\u001B[39;00m\n\u001B[0;32m   1169\u001B[0m \u001B[38;5;124;03m\"\"\"\u001B[39;00m\n\u001B[0;32m   1170\u001B[0m selectors \u001B[38;5;241m=\u001B[39m {\u001B[38;5;124m'\u001B[39m\u001B[38;5;124mseason\u001B[39m\u001B[38;5;124m'\u001B[39m: season,\n\u001B[0;32m   1171\u001B[0m              \u001B[38;5;124m'\u001B[39m\u001B[38;5;124mround\u001B[39m\u001B[38;5;124m'\u001B[39m: \u001B[38;5;28mround\u001B[39m,\n\u001B[0;32m   1172\u001B[0m              \u001B[38;5;124m'\u001B[39m\u001B[38;5;124mcircuit\u001B[39m\u001B[38;5;124m'\u001B[39m: circuit,\n\u001B[1;32m   (...)\u001B[0m\n\u001B[0;32m   1175\u001B[0m              \u001B[38;5;124m'\u001B[39m\u001B[38;5;124mgrid_position\u001B[39m\u001B[38;5;124m'\u001B[39m: grid_position,\n\u001B[0;32m   1176\u001B[0m              \u001B[38;5;124m'\u001B[39m\u001B[38;5;124mstatus\u001B[39m\u001B[38;5;124m'\u001B[39m: status}\n\u001B[1;32m-> 1178\u001B[0m \u001B[38;5;28;01mreturn\u001B[39;00m \u001B[38;5;28mself\u001B[39m\u001B[38;5;241m.\u001B[39m_build_default_result(endpoint\u001B[38;5;241m=\u001B[39m\u001B[38;5;124m'\u001B[39m\u001B[38;5;124msprint\u001B[39m\u001B[38;5;124m'\u001B[39m,\n\u001B[0;32m   1179\u001B[0m                                   table\u001B[38;5;241m=\u001B[39m\u001B[38;5;124m'\u001B[39m\u001B[38;5;124mRaceTable\u001B[39m\u001B[38;5;124m'\u001B[39m,\n\u001B[0;32m   1180\u001B[0m                                   category\u001B[38;5;241m=\u001B[39mAPI\u001B[38;5;241m.\u001B[39mRaces_SprintResults,\n\u001B[0;32m   1181\u001B[0m                                   subcategory\u001B[38;5;241m=\u001B[39mAPI\u001B[38;5;241m.\u001B[39mSprintResults,\n\u001B[0;32m   1182\u001B[0m                                   result_type\u001B[38;5;241m=\u001B[39mresult_type,\n\u001B[0;32m   1183\u001B[0m                                   auto_cast\u001B[38;5;241m=\u001B[39mauto_cast,\n\u001B[0;32m   1184\u001B[0m                                   limit\u001B[38;5;241m=\u001B[39mlimit,\n\u001B[0;32m   1185\u001B[0m                                   offset\u001B[38;5;241m=\u001B[39moffset,\n\u001B[0;32m   1186\u001B[0m                                   selectors\u001B[38;5;241m=\u001B[39mselectors)\n",
      "File \u001B[1;32m~\\anaconda3\\envs\\GPT_env2\\Lib\\site-packages\\fastf1\\ergast\\interface.py:585\u001B[0m, in \u001B[0;36mErgast._build_default_result\u001B[1;34m(self, selectors, result_type, auto_cast, limit, **kwargs)\u001B[0m\n\u001B[0;32m    582\u001B[0m \u001B[38;5;28;01mif\u001B[39;00m limit \u001B[38;5;129;01mis\u001B[39;00m \u001B[38;5;28;01mNone\u001B[39;00m:\n\u001B[0;32m    583\u001B[0m     limit \u001B[38;5;241m=\u001B[39m \u001B[38;5;28mself\u001B[39m\u001B[38;5;241m.\u001B[39m_limit\n\u001B[1;32m--> 585\u001B[0m \u001B[38;5;28;01mreturn\u001B[39;00m \u001B[38;5;28mself\u001B[39m\u001B[38;5;241m.\u001B[39m_build_result(\n\u001B[0;32m    586\u001B[0m     result_type\u001B[38;5;241m=\u001B[39mresult_type,\n\u001B[0;32m    587\u001B[0m     auto_cast\u001B[38;5;241m=\u001B[39mauto_cast,\n\u001B[0;32m    588\u001B[0m     limit\u001B[38;5;241m=\u001B[39mlimit,\n\u001B[0;32m    589\u001B[0m     selectors\u001B[38;5;241m=\u001B[39mselectors,\n\u001B[0;32m    590\u001B[0m     \u001B[38;5;241m*\u001B[39m\u001B[38;5;241m*\u001B[39mkwargs\n\u001B[0;32m    591\u001B[0m )\n",
      "File \u001B[1;32m~\\anaconda3\\envs\\GPT_env2\\Lib\\site-packages\\fastf1\\ergast\\interface.py:524\u001B[0m, in \u001B[0;36mErgast._build_result\u001B[1;34m(cls, endpoint, table, category, subcategory, result_type, auto_cast, limit, offset, selectors)\u001B[0m\n\u001B[0;32m    521\u001B[0m params \u001B[38;5;241m=\u001B[39m {\u001B[38;5;124m'\u001B[39m\u001B[38;5;124mlimit\u001B[39m\u001B[38;5;124m'\u001B[39m: limit, \u001B[38;5;124m'\u001B[39m\u001B[38;5;124moffset\u001B[39m\u001B[38;5;124m'\u001B[39m: offset}\n\u001B[0;32m    523\u001B[0m \u001B[38;5;66;03m# get response and split it into individual parts\u001B[39;00m\n\u001B[1;32m--> 524\u001B[0m resp \u001B[38;5;241m=\u001B[39m \u001B[38;5;28mcls\u001B[39m\u001B[38;5;241m.\u001B[39m_get(url, params)\n\u001B[0;32m    525\u001B[0m resp \u001B[38;5;241m=\u001B[39m resp[\u001B[38;5;124m'\u001B[39m\u001B[38;5;124mMRData\u001B[39m\u001B[38;5;124m'\u001B[39m]\n\u001B[0;32m    526\u001B[0m body \u001B[38;5;241m=\u001B[39m resp\u001B[38;5;241m.\u001B[39mpop(table)\n",
      "File \u001B[1;32m~\\anaconda3\\envs\\GPT_env2\\Lib\\site-packages\\fastf1\\ergast\\interface.py:486\u001B[0m, in \u001B[0;36mErgast._get\u001B[1;34m(cls, url, params)\u001B[0m\n\u001B[0;32m    483\u001B[0m \u001B[38;5;129m@classmethod\u001B[39m\n\u001B[0;32m    484\u001B[0m \u001B[38;5;28;01mdef\u001B[39;00m \u001B[38;5;21m_get\u001B[39m(\u001B[38;5;28mcls\u001B[39m, url: \u001B[38;5;28mstr\u001B[39m, params: \u001B[38;5;28mdict\u001B[39m) \u001B[38;5;241m-\u001B[39m\u001B[38;5;241m>\u001B[39m Union[\u001B[38;5;28mdict\u001B[39m, \u001B[38;5;28mlist\u001B[39m]:\n\u001B[0;32m    485\u001B[0m     \u001B[38;5;66;03m# request data from ergast and load the returned json data.\u001B[39;00m\n\u001B[1;32m--> 486\u001B[0m     r \u001B[38;5;241m=\u001B[39m Cache\u001B[38;5;241m.\u001B[39mrequests_get(url, headers\u001B[38;5;241m=\u001B[39mHEADERS, params\u001B[38;5;241m=\u001B[39mparams)\n\u001B[0;32m    487\u001B[0m     \u001B[38;5;28;01mif\u001B[39;00m r\u001B[38;5;241m.\u001B[39mstatus_code \u001B[38;5;241m==\u001B[39m \u001B[38;5;241m200\u001B[39m:\n\u001B[0;32m    488\u001B[0m         \u001B[38;5;28;01mtry\u001B[39;00m:\n",
      "File \u001B[1;32m~\\anaconda3\\envs\\GPT_env2\\Lib\\site-packages\\fastf1\\req.py:282\u001B[0m, in \u001B[0;36mCache.requests_get\u001B[1;34m(cls, *args, **kwargs)\u001B[0m\n\u001B[0;32m    279\u001B[0m         \u001B[38;5;28;01mreturn\u001B[39;00m resp\n\u001B[0;32m    281\u001B[0m \u001B[38;5;28mcls\u001B[39m\u001B[38;5;241m.\u001B[39m_request_counter \u001B[38;5;241m+\u001B[39m\u001B[38;5;241m=\u001B[39m \u001B[38;5;241m1\u001B[39m\n\u001B[1;32m--> 282\u001B[0m \u001B[38;5;28;01mreturn\u001B[39;00m \u001B[38;5;28mcls\u001B[39m\u001B[38;5;241m.\u001B[39m_requests_session_cached\u001B[38;5;241m.\u001B[39mget(\u001B[38;5;241m*\u001B[39margs, \u001B[38;5;241m*\u001B[39m\u001B[38;5;241m*\u001B[39mkwargs)\n",
      "File \u001B[1;32m~\\anaconda3\\envs\\GPT_env2\\Lib\\site-packages\\requests_cache\\session.py:102\u001B[0m, in \u001B[0;36mCacheMixin.get\u001B[1;34m(self, url, params, **kwargs)\u001B[0m\n\u001B[0;32m    100\u001B[0m \u001B[38;5;28;01mdef\u001B[39;00m \u001B[38;5;21mget\u001B[39m(\u001B[38;5;28mself\u001B[39m, url: \u001B[38;5;28mstr\u001B[39m, params\u001B[38;5;241m=\u001B[39m\u001B[38;5;28;01mNone\u001B[39;00m, \u001B[38;5;241m*\u001B[39m\u001B[38;5;241m*\u001B[39mkwargs) \u001B[38;5;241m-\u001B[39m\u001B[38;5;241m>\u001B[39m AnyResponse:  \u001B[38;5;66;03m# type: ignore\u001B[39;00m\n\u001B[0;32m    101\u001B[0m     kwargs\u001B[38;5;241m.\u001B[39msetdefault(\u001B[38;5;124m'\u001B[39m\u001B[38;5;124mallow_redirects\u001B[39m\u001B[38;5;124m'\u001B[39m, \u001B[38;5;28;01mTrue\u001B[39;00m)\n\u001B[1;32m--> 102\u001B[0m     \u001B[38;5;28;01mreturn\u001B[39;00m \u001B[38;5;28mself\u001B[39m\u001B[38;5;241m.\u001B[39mrequest(\u001B[38;5;124m'\u001B[39m\u001B[38;5;124mGET\u001B[39m\u001B[38;5;124m'\u001B[39m, url, params\u001B[38;5;241m=\u001B[39mparams, \u001B[38;5;241m*\u001B[39m\u001B[38;5;241m*\u001B[39mkwargs)\n",
      "File \u001B[1;32m~\\anaconda3\\envs\\GPT_env2\\Lib\\site-packages\\requests_cache\\session.py:158\u001B[0m, in \u001B[0;36mCacheMixin.request\u001B[1;34m(self, method, url, headers, expire_after, only_if_cached, refresh, force_refresh, *args, **kwargs)\u001B[0m\n\u001B[0;32m    156\u001B[0m headers \u001B[38;5;241m=\u001B[39m set_request_headers(headers, expire_after, only_if_cached, refresh, force_refresh)\n\u001B[0;32m    157\u001B[0m \u001B[38;5;28;01mwith\u001B[39;00m patch_form_boundary() \u001B[38;5;28;01mif\u001B[39;00m kwargs\u001B[38;5;241m.\u001B[39mget(\u001B[38;5;124m'\u001B[39m\u001B[38;5;124mfiles\u001B[39m\u001B[38;5;124m'\u001B[39m) \u001B[38;5;28;01melse\u001B[39;00m nullcontext():\n\u001B[1;32m--> 158\u001B[0m     \u001B[38;5;28;01mreturn\u001B[39;00m \u001B[38;5;28msuper\u001B[39m()\u001B[38;5;241m.\u001B[39mrequest(method, url, \u001B[38;5;241m*\u001B[39margs, headers\u001B[38;5;241m=\u001B[39mheaders, \u001B[38;5;241m*\u001B[39m\u001B[38;5;241m*\u001B[39mkwargs)\n",
      "File \u001B[1;32m~\\anaconda3\\envs\\GPT_env2\\Lib\\site-packages\\requests\\sessions.py:589\u001B[0m, in \u001B[0;36mSession.request\u001B[1;34m(self, method, url, params, data, headers, cookies, files, auth, timeout, allow_redirects, proxies, hooks, stream, verify, cert, json)\u001B[0m\n\u001B[0;32m    584\u001B[0m send_kwargs \u001B[38;5;241m=\u001B[39m {\n\u001B[0;32m    585\u001B[0m     \u001B[38;5;124m\"\u001B[39m\u001B[38;5;124mtimeout\u001B[39m\u001B[38;5;124m\"\u001B[39m: timeout,\n\u001B[0;32m    586\u001B[0m     \u001B[38;5;124m\"\u001B[39m\u001B[38;5;124mallow_redirects\u001B[39m\u001B[38;5;124m\"\u001B[39m: allow_redirects,\n\u001B[0;32m    587\u001B[0m }\n\u001B[0;32m    588\u001B[0m send_kwargs\u001B[38;5;241m.\u001B[39mupdate(settings)\n\u001B[1;32m--> 589\u001B[0m resp \u001B[38;5;241m=\u001B[39m \u001B[38;5;28mself\u001B[39m\u001B[38;5;241m.\u001B[39msend(prep, \u001B[38;5;241m*\u001B[39m\u001B[38;5;241m*\u001B[39msend_kwargs)\n\u001B[0;32m    591\u001B[0m \u001B[38;5;28;01mreturn\u001B[39;00m resp\n",
      "File \u001B[1;32m~\\anaconda3\\envs\\GPT_env2\\Lib\\site-packages\\requests_cache\\session.py:205\u001B[0m, in \u001B[0;36mCacheMixin.send\u001B[1;34m(self, request, expire_after, only_if_cached, refresh, force_refresh, **kwargs)\u001B[0m\n\u001B[0;32m    203\u001B[0m     response \u001B[38;5;241m=\u001B[39m \u001B[38;5;28mself\u001B[39m\u001B[38;5;241m.\u001B[39m_resend(request, actions, cached_response, \u001B[38;5;241m*\u001B[39m\u001B[38;5;241m*\u001B[39mkwargs)  \u001B[38;5;66;03m# type: ignore\u001B[39;00m\n\u001B[0;32m    204\u001B[0m \u001B[38;5;28;01melif\u001B[39;00m actions\u001B[38;5;241m.\u001B[39msend_request:\n\u001B[1;32m--> 205\u001B[0m     response \u001B[38;5;241m=\u001B[39m \u001B[38;5;28mself\u001B[39m\u001B[38;5;241m.\u001B[39m_send_and_cache(request, actions, cached_response, \u001B[38;5;241m*\u001B[39m\u001B[38;5;241m*\u001B[39mkwargs)\n\u001B[0;32m    206\u001B[0m \u001B[38;5;28;01melse\u001B[39;00m:\n\u001B[0;32m    207\u001B[0m     response \u001B[38;5;241m=\u001B[39m cached_response  \u001B[38;5;66;03m# type: ignore  # Guaranteed to be non-None by this point\u001B[39;00m\n",
      "File \u001B[1;32m~\\anaconda3\\envs\\GPT_env2\\Lib\\site-packages\\requests_cache\\session.py:229\u001B[0m, in \u001B[0;36mCacheMixin._send_and_cache\u001B[1;34m(self, request, actions, cached_response, **kwargs)\u001B[0m\n\u001B[0;32m    225\u001B[0m \u001B[38;5;250m\u001B[39m\u001B[38;5;124;03m\"\"\"Send a request and cache the response, unless disabled by settings or headers.\u001B[39;00m\n\u001B[0;32m    226\u001B[0m \u001B[38;5;124;03mIf applicable, also handle conditional requests.\u001B[39;00m\n\u001B[0;32m    227\u001B[0m \u001B[38;5;124;03m\"\"\"\u001B[39;00m\n\u001B[0;32m    228\u001B[0m request \u001B[38;5;241m=\u001B[39m actions\u001B[38;5;241m.\u001B[39mupdate_request(request)\n\u001B[1;32m--> 229\u001B[0m response \u001B[38;5;241m=\u001B[39m \u001B[38;5;28msuper\u001B[39m()\u001B[38;5;241m.\u001B[39msend(request, \u001B[38;5;241m*\u001B[39m\u001B[38;5;241m*\u001B[39mkwargs)\n\u001B[0;32m    230\u001B[0m actions\u001B[38;5;241m.\u001B[39mupdate_from_response(response)\n\u001B[0;32m    232\u001B[0m \u001B[38;5;28;01mif\u001B[39;00m \u001B[38;5;129;01mnot\u001B[39;00m actions\u001B[38;5;241m.\u001B[39mskip_write:\n",
      "File \u001B[1;32m~\\anaconda3\\envs\\GPT_env2\\Lib\\site-packages\\fastf1\\req.py:122\u001B[0m, in \u001B[0;36m_SessionWithRateLimiting.send\u001B[1;34m(self, request, **kwargs)\u001B[0m\n\u001B[0;32m    119\u001B[0m     \u001B[38;5;28;01mif\u001B[39;00m pattern\u001B[38;5;241m.\u001B[39mmatch(request\u001B[38;5;241m.\u001B[39murl):\n\u001B[0;32m    120\u001B[0m         \u001B[38;5;28;01mfor\u001B[39;00m lim \u001B[38;5;129;01min\u001B[39;00m limiters:\n\u001B[0;32m    121\u001B[0m             \u001B[38;5;66;03m# apply all defined limiters\u001B[39;00m\n\u001B[1;32m--> 122\u001B[0m             lim\u001B[38;5;241m.\u001B[39mlimit()\n\u001B[0;32m    124\u001B[0m \u001B[38;5;28;01mreturn\u001B[39;00m \u001B[38;5;28msuper\u001B[39m()\u001B[38;5;241m.\u001B[39msend(request, \u001B[38;5;241m*\u001B[39m\u001B[38;5;241m*\u001B[39mkwargs)\n",
      "File \u001B[1;32m~\\anaconda3\\envs\\GPT_env2\\Lib\\site-packages\\fastf1\\req.py:99\u001B[0m, in \u001B[0;36m_CallsPerIntervalLimitRaise.limit\u001B[1;34m(self)\u001B[0m\n\u001B[0;32m     97\u001B[0m \u001B[38;5;28;01mif\u001B[39;00m \u001B[38;5;28mlen\u001B[39m(\u001B[38;5;28mself\u001B[39m\u001B[38;5;241m.\u001B[39m_timestamps) \u001B[38;5;241m==\u001B[39m \u001B[38;5;28mself\u001B[39m\u001B[38;5;241m.\u001B[39m_timestamps\u001B[38;5;241m.\u001B[39mmaxlen:\n\u001B[0;32m     98\u001B[0m     \u001B[38;5;28;01mif\u001B[39;00m \u001B[38;5;28mself\u001B[39m\u001B[38;5;241m.\u001B[39m_timestamps[\u001B[38;5;241m0\u001B[39m] \u001B[38;5;241m>\u001B[39m (time\u001B[38;5;241m.\u001B[39mtime() \u001B[38;5;241m-\u001B[39m \u001B[38;5;28mself\u001B[39m\u001B[38;5;241m.\u001B[39m_interval):\n\u001B[1;32m---> 99\u001B[0m         \u001B[38;5;28;01mraise\u001B[39;00m RateLimitExceededError(\u001B[38;5;28mself\u001B[39m\u001B[38;5;241m.\u001B[39m_info)\n",
      "\u001B[1;31mRateLimitExceededError\u001B[0m: ergast.com: 200 calls/h"
     ]
    }
   ],
   "source": [
    "plot_driver_standings_by_year(2008)"
   ],
   "metadata": {
    "collapsed": false,
    "ExecuteTime": {
     "end_time": "2024-01-06T18:26:49.599748600Z",
     "start_time": "2024-01-06T18:25:59.767996600Z"
    }
   },
   "id": "871041c7928e58df"
  },
  {
   "cell_type": "code",
   "execution_count": null,
   "outputs": [],
   "source": [],
   "metadata": {
    "collapsed": false
   },
   "id": "1f4a16cc276aa86b"
  }
 ],
 "metadata": {
  "kernelspec": {
   "display_name": "Python 3",
   "language": "python",
   "name": "python3"
  },
  "language_info": {
   "codemirror_mode": {
    "name": "ipython",
    "version": 2
   },
   "file_extension": ".py",
   "mimetype": "text/x-python",
   "name": "python",
   "nbconvert_exporter": "python",
   "pygments_lexer": "ipython2",
   "version": "2.7.6"
  }
 },
 "nbformat": 4,
 "nbformat_minor": 5
}
